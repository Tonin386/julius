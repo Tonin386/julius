{
 "cells": [
  {
   "cell_type": "markdown",
   "metadata": {},
   "source": [
    "# BHT Data Applications project\n",
    "# Automatic Anime recommendation Algorithm\n",
    "### This project aims to create an algorithm that can determine what anime to recommend to a user.\n",
    "##### Authors: Rashmi Di Michino and Antonin Mathubert"
   ]
  },
  {
   "cell_type": "markdown",
   "metadata": {},
   "source": [
    "The 320000 users and 16000 animes dataset was taken from https://www.kaggle.com/datasets/hernan4444/anime-recommendation-database-2020 <br>\n",
    "We are going to use this dataset to build a model that can recommend an anime based on the animes that the user is watching, has dropped, has kept on hold or put on their watching list."
   ]
  },
  {
   "cell_type": "markdown",
   "metadata": {},
   "source": [
    "### 1. Importing and parsing the data\n",
    "First, we want to import all of our available data in a suitable manner so it is treatable for the next steps of the project.<br><br>\n",
    "In order to load the data, we are going to do it by chunking the csv file so it's more efficient. Then we're changing the default type of the columns to be more convenient memory wise."
   ]
  },
  {
   "cell_type": "code",
   "execution_count": 1,
   "metadata": {},
   "outputs": [],
   "source": [
    "from mlxtend.frequent_patterns import apriori, association_rules\n",
    "from itertools import combinations\n",
    "import plotly.graph_objs as go\n",
    "from tqdm.notebook import tqdm\n",
    "import networkx as nx\n",
    "import pandas as pd\n",
    "import numpy as np\n",
    "import itertools"
   ]
  },
  {
   "cell_type": "markdown",
   "metadata": {},
   "source": [
    "Next cells are for using the right path for the data depending on your file architecture."
   ]
  },
  {
   "cell_type": "code",
   "execution_count": 2,
   "metadata": {},
   "outputs": [],
   "source": [
    "path = \"C:/Users/rashm/OneDrive/Desktop/data_applications_project/julius/anime_dataset/\""
   ]
  },
  {
   "cell_type": "code",
   "execution_count": 2,
   "metadata": {},
   "outputs": [],
   "source": [
    "path = \"dataset/anime/\""
   ]
  },
  {
   "cell_type": "markdown",
   "metadata": {},
   "source": [
    "We load the whole data from the CSV file into a DataFrame, and we then set some variables to ```None``` to free memory.\n",
    "\n",
    "The file containing information about the users watching status and rating of the animes is named ```animelist.csv```.\n",
    "\n",
    "The file containing the details about the animes (ID, name, english name, production, genre...) is named ```anime.csv```. "
   ]
  },
  {
   "cell_type": "code",
   "execution_count": 3,
   "metadata": {},
   "outputs": [],
   "source": [
    "dataset_chunks = pd.read_csv(path+\"animelist.csv\", chunksize=20000)\n",
    "animes_df = pd.read_csv(path+\"anime.csv\")\n",
    "\n",
    "\n",
    "chunks = []\n",
    "for chunk in dataset_chunks:\n",
    "    chunks.append(chunk)\n",
    "    \n",
    "dataset = pd.concat(chunks, ignore_index=True)\n",
    "dataset = dataset.astype({'user_id': \"int32\", 'anime_id': 'int32', \"watching_status\": \"int16\", \"rating\": \"int16\"})\n",
    "\n",
    "dataset_chunks = None\n",
    "chunks = None"
   ]
  },
  {
   "cell_type": "markdown",
   "metadata": {},
   "source": [
    "This is what the main data looks like before altering it."
   ]
  },
  {
   "cell_type": "code",
   "execution_count": 4,
   "metadata": {},
   "outputs": [
    {
     "data": {
      "text/html": [
       "<div>\n",
       "<style scoped>\n",
       "    .dataframe tbody tr th:only-of-type {\n",
       "        vertical-align: middle;\n",
       "    }\n",
       "\n",
       "    .dataframe tbody tr th {\n",
       "        vertical-align: top;\n",
       "    }\n",
       "\n",
       "    .dataframe thead th {\n",
       "        text-align: right;\n",
       "    }\n",
       "</style>\n",
       "<table border=\"1\" class=\"dataframe\">\n",
       "  <thead>\n",
       "    <tr style=\"text-align: right;\">\n",
       "      <th></th>\n",
       "      <th>user_id</th>\n",
       "      <th>anime_id</th>\n",
       "      <th>rating</th>\n",
       "      <th>watching_status</th>\n",
       "      <th>watched_episodes</th>\n",
       "    </tr>\n",
       "  </thead>\n",
       "  <tbody>\n",
       "    <tr>\n",
       "      <th>0</th>\n",
       "      <td>0</td>\n",
       "      <td>67</td>\n",
       "      <td>9</td>\n",
       "      <td>1</td>\n",
       "      <td>1</td>\n",
       "    </tr>\n",
       "    <tr>\n",
       "      <th>1</th>\n",
       "      <td>0</td>\n",
       "      <td>6702</td>\n",
       "      <td>7</td>\n",
       "      <td>1</td>\n",
       "      <td>4</td>\n",
       "    </tr>\n",
       "    <tr>\n",
       "      <th>2</th>\n",
       "      <td>0</td>\n",
       "      <td>242</td>\n",
       "      <td>10</td>\n",
       "      <td>1</td>\n",
       "      <td>4</td>\n",
       "    </tr>\n",
       "    <tr>\n",
       "      <th>3</th>\n",
       "      <td>0</td>\n",
       "      <td>4898</td>\n",
       "      <td>0</td>\n",
       "      <td>1</td>\n",
       "      <td>1</td>\n",
       "    </tr>\n",
       "    <tr>\n",
       "      <th>4</th>\n",
       "      <td>0</td>\n",
       "      <td>21</td>\n",
       "      <td>10</td>\n",
       "      <td>1</td>\n",
       "      <td>0</td>\n",
       "    </tr>\n",
       "  </tbody>\n",
       "</table>\n",
       "</div>"
      ],
      "text/plain": [
       "   user_id  anime_id  rating  watching_status  watched_episodes\n",
       "0        0        67       9                1                 1\n",
       "1        0      6702       7                1                 4\n",
       "2        0       242      10                1                 4\n",
       "3        0      4898       0                1                 1\n",
       "4        0        21      10                1                 0"
      ]
     },
     "execution_count": 4,
     "metadata": {},
     "output_type": "execute_result"
    }
   ],
   "source": [
    "dataset.head()"
   ]
  },
  {
   "cell_type": "markdown",
   "metadata": {},
   "source": [
    "And this is what the anime data looks like (we never change it)."
   ]
  },
  {
   "cell_type": "code",
   "execution_count": 5,
   "metadata": {},
   "outputs": [
    {
     "data": {
      "text/html": [
       "<div>\n",
       "<style scoped>\n",
       "    .dataframe tbody tr th:only-of-type {\n",
       "        vertical-align: middle;\n",
       "    }\n",
       "\n",
       "    .dataframe tbody tr th {\n",
       "        vertical-align: top;\n",
       "    }\n",
       "\n",
       "    .dataframe thead th {\n",
       "        text-align: right;\n",
       "    }\n",
       "</style>\n",
       "<table border=\"1\" class=\"dataframe\">\n",
       "  <thead>\n",
       "    <tr style=\"text-align: right;\">\n",
       "      <th></th>\n",
       "      <th>MAL_ID</th>\n",
       "      <th>Name</th>\n",
       "      <th>Score</th>\n",
       "      <th>Genres</th>\n",
       "      <th>English name</th>\n",
       "      <th>Japanese name</th>\n",
       "      <th>Type</th>\n",
       "      <th>Episodes</th>\n",
       "      <th>Aired</th>\n",
       "      <th>Premiered</th>\n",
       "      <th>...</th>\n",
       "      <th>Score-10</th>\n",
       "      <th>Score-9</th>\n",
       "      <th>Score-8</th>\n",
       "      <th>Score-7</th>\n",
       "      <th>Score-6</th>\n",
       "      <th>Score-5</th>\n",
       "      <th>Score-4</th>\n",
       "      <th>Score-3</th>\n",
       "      <th>Score-2</th>\n",
       "      <th>Score-1</th>\n",
       "    </tr>\n",
       "  </thead>\n",
       "  <tbody>\n",
       "    <tr>\n",
       "      <th>0</th>\n",
       "      <td>1</td>\n",
       "      <td>Cowboy Bebop</td>\n",
       "      <td>8.78</td>\n",
       "      <td>Action, Adventure, Comedy, Drama, Sci-Fi, Space</td>\n",
       "      <td>Cowboy Bebop</td>\n",
       "      <td>カウボーイビバップ</td>\n",
       "      <td>TV</td>\n",
       "      <td>26</td>\n",
       "      <td>Apr 3, 1998 to Apr 24, 1999</td>\n",
       "      <td>Spring 1998</td>\n",
       "      <td>...</td>\n",
       "      <td>229170.0</td>\n",
       "      <td>182126.0</td>\n",
       "      <td>131625.0</td>\n",
       "      <td>62330.0</td>\n",
       "      <td>20688.0</td>\n",
       "      <td>8904.0</td>\n",
       "      <td>3184.0</td>\n",
       "      <td>1357.0</td>\n",
       "      <td>741.0</td>\n",
       "      <td>1580.0</td>\n",
       "    </tr>\n",
       "    <tr>\n",
       "      <th>1</th>\n",
       "      <td>5</td>\n",
       "      <td>Cowboy Bebop: Tengoku no Tobira</td>\n",
       "      <td>8.39</td>\n",
       "      <td>Action, Drama, Mystery, Sci-Fi, Space</td>\n",
       "      <td>Cowboy Bebop:The Movie</td>\n",
       "      <td>カウボーイビバップ 天国の扉</td>\n",
       "      <td>Movie</td>\n",
       "      <td>1</td>\n",
       "      <td>Sep 1, 2001</td>\n",
       "      <td>Unknown</td>\n",
       "      <td>...</td>\n",
       "      <td>30043.0</td>\n",
       "      <td>49201.0</td>\n",
       "      <td>49505.0</td>\n",
       "      <td>22632.0</td>\n",
       "      <td>5805.0</td>\n",
       "      <td>1877.0</td>\n",
       "      <td>577.0</td>\n",
       "      <td>221.0</td>\n",
       "      <td>109.0</td>\n",
       "      <td>379.0</td>\n",
       "    </tr>\n",
       "    <tr>\n",
       "      <th>2</th>\n",
       "      <td>6</td>\n",
       "      <td>Trigun</td>\n",
       "      <td>8.24</td>\n",
       "      <td>Action, Sci-Fi, Adventure, Comedy, Drama, Shounen</td>\n",
       "      <td>Trigun</td>\n",
       "      <td>トライガン</td>\n",
       "      <td>TV</td>\n",
       "      <td>26</td>\n",
       "      <td>Apr 1, 1998 to Sep 30, 1998</td>\n",
       "      <td>Spring 1998</td>\n",
       "      <td>...</td>\n",
       "      <td>50229.0</td>\n",
       "      <td>75651.0</td>\n",
       "      <td>86142.0</td>\n",
       "      <td>49432.0</td>\n",
       "      <td>15376.0</td>\n",
       "      <td>5838.0</td>\n",
       "      <td>1965.0</td>\n",
       "      <td>664.0</td>\n",
       "      <td>316.0</td>\n",
       "      <td>533.0</td>\n",
       "    </tr>\n",
       "    <tr>\n",
       "      <th>3</th>\n",
       "      <td>7</td>\n",
       "      <td>Witch Hunter Robin</td>\n",
       "      <td>7.27</td>\n",
       "      <td>Action, Mystery, Police, Supernatural, Drama, ...</td>\n",
       "      <td>Witch Hunter Robin</td>\n",
       "      <td>Witch Hunter ROBIN (ウイッチハンターロビン)</td>\n",
       "      <td>TV</td>\n",
       "      <td>26</td>\n",
       "      <td>Jul 2, 2002 to Dec 24, 2002</td>\n",
       "      <td>Summer 2002</td>\n",
       "      <td>...</td>\n",
       "      <td>2182.0</td>\n",
       "      <td>4806.0</td>\n",
       "      <td>10128.0</td>\n",
       "      <td>11618.0</td>\n",
       "      <td>5709.0</td>\n",
       "      <td>2920.0</td>\n",
       "      <td>1083.0</td>\n",
       "      <td>353.0</td>\n",
       "      <td>164.0</td>\n",
       "      <td>131.0</td>\n",
       "    </tr>\n",
       "    <tr>\n",
       "      <th>4</th>\n",
       "      <td>8</td>\n",
       "      <td>Bouken Ou Beet</td>\n",
       "      <td>6.98</td>\n",
       "      <td>Adventure, Fantasy, Shounen, Supernatural</td>\n",
       "      <td>Beet the Vandel Buster</td>\n",
       "      <td>冒険王ビィト</td>\n",
       "      <td>TV</td>\n",
       "      <td>52</td>\n",
       "      <td>Sep 30, 2004 to Sep 29, 2005</td>\n",
       "      <td>Fall 2004</td>\n",
       "      <td>...</td>\n",
       "      <td>312.0</td>\n",
       "      <td>529.0</td>\n",
       "      <td>1242.0</td>\n",
       "      <td>1713.0</td>\n",
       "      <td>1068.0</td>\n",
       "      <td>634.0</td>\n",
       "      <td>265.0</td>\n",
       "      <td>83.0</td>\n",
       "      <td>50.0</td>\n",
       "      <td>27.0</td>\n",
       "    </tr>\n",
       "  </tbody>\n",
       "</table>\n",
       "<p>5 rows × 35 columns</p>\n",
       "</div>"
      ],
      "text/plain": [
       "   MAL_ID                             Name Score  \\\n",
       "0       1                     Cowboy Bebop  8.78   \n",
       "1       5  Cowboy Bebop: Tengoku no Tobira  8.39   \n",
       "2       6                           Trigun  8.24   \n",
       "3       7               Witch Hunter Robin  7.27   \n",
       "4       8                   Bouken Ou Beet  6.98   \n",
       "\n",
       "                                              Genres            English name  \\\n",
       "0    Action, Adventure, Comedy, Drama, Sci-Fi, Space            Cowboy Bebop   \n",
       "1              Action, Drama, Mystery, Sci-Fi, Space  Cowboy Bebop:The Movie   \n",
       "2  Action, Sci-Fi, Adventure, Comedy, Drama, Shounen                  Trigun   \n",
       "3  Action, Mystery, Police, Supernatural, Drama, ...      Witch Hunter Robin   \n",
       "4          Adventure, Fantasy, Shounen, Supernatural  Beet the Vandel Buster   \n",
       "\n",
       "                      Japanese name   Type Episodes  \\\n",
       "0                         カウボーイビバップ     TV       26   \n",
       "1                    カウボーイビバップ 天国の扉  Movie        1   \n",
       "2                             トライガン     TV       26   \n",
       "3  Witch Hunter ROBIN (ウイッチハンターロビン)     TV       26   \n",
       "4                            冒険王ビィト     TV       52   \n",
       "\n",
       "                          Aired    Premiered  ...  Score-10   Score-9  \\\n",
       "0   Apr 3, 1998 to Apr 24, 1999  Spring 1998  ...  229170.0  182126.0   \n",
       "1                   Sep 1, 2001      Unknown  ...   30043.0   49201.0   \n",
       "2   Apr 1, 1998 to Sep 30, 1998  Spring 1998  ...   50229.0   75651.0   \n",
       "3   Jul 2, 2002 to Dec 24, 2002  Summer 2002  ...    2182.0    4806.0   \n",
       "4  Sep 30, 2004 to Sep 29, 2005    Fall 2004  ...     312.0     529.0   \n",
       "\n",
       "    Score-8  Score-7  Score-6 Score-5 Score-4  Score-3  Score-2  Score-1  \n",
       "0  131625.0  62330.0  20688.0  8904.0  3184.0   1357.0    741.0   1580.0  \n",
       "1   49505.0  22632.0   5805.0  1877.0   577.0    221.0    109.0    379.0  \n",
       "2   86142.0  49432.0  15376.0  5838.0  1965.0    664.0    316.0    533.0  \n",
       "3   10128.0  11618.0   5709.0  2920.0  1083.0    353.0    164.0    131.0  \n",
       "4    1242.0   1713.0   1068.0   634.0   265.0     83.0     50.0     27.0  \n",
       "\n",
       "[5 rows x 35 columns]"
      ]
     },
     "execution_count": 5,
     "metadata": {},
     "output_type": "execute_result"
    }
   ],
   "source": [
    "animes_df.head()"
   ]
  },
  {
   "cell_type": "markdown",
   "metadata": {},
   "source": [
    "### 2. Cleaning the main dataset\n",
    "\n",
    "#### Reducing the dataset\n",
    "As the dataset we're working with is too large, we're also going to reduce it and keep only the first 20000 users (out of 320000).\n",
    "\n",
    "We also get rid of of the rows where ```watching_status == 4``` because this means a user dropped this anime, so it shouldn't be included in the data used to train the recommendation system."
   ]
  },
  {
   "cell_type": "code",
   "execution_count": 6,
   "metadata": {},
   "outputs": [],
   "source": [
    "dataset.drop(['watched_episodes'], axis=1, inplace=True)\n",
    "dataset = dataset[(dataset['watching_status'] != 4) & (dataset['user_id'] < 20000)]\n",
    "dataset = dataset.drop(\"watching_status\", axis=1)"
   ]
  },
  {
   "cell_type": "markdown",
   "metadata": {},
   "source": [
    "Here we can see a sample of how the dataset is now structured."
   ]
  },
  {
   "cell_type": "code",
   "execution_count": 7,
   "metadata": {},
   "outputs": [
    {
     "data": {
      "text/html": [
       "<div>\n",
       "<style scoped>\n",
       "    .dataframe tbody tr th:only-of-type {\n",
       "        vertical-align: middle;\n",
       "    }\n",
       "\n",
       "    .dataframe tbody tr th {\n",
       "        vertical-align: top;\n",
       "    }\n",
       "\n",
       "    .dataframe thead th {\n",
       "        text-align: right;\n",
       "    }\n",
       "</style>\n",
       "<table border=\"1\" class=\"dataframe\">\n",
       "  <thead>\n",
       "    <tr style=\"text-align: right;\">\n",
       "      <th></th>\n",
       "      <th>user_id</th>\n",
       "      <th>anime_id</th>\n",
       "      <th>rating</th>\n",
       "    </tr>\n",
       "  </thead>\n",
       "  <tbody>\n",
       "    <tr>\n",
       "      <th>0</th>\n",
       "      <td>0</td>\n",
       "      <td>67</td>\n",
       "      <td>9</td>\n",
       "    </tr>\n",
       "    <tr>\n",
       "      <th>1</th>\n",
       "      <td>0</td>\n",
       "      <td>6702</td>\n",
       "      <td>7</td>\n",
       "    </tr>\n",
       "    <tr>\n",
       "      <th>2</th>\n",
       "      <td>0</td>\n",
       "      <td>242</td>\n",
       "      <td>10</td>\n",
       "    </tr>\n",
       "    <tr>\n",
       "      <th>3</th>\n",
       "      <td>0</td>\n",
       "      <td>4898</td>\n",
       "      <td>0</td>\n",
       "    </tr>\n",
       "    <tr>\n",
       "      <th>4</th>\n",
       "      <td>0</td>\n",
       "      <td>21</td>\n",
       "      <td>10</td>\n",
       "    </tr>\n",
       "    <tr>\n",
       "      <th>5</th>\n",
       "      <td>0</td>\n",
       "      <td>24</td>\n",
       "      <td>9</td>\n",
       "    </tr>\n",
       "    <tr>\n",
       "      <th>6</th>\n",
       "      <td>0</td>\n",
       "      <td>2104</td>\n",
       "      <td>0</td>\n",
       "    </tr>\n",
       "    <tr>\n",
       "      <th>7</th>\n",
       "      <td>0</td>\n",
       "      <td>4722</td>\n",
       "      <td>8</td>\n",
       "    </tr>\n",
       "    <tr>\n",
       "      <th>8</th>\n",
       "      <td>0</td>\n",
       "      <td>6098</td>\n",
       "      <td>6</td>\n",
       "    </tr>\n",
       "    <tr>\n",
       "      <th>9</th>\n",
       "      <td>0</td>\n",
       "      <td>3125</td>\n",
       "      <td>9</td>\n",
       "    </tr>\n",
       "  </tbody>\n",
       "</table>\n",
       "</div>"
      ],
      "text/plain": [
       "   user_id  anime_id  rating\n",
       "0        0        67       9\n",
       "1        0      6702       7\n",
       "2        0       242      10\n",
       "3        0      4898       0\n",
       "4        0        21      10\n",
       "5        0        24       9\n",
       "6        0      2104       0\n",
       "7        0      4722       8\n",
       "8        0      6098       6\n",
       "9        0      3125       9"
      ]
     },
     "metadata": {},
     "output_type": "display_data"
    },
    {
     "data": {
      "text/plain": [
       "5858482"
      ]
     },
     "execution_count": 7,
     "metadata": {},
     "output_type": "execute_result"
    }
   ],
   "source": [
    "display(dataset.head(10))\n",
    "len(dataset)"
   ]
  },
  {
   "cell_type": "markdown",
   "metadata": {},
   "source": [
    "### 3. Understanding the data with graphs\n",
    "In order to get a better look at the data and how it is structured, we are going to use graphs.\n",
    "\n",
    "This will also allow us to get a first idea of what to recommend to the users.\n"
   ]
  },
  {
   "cell_type": "markdown",
   "metadata": {},
   "source": [
    "#### Creating the edges and the nodes\n",
    "We begin by computing edges and nodes to show on the graphs. \n",
    "\n",
    "The size of a node is proportional to the number of times an anime has been watched overall.\n",
    "\n",
    "The opacity and thickness of an edge is proportional to how strong the link between the two nodes is. This means, if the two animes are often watched by the same user, then the link is stronger.\n",
    "\n",
    "#### Computation times\n",
    "This method is highly inefficient to display all the links between the dataset, because there are too many animes to analyze. If we kept all of the animes, the visual representation would be unreadable. Also, it would take hours if not days to compute all the visual features to display. This is why we only use this method for the first 250 most watched animes."
   ]
  },
  {
   "cell_type": "code",
   "execution_count": 9,
   "metadata": {},
   "outputs": [
    {
     "data": {
      "application/vnd.jupyter.widget-view+json": {
       "model_id": "c7120cbcb2254698bcba8815028c0d2d",
       "version_major": 2,
       "version_minor": 0
      },
      "text/plain": [
       "  0%|          | 0/18203 [00:00<?, ?it/s]"
      ]
     },
     "metadata": {},
     "output_type": "display_data"
    }
   ],
   "source": [
    "# Filter the dataset to include only the first 250 most watched animes\n",
    "top_animes = dataset['anime_id'].value_counts().nlargest(250).index \n",
    "df = dataset[dataset['anime_id'].isin(top_animes)]\n",
    "anime_counts = df[\"anime_id\"].value_counts()\n",
    "\n",
    "# Create a graph\n",
    "G = nx.Graph()\n",
    "\n",
    "# Group by user_id\n",
    "user_groups = df.groupby('user_id')\n",
    "\n",
    "# Create edges for each user's watched animes with ratings as weights\n",
    "for user_id, group in tqdm(user_groups):\n",
    "\tanimes = group['anime_id'].tolist()\n",
    "\tratings = group['rating'].tolist()\n",
    "\tfor (anime1, rating1), (anime2, rating2) in combinations(zip(animes, ratings), 2): # We use the ratings given to the anime by the users to compute how strong a link is.\n",
    "\t\tif G.has_edge(anime1, anime2):\n",
    "\t\t\tG[anime1][anime2]['weight'] += (rating1 + rating2) / 20  # Weight is how strong a link is.\n",
    "\t\telse:\n",
    "\t\t\tG.add_edge(anime1, anime2, weight=(rating1 + rating2) / 20)\n",
    "\n",
    "# Get the top 250 most frequent links\n",
    "top_edges = sorted(G.edges(data=True), key=lambda x: x[2]['weight'], reverse=True)[:250]\n",
    "\n",
    "# Create a new graph with only the top 250 edges\n",
    "top_G = nx.Graph()\n",
    "top_G.add_edges_from([(u, v, {'weight': d['weight']}) for u, v, d in top_edges])\n",
    "\n",
    "# Normalize the weights between 0 and 5 for visual representation reasons. Otherwise, the edges are too big and the graphs are unreadable.\n",
    "weights = [d['weight'] for u, v, d in top_G.edges(data=True)]\n",
    "min_weight = min(weights)\n",
    "max_weight = max(weights)\n",
    "\n",
    "min_count = anime_counts.min()\n",
    "max_count = anime_counts.max()\n",
    "\n",
    "node_sizes = [\n",
    "\t10 + (anime_counts[node] - min_count) * (50 - 10) / (max_count - min_count)\n",
    "\tfor node in top_G.nodes()\n",
    "]\n",
    "\n",
    "for u, v, d in top_G.edges(data=True):\n",
    "\td['normalized_weight'] = 5 * (d['weight'] - min_weight) / (max_weight - min_weight)"
   ]
  },
  {
   "cell_type": "markdown",
   "metadata": {},
   "source": [
    "#### Spring layout\n",
    "For our representation, we chose to use the spring layout."
   ]
  },
  {
   "cell_type": "code",
   "execution_count": 10,
   "metadata": {},
   "outputs": [],
   "source": [
    "# Get positions for all nodes\n",
    "pos = nx.spring_layout(top_G, k=10, iterations=100)"
   ]
  },
  {
   "cell_type": "markdown",
   "metadata": {},
   "source": [
    "We make the graphs more understandable by adding some context when hovering the nodes."
   ]
  },
  {
   "cell_type": "code",
   "execution_count": 11,
   "metadata": {},
   "outputs": [],
   "source": [
    "hover_texts = []\n",
    "for node in top_G.nodes():\n",
    "    neighbors = list(top_G[node])\n",
    "    weights = [top_G[node][neighbor]['weight'] for neighbor in neighbors]\n",
    "    total_weight = sum(weights)\n",
    "    percentages = [(neighbor, top_G[node][neighbor]['weight'] / total_weight * 100) for neighbor in neighbors]\n",
    "    percentages = sorted(percentages, key=lambda x: x[1], reverse=True)[:5]\n",
    "    \n",
    "    hover_text = f\"{animes_df[animes_df['MAL_ID'] == node]['English name'].values[0]}<br>\" + \"<br>\".join([f\"{animes_df[animes_df['MAL_ID'] == neighbor]['English name'].values[0]}: {weight:.2f}%\" for neighbor, weight in percentages])\n",
    "    hover_texts.append(hover_text)"
   ]
  },
  {
   "cell_type": "code",
   "execution_count": 12,
   "metadata": {},
   "outputs": [],
   "source": [
    "# Create edge traces\n",
    "edge_trace = []\n",
    "for edge in top_G.edges(data=True):\n",
    "\tx0, y0 = pos[edge[0]]\n",
    "\tx1, y1 = pos[edge[1]]\n",
    "\ttrace = go.Scatter(\n",
    "\t\tx=[x0, x1, None],\n",
    "\t\ty=[y0, y1, None],\n",
    "\t\tline=dict(width=edge[2]['normalized_weight'], color='gray'),  # We use the normalized weights computed before\n",
    "\t\thoverinfo=\"none\",\n",
    "\t\tmode='lines'\n",
    "\t)\n",
    "\tedge_trace.append(trace)\n",
    "\n",
    "# Create node trace\n",
    "node_trace = go.Scatter(\n",
    "\tx=[pos[node][0] for node in top_G.nodes()],\n",
    "\ty=[pos[node][1] for node in top_G.nodes()],\n",
    "\thovertext=hover_texts,\n",
    "\ttext=[animes_df[animes_df['MAL_ID'] == node]['English name'].values[0] for node in top_G.nodes()], # This is converting the id into a name\n",
    "\tmode='markers+text',\n",
    "\ttextposition='top center',\n",
    "\tmarker=dict(\n",
    "\t\tsize=node_sizes,\n",
    "\t\tcolor='skyblue',\n",
    "\t\tline=dict(width=2, color='black')\n",
    "\t)\n",
    ")"
   ]
  },
  {
   "cell_type": "code",
   "execution_count": 14,
   "metadata": {},
   "outputs": [
    {
     "data": {
      "application/vnd.plotly.v1+json": {
       "config": {
        "plotlyServerURL": "https://plot.ly"
       },
       "data": [
        {
         "hoverinfo": "none",
         "line": {
          "color": "gray",
          "width": 5
         },
         "mode": "lines",
         "type": "scatter",
         "x": [
          0.08950435047339318,
          -0.014955120143798583,
          null
         ],
         "y": [
          -0.00823342146223715,
          0.01678283056824435,
          null
         ]
        },
        {
         "hoverinfo": "none",
         "line": {
          "color": "gray",
          "width": 4.307036422480867
         },
         "mode": "lines",
         "type": "scatter",
         "x": [
          0.08950435047339318,
          -0.019312459668177573,
          null
         ],
         "y": [
          -0.00823342146223715,
          -0.03495114876564941,
          null
         ]
        },
        {
         "hoverinfo": "none",
         "line": {
          "color": "gray",
          "width": 3.896154035715973
         },
         "mode": "lines",
         "type": "scatter",
         "x": [
          0.08950435047339318,
          -0.039521042950260564,
          null
         ],
         "y": [
          -0.00823342146223715,
          -0.14181749268162347,
          null
         ]
        },
        {
         "hoverinfo": "none",
         "line": {
          "color": "gray",
          "width": 3.3123593290507336
         },
         "mode": "lines",
         "type": "scatter",
         "x": [
          0.08950435047339318,
          -0.13081295319358968,
          null
         ],
         "y": [
          -0.00823342146223715,
          -0.031344092435377086,
          null
         ]
        },
        {
         "hoverinfo": "none",
         "line": {
          "color": "gray",
          "width": 3.1902939098721133
         },
         "mode": "lines",
         "type": "scatter",
         "x": [
          0.08950435047339318,
          0.0022657329034401707,
          null
         ],
         "y": [
          -0.00823342146223715,
          -0.1000541888941555,
          null
         ]
        },
        {
         "hoverinfo": "none",
         "line": {
          "color": "gray",
          "width": 2.906898421199624
         },
         "mode": "lines",
         "type": "scatter",
         "x": [
          0.08950435047339318,
          -0.08066827461462016,
          null
         ],
         "y": [
          -0.00823342146223715,
          0.14631814905483753,
          null
         ]
        },
        {
         "hoverinfo": "none",
         "line": {
          "color": "gray",
          "width": 2.865005175048061
         },
         "mode": "lines",
         "type": "scatter",
         "x": [
          0.08950435047339318,
          -0.18354399022144982,
          null
         ],
         "y": [
          -0.00823342146223715,
          -0.10763376702236382,
          null
         ]
        },
        {
         "hoverinfo": "none",
         "line": {
          "color": "gray",
          "width": 2.7011286533374728
         },
         "mode": "lines",
         "type": "scatter",
         "x": [
          0.08950435047339318,
          -0.2176615368687505,
          null
         ],
         "y": [
          -0.00823342146223715,
          -0.06881453847411577,
          null
         ]
        },
        {
         "hoverinfo": "none",
         "line": {
          "color": "gray",
          "width": 2.6089635118039345
         },
         "mode": "lines",
         "type": "scatter",
         "x": [
          0.08950435047339318,
          -0.12240852374210791,
          null
         ],
         "y": [
          -0.00823342146223715,
          -0.23365238603958743,
          null
         ]
        },
        {
         "hoverinfo": "none",
         "line": {
          "color": "gray",
          "width": 2.1818988319178074
         },
         "mode": "lines",
         "type": "scatter",
         "x": [
          0.08950435047339318,
          0.2715937156472405,
          null
         ],
         "y": [
          -0.00823342146223715,
          -0.04842889555448029,
          null
         ]
        },
        {
         "hoverinfo": "none",
         "line": {
          "color": "gray",
          "width": 2.158980761964258
         },
         "mode": "lines",
         "type": "scatter",
         "x": [
          0.08950435047339318,
          -0.21968526134833036,
          null
         ],
         "y": [
          -0.00823342146223715,
          0.01897070291849761,
          null
         ]
        },
        {
         "hoverinfo": "none",
         "line": {
          "color": "gray",
          "width": 2.100576648211682
         },
         "mode": "lines",
         "type": "scatter",
         "x": [
          0.08950435047339318,
          -0.3813920876000755,
          null
         ],
         "y": [
          -0.00823342146223715,
          -0.11610431425198581,
          null
         ]
        },
        {
         "hoverinfo": "none",
         "line": {
          "color": "gray",
          "width": 2.0412689546402754
         },
         "mode": "lines",
         "type": "scatter",
         "x": [
          0.08950435047339318,
          -0.15600211762296906,
          null
         ],
         "y": [
          -0.00823342146223715,
          0.10705967729062393,
          null
         ]
        },
        {
         "hoverinfo": "none",
         "line": {
          "color": "gray",
          "width": 1.8479850170037306
         },
         "mode": "lines",
         "type": "scatter",
         "x": [
          0.08950435047339318,
          -0.14393770239712067,
          null
         ],
         "y": [
          -0.00823342146223715,
          -0.16043144385775768,
          null
         ]
        },
        {
         "hoverinfo": "none",
         "line": {
          "color": "gray",
          "width": 1.847985017003677
         },
         "mode": "lines",
         "type": "scatter",
         "x": [
          0.08950435047339318,
          -0.016028744481309306,
          null
         ],
         "y": [
          -0.00823342146223715,
          0.13698187940442957,
          null
         ]
        },
        {
         "hoverinfo": "none",
         "line": {
          "color": "gray",
          "width": 1.6356437595492357
         },
         "mode": "lines",
         "type": "scatter",
         "x": [
          0.08950435047339318,
          0.27206302083207595,
          null
         ],
         "y": [
          -0.00823342146223715,
          -0.243392271229073,
          null
         ]
        },
        {
         "hoverinfo": "none",
         "line": {
          "color": "gray",
          "width": 1.3837092773004587
         },
         "mode": "lines",
         "type": "scatter",
         "x": [
          0.08950435047339318,
          0.030531298654018393,
          null
         ],
         "y": [
          -0.00823342146223715,
          0.20612412625938203,
          null
         ]
        },
        {
         "hoverinfo": "none",
         "line": {
          "color": "gray",
          "width": 1.3092050140465947
         },
         "mode": "lines",
         "type": "scatter",
         "x": [
          0.08950435047339318,
          0.037846337993243176,
          null
         ],
         "y": [
          -0.00823342146223715,
          0.07929224820406354,
          null
         ]
        },
        {
         "hoverinfo": "none",
         "line": {
          "color": "gray",
          "width": 1.0498776060063082
         },
         "mode": "lines",
         "type": "scatter",
         "x": [
          0.08950435047339318,
          -0.36829965215146465,
          null
         ],
         "y": [
          -0.00823342146223715,
          -0.0037200272538921077,
          null
         ]
        },
        {
         "hoverinfo": "none",
         "line": {
          "color": "gray",
          "width": 1.0096272322528161
         },
         "mode": "lines",
         "type": "scatter",
         "x": [
          0.08950435047339318,
          -0.26115664038749054,
          null
         ],
         "y": [
          -0.00823342146223715,
          -0.24347361317096897,
          null
         ]
        },
        {
         "hoverinfo": "none",
         "line": {
          "color": "gray",
          "width": 1.0082307907144552
         },
         "mode": "lines",
         "type": "scatter",
         "x": [
          0.08950435047339318,
          -0.16064198950702274,
          null
         ],
         "y": [
          -0.00823342146223715,
          0.23066913636456834,
          null
         ]
        },
        {
         "hoverinfo": "none",
         "line": {
          "color": "gray",
          "width": 0.9517159802198154
         },
         "mode": "lines",
         "type": "scatter",
         "x": [
          0.08950435047339318,
          -0.18805488508184112,
          null
         ],
         "y": [
          -0.00823342146223715,
          -0.358028884866544,
          null
         ]
        },
        {
         "hoverinfo": "none",
         "line": {
          "color": "gray",
          "width": 0.9211585536151466
         },
         "mode": "lines",
         "type": "scatter",
         "x": [
          0.08950435047339318,
          0.07614076537793886,
          null
         ],
         "y": [
          -0.00823342146223715,
          -0.36427667430908167,
          null
         ]
        },
        {
         "hoverinfo": "none",
         "line": {
          "color": "gray",
          "width": 0.8938868718065885
         },
         "mode": "lines",
         "type": "scatter",
         "x": [
          0.08950435047339318,
          0.32418589450815055,
          null
         ],
         "y": [
          -0.00823342146223715,
          -0.15327309486914384,
          null
         ]
        },
        {
         "hoverinfo": "none",
         "line": {
          "color": "gray",
          "width": 0.8691616422152351
         },
         "mode": "lines",
         "type": "scatter",
         "x": [
          0.08950435047339318,
          0.21275963752640792,
          null
         ],
         "y": [
          -0.00823342146223715,
          0.2002028359855717,
          null
         ]
        },
        {
         "hoverinfo": "none",
         "line": {
          "color": "gray",
          "width": 0.8404935188683489
         },
         "mode": "lines",
         "type": "scatter",
         "x": [
          0.08950435047339318,
          -0.08031724268376342,
          null
         ],
         "y": [
          -0.00823342146223715,
          -0.3207643021902531,
          null
         ]
        },
        {
         "hoverinfo": "none",
         "line": {
          "color": "gray",
          "width": 0.835893476153678
         },
         "mode": "lines",
         "type": "scatter",
         "x": [
          0.08950435047339318,
          0.3724426664936039,
          null
         ],
         "y": [
          -0.00823342146223715,
          0.11133240727458694,
          null
         ]
        },
        {
         "hoverinfo": "none",
         "line": {
          "color": "gray",
          "width": 0.7215495572458697
         },
         "mode": "lines",
         "type": "scatter",
         "x": [
          0.08950435047339318,
          -0.0685736393642685,
          null
         ],
         "y": [
          -0.00823342146223715,
          0.26130825110599887,
          null
         ]
        },
        {
         "hoverinfo": "none",
         "line": {
          "color": "gray",
          "width": 0.6647061722715607
         },
         "mode": "lines",
         "type": "scatter",
         "x": [
          0.08950435047339318,
          0.04878380672412914,
          null
         ],
         "y": [
          -0.00823342146223715,
          -0.5356421077384962,
          null
         ]
        },
        {
         "hoverinfo": "none",
         "line": {
          "color": "gray",
          "width": 0.6434309747161391
         },
         "mode": "lines",
         "type": "scatter",
         "x": [
          0.08950435047339318,
          -0.3114969832441487,
          null
         ],
         "y": [
          -0.00823342146223715,
          0.22569947205542404,
          null
         ]
        },
        {
         "hoverinfo": "none",
         "line": {
          "color": "gray",
          "width": 0.640638091639326
         },
         "mode": "lines",
         "type": "scatter",
         "x": [
          0.08950435047339318,
          -0.02129123963891907,
          null
         ],
         "y": [
          -0.00823342146223715,
          0.3937866312657649,
          null
         ]
        },
        {
         "hoverinfo": "none",
         "line": {
          "color": "gray",
          "width": 0.6217450590611863
         },
         "mode": "lines",
         "type": "scatter",
         "x": [
          0.08950435047339318,
          -0.26322328871913286,
          null
         ],
         "y": [
          -0.00823342146223715,
          0.10756130130543066,
          null
         ]
        },
        {
         "hoverinfo": "none",
         "line": {
          "color": "gray",
          "width": 0.6133664098309128
         },
         "mode": "lines",
         "type": "scatter",
         "x": [
          0.08950435047339318,
          0.5132565756460334,
          null
         ],
         "y": [
          -0.00823342146223715,
          0.5250145661649227,
          null
         ]
        },
        {
         "hoverinfo": "none",
         "line": {
          "color": "gray",
          "width": 0.5979234092887976
         },
         "mode": "lines",
         "type": "scatter",
         "x": [
          0.08950435047339318,
          0.4870051215609051,
          null
         ],
         "y": [
          -0.00823342146223715,
          0.1999580143891565,
          null
         ]
        },
        {
         "hoverinfo": "none",
         "line": {
          "color": "gray",
          "width": 0.5317156516452972
         },
         "mode": "lines",
         "type": "scatter",
         "x": [
          0.08950435047339318,
          0.1310725668686823,
          null
         ],
         "y": [
          -0.00823342146223715,
          0.45779700958786157,
          null
         ]
        },
        {
         "hoverinfo": "none",
         "line": {
          "color": "gray",
          "width": 0.45712924477151295
         },
         "mode": "lines",
         "type": "scatter",
         "x": [
          0.08950435047339318,
          0.2274890347633522,
          null
         ],
         "y": [
          -0.00823342146223715,
          0.3396612498214871,
          null
         ]
        },
        {
         "hoverinfo": "none",
         "line": {
          "color": "gray",
          "width": 0.33177808079643323
         },
         "mode": "lines",
         "type": "scatter",
         "x": [
          0.08950435047339318,
          0.5147379280403882,
          null
         ],
         "y": [
          -0.00823342146223715,
          -0.01062486330385332,
          null
         ]
        },
        {
         "hoverinfo": "none",
         "line": {
          "color": "gray",
          "width": 0.3063135586258779
         },
         "mode": "lines",
         "type": "scatter",
         "x": [
          0.08950435047339318,
          0.10996446684907323,
          null
         ],
         "y": [
          -0.00823342146223715,
          0.31831690697538245,
          null
         ]
        },
        {
         "hoverinfo": "none",
         "line": {
          "color": "gray",
          "width": 0.28577765364961333
         },
         "mode": "lines",
         "type": "scatter",
         "x": [
          0.08950435047339318,
          0.15229735555018856,
          null
         ],
         "y": [
          -0.00823342146223715,
          -0.26746935009910944,
          null
         ]
        },
        {
         "hoverinfo": "none",
         "line": {
          "color": "gray",
          "width": 0.22244492270283145
         },
         "mode": "lines",
         "type": "scatter",
         "x": [
          0.08950435047339318,
          0.6678079531756308,
          null
         ],
         "y": [
          -0.00823342146223715,
          -0.3869211745104452,
          null
         ]
        },
        {
         "hoverinfo": "none",
         "line": {
          "color": "gray",
          "width": 0.14522991999203877
         },
         "mode": "lines",
         "type": "scatter",
         "x": [
          0.08950435047339318,
          -0.5474289062890229,
          null
         ],
         "y": [
          -0.00823342146223715,
          0.21022116443050792,
          null
         ]
        },
        {
         "hoverinfo": "none",
         "line": {
          "color": "gray",
          "width": 0.11023673791253216
         },
         "mode": "lines",
         "type": "scatter",
         "x": [
          0.08950435047339318,
          0.6473121402540035,
          null
         ],
         "y": [
          -0.00823342146223715,
          -0.15879961682196816,
          null
         ]
        },
        {
         "hoverinfo": "none",
         "line": {
          "color": "gray",
          "width": 0.05758267755340999
         },
         "mode": "lines",
         "type": "scatter",
         "x": [
          0.08950435047339318,
          0.22349008321289157,
          null
         ],
         "y": [
          -0.00823342146223715,
          -0.3952394790029769,
          null
         ]
        },
        {
         "hoverinfo": "none",
         "line": {
          "color": "gray",
          "width": 0.012814404705141176
         },
         "mode": "lines",
         "type": "scatter",
         "x": [
          0.08950435047339318,
          0.7885485310638323,
          null
         ],
         "y": [
          -0.00823342146223715,
          0.04513495864013443,
          null
         ]
        },
        {
         "hoverinfo": "none",
         "line": {
          "color": "gray",
          "width": 3.824114081059429
         },
         "mode": "lines",
         "type": "scatter",
         "x": [
          -0.014955120143798583,
          0.0022657329034401707,
          null
         ],
         "y": [
          0.01678283056824435,
          -0.1000541888941555,
          null
         ]
        },
        {
         "hoverinfo": "none",
         "line": {
          "color": "gray",
          "width": 3.782960127486744
         },
         "mode": "lines",
         "type": "scatter",
         "x": [
          -0.014955120143798583,
          -0.019312459668177573,
          null
         ],
         "y": [
          0.01678283056824435,
          -0.03495114876564941,
          null
         ]
        },
        {
         "hoverinfo": "none",
         "line": {
          "color": "gray",
          "width": 3.5331613793557044
         },
         "mode": "lines",
         "type": "scatter",
         "x": [
          -0.014955120143798583,
          -0.08066827461462016,
          null
         ],
         "y": [
          0.01678283056824435,
          0.14631814905483753,
          null
         ]
        },
        {
         "hoverinfo": "none",
         "line": {
          "color": "gray",
          "width": 3.338809574660133
         },
         "mode": "lines",
         "type": "scatter",
         "x": [
          -0.014955120143798583,
          -0.13081295319358968,
          null
         ],
         "y": [
          0.01678283056824435,
          -0.031344092435377086,
          null
         ]
        },
        {
         "hoverinfo": "none",
         "line": {
          "color": "gray",
          "width": 2.8273833971315967
         },
         "mode": "lines",
         "type": "scatter",
         "x": [
          -0.014955120143798583,
          -0.21968526134833036,
          null
         ],
         "y": [
          0.01678283056824435,
          0.01897070291849761,
          null
         ]
        },
        {
         "hoverinfo": "none",
         "line": {
          "color": "gray",
          "width": 2.8029045983998753
         },
         "mode": "lines",
         "type": "scatter",
         "x": [
          -0.014955120143798583,
          -0.18354399022144982,
          null
         ],
         "y": [
          0.01678283056824435,
          -0.10763376702236382,
          null
         ]
        },
        {
         "hoverinfo": "none",
         "line": {
          "color": "gray",
          "width": 2.6942285892655184
         },
         "mode": "lines",
         "type": "scatter",
         "x": [
          -0.014955120143798583,
          -0.15600211762296906,
          null
         ],
         "y": [
          0.01678283056824435,
          0.10705967729062393,
          null
         ]
        },
        {
         "hoverinfo": "none",
         "line": {
          "color": "gray",
          "width": 2.6938178711658556
         },
         "mode": "lines",
         "type": "scatter",
         "x": [
          -0.014955120143798583,
          -0.039521042950260564,
          null
         ],
         "y": [
          0.01678283056824435,
          -0.14181749268162347,
          null
         ]
        },
        {
         "hoverinfo": "none",
         "line": {
          "color": "gray",
          "width": 2.3749363386945763
         },
         "mode": "lines",
         "type": "scatter",
         "x": [
          -0.014955120143798583,
          -0.2176615368687505,
          null
         ],
         "y": [
          0.01678283056824435,
          -0.06881453847411577,
          null
         ]
        },
        {
         "hoverinfo": "none",
         "line": {
          "color": "gray",
          "width": 2.3648326734461693
         },
         "mode": "lines",
         "type": "scatter",
         "x": [
          -0.014955120143798583,
          -0.016028744481309306,
          null
         ],
         "y": [
          0.01678283056824435,
          0.13698187940442957,
          null
         ]
        },
        {
         "hoverinfo": "none",
         "line": {
          "color": "gray",
          "width": 2.210813386124335
         },
         "mode": "lines",
         "type": "scatter",
         "x": [
          -0.014955120143798583,
          0.21275963752640792,
          null
         ],
         "y": [
          0.01678283056824435,
          0.2002028359855717,
          null
         ]
        },
        {
         "hoverinfo": "none",
         "line": {
          "color": "gray",
          "width": 2.106080270745443
         },
         "mode": "lines",
         "type": "scatter",
         "x": [
          -0.014955120143798583,
          0.030531298654018393,
          null
         ],
         "y": [
          0.01678283056824435,
          0.20612412625938203,
          null
         ]
        },
        {
         "hoverinfo": "none",
         "line": {
          "color": "gray",
          "width": 2.0654191788923826
         },
         "mode": "lines",
         "type": "scatter",
         "x": [
          -0.014955120143798583,
          -0.14393770239712067,
          null
         ],
         "y": [
          0.01678283056824435,
          -0.16043144385775768,
          null
         ]
        },
        {
         "hoverinfo": "none",
         "line": {
          "color": "gray",
          "width": 2.0125186876735777
         },
         "mode": "lines",
         "type": "scatter",
         "x": [
          -0.014955120143798583,
          0.037846337993243176,
          null
         ],
         "y": [
          0.01678283056824435,
          0.07929224820406354,
          null
         ]
        },
        {
         "hoverinfo": "none",
         "line": {
          "color": "gray",
          "width": 1.5178498086052863
         },
         "mode": "lines",
         "type": "scatter",
         "x": [
          -0.014955120143798583,
          -0.12240852374210791,
          null
         ],
         "y": [
          0.01678283056824435,
          -0.23365238603958743,
          null
         ]
        },
        {
         "hoverinfo": "none",
         "line": {
          "color": "gray",
          "width": 1.46946721648131
         },
         "mode": "lines",
         "type": "scatter",
         "x": [
          -0.014955120143798583,
          -0.16064198950702274,
          null
         ],
         "y": [
          0.01678283056824435,
          0.23066913636456834,
          null
         ]
        },
        {
         "hoverinfo": "none",
         "line": {
          "color": "gray",
          "width": 1.3397624406512083
         },
         "mode": "lines",
         "type": "scatter",
         "x": [
          -0.014955120143798583,
          -0.0685736393642685,
          null
         ],
         "y": [
          0.01678283056824435,
          0.26130825110599887,
          null
         ]
        },
        {
         "hoverinfo": "none",
         "line": {
          "color": "gray",
          "width": 1.3083014342276509
         },
         "mode": "lines",
         "type": "scatter",
         "x": [
          -0.014955120143798583,
          0.2715937156472405,
          null
         ],
         "y": [
          0.01678283056824435,
          -0.04842889555448029,
          null
         ]
        },
        {
         "hoverinfo": "none",
         "line": {
          "color": "gray",
          "width": 1.3028799553138757
         },
         "mode": "lines",
         "type": "scatter",
         "x": [
          -0.014955120143798583,
          -0.3813920876000755,
          null
         ],
         "y": [
          0.01678283056824435,
          -0.11610431425198581,
          null
         ]
        },
        {
         "hoverinfo": "none",
         "line": {
          "color": "gray",
          "width": 1.1885360364060316
         },
         "mode": "lines",
         "type": "scatter",
         "x": [
          -0.014955120143798583,
          -0.26115664038749054,
          null
         ],
         "y": [
          0.01678283056824435,
          -0.24347361317096897,
          null
         ]
        },
        {
         "hoverinfo": "none",
         "line": {
          "color": "gray",
          "width": 1.1864824459083902
         },
         "mode": "lines",
         "type": "scatter",
         "x": [
          -0.014955120143798583,
          -0.26322328871913286,
          null
         ],
         "y": [
          0.01678283056824435,
          0.10756130130543066,
          null
         ]
        },
        {
         "hoverinfo": "none",
         "line": {
          "color": "gray",
          "width": 1.117399661568327
         },
         "mode": "lines",
         "type": "scatter",
         "x": [
          -0.014955120143798583,
          0.07614076537793886,
          null
         ],
         "y": [
          0.01678283056824435,
          -0.36427667430908167,
          null
         ]
        },
        {
         "hoverinfo": "none",
         "line": {
          "color": "gray",
          "width": 1.0182523123428668
         },
         "mode": "lines",
         "type": "scatter",
         "x": [
          -0.014955120143798583,
          0.1310725668686823,
          null
         ],
         "y": [
          0.01678283056824435,
          0.45779700958786157,
          null
         ]
        },
        {
         "hoverinfo": "none",
         "line": {
          "color": "gray",
          "width": 0.9993592797647661
         },
         "mode": "lines",
         "type": "scatter",
         "x": [
          -0.014955120143798583,
          -0.18805488508184112,
          null
         ],
         "y": [
          0.01678283056824435,
          -0.358028884866544,
          null
         ]
        },
        {
         "hoverinfo": "none",
         "line": {
          "color": "gray",
          "width": 0.9692947148795115
         },
         "mode": "lines",
         "type": "scatter",
         "x": [
          -0.014955120143798583,
          0.10996446684907323,
          null
         ],
         "y": [
          0.01678283056824435,
          0.31831690697538245,
          null
         ]
        },
        {
         "hoverinfo": "none",
         "line": {
          "color": "gray",
          "width": 0.9323300859222138
         },
         "mode": "lines",
         "type": "scatter",
         "x": [
          -0.014955120143798583,
          0.2274890347633522,
          null
         ],
         "y": [
          0.01678283056824435,
          0.3396612498214871,
          null
         ]
        },
        {
         "hoverinfo": "none",
         "line": {
          "color": "gray",
          "width": 0.902922669996193
         },
         "mode": "lines",
         "type": "scatter",
         "x": [
          -0.014955120143798583,
          -0.3114969832441487,
          null
         ],
         "y": [
          0.01678283056824435,
          0.22569947205542404,
          null
         ]
        },
        {
         "hoverinfo": "none",
         "line": {
          "color": "gray",
          "width": 0.9018548029373891
         },
         "mode": "lines",
         "type": "scatter",
         "x": [
          -0.014955120143798583,
          -0.02129123963891907,
          null
         ],
         "y": [
          0.01678283056824435,
          0.3937866312657649,
          null
         ]
        },
        {
         "hoverinfo": "none",
         "line": {
          "color": "gray",
          "width": 0.6544382197834359
         },
         "mode": "lines",
         "type": "scatter",
         "x": [
          -0.014955120143798583,
          0.0034862126980917565,
          null
         ],
         "y": [
          0.01678283056824435,
          0.7086604690291742,
          null
         ]
        },
        {
         "hoverinfo": "none",
         "line": {
          "color": "gray",
          "width": 0.6470452939919922
         },
         "mode": "lines",
         "type": "scatter",
         "x": [
          -0.014955120143798583,
          0.5147379280403882,
          null
         ],
         "y": [
          0.01678283056824435,
          -0.01062486330385332,
          null
         ]
        },
        {
         "hoverinfo": "none",
         "line": {
          "color": "gray",
          "width": 0.6431024002365685
         },
         "mode": "lines",
         "type": "scatter",
         "x": [
          -0.014955120143798583,
          0.22349008321289157,
          null
         ],
         "y": [
          0.01678283056824435,
          -0.3952394790029769,
          null
         ]
        },
        {
         "hoverinfo": "none",
         "line": {
          "color": "gray",
          "width": 0.6388309320014756
         },
         "mode": "lines",
         "type": "scatter",
         "x": [
          -0.014955120143798583,
          -0.08031724268376342,
          null
         ],
         "y": [
          0.01678283056824435,
          -0.3207643021902531,
          null
         ]
        },
        {
         "hoverinfo": "none",
         "line": {
          "color": "gray",
          "width": 0.5461729287486051
         },
         "mode": "lines",
         "type": "scatter",
         "x": [
          -0.014955120143798583,
          0.15229735555018856,
          null
         ],
         "y": [
          0.01678283056824435,
          -0.26746935009910944,
          null
         ]
        },
        {
         "hoverinfo": "none",
         "line": {
          "color": "gray",
          "width": 0.5014046559003997
         },
         "mode": "lines",
         "type": "scatter",
         "x": [
          -0.014955120143798583,
          0.3382080345598866,
          null
         ],
         "y": [
          0.01678283056824435,
          -0.4294613173115902,
          null
         ]
        },
        {
         "hoverinfo": "none",
         "line": {
          "color": "gray",
          "width": 0.48152589988334366
         },
         "mode": "lines",
         "type": "scatter",
         "x": [
          -0.014955120143798583,
          0.27206302083207595,
          null
         ],
         "y": [
          0.01678283056824435,
          -0.243392271229073,
          null
         ]
        },
        {
         "hoverinfo": "none",
         "line": {
          "color": "gray",
          "width": 0.4386469302929553
         },
         "mode": "lines",
         "type": "scatter",
         "x": [
          -0.014955120143798583,
          -0.24149213492440905,
          null
         ],
         "y": [
          0.01678283056824435,
          0.47600125933408854,
          null
         ]
        },
        {
         "hoverinfo": "none",
         "line": {
          "color": "gray",
          "width": 0.4325683024199329
         },
         "mode": "lines",
         "type": "scatter",
         "x": [
          -0.014955120143798583,
          -0.36829965215146465,
          null
         ],
         "y": [
          0.01678283056824435,
          -0.0037200272538921077,
          null
         ]
        },
        {
         "hoverinfo": "none",
         "line": {
          "color": "gray",
          "width": 0.42484680214887227
         },
         "mode": "lines",
         "type": "scatter",
         "x": [
          -0.014955120143798583,
          0.4870051215609051,
          null
         ],
         "y": [
          0.01678283056824435,
          0.1999580143891565,
          null
         ]
        },
        {
         "hoverinfo": "none",
         "line": {
          "color": "gray",
          "width": 0.4097323760863456
         },
         "mode": "lines",
         "type": "scatter",
         "x": [
          -0.014955120143798583,
          0.3724426664936039,
          null
         ],
         "y": [
          0.01678283056824435,
          0.11133240727458694,
          null
         ]
        },
        {
         "hoverinfo": "none",
         "line": {
          "color": "gray",
          "width": 0.4044751844123766
         },
         "mode": "lines",
         "type": "scatter",
         "x": [
          -0.014955120143798583,
          0.32418589450815055,
          null
         ],
         "y": [
          0.01678283056824435,
          -0.15327309486914384,
          null
         ]
        },
        {
         "hoverinfo": "none",
         "line": {
          "color": "gray",
          "width": 0.3390888629680134
         },
         "mode": "lines",
         "type": "scatter",
         "x": [
          -0.014955120143798583,
          -0.380320640955513,
          null
         ],
         "y": [
          0.01678283056824435,
          0.48899831872467836,
          null
         ]
        },
        {
         "hoverinfo": "none",
         "line": {
          "color": "gray",
          "width": 0.2438844074980473
         },
         "mode": "lines",
         "type": "scatter",
         "x": [
          -0.014955120143798583,
          -0.7124108608126922,
          null
         ],
         "y": [
          0.01678283056824435,
          0.1710817403003871,
          null
         ]
        },
        {
         "hoverinfo": "none",
         "line": {
          "color": "gray",
          "width": 0.17250160180057297
         },
         "mode": "lines",
         "type": "scatter",
         "x": [
          -0.014955120143798583,
          0.1475278646143984,
          null
         ],
         "y": [
          0.01678283056824435,
          -0.6936427738264586,
          null
         ]
        },
        {
         "hoverinfo": "none",
         "line": {
          "color": "gray",
          "width": 0.1565657395389988
         },
         "mode": "lines",
         "type": "scatter",
         "x": [
          -0.014955120143798583,
          -0.34432541863854305,
          null
         ],
         "y": [
          0.01678283056824435,
          -0.6154800046715517,
          null
         ]
        },
        {
         "hoverinfo": "none",
         "line": {
          "color": "gray",
          "width": 0.09668304062822346
         },
         "mode": "lines",
         "type": "scatter",
         "x": [
          -0.014955120143798583,
          -0.6050571642607075,
          null
         ],
         "y": [
          0.01678283056824435,
          -0.13550225949897096,
          null
         ]
        },
        {
         "hoverinfo": "none",
         "line": {
          "color": "gray",
          "width": 0
         },
         "mode": "lines",
         "type": "scatter",
         "x": [
          -0.014955120143798583,
          0.5896994055204975,
          null
         ],
         "y": [
          0.01678283056824435,
          0.3898310907716826,
          null
         ]
        },
        {
         "hoverinfo": "none",
         "line": {
          "color": "gray",
          "width": 2.621942203748865
         },
         "mode": "lines",
         "type": "scatter",
         "x": [
          -0.019312459668177573,
          -0.039521042950260564,
          null
         ],
         "y": [
          -0.03495114876564941,
          -0.14181749268162347,
          null
         ]
        },
        {
         "hoverinfo": "none",
         "line": {
          "color": "gray",
          "width": 2.4914981353396644
         },
         "mode": "lines",
         "type": "scatter",
         "x": [
          -0.019312459668177573,
          -0.13081295319358968,
          null
         ],
         "y": [
          -0.03495114876564941,
          -0.031344092435377086,
          null
         ]
        },
        {
         "hoverinfo": "none",
         "line": {
          "color": "gray",
          "width": 2.231760009199926
         },
         "mode": "lines",
         "type": "scatter",
         "x": [
          -0.019312459668177573,
          -0.08066827461462016,
          null
         ],
         "y": [
          -0.03495114876564941,
          0.14631814905483753,
          null
         ]
        },
        {
         "hoverinfo": "none",
         "line": {
          "color": "gray",
          "width": 2.2032561730930835
         },
         "mode": "lines",
         "type": "scatter",
         "x": [
          -0.019312459668177573,
          0.0022657329034401707,
          null
         ],
         "y": [
          -0.03495114876564941,
          -0.1000541888941555,
          null
         ]
        },
        {
         "hoverinfo": "none",
         "line": {
          "color": "gray",
          "width": 1.8150454254217547
         },
         "mode": "lines",
         "type": "scatter",
         "x": [
          -0.019312459668177573,
          -0.18354399022144982,
          null
         ],
         "y": [
          -0.03495114876564941,
          -0.10763376702236382,
          null
         ]
        },
        {
         "hoverinfo": "none",
         "line": {
          "color": "gray",
          "width": 1.6585618295025835
         },
         "mode": "lines",
         "type": "scatter",
         "x": [
          -0.019312459668177573,
          -0.12240852374210791,
          null
         ],
         "y": [
          -0.03495114876564941,
          -0.23365238603958743,
          null
         ]
        },
        {
         "hoverinfo": "none",
         "line": {
          "color": "gray",
          "width": 1.559414480277228
         },
         "mode": "lines",
         "type": "scatter",
         "x": [
          -0.019312459668177573,
          -0.2176615368687505,
          null
         ],
         "y": [
          -0.03495114876564941,
          -0.06881453847411577,
          null
         ]
        },
        {
         "hoverinfo": "none",
         "line": {
          "color": "gray",
          "width": 1.2302649953177733
         },
         "mode": "lines",
         "type": "scatter",
         "x": [
          -0.019312459668177573,
          -0.15600211762296906,
          null
         ],
         "y": [
          -0.03495114876564941,
          0.10705967729062393,
          null
         ]
        },
        {
         "hoverinfo": "none",
         "line": {
          "color": "gray",
          "width": 1.135306970707465
         },
         "mode": "lines",
         "type": "scatter",
         "x": [
          -0.019312459668177573,
          -0.016028744481309306,
          null
         ],
         "y": [
          -0.03495114876564941,
          0.13698187940442957,
          null
         ]
        },
        {
         "hoverinfo": "none",
         "line": {
          "color": "gray",
          "width": 1.0842957827465356
         },
         "mode": "lines",
         "type": "scatter",
         "x": [
          -0.019312459668177573,
          -0.21968526134833036,
          null
         ],
         "y": [
          -0.03495114876564941,
          0.01897070291849761,
          null
         ]
        },
        {
         "hoverinfo": "none",
         "line": {
          "color": "gray",
          "width": 1.0118451099902561
         },
         "mode": "lines",
         "type": "scatter",
         "x": [
          -0.019312459668177573,
          0.030531298654018393,
          null
         ],
         "y": [
          -0.03495114876564941,
          0.20612412625938203,
          null
         ]
        },
        {
         "hoverinfo": "none",
         "line": {
          "color": "gray",
          "width": 0.9727447469153895
         },
         "mode": "lines",
         "type": "scatter",
         "x": [
          -0.019312459668177573,
          -0.3813920876000755,
          null
         ],
         "y": [
          -0.03495114876564941,
          -0.11610431425198581,
          null
         ]
        },
        {
         "hoverinfo": "none",
         "line": {
          "color": "gray",
          "width": 0.8867403768749356
         },
         "mode": "lines",
         "type": "scatter",
         "x": [
          -0.019312459668177573,
          0.2715937156472405,
          null
         ],
         "y": [
          -0.03495114876564941,
          -0.04842889555448029,
          null
         ]
        },
        {
         "hoverinfo": "none",
         "line": {
          "color": "gray",
          "width": 0.734446105570946
         },
         "mode": "lines",
         "type": "scatter",
         "x": [
          -0.019312459668177573,
          -0.14393770239712067,
          null
         ],
         "y": [
          -0.03495114876564941,
          -0.16043144385775768,
          null
         ]
        },
        {
         "hoverinfo": "none",
         "line": {
          "color": "gray",
          "width": 0.6826134814108571
         },
         "mode": "lines",
         "type": "scatter",
         "x": [
          -0.019312459668177573,
          0.037846337993243176,
          null
         ],
         "y": [
          -0.03495114876564941,
          0.07929224820406354,
          null
         ]
        },
        {
         "hoverinfo": "none",
         "line": {
          "color": "gray",
          "width": 0.48555093725857706
         },
         "mode": "lines",
         "type": "scatter",
         "x": [
          -0.019312459668177573,
          -0.02129123963891907,
          null
         ],
         "y": [
          -0.03495114876564941,
          0.3937866312657649,
          null
         ]
        },
        {
         "hoverinfo": "none",
         "line": {
          "color": "gray",
          "width": 0.4820187616026935
         },
         "mode": "lines",
         "type": "scatter",
         "x": [
          -0.019312459668177573,
          0.32418589450815055,
          null
         ],
         "y": [
          -0.03495114876564941,
          -0.15327309486914384,
          null
         ]
        },
        {
         "hoverinfo": "none",
         "line": {
          "color": "gray",
          "width": 0.3908393435081162
         },
         "mode": "lines",
         "type": "scatter",
         "x": [
          -0.019312459668177573,
          -0.16064198950702274,
          null
         ],
         "y": [
          -0.03495114876564941,
          0.23066913636456834,
          null
         ]
        },
        {
         "hoverinfo": "none",
         "line": {
          "color": "gray",
          "width": 0.30927072894247476
         },
         "mode": "lines",
         "type": "scatter",
         "x": [
          -0.019312459668177573,
          0.07614076537793886,
          null
         ],
         "y": [
          -0.03495114876564941,
          -0.36427667430908167,
          null
         ]
        },
        {
         "hoverinfo": "none",
         "line": {
          "color": "gray",
          "width": 0.3042599681282144
         },
         "mode": "lines",
         "type": "scatter",
         "x": [
          -0.019312459668177573,
          -0.26115664038749054,
          null
         ],
         "y": [
          -0.03495114876564941,
          -0.24347361317096897,
          null
         ]
        },
        {
         "hoverinfo": "none",
         "line": {
          "color": "gray",
          "width": 0.28158832903444825
         },
         "mode": "lines",
         "type": "scatter",
         "x": [
          -0.019312459668177573,
          0.04878380672412914,
          null
         ],
         "y": [
          -0.03495114876564941,
          -0.5356421077384962,
          null
         ]
        },
        {
         "hoverinfo": "none",
         "line": {
          "color": "gray",
          "width": 0.2327950188108332
         },
         "mode": "lines",
         "type": "scatter",
         "x": [
          -0.019312459668177573,
          0.21275963752640792,
          null
         ],
         "y": [
          -0.03495114876564941,
          0.2002028359855717,
          null
         ]
        },
        {
         "hoverinfo": "none",
         "line": {
          "color": "gray",
          "width": 0.21086267229616884
         },
         "mode": "lines",
         "type": "scatter",
         "x": [
          -0.019312459668177573,
          -0.0685736393642685,
          null
         ],
         "y": [
          -0.03495114876564941,
          0.26130825110599887,
          null
         ]
        },
        {
         "hoverinfo": "none",
         "line": {
          "color": "gray",
          "width": 0.19459823555497927
         },
         "mode": "lines",
         "type": "scatter",
         "x": [
          -0.019312459668177573,
          -0.08031724268376342,
          null
         ],
         "y": [
          -0.03495114876564941,
          -0.3207643021902531,
          null
         ]
        },
        {
         "hoverinfo": "none",
         "line": {
          "color": "gray",
          "width": 0.1244475841560911
         },
         "mode": "lines",
         "type": "scatter",
         "x": [
          -0.019312459668177573,
          0.3724426664936039,
          null
         ],
         "y": [
          -0.03495114876564941,
          0.11133240727458694,
          null
         ]
        },
        {
         "hoverinfo": "none",
         "line": {
          "color": "gray",
          "width": 0.09692947148790662
         },
         "mode": "lines",
         "type": "scatter",
         "x": [
          -0.019312459668177573,
          0.27206302083207595,
          null
         ],
         "y": [
          -0.03495114876564941,
          -0.243392271229073,
          null
         ]
        },
        {
         "hoverinfo": "none",
         "line": {
          "color": "gray",
          "width": 0.044521841988470603
         },
         "mode": "lines",
         "type": "scatter",
         "x": [
          -0.019312459668177573,
          0.10996446684907323,
          null
         ],
         "y": [
          -0.03495114876564941,
          0.31831690697538245,
          null
         ]
        },
        {
         "hoverinfo": "none",
         "line": {
          "color": "gray",
          "width": 0.0406610918529545
         },
         "mode": "lines",
         "type": "scatter",
         "x": [
          -0.019312459668177573,
          -0.36829965215146465,
          null
         ],
         "y": [
          -0.03495114876564941,
          -0.0037200272538921077,
          null
         ]
        },
        {
         "hoverinfo": "none",
         "line": {
          "color": "gray",
          "width": 0.04033251737329577
         },
         "mode": "lines",
         "type": "scatter",
         "x": [
          -0.019312459668177573,
          -0.3114969832441487,
          null
         ],
         "y": [
          -0.03495114876564941,
          0.22569947205542404,
          null
         ]
        },
        {
         "hoverinfo": "none",
         "line": {
          "color": "gray",
          "width": 0.03367888416098748
         },
         "mode": "lines",
         "type": "scatter",
         "x": [
          -0.019312459668177573,
          -0.26322328871913286,
          null
         ],
         "y": [
          -0.03495114876564941,
          0.10756130130543066,
          null
         ]
        },
        {
         "hoverinfo": "none",
         "line": {
          "color": "gray",
          "width": 0.024971660451050797
         },
         "mode": "lines",
         "type": "scatter",
         "x": [
          -0.019312459668177573,
          0.15229735555018856,
          null
         ],
         "y": [
          -0.03495114876564941,
          -0.26746935009910944,
          null
         ]
        },
        {
         "hoverinfo": "none",
         "line": {
          "color": "gray",
          "width": 3.8167211552678104
         },
         "mode": "lines",
         "type": "scatter",
         "x": [
          -0.039521042950260564,
          -0.12240852374210791,
          null
         ],
         "y": [
          -0.14181749268162347,
          -0.23365238603958743,
          null
         ]
        },
        {
         "hoverinfo": "none",
         "line": {
          "color": "gray",
          "width": 1.8906996993541962
         },
         "mode": "lines",
         "type": "scatter",
         "x": [
          -0.039521042950260564,
          -0.13081295319358968,
          null
         ],
         "y": [
          -0.14181749268162347,
          -0.031344092435377086,
          null
         ]
        },
        {
         "hoverinfo": "none",
         "line": {
          "color": "gray",
          "width": 1.5711610179236954
         },
         "mode": "lines",
         "type": "scatter",
         "x": [
          -0.039521042950260564,
          -0.18354399022144982,
          null
         ],
         "y": [
          -0.14181749268162347,
          -0.10763376702236382,
          null
         ]
        },
        {
         "hoverinfo": "none",
         "line": {
          "color": "gray",
          "width": 1.4929602917741522
         },
         "mode": "lines",
         "type": "scatter",
         "x": [
          -0.039521042950260564,
          0.0022657329034401707,
          null
         ],
         "y": [
          -0.14181749268162347,
          -0.1000541888941555,
          null
         ]
        },
        {
         "hoverinfo": "none",
         "line": {
          "color": "gray",
          "width": 1.33926957893173
         },
         "mode": "lines",
         "type": "scatter",
         "x": [
          -0.039521042950260564,
          -0.2176615368687505,
          null
         ],
         "y": [
          -0.14181749268162347,
          -0.06881453847411577,
          null
         ]
        },
        {
         "hoverinfo": "none",
         "line": {
          "color": "gray",
          "width": 1.0885672509815794
         },
         "mode": "lines",
         "type": "scatter",
         "x": [
          -0.039521042950260564,
          -0.08066827461462016,
          null
         ],
         "y": [
          -0.14181749268162347,
          0.14631814905483753,
          null
         ]
        },
        {
         "hoverinfo": "none",
         "line": {
          "color": "gray",
          "width": 0.6807241781530476
         },
         "mode": "lines",
         "type": "scatter",
         "x": [
          -0.039521042950260564,
          -0.15600211762296906,
          null
         ],
         "y": [
          -0.14181749268162347,
          0.10705967729062393,
          null
         ]
        },
        {
         "hoverinfo": "none",
         "line": {
          "color": "gray",
          "width": 0.3797499548209425
         },
         "mode": "lines",
         "type": "scatter",
         "x": [
          -0.039521042950260564,
          -0.3813920876000755,
          null
         ],
         "y": [
          -0.14181749268162347,
          -0.11610431425198581,
          null
         ]
        },
        {
         "hoverinfo": "none",
         "line": {
          "color": "gray",
          "width": 0.32471372948456456
         },
         "mode": "lines",
         "type": "scatter",
         "x": [
          -0.039521042950260564,
          0.32418589450815055,
          null
         ],
         "y": [
          -0.14181749268162347,
          -0.15327309486914384,
          null
         ]
        },
        {
         "hoverinfo": "none",
         "line": {
          "color": "gray",
          "width": 0.31222789925904026
         },
         "mode": "lines",
         "type": "scatter",
         "x": [
          -0.039521042950260564,
          -0.14393770239712067,
          null
         ],
         "y": [
          -0.14181749268162347,
          -0.16043144385775768,
          null
         ]
        },
        {
         "hoverinfo": "none",
         "line": {
          "color": "gray",
          "width": 0.27189538188571616
         },
         "mode": "lines",
         "type": "scatter",
         "x": [
          -0.039521042950260564,
          0.2715937156472405,
          null
         ],
         "y": [
          -0.14181749268162347,
          -0.04842889555448029,
          null
         ]
        },
        {
         "hoverinfo": "none",
         "line": {
          "color": "gray",
          "width": 0.26318815817575403
         },
         "mode": "lines",
         "type": "scatter",
         "x": [
          -0.039521042950260564,
          -0.21968526134833036,
          null
         ],
         "y": [
          -0.14181749268162347,
          0.01897070291849761,
          null
         ]
        },
        {
         "hoverinfo": "none",
         "line": {
          "color": "gray",
          "width": 0.17513019763752757
         },
         "mode": "lines",
         "type": "scatter",
         "x": [
          -0.039521042950260564,
          0.27206302083207595,
          null
         ],
         "y": [
          -0.14181749268162347,
          -0.243392271229073,
          null
         ]
        },
        {
         "hoverinfo": "none",
         "line": {
          "color": "gray",
          "width": 0.14202631881577066
         },
         "mode": "lines",
         "type": "scatter",
         "x": [
          -0.039521042950260564,
          -0.36829965215146465,
          null
         ],
         "y": [
          -0.14181749268162347,
          -0.0037200272538921077,
          null
         ]
        },
        {
         "hoverinfo": "none",
         "line": {
          "color": "gray",
          "width": 0.10769028569545451
         },
         "mode": "lines",
         "type": "scatter",
         "x": [
          -0.039521042950260564,
          -0.08031724268376342,
          null
         ],
         "y": [
          -0.14181749268162347,
          -0.3207643021902531,
          null
         ]
        },
        {
         "hoverinfo": "none",
         "line": {
          "color": "gray",
          "width": 0.09323300859215713
         },
         "mode": "lines",
         "type": "scatter",
         "x": [
          -0.039521042950260564,
          -0.016028744481309306,
          null
         ],
         "y": [
          -0.14181749268162347,
          0.13698187940442957,
          null
         ]
        },
        {
         "hoverinfo": "none",
         "line": {
          "color": "gray",
          "width": 2.116676797713174
         },
         "mode": "lines",
         "type": "scatter",
         "x": [
          0.0022657329034401707,
          -0.18354399022144982,
          null
         ],
         "y": [
          -0.1000541888941555,
          -0.10763376702236382,
          null
         ]
        },
        {
         "hoverinfo": "none",
         "line": {
          "color": "gray",
          "width": 2.0159687197096097
         },
         "mode": "lines",
         "type": "scatter",
         "x": [
          0.0022657329034401707,
          -0.15600211762296906,
          null
         ],
         "y": [
          -0.1000541888941555,
          0.10705967729062393,
          null
         ]
        },
        {
         "hoverinfo": "none",
         "line": {
          "color": "gray",
          "width": 1.9421216054149528
         },
         "mode": "lines",
         "type": "scatter",
         "x": [
          0.0022657329034401707,
          -0.13081295319358968,
          null
         ],
         "y": [
          -0.1000541888941555,
          -0.031344092435377086,
          null
         ]
        },
        {
         "hoverinfo": "none",
         "line": {
          "color": "gray",
          "width": 1.915835647045362
         },
         "mode": "lines",
         "type": "scatter",
         "x": [
          0.0022657329034401707,
          -0.08066827461462016,
          null
         ],
         "y": [
          -0.1000541888941555,
          0.14631814905483753,
          null
         ]
        },
        {
         "hoverinfo": "none",
         "line": {
          "color": "gray",
          "width": 1.6335080254317043
         },
         "mode": "lines",
         "type": "scatter",
         "x": [
          0.0022657329034401707,
          -0.2176615368687505,
          null
         ],
         "y": [
          -0.1000541888941555,
          -0.06881453847411577,
          null
         ]
        },
        {
         "hoverinfo": "none",
         "line": {
          "color": "gray",
          "width": 1.3480589462617107
         },
         "mode": "lines",
         "type": "scatter",
         "x": [
          0.0022657329034401707,
          -0.21968526134833036,
          null
         ],
         "y": [
          -0.1000541888941555,
          0.01897070291849761,
          null
         ]
        },
        {
         "hoverinfo": "none",
         "line": {
          "color": "gray",
          "width": 1.1800752435558453
         },
         "mode": "lines",
         "type": "scatter",
         "x": [
          0.0022657329034401707,
          -0.14393770239712067,
          null
         ],
         "y": [
          -0.1000541888941555,
          -0.16043144385775768,
          null
         ]
        },
        {
         "hoverinfo": "none",
         "line": {
          "color": "gray",
          "width": 1.0255630945144665
         },
         "mode": "lines",
         "type": "scatter",
         "x": [
          0.0022657329034401707,
          -0.016028744481309306,
          null
         ],
         "y": [
          -0.1000541888941555,
          0.13698187940442957,
          null
         ]
        },
        {
         "hoverinfo": "none",
         "line": {
          "color": "gray",
          "width": 0.947362368364874
         },
         "mode": "lines",
         "type": "scatter",
         "x": [
          0.0022657329034401707,
          0.3382080345598866,
          null
         ],
         "y": [
          -0.1000541888941555,
          -0.4294613173115902,
          null
         ]
        },
        {
         "hoverinfo": "none",
         "line": {
          "color": "gray",
          "width": 0.8661223282787852
         },
         "mode": "lines",
         "type": "scatter",
         "x": [
          0.0022657329034401707,
          0.037846337993243176,
          null
         ],
         "y": [
          -0.1000541888941555,
          0.07929224820406354,
          null
         ]
        },
        {
         "hoverinfo": "none",
         "line": {
          "color": "gray",
          "width": 0.6628990126337208
         },
         "mode": "lines",
         "type": "scatter",
         "x": [
          0.0022657329034401707,
          0.030531298654018393,
          null
         ],
         "y": [
          -0.1000541888941555,
          0.20612412625938203,
          null
         ]
        },
        {
         "hoverinfo": "none",
         "line": {
          "color": "gray",
          "width": 0.5993198508271451
         },
         "mode": "lines",
         "type": "scatter",
         "x": [
          0.0022657329034401707,
          -0.12240852374210791,
          null
         ],
         "y": [
          -0.1000541888941555,
          -0.23365238603958743,
          null
         ]
        },
        {
         "hoverinfo": "none",
         "line": {
          "color": "gray",
          "width": 0.5253084492927401
         },
         "mode": "lines",
         "type": "scatter",
         "x": [
          0.0022657329034401707,
          -0.0685736393642685,
          null
         ],
         "y": [
          -0.1000541888941555,
          0.26130825110599887,
          null
         ]
        },
        {
         "hoverinfo": "none",
         "line": {
          "color": "gray",
          "width": 0.3604462041433239
         },
         "mode": "lines",
         "type": "scatter",
         "x": [
          0.0022657329034401707,
          0.07614076537793886,
          null
         ],
         "y": [
          -0.1000541888941555,
          -0.36427667430908167,
          null
         ]
        },
        {
         "hoverinfo": "none",
         "line": {
          "color": "gray",
          "width": 0.29768847853586744
         },
         "mode": "lines",
         "type": "scatter",
         "x": [
          0.0022657329034401707,
          -0.26115664038749054,
          null
         ],
         "y": [
          -0.1000541888941555,
          -0.24347361317096897,
          null
         ]
        },
        {
         "hoverinfo": "none",
         "line": {
          "color": "gray",
          "width": 0.27550970116150947
         },
         "mode": "lines",
         "type": "scatter",
         "x": [
          0.0022657329034401707,
          -0.26322328871913286,
          null
         ],
         "y": [
          -0.1000541888941555,
          0.10756130130543066,
          null
         ]
        },
        {
         "hoverinfo": "none",
         "line": {
          "color": "gray",
          "width": 0.2272092526573295
         },
         "mode": "lines",
         "type": "scatter",
         "x": [
          0.0022657329034401707,
          0.2715937156472405,
          null
         ],
         "y": [
          -0.1000541888941555,
          -0.04842889555448029,
          null
         ]
        },
        {
         "hoverinfo": "none",
         "line": {
          "color": "gray",
          "width": 0.1934482248763612
         },
         "mode": "lines",
         "type": "scatter",
         "x": [
          0.0022657329034401707,
          -0.16064198950702274,
          null
         ],
         "y": [
          -0.1000541888941555,
          0.23066913636456834,
          null
         ]
        },
        {
         "hoverinfo": "none",
         "line": {
          "color": "gray",
          "width": 0.11434391890781734
         },
         "mode": "lines",
         "type": "scatter",
         "x": [
          0.0022657329034401707,
          0.22349008321289157,
          null
         ],
         "y": [
          -0.1000541888941555,
          -0.3952394790029769,
          null
         ]
        },
        {
         "hoverinfo": "none",
         "line": {
          "color": "gray",
          "width": 0.013142979184806634
         },
         "mode": "lines",
         "type": "scatter",
         "x": [
          0.0022657329034401707,
          -0.18805488508184112,
          null
         ],
         "y": [
          -0.1000541888941555,
          -0.358028884866544,
          null
         ]
        },
        {
         "hoverinfo": "none",
         "line": {
          "color": "gray",
          "width": 1.0731242504393579
         },
         "mode": "lines",
         "type": "scatter",
         "x": [
          -0.12240852374210791,
          -0.13081295319358968,
          null
         ],
         "y": [
          -0.23365238603958743,
          -0.031344092435377086,
          null
         ]
        },
        {
         "hoverinfo": "none",
         "line": {
          "color": "gray",
          "width": 0.6695526458459461
         },
         "mode": "lines",
         "type": "scatter",
         "x": [
          -0.12240852374210791,
          -0.18354399022144982,
          null
         ],
         "y": [
          -0.23365238603958743,
          -0.10763376702236382,
          null
         ]
        },
        {
         "hoverinfo": "none",
         "line": {
          "color": "gray",
          "width": 0.4529399201563359
         },
         "mode": "lines",
         "type": "scatter",
         "x": [
          -0.12240852374210791,
          -0.2176615368687505,
          null
         ],
         "y": [
          -0.23365238603958743,
          -0.06881453847411577,
          null
         ]
        },
        {
         "hoverinfo": "none",
         "line": {
          "color": "gray",
          "width": 0.14917281374749683
         },
         "mode": "lines",
         "type": "scatter",
         "x": [
          -0.12240852374210791,
          -0.08066827461462016,
          null
         ],
         "y": [
          -0.23365238603958743,
          0.14631814905483753,
          null
         ]
        },
        {
         "hoverinfo": "none",
         "line": {
          "color": "gray",
          "width": 1.9327572327458151
         },
         "mode": "lines",
         "type": "scatter",
         "x": [
          -0.08066827461462016,
          0.030531298654018393,
          null
         ],
         "y": [
          0.14631814905483753,
          0.20612412625938203,
          null
         ]
        },
        {
         "hoverinfo": "none",
         "line": {
          "color": "gray",
          "width": 1.8484778787230103
         },
         "mode": "lines",
         "type": "scatter",
         "x": [
          -0.08066827461462016,
          -0.13081295319358968,
          null
         ],
         "y": [
          0.14631814905483753,
          -0.031344092435377086,
          null
         ]
        },
        {
         "hoverinfo": "none",
         "line": {
          "color": "gray",
          "width": 1.7715093068721535
         },
         "mode": "lines",
         "type": "scatter",
         "x": [
          -0.08066827461462016,
          -0.15600211762296906,
          null
         ],
         "y": [
          0.14631814905483753,
          0.10705967729062393,
          null
         ]
        },
        {
         "hoverinfo": "none",
         "line": {
          "color": "gray",
          "width": 1.7355304013536585
         },
         "mode": "lines",
         "type": "scatter",
         "x": [
          -0.08066827461462016,
          -0.016028744481309306,
          null
         ],
         "y": [
          0.14631814905483753,
          0.13698187940442957,
          null
         ]
        },
        {
         "hoverinfo": "none",
         "line": {
          "color": "gray",
          "width": 1.5277891866139153
         },
         "mode": "lines",
         "type": "scatter",
         "x": [
          -0.08066827461462016,
          -0.21968526134833036,
          null
         ],
         "y": [
          0.14631814905483753,
          0.01897070291849761,
          null
         ]
        },
        {
         "hoverinfo": "none",
         "line": {
          "color": "gray",
          "width": 1.1291461992147225
         },
         "mode": "lines",
         "type": "scatter",
         "x": [
          -0.08066827461462016,
          -0.18354399022144982,
          null
         ],
         "y": [
          0.14631814905483753,
          -0.10763376702236382,
          null
         ]
        },
        {
         "hoverinfo": "none",
         "line": {
          "color": "gray",
          "width": 1.0097915194926896
         },
         "mode": "lines",
         "type": "scatter",
         "x": [
          -0.08066827461462016,
          -0.0685736393642685,
          null
         ],
         "y": [
          0.14631814905483753,
          0.26130825110599887,
          null
         ]
        },
        {
         "hoverinfo": "none",
         "line": {
          "color": "gray",
          "width": 0.9759483480918518
         },
         "mode": "lines",
         "type": "scatter",
         "x": [
          -0.08066827461462016,
          0.037846337993243176,
          null
         ],
         "y": [
          0.14631814905483753,
          0.07929224820406354,
          null
         ]
        },
        {
         "hoverinfo": "none",
         "line": {
          "color": "gray",
          "width": 0.9451444906274072
         },
         "mode": "lines",
         "type": "scatter",
         "x": [
          -0.08066827461462016,
          -0.2176615368687505,
          null
         ],
         "y": [
          0.14631814905483753,
          -0.06881453847411577,
          null
         ]
        },
        {
         "hoverinfo": "none",
         "line": {
          "color": "gray",
          "width": 0.9118763245658621
         },
         "mode": "lines",
         "type": "scatter",
         "x": [
          -0.08066827461462016,
          -0.16064198950702274,
          null
         ],
         "y": [
          0.14631814905483753,
          0.23066913636456834,
          null
         ]
        },
        {
         "hoverinfo": "none",
         "line": {
          "color": "gray",
          "width": 0.7896466181471794
         },
         "mode": "lines",
         "type": "scatter",
         "x": [
          -0.08066827461462016,
          0.10996446684907323,
          null
         ],
         "y": [
          0.14631814905483753,
          0.31831690697538245,
          null
         ]
        },
        {
         "hoverinfo": "none",
         "line": {
          "color": "gray",
          "width": 0.7648392449358579
         },
         "mode": "lines",
         "type": "scatter",
         "x": [
          -0.08066827461462016,
          0.21275963752640792,
          null
         ],
         "y": [
          0.14631814905483753,
          0.2002028359855717,
          null
         ]
        },
        {
         "hoverinfo": "none",
         "line": {
          "color": "gray",
          "width": 0.4932724375297796
         },
         "mode": "lines",
         "type": "scatter",
         "x": [
          -0.08066827461462016,
          -0.14393770239712067,
          null
         ],
         "y": [
          0.14631814905483753,
          -0.16043144385775768,
          null
         ]
        },
        {
         "hoverinfo": "none",
         "line": {
          "color": "gray",
          "width": 0.48440092657997097
         },
         "mode": "lines",
         "type": "scatter",
         "x": [
          -0.08066827461462016,
          0.2274890347633522,
          null
         ],
         "y": [
          0.14631814905483753,
          0.3396612498214871,
          null
         ]
        },
        {
         "hoverinfo": "none",
         "line": {
          "color": "gray",
          "width": 0.4323218715601914
         },
         "mode": "lines",
         "type": "scatter",
         "x": [
          -0.08066827461462016,
          -0.26322328871913286,
          null
         ],
         "y": [
          0.14631814905483753,
          0.10756130130543066,
          null
         ]
        },
        {
         "hoverinfo": "none",
         "line": {
          "color": "gray",
          "width": 0.38065353463996704
         },
         "mode": "lines",
         "type": "scatter",
         "x": [
          -0.08066827461462016,
          -0.24149213492440905,
          null
         ],
         "y": [
          0.14631814905483753,
          0.47600125933408854,
          null
         ]
        },
        {
         "hoverinfo": "none",
         "line": {
          "color": "gray",
          "width": 0.30746356930456614
         },
         "mode": "lines",
         "type": "scatter",
         "x": [
          -0.08066827461462016,
          0.1310725668686823,
          null
         ],
         "y": [
          0.14631814905483753,
          0.45779700958786157,
          null
         ]
        },
        {
         "hoverinfo": "none",
         "line": {
          "color": "gray",
          "width": 0.2456094235160162
         },
         "mode": "lines",
         "type": "scatter",
         "x": [
          -0.08066827461462016,
          -0.02129123963891907,
          null
         ],
         "y": [
          0.14631814905483753,
          0.3937866312657649,
          null
         ]
        },
        {
         "hoverinfo": "none",
         "line": {
          "color": "gray",
          "width": 0.03121457556390184
         },
         "mode": "lines",
         "type": "scatter",
         "x": [
          -0.08066827461462016,
          0.2715937156472405,
          null
         ],
         "y": [
          0.14631814905483753,
          -0.04842889555448029,
          null
         ]
        },
        {
         "hoverinfo": "none",
         "line": {
          "color": "gray",
          "width": 0.014785851582879914
         },
         "mode": "lines",
         "type": "scatter",
         "x": [
          -0.08066827461462016,
          -0.3813920876000755,
          null
         ],
         "y": [
          0.14631814905483753,
          -0.11610431425198581,
          null
         ]
        },
        {
         "hoverinfo": "none",
         "line": {
          "color": "gray",
          "width": 0.006160771492863518
         },
         "mode": "lines",
         "type": "scatter",
         "x": [
          -0.08066827461462016,
          -0.380320640955513,
          null
         ],
         "y": [
          0.14631814905483753,
          0.48899831872467836,
          null
         ]
        },
        {
         "hoverinfo": "none",
         "line": {
          "color": "gray",
          "width": 1.9127963331086937
         },
         "mode": "lines",
         "type": "scatter",
         "x": [
          -0.13081295319358968,
          -0.18354399022144982,
          null
         ],
         "y": [
          -0.031344092435377086,
          -0.10763376702236382,
          null
         ]
        },
        {
         "hoverinfo": "none",
         "line": {
          "color": "gray",
          "width": 1.4479455880660546
         },
         "mode": "lines",
         "type": "scatter",
         "x": [
          -0.13081295319358968,
          -0.2176615368687505,
          null
         ],
         "y": [
          -0.031344092435377086,
          -0.06881453847411577,
          null
         ]
        },
        {
         "hoverinfo": "none",
         "line": {
          "color": "gray",
          "width": 1.4033416024576733
         },
         "mode": "lines",
         "type": "scatter",
         "x": [
          -0.13081295319358968,
          -0.15600211762296906,
          null
         ],
         "y": [
          -0.031344092435377086,
          0.10705967729062393,
          null
         ]
        },
        {
         "hoverinfo": "none",
         "line": {
          "color": "gray",
          "width": 1.1390855772230946
         },
         "mode": "lines",
         "type": "scatter",
         "x": [
          -0.13081295319358968,
          -0.016028744481309306,
          null
         ],
         "y": [
          -0.031344092435377086,
          0.13698187940442957,
          null
         ]
        },
        {
         "hoverinfo": "none",
         "line": {
          "color": "gray",
          "width": 0.8667794772379547
         },
         "mode": "lines",
         "type": "scatter",
         "x": [
          -0.13081295319358968,
          -0.14393770239712067,
          null
         ],
         "y": [
          -0.031344092435377086,
          -0.16043144385775768,
          null
         ]
        },
        {
         "hoverinfo": "none",
         "line": {
          "color": "gray",
          "width": 0.7634428033974372
         },
         "mode": "lines",
         "type": "scatter",
         "x": [
          -0.13081295319358968,
          -0.21968526134833036,
          null
         ],
         "y": [
          -0.031344092435377086,
          0.01897070291849761,
          null
         ]
        },
        {
         "hoverinfo": "none",
         "line": {
          "color": "gray",
          "width": 0.5547158652186713
         },
         "mode": "lines",
         "type": "scatter",
         "x": [
          -0.13081295319358968,
          -0.26115664038749054,
          null
         ],
         "y": [
          -0.031344092435377086,
          -0.24347361317096897,
          null
         ]
        },
        {
         "hoverinfo": "none",
         "line": {
          "color": "gray",
          "width": 0.5014046559003221
         },
         "mode": "lines",
         "type": "scatter",
         "x": [
          -0.13081295319358968,
          -0.16064198950702274,
          null
         ],
         "y": [
          -0.031344092435377086,
          0.23066913636456834,
          null
         ]
        },
        {
         "hoverinfo": "none",
         "line": {
          "color": "gray",
          "width": 0.4475184412426504
         },
         "mode": "lines",
         "type": "scatter",
         "x": [
          -0.13081295319358968,
          0.030531298654018393,
          null
         ],
         "y": [
          -0.031344092435377086,
          0.20612412625938203,
          null
         ]
        },
        {
         "hoverinfo": "none",
         "line": {
          "color": "gray",
          "width": 0.4472720103829119
         },
         "mode": "lines",
         "type": "scatter",
         "x": [
          -0.13081295319358968,
          0.037846337993243176,
          null
         ],
         "y": [
          -0.031344092435377086,
          0.07929224820406354,
          null
         ]
        },
        {
         "hoverinfo": "none",
         "line": {
          "color": "gray",
          "width": 0.4280504033250866
         },
         "mode": "lines",
         "type": "scatter",
         "x": [
          -0.13081295319358968,
          -0.08031724268376342,
          null
         ],
         "y": [
          -0.031344092435377086,
          -0.3207643021902531,
          null
         ]
        },
        {
         "hoverinfo": "none",
         "line": {
          "color": "gray",
          "width": 0.41802888169667934
         },
         "mode": "lines",
         "type": "scatter",
         "x": [
          -0.13081295319358968,
          -0.0685736393642685,
          null
         ],
         "y": [
          -0.031344092435377086,
          0.26130825110599887,
          null
         ]
        },
        {
         "hoverinfo": "none",
         "line": {
          "color": "gray",
          "width": 0.31157075029976017
         },
         "mode": "lines",
         "type": "scatter",
         "x": [
          -0.13081295319358968,
          -0.3813920876000755,
          null
         ],
         "y": [
          -0.031344092435377086,
          -0.11610431425198581,
          null
         ]
        },
        {
         "hoverinfo": "none",
         "line": {
          "color": "gray",
          "width": 0.14777637220908205
         },
         "mode": "lines",
         "type": "scatter",
         "x": [
          -0.13081295319358968,
          -0.26322328871913286,
          null
         ],
         "y": [
          -0.031344092435377086,
          0.10756130130543066,
          null
         ]
        },
        {
         "hoverinfo": "none",
         "line": {
          "color": "gray",
          "width": 0.08452578488219953
         },
         "mode": "lines",
         "type": "scatter",
         "x": [
          -0.13081295319358968,
          -0.3114969832441487,
          null
         ],
         "y": [
          -0.031344092435377086,
          0.22569947205542404,
          null
         ]
        },
        {
         "hoverinfo": "none",
         "line": {
          "color": "gray",
          "width": 0.08066503474667969
         },
         "mode": "lines",
         "type": "scatter",
         "x": [
          -0.13081295319358968,
          0.15229735555018856,
          null
         ],
         "y": [
          -0.031344092435377086,
          -0.26746935009910944,
          null
         ]
        },
        {
         "hoverinfo": "none",
         "line": {
          "color": "gray",
          "width": 0.0334324533013342
         },
         "mode": "lines",
         "type": "scatter",
         "x": [
          -0.13081295319358968,
          -0.18805488508184112,
          null
         ],
         "y": [
          -0.031344092435377086,
          -0.358028884866544,
          null
         ]
        },
        {
         "hoverinfo": "none",
         "line": {
          "color": "gray",
          "width": 1.9062248435164215
         },
         "mode": "lines",
         "type": "scatter",
         "x": [
          -0.18354399022144982,
          -0.2176615368687505,
          null
         ],
         "y": [
          -0.10763376702236382,
          -0.06881453847411577,
          null
         ]
        },
        {
         "hoverinfo": "none",
         "line": {
          "color": "gray",
          "width": 1.3283444774844444
         },
         "mode": "lines",
         "type": "scatter",
         "x": [
          -0.18354399022144982,
          -0.15600211762296906,
          null
         ],
         "y": [
          -0.10763376702236382,
          0.10705967729062393,
          null
         ]
        },
        {
         "hoverinfo": "none",
         "line": {
          "color": "gray",
          "width": 0.8898618344313163
         },
         "mode": "lines",
         "type": "scatter",
         "x": [
          -0.18354399022144982,
          -0.14393770239712067,
          null
         ],
         "y": [
          -0.10763376702236382,
          -0.16043144385775768,
          null
         ]
        },
        {
         "hoverinfo": "none",
         "line": {
          "color": "gray",
          "width": 0.72606745634068
         },
         "mode": "lines",
         "type": "scatter",
         "x": [
          -0.18354399022144982,
          -0.26115664038749054,
          null
         ],
         "y": [
          -0.10763376702236382,
          -0.24347361317096897,
          null
         ]
        },
        {
         "hoverinfo": "none",
         "line": {
          "color": "gray",
          "width": 0.6298772774318393
         },
         "mode": "lines",
         "type": "scatter",
         "x": [
          -0.18354399022144982,
          -0.36829965215146465,
          null
         ],
         "y": [
          -0.10763376702236382,
          -0.0037200272538921077,
          null
         ]
        },
        {
         "hoverinfo": "none",
         "line": {
          "color": "gray",
          "width": 0.5488836682054322
         },
         "mode": "lines",
         "type": "scatter",
         "x": [
          -0.18354399022144982,
          -0.016028744481309306,
          null
         ],
         "y": [
          -0.10763376702236382,
          0.13698187940442957,
          null
         ]
        },
        {
         "hoverinfo": "none",
         "line": {
          "color": "gray",
          "width": 0.5098654487506264
         },
         "mode": "lines",
         "type": "scatter",
         "x": [
          -0.18354399022144982,
          -0.21968526134833036,
          null
         ],
         "y": [
          -0.10763376702236382,
          0.01897070291849761,
          null
         ]
        },
        {
         "hoverinfo": "none",
         "line": {
          "color": "gray",
          "width": 0.36069263500303095
         },
         "mode": "lines",
         "type": "scatter",
         "x": [
          -0.18354399022144982,
          -0.08031724268376342,
          null
         ],
         "y": [
          -0.10763376702236382,
          -0.3207643021902531,
          null
         ]
        },
        {
         "hoverinfo": "none",
         "line": {
          "color": "gray",
          "width": 0.29744204767616783
         },
         "mode": "lines",
         "type": "scatter",
         "x": [
          -0.18354399022144982,
          0.037846337993243176,
          null
         ],
         "y": [
          -0.10763376702236382,
          0.07929224820406354,
          null
         ]
        },
        {
         "hoverinfo": "none",
         "line": {
          "color": "gray",
          "width": 0.11713680198458712
         },
         "mode": "lines",
         "type": "scatter",
         "x": [
          -0.18354399022144982,
          -0.18805488508184112,
          null
         ],
         "y": [
          -0.10763376702236382,
          -0.358028884866544,
          null
         ]
        },
        {
         "hoverinfo": "none",
         "line": {
          "color": "gray",
          "width": 0.02973599040558845
         },
         "mode": "lines",
         "type": "scatter",
         "x": [
          -0.18354399022144982,
          -0.3813920876000755,
          null
         ],
         "y": [
          -0.10763376702236382,
          -0.11610431425198581,
          null
         ]
        },
        {
         "hoverinfo": "none",
         "line": {
          "color": "gray",
          "width": 0.00197144687767673
         },
         "mode": "lines",
         "type": "scatter",
         "x": [
          -0.18354399022144982,
          -0.26322328871913286,
          null
         ],
         "y": [
          -0.10763376702236382,
          0.10756130130543066,
          null
         ]
        },
        {
         "hoverinfo": "none",
         "line": {
          "color": "gray",
          "width": 0.9909806305344537
         },
         "mode": "lines",
         "type": "scatter",
         "x": [
          -0.21968526134833036,
          -0.15600211762296906,
          null
         ],
         "y": [
          0.01897070291849761,
          0.10705967729062393,
          null
         ]
        },
        {
         "hoverinfo": "none",
         "line": {
          "color": "gray",
          "width": 0.6178843089257336
         },
         "mode": "lines",
         "type": "scatter",
         "x": [
          -0.21968526134833036,
          -0.016028744481309306,
          null
         ],
         "y": [
          0.01897070291849761,
          0.13698187940442957,
          null
         ]
        },
        {
         "hoverinfo": "none",
         "line": {
          "color": "gray",
          "width": 0.5579194663950784
         },
         "mode": "lines",
         "type": "scatter",
         "x": [
          -0.21968526134833036,
          0.037846337993243176,
          null
         ],
         "y": [
          0.01897070291849761,
          0.07929224820406354,
          null
         ]
        },
        {
         "hoverinfo": "none",
         "line": {
          "color": "gray",
          "width": 0.4189324615157024
         },
         "mode": "lines",
         "type": "scatter",
         "x": [
          -0.21968526134833036,
          0.030531298654018393,
          null
         ],
         "y": [
          0.01897070291849761,
          0.20612412625938203,
          null
         ]
        },
        {
         "hoverinfo": "none",
         "line": {
          "color": "gray",
          "width": 0.26006670061934495
         },
         "mode": "lines",
         "type": "scatter",
         "x": [
          -0.21968526134833036,
          -0.14393770239712067,
          null
         ],
         "y": [
          0.01897070291849761,
          -0.16043144385775768,
          null
         ]
        },
        {
         "hoverinfo": "none",
         "line": {
          "color": "gray",
          "width": 0.24339154577866154
         },
         "mode": "lines",
         "type": "scatter",
         "x": [
          -0.21968526134833036,
          -0.6050571642607075,
          null
         ],
         "y": [
          0.01897070291849761,
          -0.13550225949897096,
          null
         ]
        },
        {
         "hoverinfo": "none",
         "line": {
          "color": "gray",
          "width": 0.11705465836465787
         },
         "mode": "lines",
         "type": "scatter",
         "x": [
          -0.21968526134833036,
          -0.2176615368687505,
          null
         ],
         "y": [
          0.01897070291849761,
          -0.06881453847411577,
          null
         ]
        },
        {
         "hoverinfo": "none",
         "line": {
          "color": "gray",
          "width": 0.9269086070085133
         },
         "mode": "lines",
         "type": "scatter",
         "x": [
          -0.2176615368687505,
          -0.15600211762296906,
          null
         ],
         "y": [
          -0.06881453847411577,
          0.10705967729062393,
          null
         ]
        },
        {
         "hoverinfo": "none",
         "line": {
          "color": "gray",
          "width": 0.6531239218649474
         },
         "mode": "lines",
         "type": "scatter",
         "x": [
          -0.2176615368687505,
          -0.36829965215146465,
          null
         ],
         "y": [
          -0.06881453847411577,
          -0.0037200272538921077,
          null
         ]
        },
        {
         "hoverinfo": "none",
         "line": {
          "color": "gray",
          "width": 0.5959519624110394
         },
         "mode": "lines",
         "type": "scatter",
         "x": [
          -0.2176615368687505,
          -0.26115664038749054,
          null
         ],
         "y": [
          -0.06881453847411577,
          -0.24347361317096897,
          null
         ]
        },
        {
         "hoverinfo": "none",
         "line": {
          "color": "gray",
          "width": 0.5138083425059978
         },
         "mode": "lines",
         "type": "scatter",
         "x": [
          -0.2176615368687505,
          -0.016028744481309306,
          null
         ],
         "y": [
          -0.06881453847411577,
          0.13698187940442957,
          null
         ]
        },
        {
         "hoverinfo": "none",
         "line": {
          "color": "gray",
          "width": 0.36792127355463256
         },
         "mode": "lines",
         "type": "scatter",
         "x": [
          -0.2176615368687505,
          -0.08031724268376342,
          null
         ],
         "y": [
          -0.06881453847411577,
          -0.3207643021902531,
          null
         ]
        },
        {
         "hoverinfo": "none",
         "line": {
          "color": "gray",
          "width": 0.36151407120207696
         },
         "mode": "lines",
         "type": "scatter",
         "x": [
          -0.2176615368687505,
          -0.14393770239712067,
          null
         ],
         "y": [
          -0.06881453847411577,
          -0.16043144385775768,
          null
         ]
        },
        {
         "hoverinfo": "none",
         "line": {
          "color": "gray",
          "width": 0.18309812876829223
         },
         "mode": "lines",
         "type": "scatter",
         "x": [
          -0.2176615368687505,
          -0.3813920876000755,
          null
         ],
         "y": [
          -0.06881453847411577,
          -0.11610431425198581,
          null
         ]
        },
        {
         "hoverinfo": "none",
         "line": {
          "color": "gray",
          "width": 0.05207905501979521
         },
         "mode": "lines",
         "type": "scatter",
         "x": [
          -0.2176615368687505,
          0.037846337993243176,
          null
         ],
         "y": [
          -0.06881453847411577,
          0.07929224820406354,
          null
         ]
        },
        {
         "hoverinfo": "none",
         "line": {
          "color": "gray",
          "width": 0.8888761109924312
         },
         "mode": "lines",
         "type": "scatter",
         "x": [
          -0.15600211762296906,
          -0.016028744481309306,
          null
         ],
         "y": [
          0.10705967729062393,
          0.13698187940442957,
          null
         ]
        },
        {
         "hoverinfo": "none",
         "line": {
          "color": "gray",
          "width": 0.6844206410488121
         },
         "mode": "lines",
         "type": "scatter",
         "x": [
          -0.15600211762296906,
          0.037846337993243176,
          null
         ],
         "y": [
          0.10705967729062393,
          0.07929224820406354,
          null
         ]
        },
        {
         "hoverinfo": "none",
         "line": {
          "color": "gray",
          "width": 0.6800670291938213
         },
         "mode": "lines",
         "type": "scatter",
         "x": [
          -0.15600211762296906,
          -0.0685736393642685,
          null
         ],
         "y": [
          0.10705967729062393,
          0.26130825110599887,
          null
         ]
        },
        {
         "hoverinfo": "none",
         "line": {
          "color": "gray",
          "width": 0.6200200430432548
         },
         "mode": "lines",
         "type": "scatter",
         "x": [
          -0.15600211762296906,
          0.030531298654018393,
          null
         ],
         "y": [
          0.10705967729062393,
          0.20612412625938203,
          null
         ]
        },
        {
         "hoverinfo": "none",
         "line": {
          "color": "gray",
          "width": 0.513644055266211
         },
         "mode": "lines",
         "type": "scatter",
         "x": [
          -0.15600211762296906,
          -0.14393770239712067,
          null
         ],
         "y": [
          0.10705967729062393,
          -0.16043144385775768,
          null
         ]
        },
        {
         "hoverinfo": "none",
         "line": {
          "color": "gray",
          "width": 0.12083326488032316
         },
         "mode": "lines",
         "type": "scatter",
         "x": [
          -0.15600211762296906,
          -0.24149213492440905,
          null
         ],
         "y": [
          0.10705967729062393,
          0.47600125933408854,
          null
         ]
        },
        {
         "hoverinfo": "none",
         "line": {
          "color": "gray",
          "width": 0.11721894560447901
         },
         "mode": "lines",
         "type": "scatter",
         "x": [
          -0.15600211762296906,
          -0.16064198950702274,
          null
         ],
         "y": [
          0.10705967729062393,
          0.23066913636456834,
          null
         ]
        },
        {
         "hoverinfo": "none",
         "line": {
          "color": "gray",
          "width": 0.10596526967747515
         },
         "mode": "lines",
         "type": "scatter",
         "x": [
          -0.15600211762296906,
          -0.26322328871913286,
          null
         ],
         "y": [
          0.10705967729062393,
          0.10756130130543066,
          null
         ]
        },
        {
         "hoverinfo": "none",
         "line": {
          "color": "gray",
          "width": 1.3579161806501505
         },
         "mode": "lines",
         "type": "scatter",
         "x": [
          -0.016028744481309306,
          0.2274890347633522,
          null
         ],
         "y": [
          0.13698187940442957,
          0.3396612498214871,
          null
         ]
        },
        {
         "hoverinfo": "none",
         "line": {
          "color": "gray",
          "width": 0.9059619839327087
         },
         "mode": "lines",
         "type": "scatter",
         "x": [
          -0.016028744481309306,
          0.030531298654018393,
          null
         ],
         "y": [
          0.13698187940442957,
          0.20612412625938203,
          null
         ]
        },
        {
         "hoverinfo": "none",
         "line": {
          "color": "gray",
          "width": 0.6479488738109017
         },
         "mode": "lines",
         "type": "scatter",
         "x": [
          -0.016028744481309306,
          -0.16064198950702274,
          null
         ],
         "y": [
          0.13698187940442957,
          0.23066913636456834,
          null
         ]
        },
        {
         "hoverinfo": "none",
         "line": {
          "color": "gray",
          "width": 0.536644268839579
         },
         "mode": "lines",
         "type": "scatter",
         "x": [
          -0.016028744481309306,
          -0.0685736393642685,
          null
         ],
         "y": [
          0.13698187940442957,
          0.26130825110599887,
          null
         ]
        },
        {
         "hoverinfo": "none",
         "line": {
          "color": "gray",
          "width": 0.4696150749970582
         },
         "mode": "lines",
         "type": "scatter",
         "x": [
          -0.016028744481309306,
          -0.26322328871913286,
          null
         ],
         "y": [
          0.13698187940442957,
          0.10756130130543066,
          null
         ]
        },
        {
         "hoverinfo": "none",
         "line": {
          "color": "gray",
          "width": 0.35954262432434564
         },
         "mode": "lines",
         "type": "scatter",
         "x": [
          -0.016028744481309306,
          0.037846337993243176,
          null
         ],
         "y": [
          0.13698187940442957,
          0.07929224820406354,
          null
         ]
        },
        {
         "hoverinfo": "none",
         "line": {
          "color": "gray",
          "width": 0.34804251753762877
         },
         "mode": "lines",
         "type": "scatter",
         "x": [
          -0.016028744481309306,
          0.21275963752640792,
          null
         ],
         "y": [
          0.13698187940442957,
          0.2002028359855717,
          null
         ]
        },
        {
         "hoverinfo": "none",
         "line": {
          "color": "gray",
          "width": 0.14071202089729262
         },
         "mode": "lines",
         "type": "scatter",
         "x": [
          -0.016028744481309306,
          0.10996446684907323,
          null
         ],
         "y": [
          0.13698187940442957,
          0.31831690697538245,
          null
         ]
        },
        {
         "hoverinfo": "none",
         "line": {
          "color": "gray",
          "width": 0.14350490397412516
         },
         "mode": "lines",
         "type": "scatter",
         "x": [
          0.21275963752640792,
          0.030531298654018393,
          null
         ],
         "y": [
          0.2002028359855717,
          0.20612412625938203,
          null
         ]
        },
        {
         "hoverinfo": "none",
         "line": {
          "color": "gray",
          "width": 0.3963429660418147
         },
         "mode": "lines",
         "type": "scatter",
         "x": [
          0.2715937156472405,
          0.6473121402540035,
          null
         ],
         "y": [
          -0.04842889555448029,
          -0.15879961682196816,
          null
         ]
        },
        {
         "hoverinfo": "none",
         "line": {
          "color": "gray",
          "width": 1.3536447124153042
         },
         "mode": "lines",
         "type": "scatter",
         "x": [
          0.030531298654018393,
          0.10996446684907323,
          null
         ],
         "y": [
          0.20612412625938203,
          0.31831690697538245,
          null
         ]
        },
        {
         "hoverinfo": "none",
         "line": {
          "color": "gray",
          "width": 0.2525094875881294
         },
         "mode": "lines",
         "type": "scatter",
         "x": [
          0.030531298654018393,
          -0.0685736393642685,
          null
         ],
         "y": [
          0.20612412625938203,
          0.26130825110599887,
          null
         ]
        },
        {
         "hoverinfo": "none",
         "line": {
          "color": "gray",
          "width": 0.03031099574499086
         },
         "mode": "lines",
         "type": "scatter",
         "x": [
          0.030531298654018393,
          0.037846337993243176,
          null
         ],
         "y": [
          0.20612412625938203,
          0.07929224820406354,
          null
         ]
        },
        {
         "hoverinfo": "none",
         "line": {
          "color": "gray",
          "width": 0.01322512280469106
         },
         "mode": "lines",
         "type": "scatter",
         "x": [
          0.030531298654018393,
          -0.16064198950702274,
          null
         ],
         "y": [
          0.20612412625938203,
          0.23066913636456834,
          null
         ]
        },
        {
         "hoverinfo": "none",
         "line": {
          "color": "gray",
          "width": 0.19673396967254814
         },
         "mode": "lines",
         "type": "scatter",
         "x": [
          -0.3813920876000755,
          -1,
          null
         ],
         "y": [
          -0.11610431425198581,
          -0.2055888931131789,
          null
         ]
        },
        {
         "hoverinfo": "none",
         "line": {
          "color": "gray",
          "width": 0.8290755557015523
         },
         "mode": "lines",
         "type": "scatter",
         "x": [
          -0.36829965215146465,
          -0.5474289062890229,
          null
         ],
         "y": [
          -0.0037200272538921077,
          0.21022116443050792,
          null
         ]
        },
        {
         "hovertext": [
          "Death Note<br>Attack on Titan: 3.28%<br>Fullmetal Alchemist:Brotherhood: 3.08%<br>Code Geass:Lelouch of the Rebellion: 2.97%<br>Steins;Gate: 2.80%<br>Sword Art Online: 2.77%",
          "Attack on Titan<br>Death Note: 3.07%<br>Sword Art Online: 2.76%<br>Fullmetal Alchemist:Brotherhood: 2.75%<br>One Punch Man: 2.68%<br>Steins;Gate: 2.63%",
          "Fullmetal Alchemist:Brotherhood<br>Death Note: 4.33%<br>Attack on Titan: 4.12%<br>Code Geass:Lelouch of the Rebellion: 3.66%<br>Steins;Gate: 3.61%<br>One Punch Man: 3.51%",
          "Code Geass:Lelouch of the Rebellion<br>Death Note: 7.05%<br>Code Geass:Lelouch of the Rebellion R2: 7.00%<br>Attack on Titan: 6.25%<br>Fullmetal Alchemist:Brotherhood: 6.20%<br>Steins;Gate: 5.71%",
          "Sword Art Online<br>Attack on Titan: 5.55%<br>Death Note: 5.22%<br>Fullmetal Alchemist:Brotherhood: 4.69%<br>Angel Beats!: 4.65%<br>No Game, No Life: 4.59%",
          "Code Geass:Lelouch of the Rebellion R2<br>Code Geass:Lelouch of the Rebellion: 14.45%<br>Death Note: 12.79%<br>Fullmetal Alchemist:Brotherhood: 11.48%<br>Attack on Titan: 11.28%<br>Steins;Gate: 10.67%",
          "One Punch Man<br>Attack on Titan: 4.87%<br>Death Note: 4.57%<br>Fullmetal Alchemist:Brotherhood: 4.25%<br>My Hero Academia: 4.10%<br>Sword Art Online: 4.10%",
          "Steins;Gate<br>Attack on Titan: 5.35%<br>Death Note: 5.34%<br>Fullmetal Alchemist:Brotherhood: 4.90%<br>Sword Art Online: 4.61%<br>Angel Beats!: 4.59%",
          "Angel Beats!<br>Death Note: 6.13%<br>Attack on Titan: 6.09%<br>Sword Art Online: 5.65%<br>Steins;Gate: 5.52%<br>Toradora!: 5.51%",
          "Tokyo Ghoul<br>Attack on Titan: 8.35%<br>Death Note: 7.76%<br>One Punch Man: 7.21%<br>Sword Art Online: 7.05%<br>Fullmetal Alchemist:Brotherhood: 6.82%",
          "Toradora!<br>Death Note: 6.78%<br>Attack on Titan: 6.55%<br>Angel Beats!: 6.21%<br>Sword Art Online: 6.01%<br>Fullmetal Alchemist:Brotherhood: 5.96%",
          "No Game, No Life<br>Attack on Titan: 6.74%<br>Death Note: 6.27%<br>Sword Art Online: 6.25%<br>One Punch Man: 6.08%<br>Steins;Gate: 5.81%",
          "Your Name.<br>Attack on Titan: 6.30%<br>Death Note: 5.94%<br>One Punch Man: 5.86%<br>A Silent Voice: 5.60%<br>Steins;Gate: 5.45%",
          "Attack on Titan Season 2<br>Attack on Titan: 19.92%<br>Death Note: 16.91%<br>One Punch Man: 16.67%<br>Your Name.: 15.74%<br>Fullmetal Alchemist:Brotherhood: 15.48%",
          "Naruto<br>Death Note: 17.03%<br>Attack on Titan: 15.35%<br>Fullmetal Alchemist:Brotherhood: 14.53%<br>Naruto:Shippuden: 13.59%<br>Code Geass:Lelouch of the Rebellion: 13.35%",
          "My Hero Academia<br>Attack on Titan: 8.39%<br>One Punch Man: 8.22%<br>Death Note: 7.70%<br>My Hero Academia 2: 7.67%<br>Fullmetal Alchemist:Brotherhood: 7.34%",
          "Spirited Away<br>Death Note: 13.39%<br>Attack on Titan: 12.17%<br>Fullmetal Alchemist:Brotherhood: 11.66%<br>Code Geass:Lelouch of the Rebellion: 10.76%<br>Steins;Gate: 10.66%",
          "The Future Diary<br>Attack on Titan: 10.54%<br>Death Note: 10.28%<br>Sword Art Online: 9.47%<br>Angel Beats!: 9.12%<br>Steins;Gate: 9.09%",
          "Noragami:Stray God<br>Attack on Titan: 9.83%<br>Death Note: 9.04%<br>One Punch Man: 8.66%<br>Sword Art Online: 8.53%<br>No Game, No Life: 8.33%",
          "Elfen Lied<br>Death Note: 28.57%<br>Attack on Titan: 24.60%<br>Code Geass:Lelouch of the Rebellion: 23.55%<br>Fullmetal Alchemist:Brotherhood: 23.28%",
          "ERASED<br>Attack on Titan: 12.47%<br>Death Note: 11.76%<br>One Punch Man: 11.61%<br>Your Name.: 11.21%<br>Steins;Gate: 10.98%",
          "A Silent Voice<br>Your Name.: 26.84%<br>Attack on Titan: 25.42%<br>One Punch Man: 23.92%<br>Death Note: 23.83%",
          "My Hero Academia 2<br>My Hero Academia: 18.39%<br>Attack on Titan: 17.51%<br>One Punch Man: 17.10%<br>Death Note: 15.99%<br>Your Name.: 15.61%",
          "Re:ZERO -Starting Life in Another World-<br>Attack on Titan: 12.19%<br>One Punch Man: 11.69%<br>Death Note: 11.25%<br>No Game, No Life: 11.18%<br>Your Name.: 10.96%",
          "anohana:The Flower We Saw That Day<br>Attack on Titan: 15.30%<br>Death Note: 14.95%<br>Angel Beats!: 14.40%<br>Toradora!: 14.15%<br>Steins;Gate: 14.06%",
          "Your Lie in April<br>Attack on Titan: 12.41%<br>Death Note: 11.52%<br>Your Name.: 11.28%<br>One Punch Man: 11.22%<br>Sword Art Online: 10.97%",
          "Blue Exorcist<br>Attack on Titan: 26.50%<br>Death Note: 25.83%<br>Sword Art Online: 23.92%<br>Fullmetal Alchemist:Brotherhood: 23.75%",
          "Clannad<br>Death Note: 15.30%<br>Clannad ~After Story~: 14.86%<br>Toradora!: 14.51%<br>Angel Beats!: 14.46%<br>Attack on Titan: 14.07%",
          "Parasyte -the maxim-<br>Attack on Titan: 35.16%<br>Death Note: 32.93%<br>One Punch Man: 31.91%",
          "Another<br>Attack on Titan: 21.63%<br>Death Note: 21.49%<br>Angel Beats!: 19.14%<br>Steins;Gate: 18.90%<br>Sword Art Online: 18.84%",
          "Sword Art Online II<br>Sword Art Online: 51.51%<br>Attack on Titan: 48.49%",
          "Psycho-Pass<br>Attack on Titan: 26.71%<br>Death Note: 25.80%<br>Steins;Gate: 23.82%<br>Fullmetal Alchemist:Brotherhood: 23.67%",
          "Hunter x Hunter<br>Attack on Titan: 26.15%<br>Death Note: 25.25%<br>Fullmetal Alchemist:Brotherhood: 24.71%<br>One Punch Man: 23.88%",
          "Gurren Lagann<br>Death Note: 26.28%<br>Fullmetal Alchemist:Brotherhood: 24.85%<br>Attack on Titan: 24.58%<br>Code Geass:Lelouch of the Rebellion: 24.30%",
          "Bakemonogatari<br>Death Note: 15.13%<br>Attack on Titan: 14.73%<br>Steins;Gate: 14.30%<br>Toradora!: 14.18%<br>Angel Beats!: 14.17%",
          "Durarara!!<br>Death Note: 35.11%<br>Attack on Titan: 33.11%<br>Fullmetal Alchemist:Brotherhood: 31.78%",
          "Clannad ~After Story~<br>Clannad: 52.39%<br>Death Note: 47.61%",
          "Fullmetal Alchemist<br>Death Note: 51.34%<br>Fullmetal Alchemist:Brotherhood: 48.66%",
          "Akame ga Kill!<br>Attack on Titan: 100.00%",
          "Death Parade<br>Attack on Titan: 51.10%<br>Death Note: 48.90%",
          "The Devil is a Part-Timer!<br>Attack on Titan: 35.12%<br>Sword Art Online: 32.58%<br>Death Note: 32.30%",
          "Neon Genesis Evangelion<br>Death Note: 100.00%",
          "High School of the Dead<br>Death Note: 50.60%<br>Attack on Titan: 49.40%",
          "Fate/Zero<br>Attack on Titan: 26.13%<br>Death Note: 25.19%<br>Steins;Gate: 24.44%<br>Fullmetal Alchemist:Brotherhood: 24.24%",
          "KonoSuba:God's Blessing on This Wonderful World!<br>Attack on Titan: 33.93%<br>One Punch Man: 33.65%<br>No Game, No Life: 32.41%",
          "Naruto:Shippuden<br>Naruto: 51.03%<br>Death Note: 48.97%",
          "The Seven Deadly Sins<br>Attack on Titan: 51.22%<br>One Punch Man: 48.78%",
          "KILL la KILL<br>Attack on Titan: 100.00%",
          "Tokyo Ghoul √A<br>Tokyo Ghoul: 50.54%<br>Attack on Titan: 49.46%",
          "Soul Eater<br>Death Note: 100.00%",
          "Howl's Moving Castle<br>Spirited Away: 100.00%",
          "Food Wars! Shokugeki no Soma<br>Attack on Titan: 100.00%",
          "My Teen Romantic Comedy SNAFU<br>Attack on Titan: 100.00%",
          "Puella Magi Madoka Magica<br>Death Note: 100.00%",
          "Attack on Titan Season 3<br>Attack on Titan: 100.00%"
         ],
         "marker": {
          "color": "skyblue",
          "line": {
           "color": "black",
           "width": 2
          },
          "size": [
           50,
           45.51364981909878,
           42.28593355991668,
           39.85637539743449,
           42.17191097467383,
           31.497642802324307,
           36.37430106347988,
           39.865146365530094,
           39.52746409384936,
           34.46661550268611,
           39.96162701458174,
           34.95778971603991,
           31.690604100427585,
           27.313891020721414,
           33.39655739502248,
           30.831049227058436,
           32.58524284617914,
           35.28670101962504,
           32.795746080473634,
           33.370244490735665,
           28.95844753864708,
           26.064028067097905,
           24.950115118956255,
           28.550597522201514,
           30.686328253480976,
           28.5198991338669,
           30.79596535467602,
           32.703650915469794,
           26.186821620436355,
           30.502137923473303,
           26.44556517925666,
           28.95844753864708,
           26.204363556627563,
           30.449512114899683,
           31.984431531630303,
           31.330994408507838,
           25.748273215656177,
           27.21741037166977,
           26.384168402587434,
           25.888608705185835,
           27.48053941453788,
           28.7654862405438,
           29.11632496436794,
           26.96305229689727,
           25.831597412564413,
           23.862515075101413,
           23.94583927200965,
           26.331542594013815,
           22.783685999342175,
           28.287468479333405,
           22.169718232649927,
           23.568687643898695,
           25.568468369696305,
           26.827102291415414,
           18.49029711654424
          ]
         },
         "mode": "markers+text",
         "text": [
          "Death Note",
          "Attack on Titan",
          "Fullmetal Alchemist:Brotherhood",
          "Code Geass:Lelouch of the Rebellion",
          "Sword Art Online",
          "Code Geass:Lelouch of the Rebellion R2",
          "One Punch Man",
          "Steins;Gate",
          "Angel Beats!",
          "Tokyo Ghoul",
          "Toradora!",
          "No Game, No Life",
          "Your Name.",
          "Attack on Titan Season 2",
          "Naruto",
          "My Hero Academia",
          "Spirited Away",
          "The Future Diary",
          "Noragami:Stray God",
          "Elfen Lied",
          "ERASED",
          "A Silent Voice",
          "My Hero Academia 2",
          "Re:ZERO -Starting Life in Another World-",
          "anohana:The Flower We Saw That Day",
          "Your Lie in April",
          "Blue Exorcist",
          "Clannad",
          "Parasyte -the maxim-",
          "Another",
          "Sword Art Online II",
          "Psycho-Pass",
          "Hunter x Hunter",
          "Gurren Lagann",
          "Bakemonogatari",
          "Durarara!!",
          "Clannad ~After Story~",
          "Fullmetal Alchemist",
          "Akame ga Kill!",
          "Death Parade",
          "The Devil is a Part-Timer!",
          "Neon Genesis Evangelion",
          "High School of the Dead",
          "Fate/Zero",
          "KonoSuba:God's Blessing on This Wonderful World!",
          "Naruto:Shippuden",
          "The Seven Deadly Sins",
          "KILL la KILL",
          "Tokyo Ghoul √A",
          "Soul Eater",
          "Howl's Moving Castle",
          "Food Wars! Shokugeki no Soma",
          "My Teen Romantic Comedy SNAFU",
          "Puella Magi Madoka Magica",
          "Attack on Titan Season 3"
         ],
         "textposition": "top center",
         "type": "scatter",
         "x": [
          0.08950435047339318,
          -0.014955120143798583,
          -0.019312459668177573,
          -0.039521042950260564,
          0.0022657329034401707,
          -0.12240852374210791,
          -0.08066827461462016,
          -0.13081295319358968,
          -0.18354399022144982,
          -0.21968526134833036,
          -0.2176615368687505,
          -0.15600211762296906,
          -0.016028744481309306,
          0.21275963752640792,
          0.2715937156472405,
          0.030531298654018393,
          -0.3813920876000755,
          -0.14393770239712067,
          0.037846337993243176,
          0.27206302083207595,
          -0.16064198950702274,
          0.2274890347633522,
          0.10996446684907323,
          -0.0685736393642685,
          -0.26115664038749054,
          -0.26322328871913286,
          0.07614076537793886,
          -0.36829965215146465,
          0.1310725668686823,
          -0.18805488508184112,
          0.3382080345598866,
          -0.3114969832441487,
          -0.02129123963891907,
          0.32418589450815055,
          -0.08031724268376342,
          0.3724426664936039,
          -0.5474289062890229,
          0.04878380672412914,
          0.0034862126980917565,
          0.5147379280403882,
          0.22349008321289157,
          0.5132565756460334,
          0.4870051215609051,
          0.15229735555018856,
          -0.24149213492440905,
          0.6473121402540035,
          -0.380320640955513,
          -0.7124108608126922,
          -0.6050571642607075,
          0.6678079531756308,
          -1,
          0.1475278646143984,
          -0.34432541863854305,
          0.7885485310638323,
          0.5896994055204975
         ],
         "y": [
          -0.00823342146223715,
          0.01678283056824435,
          -0.03495114876564941,
          -0.14181749268162347,
          -0.1000541888941555,
          -0.23365238603958743,
          0.14631814905483753,
          -0.031344092435377086,
          -0.10763376702236382,
          0.01897070291849761,
          -0.06881453847411577,
          0.10705967729062393,
          0.13698187940442957,
          0.2002028359855717,
          -0.04842889555448029,
          0.20612412625938203,
          -0.11610431425198581,
          -0.16043144385775768,
          0.07929224820406354,
          -0.243392271229073,
          0.23066913636456834,
          0.3396612498214871,
          0.31831690697538245,
          0.26130825110599887,
          -0.24347361317096897,
          0.10756130130543066,
          -0.36427667430908167,
          -0.0037200272538921077,
          0.45779700958786157,
          -0.358028884866544,
          -0.4294613173115902,
          0.22569947205542404,
          0.3937866312657649,
          -0.15327309486914384,
          -0.3207643021902531,
          0.11133240727458694,
          0.21022116443050792,
          -0.5356421077384962,
          0.7086604690291742,
          -0.01062486330385332,
          -0.3952394790029769,
          0.5250145661649227,
          0.1999580143891565,
          -0.26746935009910944,
          0.47600125933408854,
          -0.15879961682196816,
          0.48899831872467836,
          0.1710817403003871,
          -0.13550225949897096,
          -0.3869211745104452,
          -0.2055888931131789,
          -0.6936427738264586,
          -0.6154800046715517,
          0.04513495864013443,
          0.3898310907716826
         ]
        }
       ],
       "layout": {
        "annotations": [
         {
          "showarrow": false,
          "text": "",
          "xref": "paper",
          "yref": "paper"
         }
        ],
        "height": 800,
        "hovermode": "closest",
        "margin": {
         "b": 20,
         "l": 5,
         "r": 5,
         "t": 40
        },
        "showlegend": false,
        "template": {
         "data": {
          "bar": [
           {
            "error_x": {
             "color": "#2a3f5f"
            },
            "error_y": {
             "color": "#2a3f5f"
            },
            "marker": {
             "line": {
              "color": "#E5ECF6",
              "width": 0.5
             },
             "pattern": {
              "fillmode": "overlay",
              "size": 10,
              "solidity": 0.2
             }
            },
            "type": "bar"
           }
          ],
          "barpolar": [
           {
            "marker": {
             "line": {
              "color": "#E5ECF6",
              "width": 0.5
             },
             "pattern": {
              "fillmode": "overlay",
              "size": 10,
              "solidity": 0.2
             }
            },
            "type": "barpolar"
           }
          ],
          "carpet": [
           {
            "aaxis": {
             "endlinecolor": "#2a3f5f",
             "gridcolor": "white",
             "linecolor": "white",
             "minorgridcolor": "white",
             "startlinecolor": "#2a3f5f"
            },
            "baxis": {
             "endlinecolor": "#2a3f5f",
             "gridcolor": "white",
             "linecolor": "white",
             "minorgridcolor": "white",
             "startlinecolor": "#2a3f5f"
            },
            "type": "carpet"
           }
          ],
          "choropleth": [
           {
            "colorbar": {
             "outlinewidth": 0,
             "ticks": ""
            },
            "type": "choropleth"
           }
          ],
          "contour": [
           {
            "colorbar": {
             "outlinewidth": 0,
             "ticks": ""
            },
            "colorscale": [
             [
              0,
              "#0d0887"
             ],
             [
              0.1111111111111111,
              "#46039f"
             ],
             [
              0.2222222222222222,
              "#7201a8"
             ],
             [
              0.3333333333333333,
              "#9c179e"
             ],
             [
              0.4444444444444444,
              "#bd3786"
             ],
             [
              0.5555555555555556,
              "#d8576b"
             ],
             [
              0.6666666666666666,
              "#ed7953"
             ],
             [
              0.7777777777777778,
              "#fb9f3a"
             ],
             [
              0.8888888888888888,
              "#fdca26"
             ],
             [
              1,
              "#f0f921"
             ]
            ],
            "type": "contour"
           }
          ],
          "contourcarpet": [
           {
            "colorbar": {
             "outlinewidth": 0,
             "ticks": ""
            },
            "type": "contourcarpet"
           }
          ],
          "heatmap": [
           {
            "colorbar": {
             "outlinewidth": 0,
             "ticks": ""
            },
            "colorscale": [
             [
              0,
              "#0d0887"
             ],
             [
              0.1111111111111111,
              "#46039f"
             ],
             [
              0.2222222222222222,
              "#7201a8"
             ],
             [
              0.3333333333333333,
              "#9c179e"
             ],
             [
              0.4444444444444444,
              "#bd3786"
             ],
             [
              0.5555555555555556,
              "#d8576b"
             ],
             [
              0.6666666666666666,
              "#ed7953"
             ],
             [
              0.7777777777777778,
              "#fb9f3a"
             ],
             [
              0.8888888888888888,
              "#fdca26"
             ],
             [
              1,
              "#f0f921"
             ]
            ],
            "type": "heatmap"
           }
          ],
          "heatmapgl": [
           {
            "colorbar": {
             "outlinewidth": 0,
             "ticks": ""
            },
            "colorscale": [
             [
              0,
              "#0d0887"
             ],
             [
              0.1111111111111111,
              "#46039f"
             ],
             [
              0.2222222222222222,
              "#7201a8"
             ],
             [
              0.3333333333333333,
              "#9c179e"
             ],
             [
              0.4444444444444444,
              "#bd3786"
             ],
             [
              0.5555555555555556,
              "#d8576b"
             ],
             [
              0.6666666666666666,
              "#ed7953"
             ],
             [
              0.7777777777777778,
              "#fb9f3a"
             ],
             [
              0.8888888888888888,
              "#fdca26"
             ],
             [
              1,
              "#f0f921"
             ]
            ],
            "type": "heatmapgl"
           }
          ],
          "histogram": [
           {
            "marker": {
             "pattern": {
              "fillmode": "overlay",
              "size": 10,
              "solidity": 0.2
             }
            },
            "type": "histogram"
           }
          ],
          "histogram2d": [
           {
            "colorbar": {
             "outlinewidth": 0,
             "ticks": ""
            },
            "colorscale": [
             [
              0,
              "#0d0887"
             ],
             [
              0.1111111111111111,
              "#46039f"
             ],
             [
              0.2222222222222222,
              "#7201a8"
             ],
             [
              0.3333333333333333,
              "#9c179e"
             ],
             [
              0.4444444444444444,
              "#bd3786"
             ],
             [
              0.5555555555555556,
              "#d8576b"
             ],
             [
              0.6666666666666666,
              "#ed7953"
             ],
             [
              0.7777777777777778,
              "#fb9f3a"
             ],
             [
              0.8888888888888888,
              "#fdca26"
             ],
             [
              1,
              "#f0f921"
             ]
            ],
            "type": "histogram2d"
           }
          ],
          "histogram2dcontour": [
           {
            "colorbar": {
             "outlinewidth": 0,
             "ticks": ""
            },
            "colorscale": [
             [
              0,
              "#0d0887"
             ],
             [
              0.1111111111111111,
              "#46039f"
             ],
             [
              0.2222222222222222,
              "#7201a8"
             ],
             [
              0.3333333333333333,
              "#9c179e"
             ],
             [
              0.4444444444444444,
              "#bd3786"
             ],
             [
              0.5555555555555556,
              "#d8576b"
             ],
             [
              0.6666666666666666,
              "#ed7953"
             ],
             [
              0.7777777777777778,
              "#fb9f3a"
             ],
             [
              0.8888888888888888,
              "#fdca26"
             ],
             [
              1,
              "#f0f921"
             ]
            ],
            "type": "histogram2dcontour"
           }
          ],
          "mesh3d": [
           {
            "colorbar": {
             "outlinewidth": 0,
             "ticks": ""
            },
            "type": "mesh3d"
           }
          ],
          "parcoords": [
           {
            "line": {
             "colorbar": {
              "outlinewidth": 0,
              "ticks": ""
             }
            },
            "type": "parcoords"
           }
          ],
          "pie": [
           {
            "automargin": true,
            "type": "pie"
           }
          ],
          "scatter": [
           {
            "fillpattern": {
             "fillmode": "overlay",
             "size": 10,
             "solidity": 0.2
            },
            "type": "scatter"
           }
          ],
          "scatter3d": [
           {
            "line": {
             "colorbar": {
              "outlinewidth": 0,
              "ticks": ""
             }
            },
            "marker": {
             "colorbar": {
              "outlinewidth": 0,
              "ticks": ""
             }
            },
            "type": "scatter3d"
           }
          ],
          "scattercarpet": [
           {
            "marker": {
             "colorbar": {
              "outlinewidth": 0,
              "ticks": ""
             }
            },
            "type": "scattercarpet"
           }
          ],
          "scattergeo": [
           {
            "marker": {
             "colorbar": {
              "outlinewidth": 0,
              "ticks": ""
             }
            },
            "type": "scattergeo"
           }
          ],
          "scattergl": [
           {
            "marker": {
             "colorbar": {
              "outlinewidth": 0,
              "ticks": ""
             }
            },
            "type": "scattergl"
           }
          ],
          "scattermapbox": [
           {
            "marker": {
             "colorbar": {
              "outlinewidth": 0,
              "ticks": ""
             }
            },
            "type": "scattermapbox"
           }
          ],
          "scatterpolar": [
           {
            "marker": {
             "colorbar": {
              "outlinewidth": 0,
              "ticks": ""
             }
            },
            "type": "scatterpolar"
           }
          ],
          "scatterpolargl": [
           {
            "marker": {
             "colorbar": {
              "outlinewidth": 0,
              "ticks": ""
             }
            },
            "type": "scatterpolargl"
           }
          ],
          "scatterternary": [
           {
            "marker": {
             "colorbar": {
              "outlinewidth": 0,
              "ticks": ""
             }
            },
            "type": "scatterternary"
           }
          ],
          "surface": [
           {
            "colorbar": {
             "outlinewidth": 0,
             "ticks": ""
            },
            "colorscale": [
             [
              0,
              "#0d0887"
             ],
             [
              0.1111111111111111,
              "#46039f"
             ],
             [
              0.2222222222222222,
              "#7201a8"
             ],
             [
              0.3333333333333333,
              "#9c179e"
             ],
             [
              0.4444444444444444,
              "#bd3786"
             ],
             [
              0.5555555555555556,
              "#d8576b"
             ],
             [
              0.6666666666666666,
              "#ed7953"
             ],
             [
              0.7777777777777778,
              "#fb9f3a"
             ],
             [
              0.8888888888888888,
              "#fdca26"
             ],
             [
              1,
              "#f0f921"
             ]
            ],
            "type": "surface"
           }
          ],
          "table": [
           {
            "cells": {
             "fill": {
              "color": "#EBF0F8"
             },
             "line": {
              "color": "white"
             }
            },
            "header": {
             "fill": {
              "color": "#C8D4E3"
             },
             "line": {
              "color": "white"
             }
            },
            "type": "table"
           }
          ]
         },
         "layout": {
          "annotationdefaults": {
           "arrowcolor": "#2a3f5f",
           "arrowhead": 0,
           "arrowwidth": 1
          },
          "autotypenumbers": "strict",
          "coloraxis": {
           "colorbar": {
            "outlinewidth": 0,
            "ticks": ""
           }
          },
          "colorscale": {
           "diverging": [
            [
             0,
             "#8e0152"
            ],
            [
             0.1,
             "#c51b7d"
            ],
            [
             0.2,
             "#de77ae"
            ],
            [
             0.3,
             "#f1b6da"
            ],
            [
             0.4,
             "#fde0ef"
            ],
            [
             0.5,
             "#f7f7f7"
            ],
            [
             0.6,
             "#e6f5d0"
            ],
            [
             0.7,
             "#b8e186"
            ],
            [
             0.8,
             "#7fbc41"
            ],
            [
             0.9,
             "#4d9221"
            ],
            [
             1,
             "#276419"
            ]
           ],
           "sequential": [
            [
             0,
             "#0d0887"
            ],
            [
             0.1111111111111111,
             "#46039f"
            ],
            [
             0.2222222222222222,
             "#7201a8"
            ],
            [
             0.3333333333333333,
             "#9c179e"
            ],
            [
             0.4444444444444444,
             "#bd3786"
            ],
            [
             0.5555555555555556,
             "#d8576b"
            ],
            [
             0.6666666666666666,
             "#ed7953"
            ],
            [
             0.7777777777777778,
             "#fb9f3a"
            ],
            [
             0.8888888888888888,
             "#fdca26"
            ],
            [
             1,
             "#f0f921"
            ]
           ],
           "sequentialminus": [
            [
             0,
             "#0d0887"
            ],
            [
             0.1111111111111111,
             "#46039f"
            ],
            [
             0.2222222222222222,
             "#7201a8"
            ],
            [
             0.3333333333333333,
             "#9c179e"
            ],
            [
             0.4444444444444444,
             "#bd3786"
            ],
            [
             0.5555555555555556,
             "#d8576b"
            ],
            [
             0.6666666666666666,
             "#ed7953"
            ],
            [
             0.7777777777777778,
             "#fb9f3a"
            ],
            [
             0.8888888888888888,
             "#fdca26"
            ],
            [
             1,
             "#f0f921"
            ]
           ]
          },
          "colorway": [
           "#636efa",
           "#EF553B",
           "#00cc96",
           "#ab63fa",
           "#FFA15A",
           "#19d3f3",
           "#FF6692",
           "#B6E880",
           "#FF97FF",
           "#FECB52"
          ],
          "font": {
           "color": "#2a3f5f"
          },
          "geo": {
           "bgcolor": "white",
           "lakecolor": "white",
           "landcolor": "#E5ECF6",
           "showlakes": true,
           "showland": true,
           "subunitcolor": "white"
          },
          "hoverlabel": {
           "align": "left"
          },
          "hovermode": "closest",
          "mapbox": {
           "style": "light"
          },
          "paper_bgcolor": "white",
          "plot_bgcolor": "#E5ECF6",
          "polar": {
           "angularaxis": {
            "gridcolor": "white",
            "linecolor": "white",
            "ticks": ""
           },
           "bgcolor": "#E5ECF6",
           "radialaxis": {
            "gridcolor": "white",
            "linecolor": "white",
            "ticks": ""
           }
          },
          "scene": {
           "xaxis": {
            "backgroundcolor": "#E5ECF6",
            "gridcolor": "white",
            "gridwidth": 2,
            "linecolor": "white",
            "showbackground": true,
            "ticks": "",
            "zerolinecolor": "white"
           },
           "yaxis": {
            "backgroundcolor": "#E5ECF6",
            "gridcolor": "white",
            "gridwidth": 2,
            "linecolor": "white",
            "showbackground": true,
            "ticks": "",
            "zerolinecolor": "white"
           },
           "zaxis": {
            "backgroundcolor": "#E5ECF6",
            "gridcolor": "white",
            "gridwidth": 2,
            "linecolor": "white",
            "showbackground": true,
            "ticks": "",
            "zerolinecolor": "white"
           }
          },
          "shapedefaults": {
           "line": {
            "color": "#2a3f5f"
           }
          },
          "ternary": {
           "aaxis": {
            "gridcolor": "white",
            "linecolor": "white",
            "ticks": ""
           },
           "baxis": {
            "gridcolor": "white",
            "linecolor": "white",
            "ticks": ""
           },
           "bgcolor": "#E5ECF6",
           "caxis": {
            "gridcolor": "white",
            "linecolor": "white",
            "ticks": ""
           }
          },
          "title": {
           "x": 0.05
          },
          "xaxis": {
           "automargin": true,
           "gridcolor": "white",
           "linecolor": "white",
           "ticks": "",
           "title": {
            "standoff": 15
           },
           "zerolinecolor": "white",
           "zerolinewidth": 2
          },
          "yaxis": {
           "automargin": true,
           "gridcolor": "white",
           "linecolor": "white",
           "ticks": "",
           "title": {
            "standoff": 15
           },
           "zerolinecolor": "white",
           "zerolinewidth": 2
          }
         }
        },
        "title": {
         "font": {
          "size": 16
         },
         "text": "Top 250 most frequent anime watching links"
        },
        "xaxis": {
         "showgrid": false,
         "showticklabels": false,
         "zeroline": false
        },
        "yaxis": {
         "showgrid": false,
         "showticklabels": false,
         "zeroline": false
        }
       }
      }
     },
     "metadata": {},
     "output_type": "display_data"
    }
   ],
   "source": [
    "# Create the figure\n",
    "fig = go.Figure(\n",
    "\tdata=edge_trace + [node_trace],\n",
    "\tlayout=go.Layout(\n",
    "\t\ttitle='Top 250 most frequent anime watching links',\n",
    "\t\ttitlefont_size=16,\n",
    "\t\tshowlegend=False,\n",
    "\t\thovermode='closest',\n",
    "\t\theight=800,\n",
    "\t\tmargin=dict(b=20, l=5, r=5, t=40),\n",
    "\t\tannotations=[dict(\n",
    "\t\t\ttext=\"\",\n",
    "\t\t\tshowarrow=False,\n",
    "\t\t\txref=\"paper\", yref=\"paper\"\n",
    "\t\t)],\n",
    "\t\txaxis=dict(showgrid=False, zeroline=False, showticklabels=False),\n",
    "\t\tyaxis=dict(showgrid=False, zeroline=False, showticklabels=False)\n",
    "\t)\n",
    ")\n",
    "\n",
    "# Show the figure\n",
    "fig.show()"
   ]
  },
  {
   "cell_type": "markdown",
   "metadata": {},
   "source": [
    "### 4. Computing association rules\n",
    "\n",
    "#### Binary matrix\n",
    "\n",
    "To create association rules, we need to have a binary matrix where the rows represent the watchlist of a user and the columns are the animes.\n",
    "\n",
    "In our case, we get a 20000 x 16000 matrix because we only kept the first 20000 users and there are approx. 16000 different animes in the dataset."
   ]
  },
  {
   "cell_type": "code",
   "execution_count": 12,
   "metadata": {},
   "outputs": [],
   "source": [
    "dataset = dataset.pivot(index='user_id', columns='anime_id', values='rating')"
   ]
  },
  {
   "cell_type": "markdown",
   "metadata": {},
   "source": [
    "We are now converting our matrix into a binary matrix in order to be able to retrieve the association rules: we only take into account the ratings that are above 3."
   ]
  },
  {
   "cell_type": "code",
   "execution_count": 13,
   "metadata": {},
   "outputs": [],
   "source": [
    "dataset = dataset > 3"
   ]
  },
  {
   "cell_type": "markdown",
   "metadata": {},
   "source": [
    "#### Retrieving the association rules\n",
    "Finally, we are exploiting the mlxtend library to build the recommendation system and we're retrieving the association rules.\n",
    "\n",
    "We chose to use the lift metric because we thought that in this case it was the most relevant."
   ]
  },
  {
   "cell_type": "code",
   "execution_count": 14,
   "metadata": {},
   "outputs": [],
   "source": [
    "frequent_itemsets  = apriori(dataset, use_colnames=True, min_support=0.15) #Getting under 0.1 support takes too much computation time / memory and lacks of meaning.\n",
    "\n",
    "rules = association_rules(frequent_itemsets, metric=\"lift\", min_threshold=1.1)"
   ]
  },
  {
   "cell_type": "markdown",
   "metadata": {},
   "source": [
    "Now that we have a lot of rules, we also filter the rules that are not very present in the dataset, using the confidence metric."
   ]
  },
  {
   "cell_type": "code",
   "execution_count": 15,
   "metadata": {},
   "outputs": [],
   "source": [
    "rules[\"antecedents\"] = rules[\"antecedents\"].apply(lambda x: [x for x in x])\n",
    "rules[\"consequents\"] = rules[\"consequents\"].apply(lambda x: [x for x in x])\n",
    "rules = rules[rules[\"confidence\"] > 0.2].reset_index().drop(\"index\", axis=1).sort_values(\"lift\", ascending=False)"
   ]
  },
  {
   "cell_type": "markdown",
   "metadata": {},
   "source": [
    "Here are some of the rules detected by the algorithm."
   ]
  },
  {
   "cell_type": "code",
   "execution_count": 16,
   "metadata": {},
   "outputs": [
    {
     "data": {
      "text/html": [
       "<div>\n",
       "<style scoped>\n",
       "    .dataframe tbody tr th:only-of-type {\n",
       "        vertical-align: middle;\n",
       "    }\n",
       "\n",
       "    .dataframe tbody tr th {\n",
       "        vertical-align: top;\n",
       "    }\n",
       "\n",
       "    .dataframe thead th {\n",
       "        text-align: right;\n",
       "    }\n",
       "</style>\n",
       "<table border=\"1\" class=\"dataframe\">\n",
       "  <thead>\n",
       "    <tr style=\"text-align: right;\">\n",
       "      <th></th>\n",
       "      <th>antecedents</th>\n",
       "      <th>consequents</th>\n",
       "      <th>antecedent support</th>\n",
       "      <th>consequent support</th>\n",
       "      <th>support</th>\n",
       "      <th>confidence</th>\n",
       "      <th>lift</th>\n",
       "      <th>leverage</th>\n",
       "      <th>conviction</th>\n",
       "      <th>zhangs_metric</th>\n",
       "    </tr>\n",
       "  </thead>\n",
       "  <tbody>\n",
       "    <tr>\n",
       "      <th>23302</th>\n",
       "      <td>[28891]</td>\n",
       "      <td>[20583, 32935]</td>\n",
       "      <td>0.191700</td>\n",
       "      <td>0.160302</td>\n",
       "      <td>0.157803</td>\n",
       "      <td>0.823179</td>\n",
       "      <td>5.135178</td>\n",
       "      <td>0.127073</td>\n",
       "      <td>4.748869</td>\n",
       "      <td>0.996245</td>\n",
       "    </tr>\n",
       "    <tr>\n",
       "      <th>23299</th>\n",
       "      <td>[20583, 32935]</td>\n",
       "      <td>[28891]</td>\n",
       "      <td>0.160302</td>\n",
       "      <td>0.191700</td>\n",
       "      <td>0.157803</td>\n",
       "      <td>0.984412</td>\n",
       "      <td>5.135178</td>\n",
       "      <td>0.127073</td>\n",
       "      <td>51.854221</td>\n",
       "      <td>0.958993</td>\n",
       "    </tr>\n",
       "    <tr>\n",
       "      <th>73339</th>\n",
       "      <td>[35760, 33486]</td>\n",
       "      <td>[25777, 31964, 38524]</td>\n",
       "      <td>0.178391</td>\n",
       "      <td>0.165517</td>\n",
       "      <td>0.151013</td>\n",
       "      <td>0.846529</td>\n",
       "      <td>5.114455</td>\n",
       "      <td>0.121486</td>\n",
       "      <td>5.437386</td>\n",
       "      <td>0.979147</td>\n",
       "    </tr>\n",
       "    <tr>\n",
       "      <th>73330</th>\n",
       "      <td>[25777, 31964, 38524]</td>\n",
       "      <td>[35760, 33486]</td>\n",
       "      <td>0.165517</td>\n",
       "      <td>0.178391</td>\n",
       "      <td>0.151013</td>\n",
       "      <td>0.912373</td>\n",
       "      <td>5.114455</td>\n",
       "      <td>0.121486</td>\n",
       "      <td>9.376190</td>\n",
       "      <td>0.964041</td>\n",
       "    </tr>\n",
       "    <tr>\n",
       "      <th>23301</th>\n",
       "      <td>[32935]</td>\n",
       "      <td>[28891, 20583]</td>\n",
       "      <td>0.164539</td>\n",
       "      <td>0.187843</td>\n",
       "      <td>0.157803</td>\n",
       "      <td>0.959062</td>\n",
       "      <td>5.105662</td>\n",
       "      <td>0.126896</td>\n",
       "      <td>19.838902</td>\n",
       "      <td>0.962509</td>\n",
       "    </tr>\n",
       "    <tr>\n",
       "      <th>23300</th>\n",
       "      <td>[28891, 20583]</td>\n",
       "      <td>[32935]</td>\n",
       "      <td>0.187843</td>\n",
       "      <td>0.164539</td>\n",
       "      <td>0.157803</td>\n",
       "      <td>0.840081</td>\n",
       "      <td>5.105662</td>\n",
       "      <td>0.126896</td>\n",
       "      <td>5.224275</td>\n",
       "      <td>0.990127</td>\n",
       "    </tr>\n",
       "    <tr>\n",
       "      <th>73326</th>\n",
       "      <td>[25777, 38524, 33486]</td>\n",
       "      <td>[35760, 31964]</td>\n",
       "      <td>0.157966</td>\n",
       "      <td>0.187517</td>\n",
       "      <td>0.151013</td>\n",
       "      <td>0.955983</td>\n",
       "      <td>5.098117</td>\n",
       "      <td>0.121392</td>\n",
       "      <td>18.458599</td>\n",
       "      <td>0.954652</td>\n",
       "    </tr>\n",
       "    <tr>\n",
       "      <th>73343</th>\n",
       "      <td>[35760, 31964]</td>\n",
       "      <td>[25777, 38524, 33486]</td>\n",
       "      <td>0.187517</td>\n",
       "      <td>0.157966</td>\n",
       "      <td>0.151013</td>\n",
       "      <td>0.805330</td>\n",
       "      <td>5.098117</td>\n",
       "      <td>0.121392</td>\n",
       "      <td>4.325447</td>\n",
       "      <td>0.989373</td>\n",
       "    </tr>\n",
       "    <tr>\n",
       "      <th>73338</th>\n",
       "      <td>[31964, 38524]</td>\n",
       "      <td>[35760, 25777, 33486]</td>\n",
       "      <td>0.169808</td>\n",
       "      <td>0.174860</td>\n",
       "      <td>0.151013</td>\n",
       "      <td>0.889315</td>\n",
       "      <td>5.085868</td>\n",
       "      <td>0.121320</td>\n",
       "      <td>7.454876</td>\n",
       "      <td>0.967700</td>\n",
       "    </tr>\n",
       "    <tr>\n",
       "      <th>73331</th>\n",
       "      <td>[35760, 25777, 33486]</td>\n",
       "      <td>[31964, 38524]</td>\n",
       "      <td>0.174860</td>\n",
       "      <td>0.169808</td>\n",
       "      <td>0.151013</td>\n",
       "      <td>0.863622</td>\n",
       "      <td>5.085868</td>\n",
       "      <td>0.121320</td>\n",
       "      <td>6.087442</td>\n",
       "      <td>0.973625</td>\n",
       "    </tr>\n",
       "    <tr>\n",
       "      <th>73334</th>\n",
       "      <td>[35760, 25777, 31964]</td>\n",
       "      <td>[38524, 33486]</td>\n",
       "      <td>0.183714</td>\n",
       "      <td>0.162040</td>\n",
       "      <td>0.151013</td>\n",
       "      <td>0.821999</td>\n",
       "      <td>5.072805</td>\n",
       "      <td>0.121244</td>\n",
       "      <td>4.707607</td>\n",
       "      <td>0.983566</td>\n",
       "    </tr>\n",
       "    <tr>\n",
       "      <th>73335</th>\n",
       "      <td>[38524, 33486]</td>\n",
       "      <td>[35760, 25777, 31964]</td>\n",
       "      <td>0.162040</td>\n",
       "      <td>0.183714</td>\n",
       "      <td>0.151013</td>\n",
       "      <td>0.931948</td>\n",
       "      <td>5.072805</td>\n",
       "      <td>0.121244</td>\n",
       "      <td>11.994974</td>\n",
       "      <td>0.958125</td>\n",
       "    </tr>\n",
       "    <tr>\n",
       "      <th>72894</th>\n",
       "      <td>[38524, 31964]</td>\n",
       "      <td>[35760, 16498, 33486]</td>\n",
       "      <td>0.169808</td>\n",
       "      <td>0.176110</td>\n",
       "      <td>0.151611</td>\n",
       "      <td>0.892834</td>\n",
       "      <td>5.069768</td>\n",
       "      <td>0.121706</td>\n",
       "      <td>7.688005</td>\n",
       "      <td>0.966948</td>\n",
       "    </tr>\n",
       "    <tr>\n",
       "      <th>72875</th>\n",
       "      <td>[35760, 16498, 33486]</td>\n",
       "      <td>[38524, 31964]</td>\n",
       "      <td>0.176110</td>\n",
       "      <td>0.169808</td>\n",
       "      <td>0.151611</td>\n",
       "      <td>0.860888</td>\n",
       "      <td>5.069768</td>\n",
       "      <td>0.121706</td>\n",
       "      <td>5.967809</td>\n",
       "      <td>0.974343</td>\n",
       "    </tr>\n",
       "    <tr>\n",
       "      <th>72884</th>\n",
       "      <td>[38524, 16498, 31964]</td>\n",
       "      <td>[35760, 33486]</td>\n",
       "      <td>0.167690</td>\n",
       "      <td>0.178391</td>\n",
       "      <td>0.151611</td>\n",
       "      <td>0.904114</td>\n",
       "      <td>5.068159</td>\n",
       "      <td>0.121696</td>\n",
       "      <td>8.568605</td>\n",
       "      <td>0.964412</td>\n",
       "    </tr>\n",
       "    <tr>\n",
       "      <th>72885</th>\n",
       "      <td>[35760, 33486]</td>\n",
       "      <td>[38524, 16498, 31964]</td>\n",
       "      <td>0.178391</td>\n",
       "      <td>0.167690</td>\n",
       "      <td>0.151611</td>\n",
       "      <td>0.849878</td>\n",
       "      <td>5.068159</td>\n",
       "      <td>0.121696</td>\n",
       "      <td>5.544233</td>\n",
       "      <td>0.976973</td>\n",
       "    </tr>\n",
       "    <tr>\n",
       "      <th>72879</th>\n",
       "      <td>[16498, 38524, 33486]</td>\n",
       "      <td>[35760, 31964]</td>\n",
       "      <td>0.159542</td>\n",
       "      <td>0.187517</td>\n",
       "      <td>0.151611</td>\n",
       "      <td>0.950289</td>\n",
       "      <td>5.067751</td>\n",
       "      <td>0.121694</td>\n",
       "      <td>16.344265</td>\n",
       "      <td>0.955043</td>\n",
       "    </tr>\n",
       "    <tr>\n",
       "      <th>72890</th>\n",
       "      <td>[35760, 31964]</td>\n",
       "      <td>[16498, 38524, 33486]</td>\n",
       "      <td>0.187517</td>\n",
       "      <td>0.159542</td>\n",
       "      <td>0.151611</td>\n",
       "      <td>0.808517</td>\n",
       "      <td>5.067751</td>\n",
       "      <td>0.121694</td>\n",
       "      <td>4.389202</td>\n",
       "      <td>0.987927</td>\n",
       "    </tr>\n",
       "    <tr>\n",
       "      <th>3362</th>\n",
       "      <td>[28891]</td>\n",
       "      <td>[32935]</td>\n",
       "      <td>0.191700</td>\n",
       "      <td>0.164539</td>\n",
       "      <td>0.159813</td>\n",
       "      <td>0.833664</td>\n",
       "      <td>5.066662</td>\n",
       "      <td>0.128271</td>\n",
       "      <td>5.022728</td>\n",
       "      <td>0.992987</td>\n",
       "    </tr>\n",
       "    <tr>\n",
       "      <th>3363</th>\n",
       "      <td>[32935]</td>\n",
       "      <td>[28891]</td>\n",
       "      <td>0.164539</td>\n",
       "      <td>0.191700</td>\n",
       "      <td>0.159813</td>\n",
       "      <td>0.971278</td>\n",
       "      <td>5.066662</td>\n",
       "      <td>0.128271</td>\n",
       "      <td>28.141857</td>\n",
       "      <td>0.960705</td>\n",
       "    </tr>\n",
       "  </tbody>\n",
       "</table>\n",
       "</div>"
      ],
      "text/plain": [
       "                 antecedents            consequents  antecedent support  \\\n",
       "23302                [28891]         [20583, 32935]            0.191700   \n",
       "23299         [20583, 32935]                [28891]            0.160302   \n",
       "73339         [35760, 33486]  [25777, 31964, 38524]            0.178391   \n",
       "73330  [25777, 31964, 38524]         [35760, 33486]            0.165517   \n",
       "23301                [32935]         [28891, 20583]            0.164539   \n",
       "23300         [28891, 20583]                [32935]            0.187843   \n",
       "73326  [25777, 38524, 33486]         [35760, 31964]            0.157966   \n",
       "73343         [35760, 31964]  [25777, 38524, 33486]            0.187517   \n",
       "73338         [31964, 38524]  [35760, 25777, 33486]            0.169808   \n",
       "73331  [35760, 25777, 33486]         [31964, 38524]            0.174860   \n",
       "73334  [35760, 25777, 31964]         [38524, 33486]            0.183714   \n",
       "73335         [38524, 33486]  [35760, 25777, 31964]            0.162040   \n",
       "72894         [38524, 31964]  [35760, 16498, 33486]            0.169808   \n",
       "72875  [35760, 16498, 33486]         [38524, 31964]            0.176110   \n",
       "72884  [38524, 16498, 31964]         [35760, 33486]            0.167690   \n",
       "72885         [35760, 33486]  [38524, 16498, 31964]            0.178391   \n",
       "72879  [16498, 38524, 33486]         [35760, 31964]            0.159542   \n",
       "72890         [35760, 31964]  [16498, 38524, 33486]            0.187517   \n",
       "3362                 [28891]                [32935]            0.191700   \n",
       "3363                 [32935]                [28891]            0.164539   \n",
       "\n",
       "       consequent support   support  confidence      lift  leverage  \\\n",
       "23302            0.160302  0.157803    0.823179  5.135178  0.127073   \n",
       "23299            0.191700  0.157803    0.984412  5.135178  0.127073   \n",
       "73339            0.165517  0.151013    0.846529  5.114455  0.121486   \n",
       "73330            0.178391  0.151013    0.912373  5.114455  0.121486   \n",
       "23301            0.187843  0.157803    0.959062  5.105662  0.126896   \n",
       "23300            0.164539  0.157803    0.840081  5.105662  0.126896   \n",
       "73326            0.187517  0.151013    0.955983  5.098117  0.121392   \n",
       "73343            0.157966  0.151013    0.805330  5.098117  0.121392   \n",
       "73338            0.174860  0.151013    0.889315  5.085868  0.121320   \n",
       "73331            0.169808  0.151013    0.863622  5.085868  0.121320   \n",
       "73334            0.162040  0.151013    0.821999  5.072805  0.121244   \n",
       "73335            0.183714  0.151013    0.931948  5.072805  0.121244   \n",
       "72894            0.176110  0.151611    0.892834  5.069768  0.121706   \n",
       "72875            0.169808  0.151611    0.860888  5.069768  0.121706   \n",
       "72884            0.178391  0.151611    0.904114  5.068159  0.121696   \n",
       "72885            0.167690  0.151611    0.849878  5.068159  0.121696   \n",
       "72879            0.187517  0.151611    0.950289  5.067751  0.121694   \n",
       "72890            0.159542  0.151611    0.808517  5.067751  0.121694   \n",
       "3362             0.164539  0.159813    0.833664  5.066662  0.128271   \n",
       "3363             0.191700  0.159813    0.971278  5.066662  0.128271   \n",
       "\n",
       "       conviction  zhangs_metric  \n",
       "23302    4.748869       0.996245  \n",
       "23299   51.854221       0.958993  \n",
       "73339    5.437386       0.979147  \n",
       "73330    9.376190       0.964041  \n",
       "23301   19.838902       0.962509  \n",
       "23300    5.224275       0.990127  \n",
       "73326   18.458599       0.954652  \n",
       "73343    4.325447       0.989373  \n",
       "73338    7.454876       0.967700  \n",
       "73331    6.087442       0.973625  \n",
       "73334    4.707607       0.983566  \n",
       "73335   11.994974       0.958125  \n",
       "72894    7.688005       0.966948  \n",
       "72875    5.967809       0.974343  \n",
       "72884    8.568605       0.964412  \n",
       "72885    5.544233       0.976973  \n",
       "72879   16.344265       0.955043  \n",
       "72890    4.389202       0.987927  \n",
       "3362     5.022728       0.992987  \n",
       "3363    28.141857       0.960705  "
      ]
     },
     "metadata": {},
     "output_type": "display_data"
    },
    {
     "name": "stdout",
     "output_type": "stream",
     "text": [
      "74804 rules found.\n"
     ]
    }
   ],
   "source": [
    "display(rules.head(20))\n",
    "print(f\"{len(rules)} rules found.\")"
   ]
  },
  {
   "cell_type": "markdown",
   "metadata": {},
   "source": [
    "#### Parsing the rules\n",
    "These functions are designed to parse and filter the results of the detected rules, so we can understand them and use them more easily.\n",
    "\n",
    "<hr>\n",
    "\n",
    "```find_recommendations_precise``` will compute every possible combination of the watched anime ids, and try to find them in the rules dataset.\n",
    "<hr>\n",
    "\n",
    "```find_recommendations_free``` will look for every occurence of each anime id in the rules, even if the antecedents frozen set isn't containing only the given id. \n",
    "\n",
    "It will return one dataset per seen anime, ordered from highest to lowest weight. Weight is computed by adding every confidence value obtained in the rules containing the recommendated anime in the consequents."
   ]
  },
  {
   "cell_type": "code",
   "execution_count": 8,
   "metadata": {},
   "outputs": [],
   "source": [
    "def generate_combinations(ids): #This is used to compute every existing permutation of the elements of an array.\n",
    "\tresult = []\n",
    "\tfor r in range(1, len(ids) + 1):\n",
    "\t\tpermutations = itertools.permutations(ids, r)\n",
    "\t\tfor p in permutations:\n",
    "\t\t\tresult.append(list(p))\n",
    "\n",
    "\tprint(f\"Found {len(result)} possible combinations.\")\n",
    "\treturn result\n",
    "\n",
    "def get_linked_ids(ids): #This is used to find animes that are almost the same (For example, it is possible that in the dataset id 20000 represents Naruto and 21000 represents Naruto shipudden, this will be useful later.)\n",
    "\tlinked = []\n",
    "\tfor id in ids:\n",
    "\t\tanime_name = animes_df[animes_df[\"MAL_ID\"] == id][\"Name\"].values[0]\n",
    "\t\tfor value in animes_df[animes_df[\"Name\"].apply(lambda x: anime_name.lower() in x.lower())][\"MAL_ID\"].values:\n",
    "\t\t\tlinked.append(value)\n",
    "\n",
    "\treturn list(set(linked))\n",
    "\n",
    "def find_recommendations_precise(anime_ids):\n",
    "\trecommendations = []\n",
    "\t\n",
    "\tfor combination in tqdm(generate_combinations(anime_ids), desc=\"Trying every possible combination...\"):\n",
    "\t\tfilter_df = rules[\"antecedents\"].apply(lambda x: x == combination) & rules[\"consequents\"].apply(lambda x: np.all([id not in x for id in anime_ids]))\n",
    "\t\tif filter_df.apply(lambda x: x != False).sum() < 1:\n",
    "\t\t\tcontinue\n",
    "\t\trecommendation = (combination, rules[filter_df][\"consequents\"].values, rules[filter_df][\"confidence\"].values, rules[filter_df][\"lift\"].values)\n",
    "\t\trecommendations.append(recommendation)\n",
    "\n",
    "\treturn recommendations\n",
    "\n",
    "def find_recommendations_free(anime_ids):\n",
    "\trecommendations = []\n",
    "\n",
    "\tfor id in anime_ids:\n",
    "\t\tfilter_df = rules[\"antecedents\"].apply(lambda x: id in x) & rules[\"consequents\"].apply(lambda x: np.all([id not in x for id in anime_ids]))\n",
    "\t\tif filter_df.apply(lambda x: x != False).sum() < 1:\n",
    "\t\t\tcontinue\n",
    "\n",
    "\t\trecommendation = pd.DataFrame({\"source\": id, \"antecedents\": rules[filter_df][\"antecedents\"].values, \"consequents\": rules[filter_df][\"consequents\"].values, \"confidence\": rules[filter_df][\"confidence\"].values, \"lift\": rules[filter_df][\"lift\"].values})\n",
    "\t\trecommendations.append(recommendation)\n",
    "\n",
    "\trecommendations = pd.concat(recommendations)\n",
    "\trecommendations_dict = {anime: {}  for anime in anime_ids}\n",
    "\trecommendations_df = []\n",
    "\tfor anime in recommendations_dict:\n",
    "\t\trows = recommendations[recommendations[\"source\"] == anime]\n",
    "\t\tfor _, row in rows.iterrows():\n",
    "\t\t\tfor x in row[\"consequents\"]:\n",
    "\t\t\t\tif x in recommendations_dict[anime]:\n",
    "\t\t\t\t\trecommendations_dict[anime][x][0] += row[\"lift\"] * row[\"confidence\"]\n",
    "\t\t\t\t\trecommendations_dict[anime][x][1] += 1\n",
    "\t\t\t\telse:\n",
    "\t\t\t\t\trecommendations_dict[anime][x] = [row[\"lift\"]* row[\"confidence\"], 1]\n",
    "\t\t\n",
    "\t\tfor anime_recommended in recommendations_dict[anime]:\n",
    "\t\t\trecommendations_df.append([animes_df[animes_df[\"MAL_ID\"] == anime][\"English name\"].values[0], animes_df[animes_df[\"MAL_ID\"] == anime_recommended][\"English name\"].values[0], recommendations_dict[anime][anime_recommended][0] / recommendations_dict[anime][anime_recommended][1]])\n",
    "\n",
    "\trecommendations_df = pd.DataFrame(recommendations_df, columns=['source', 'recommended_id', 'average weight']).sort_values(by=\"average weight\", ascending=False).groupby(\"source\")\n",
    "\n",
    "\treturn recommendations_df"
   ]
  },
  {
   "cell_type": "markdown",
   "metadata": {},
   "source": [
    "Here we use the previously defined function and parse the results to print them and link them with the anime infos dataset."
   ]
  },
  {
   "cell_type": "code",
   "execution_count": 13,
   "metadata": {},
   "outputs": [],
   "source": [
    "seen_animes = [23273] #More than 7 at a time takes forever."
   ]
  },
  {
   "cell_type": "code",
   "execution_count": 19,
   "metadata": {},
   "outputs": [
    {
     "name": "stdout",
     "output_type": "stream",
     "text": [
      "Found 1 possible combinations.\n"
     ]
    },
    {
     "data": {
      "application/vnd.jupyter.widget-view+json": {
       "model_id": "1208e40bb6524a58a3194e1fdc7590e6",
       "version_major": 2,
       "version_minor": 0
      },
      "text/plain": [
       "Trying every possible combination...:   0%|          | 0/1 [00:00<?, ?it/s]"
      ]
     },
     "metadata": {},
     "output_type": "display_data"
    },
    {
     "name": "stdout",
     "output_type": "stream",
     "text": [
      "Because you have seen Your Lie in April (23273), we think you would like Your Name. (32281) and anohana:The Flower We Saw That Day (9989) with 50.480% confidence. You are also 142.002% more likely to watch this/these anime(s).\n",
      "Because you have seen Your Lie in April (23273), we think you would like One Punch Man (30276) and anohana:The Flower We Saw That Day (9989) with 49.644% confidence. You are also 133.317% more likely to watch this/these anime(s).\n",
      "Because you have seen Your Lie in April (23273), we think you would like anohana:The Flower We Saw That Day (9989) and No Game, No Life (19815) with 49.253% confidence. You are also 132.428% more likely to watch this/these anime(s).\n",
      "Because you have seen Your Lie in April (23273), we think you would like Toradora! (4224) and Your Name. (32281) with 52.543% confidence. You are also 128.774% more likely to watch this/these anime(s).\n",
      "Because you have seen Your Lie in April (23273), we think you would like ERASED (31043) and Angel Beats! (6547) with 50.711% confidence. You are also 128.027% more likely to watch this/these anime(s).\n",
      "Because you have seen Your Lie in April (23273), we think you would like Your Name. (32281) and Attack on Titan (16498) and A Silent Voice (28851) with 50.071% confidence. You are also 126.254% more likely to watch this/these anime(s).\n",
      "Because you have seen Your Lie in April (23273), we think you would like Your Name. (32281) and ERASED (31043) with 53.930% confidence. You are also 124.918% more likely to watch this/these anime(s).\n",
      "Because you have seen Your Lie in April (23273), we think you would like Your Name. (32281) and Angel Beats! (6547) with 52.969% confidence. You are also 124.164% more likely to watch this/these anime(s).\n",
      "Because you have seen Your Lie in April (23273), we think you would like ERASED (31043) and No Game, No Life (19815) with 51.796% confidence. You are also 123.462% more likely to watch this/these anime(s).\n",
      "Because you have seen Your Lie in April (23273), we think you would like Re:ZERO -Starting Life in Another World- (31240) and Angel Beats! (6547) with 49.289% confidence. You are also 121.848% more likely to watch this/these anime(s).\n",
      "Because you have seen Your Lie in April (23273), we think you would like Your Name. (32281) and Noragami:Stray God (20507) with 50.605% confidence. You are also 121.541% more likely to watch this/these anime(s).\n",
      "Because you have seen Your Lie in April (23273), we think you would like Re:ZERO -Starting Life in Another World- (31240) and Your Name. (32281) with 52.383% confidence. You are also 121.020% more likely to watch this/these anime(s).\n",
      "Because you have seen Your Lie in April (23273), we think you would like ERASED (31043) and Steins;Gate (9253) with 49.147% confidence. You are also 120.614% more likely to watch this/these anime(s).\n",
      "Because you have seen Your Lie in April (23273), we think you would like A Silent Voice (28851) and One Punch Man (30276) with 51.654% confidence. You are also 119.859% more likely to watch this/these anime(s).\n",
      "Because you have seen Your Lie in April (23273), we think you would like ERASED (31043) and Sword Art Online (11757) with 52.774% confidence. You are also 119.650% more likely to watch this/these anime(s).\n",
      "Because you have seen Your Lie in April (23273), we think you would like Your Name. (32281) and Attack on Titan (16498) and Sword Art Online (11757) with 50.089% confidence. You are also 119.283% more likely to watch this/these anime(s).\n",
      "Because you have seen Your Lie in April (23273), we think you would like Your Name. (32281) and Steins;Gate (9253) with 50.480% confidence. You are also 118.092% more likely to watch this/these anime(s).\n",
      "Because you have seen Your Lie in April (23273), we think you would like Your Name. (32281) and Attack on Titan (16498) and Tokyo Ghoul (22319) with 49.218% confidence. You are also 117.486% more likely to watch this/these anime(s).\n",
      "Because you have seen Your Lie in April (23273), we think you would like Attack on Titan (16498) and A Silent Voice (28851) with 54.232% confidence. You are also 117.364% more likely to watch this/these anime(s).\n",
      "Because you have seen Your Lie in April (23273), we think you would like Toradora! (4224) and Noragami:Stray God (20507) with 49.164% confidence. You are also 117.355% more likely to watch this/these anime(s).\n",
      "Because you have seen Your Lie in April (23273), we think you would like Your Name. (32281) and A Silent Voice (28851) with 57.752% confidence. You are also 117.105% more likely to watch this/these anime(s).\n",
      "Because you have seen Your Lie in April (23273), we think you would like A Silent Voice (28851) and Death Note (1535) with 49.218% confidence. You are also 116.913% more likely to watch this/these anime(s).\n",
      "Because you have seen Your Lie in April (23273), we think you would like Attack on Titan (16498) and ERASED (31043) and One Punch Man (30276) with 49.698% confidence. You are also 116.643% more likely to watch this/these anime(s).\n",
      "Because you have seen Your Lie in April (23273), we think you would like Your Name. (32281) and Attack on Titan (16498) and My Hero Academia (31964) with 49.716% confidence. You are also 116.414% more likely to watch this/these anime(s).\n",
      "Because you have seen Your Lie in April (23273), we think you would like Your Name. (32281) and No Game, No Life (19815) with 54.819% confidence. You are also 116.279% more likely to watch this/these anime(s).\n",
      "Because you have seen Your Lie in April (23273), we think you would like ERASED (31043) and My Hero Academia (31964) with 50.800% confidence. You are also 116.127% more likely to watch this/these anime(s).\n",
      "Because you have seen Your Lie in April (23273), we think you would like ERASED (31043) and Tokyo Ghoul (22319) with 50.676% confidence. You are also 115.697% more likely to watch this/these anime(s).\n",
      "Because you have seen Your Lie in April (23273), we think you would like Attack on Titan (16498) and Food Wars! Shokugeki no Soma (28171) with 49.627% confidence. You are also 115.517% more likely to watch this/these anime(s).\n",
      "Because you have seen Your Lie in April (23273), we think you would like Toradora! (4224) and Tokyo Ghoul (22319) with 50.533% confidence. You are also 115.241% more likely to watch this/these anime(s).\n",
      "Because you have seen Your Lie in April (23273), we think you would like Sword Art Online (11757) and anohana:The Flower We Saw That Day (9989) with 50.338% confidence. You are also 114.656% more likely to watch this/these anime(s).\n",
      "Because you have seen Your Lie in April (23273), we think you would like Angel Beats! (6547) and My Hero Academia (31964) with 49.289% confidence. You are also 114.607% more likely to watch this/these anime(s).\n",
      "Because you have seen Your Lie in April (23273), we think you would like Attack on Titan (16498) and anohana:The Flower We Saw That Day (9989) with 55.103% confidence. You are also 114.414% more likely to watch this/these anime(s).\n",
      "Because you have seen Your Lie in April (23273), we think you would like Your Name. (32281) and Tokyo Ghoul (22319) with 53.343% confidence. You are also 113.568% more likely to watch this/these anime(s).\n",
      "Because you have seen Your Lie in April (23273), we think you would like Your Name. (32281) and Sword Art Online (11757) with 56.223% confidence. You are also 113.273% more likely to watch this/these anime(s).\n",
      "Because you have seen Your Lie in April (23273), we think you would like Attack on Titan Season 2 (25777) and Your Name. (32281) with 49.751% confidence. You are also 112.844% more likely to watch this/these anime(s).\n",
      "Because you have seen Your Lie in April (23273), we think you would like Your Name. (32281) and Attack on Titan (16498) and One Punch Man (30276) with 52.329% confidence. You are also 112.421% more likely to watch this/these anime(s).\n",
      "Because you have seen Your Lie in April (23273), we think you would like Attack on Titan (16498) and Angel Beats! (6547) and One Punch Man (30276) with 49.467% confidence. You are also 112.367% more likely to watch this/these anime(s).\n",
      "Because you have seen Your Lie in April (23273), we think you would like Noragami:Stray God (20507) and Angel Beats! (6547) with 50.445% confidence. You are also 112.065% more likely to watch this/these anime(s).\n",
      "Because you have seen Your Lie in April (23273), we think you would like ERASED (31043) and One Punch Man (30276) with 54.641% confidence. You are also 111.988% more likely to watch this/these anime(s).\n",
      "Because you have seen Your Lie in April (23273), we think you would like Toradora! (4224) and One Punch Man (30276) with 53.823% confidence. You are also 111.624% more likely to watch this/these anime(s).\n",
      "Because you have seen Your Lie in April (23273), we think you would like Toradora! (4224) and No Game, No Life (19815) with 54.161% confidence. You are also 110.970% more likely to watch this/these anime(s).\n",
      "Because you have seen Your Lie in April (23273), we think you would like Attack on Titan (16498) and Angel Beats! (6547) and No Game, No Life (19815) with 50.178% confidence. You are also 110.751% more likely to watch this/these anime(s).\n",
      "Because you have seen Your Lie in April (23273), we think you would like Your Name. (32281) and My Hero Academia (31964) with 54.623% confidence. You are also 110.499% more likely to watch this/these anime(s).\n",
      "Because you have seen Your Lie in April (23273), we think you would like Your Name. (32281) and Attack on Titan (16498) and Death Note (1535) with 50.907% confidence. You are also 110.452% more likely to watch this/these anime(s).\n",
      "Because you have seen Your Lie in April (23273), we think you would like Attack on Titan (16498) and ERASED (31043) with 58.375% confidence. You are also 110.174% more likely to watch this/these anime(s).\n",
      "Because you have seen Your Lie in April (23273), we think you would like Your Name. (32281) and Fullmetal Alchemist:Brotherhood (5114) with 49.235% confidence. You are also 110.052% more likely to watch this/these anime(s).\n",
      "Because you have seen Your Lie in April (23273), we think you would like Charlotte (28999) with 53.716% confidence. You are also 109.460% more likely to watch this/these anime(s).\n",
      "Because you have seen Your Lie in April (23273), we think you would like Toradora! (4224) and anohana:The Flower We Saw That Day (9989) with 49.573% confidence. You are also 109.263% more likely to watch this/these anime(s).\n",
      "Because you have seen Your Lie in April (23273), we think you would like ERASED (31043) and Death Note (1535) with 53.165% confidence. You are also 108.815% more likely to watch this/these anime(s).\n",
      "Because you have seen Your Lie in April (23273), we think you would like Angel Beats! (6547) and anohana:The Flower We Saw That Day (9989) with 51.387% confidence. You are also 107.954% more likely to watch this/these anime(s).\n",
      "Because you have seen Your Lie in April (23273), we think you would like Toradora! (4224) and Attack on Titan (16498) and Sword Art Online (11757) with 49.840% confidence. You are also 107.674% more likely to watch this/these anime(s).\n",
      "Because you have seen Your Lie in April (23273), we think you would like Noragami:Stray God (20507) and Noragami Aragoto (30503) with 49.680% confidence. You are also 107.524% more likely to watch this/these anime(s).\n",
      "Because you have seen Your Lie in April (23273), we think you would like Re:ZERO -Starting Life in Another World- (31240) and No Game, No Life (19815) with 52.987% confidence. You are also 107.452% more likely to watch this/these anime(s).\n",
      "Because you have seen Your Lie in April (23273), we think you would like Noragami:Stray God (20507) and My Hero Academia (31964) with 49.271% confidence. You are also 107.368% more likely to watch this/these anime(s).\n",
      "Because you have seen Your Lie in April (23273), we think you would like Your Name. (32281) and One Punch Man (30276) with 58.339% confidence. You are also 106.572% more likely to watch this/these anime(s).\n",
      "Because you have seen Your Lie in April (23273), we think you would like Noragami Aragoto (30503) with 50.551% confidence. You are also 106.295% more likely to watch this/these anime(s).\n",
      "Because you have seen Your Lie in April (23273), we think you would like Re:ZERO -Starting Life in Another World- (31240) and Sword Art Online (11757) with 52.827% confidence. You are also 106.081% more likely to watch this/these anime(s).\n",
      "Because you have seen Your Lie in April (23273), we think you would like Food Wars! Shokugeki no Soma (28171) with 55.708% confidence. You are also 105.970% more likely to watch this/these anime(s).\n",
      "Because you have seen Your Lie in April (23273), we think you would like One Punch Man (30276) and Sword Art Online (11757) and No Game, No Life (19815) with 49.716% confidence. You are also 105.805% more likely to watch this/these anime(s).\n",
      "Because you have seen Your Lie in April (23273), we think you would like Sword Art Online II (21881) and No Game, No Life (19815) with 49.129% confidence. You are also 105.641% more likely to watch this/these anime(s).\n",
      "Because you have seen Your Lie in April (23273), we think you would like Attack on Titan (16498) and Noragami:Stray God (20507) and Tokyo Ghoul (22319) with 49.324% confidence. You are also 105.572% more likely to watch this/these anime(s).\n",
      "Because you have seen Your Lie in April (23273), we think you would like A Silent Voice (28851) with 63.353% confidence. You are also 105.511% more likely to watch this/these anime(s).\n",
      "Because you have seen Your Lie in April (23273), we think you would like Angel Beats! (6547) and One Punch Man (30276) with 54.765% confidence. You are also 105.331% more likely to watch this/these anime(s).\n",
      "Because you have seen Your Lie in April (23273), we think you would like Re:ZERO -Starting Life in Another World- (31240) and My Hero Academia (31964) with 50.658% confidence. You are also 105.274% more likely to watch this/these anime(s).\n",
      "Because you have seen Your Lie in April (23273), we think you would like Noragami:Stray God (20507) and No Game, No Life (19815) with 53.005% confidence. You are also 105.123% more likely to watch this/these anime(s).\n",
      "Because you have seen Your Lie in April (23273), we think you would like Attack on Titan (16498) and Noragami:Stray God (20507) and Sword Art Online (11757) with 49.360% confidence. You are also 105.117% more likely to watch this/these anime(s).\n",
      "Because you have seen Your Lie in April (23273), we think you would like Re:ZERO -Starting Life in Another World- (31240) and Death Note (1535) with 50.000% confidence. You are also 104.635% more likely to watch this/these anime(s).\n",
      "Because you have seen Your Lie in April (23273), we think you would like Angel Beats! (6547) and Tokyo Ghoul (22319) with 51.867% confidence. You are also 104.633% more likely to watch this/these anime(s).\n",
      "Because you have seen Your Lie in April (23273), we think you would like Your Name. (32281) and Attack on Titan (16498) with 62.233% confidence. You are also 104.544% more likely to watch this/these anime(s).\n",
      "Because you have seen Your Lie in April (23273), we think you would like Steins;Gate (9253) and No Game, No Life (19815) with 52.134% confidence. You are also 104.502% more likely to watch this/these anime(s).\n",
      "Because you have seen Your Lie in April (23273), we think you would like Re:ZERO -Starting Life in Another World- (31240) and Attack on Titan (16498) with 56.117% confidence. You are also 103.758% more likely to watch this/these anime(s).\n",
      "Because you have seen Your Lie in April (23273), we think you would like Attack on Titan (16498) and No Game, No Life (19815) and Tokyo Ghoul (22319) with 51.298% confidence. You are also 103.479% more likely to watch this/these anime(s).\n",
      "Because you have seen Your Lie in April (23273), we think you would like KonoSuba:God's Blessing on This Wonderful World! (30831) and No Game, No Life (19815) with 49.307% confidence. You are also 103.425% more likely to watch this/these anime(s).\n",
      "Because you have seen Your Lie in April (23273), we think you would like My Hero Academia (31964) and No Game, No Life (19815) with 53.201% confidence. You are also 103.273% more likely to watch this/these anime(s).\n",
      "Because you have seen Your Lie in April (23273), we think you would like Your Name. (32281) and Death Note (1535) with 56.632% confidence. You are also 103.185% more likely to watch this/these anime(s).\n",
      "Because you have seen Your Lie in April (23273), we think you would like Re:ZERO -Starting Life in Another World- (31240) and One Punch Man (30276) with 53.663% confidence. You are also 103.184% more likely to watch this/these anime(s).\n",
      "Because you have seen Your Lie in April (23273), we think you would like Attack on Titan (16498) and Death Parade (28223) with 49.538% confidence. You are also 103.059% more likely to watch this/these anime(s).\n",
      "Because you have seen Your Lie in April (23273), we think you would like Attack on Titan (16498) and My Hero Academia (31964) and Sword Art Online (11757) with 49.502% confidence. You are also 102.959% more likely to watch this/these anime(s).\n",
      "Because you have seen Your Lie in April (23273), we think you would like Angel Beats! (6547) and No Game, No Life (19815) with 56.437% confidence. You are also 102.919% more likely to watch this/these anime(s).\n",
      "Because you have seen Your Lie in April (23273), we think you would like Noragami:Stray God (20507) and One Punch Man (30276) with 53.307% confidence. You are also 102.587% more likely to watch this/these anime(s).\n",
      "Because you have seen Your Lie in April (23273), we think you would like anohana:The Flower We Saw That Day (9989) and Death Note (1535) with 49.964% confidence. You are also 102.153% more likely to watch this/these anime(s).\n",
      "Because you have seen Your Lie in April (23273), we think you would like Attack on Titan (16498) and One Punch Man (30276) and No Game, No Life (19815) with 52.454% confidence. You are also 101.971% more likely to watch this/these anime(s).\n",
      "Because you have seen Your Lie in April (23273), we think you would like The Pet Girl of Sakurasou (13759) with 50.409% confidence. You are also 101.910% more likely to watch this/these anime(s).\n",
      "Because you have seen Your Lie in April (23273), we think you would like Noragami:Stray God (20507) and Tokyo Ghoul (22319) with 53.005% confidence. You are also 101.355% more likely to watch this/these anime(s).\n",
      "Because you have seen Your Lie in April (23273), we think you would like ERASED (31043) with 66.501% confidence. You are also 101.185% more likely to watch this/these anime(s).\n",
      "Because you have seen Your Lie in April (23273), we think you would like Attack on Titan (16498) and KonoSuba:God's Blessing on This Wonderful World! (30831) with 50.213% confidence. You are also 100.777% more likely to watch this/these anime(s).\n",
      "Because you have seen Your Lie in April (23273), we think you would like Noragami:Stray God (20507) and Sword Art Online (11757) with 54.090% confidence. You are also 99.987% more likely to watch this/these anime(s).\n",
      "Because you have seen Your Lie in April (23273), we think you would like One Punch Man (30276) and Steins;Gate (9253) with 52.560% confidence. You are also 99.584% more likely to watch this/these anime(s).\n",
      "Because you have seen Your Lie in April (23273), we think you would like Toradora! (4224) and Steins;Gate (9253) with 49.342% confidence. You are also 99.328% more likely to watch this/these anime(s).\n",
      "Because you have seen Your Lie in April (23273), we think you would like My Teen Romantic Comedy SNAFU (14813) with 56.241% confidence. You are also 99.028% more likely to watch this/these anime(s).\n",
      "Because you have seen Your Lie in April (23273), we think you would like Attack on Titan (16498) and Sword Art Online (11757) and No Game, No Life (19815) with 54.303% confidence. You are also 98.978% more likely to watch this/these anime(s).\n",
      "Because you have seen Your Lie in April (23273), we think you would like Sword Art Online II (21881) and Attack on Titan (16498) and Sword Art Online (11757) with 50.551% confidence. You are also 98.761% more likely to watch this/these anime(s).\n",
      "Because you have seen Your Lie in April (23273), we think you would like No Game, No Life (19815) and Tokyo Ghoul (22319) with 55.512% confidence. You are also 98.586% more likely to watch this/these anime(s).\n",
      "Because you have seen Your Lie in April (23273), we think you would like Sword Art Online II (21881) and Attack on Titan (16498) with 51.565% confidence. You are also 98.464% more likely to watch this/these anime(s).\n",
      "Because you have seen Your Lie in April (23273), we think you would like Fullmetal Alchemist:Brotherhood (5114) and No Game, No Life (19815) with 49.573% confidence. You are also 98.175% more likely to watch this/these anime(s).\n",
      "Because you have seen Your Lie in April (23273), we think you would like Attack on Titan (16498) and Death Note (1535) and No Game, No Life (19815) with 51.671% confidence. You are also 97.676% more likely to watch this/these anime(s).\n",
      "Because you have seen Your Lie in April (23273), we think you would like My Hero Academia (31964) and Sword Art Online (11757) with 53.734% confidence. You are also 97.561% more likely to watch this/these anime(s).\n",
      "Because you have seen Your Lie in April (23273), we think you would like One Punch Man (30276) and KonoSuba:God's Blessing on This Wonderful World! (30831) with 49.147% confidence. You are also 97.455% more likely to watch this/these anime(s).\n",
      "Because you have seen Your Lie in April (23273), we think you would like Attack on Titan (16498) and Parasyte -the maxim- (22535) with 50.765% confidence. You are also 96.949% more likely to watch this/these anime(s).\n",
      "Because you have seen Your Lie in April (23273), we think you would like My Hero Academia (31964) and Tokyo Ghoul (22319) with 52.134% confidence. You are also 96.827% more likely to watch this/these anime(s).\n",
      "Because you have seen Your Lie in April (23273), we think you would like Attack on Titan (16498) and One Punch Man (30276) and Sword Art Online (11757) with 53.627% confidence. You are also 96.737% more likely to watch this/these anime(s).\n",
      "Because you have seen Your Lie in April (23273), we think you would like The Future Diary (10620) and No Game, No Life (19815) with 49.111% confidence. You are also 96.497% more likely to watch this/these anime(s).\n",
      "Because you have seen Your Lie in April (23273), we think you would like Attack on Titan (16498) and My Hero Academia (31964) and Death Note (1535) with 49.787% confidence. You are also 96.299% more likely to watch this/these anime(s).\n",
      "Because you have seen Your Lie in April (23273), we think you would like Noragami:Stray God (20507) and Death Note (1535) with 52.098% confidence. You are also 96.010% more likely to watch this/these anime(s).\n",
      "Because you have seen Your Lie in April (23273), we think you would like Attack on Titan (16498) and One Punch Man (30276) and Tokyo Ghoul (22319) with 52.756% confidence. You are also 95.962% more likely to watch this/these anime(s).\n",
      "Because you have seen Your Lie in April (23273), we think you would like Attack on Titan (16498) and Angel Beats! (6547) and Sword Art Online (11757) with 51.334% confidence. You are also 95.774% more likely to watch this/these anime(s).\n",
      "Because you have seen Your Lie in April (23273), we think you would like Assassination Classroom (24833) with 49.253% confidence. You are also 95.705% more likely to watch this/these anime(s).\n",
      "Because you have seen Your Lie in April (23273), we think you would like Toradora! (4224) and Attack on Titan (16498) with 59.317% confidence. You are also 95.694% more likely to watch this/these anime(s).\n",
      "Because you have seen Your Lie in April (23273), we think you would like One Punch Man (30276) and No Game, No Life (19815) with 58.037% confidence. You are also 95.071% more likely to watch this/these anime(s).\n",
      "Because you have seen Your Lie in April (23273), we think you would like Is It Wrong to Try to Pick Up Girls in a Dungeon? (28121) with 51.262% confidence. You are also 94.615% more likely to watch this/these anime(s).\n",
      "Because you have seen Your Lie in April (23273), we think you would like Attack on Titan (16498) and Akame ga Kill! (22199) with 49.520% confidence. You are also 94.249% more likely to watch this/these anime(s).\n",
      "Because you have seen Your Lie in April (23273), we think you would like Attack on Titan (16498) and My Hero Academia (31964) and My Hero Academia 2 (33486) with 51.174% confidence. You are also 94.158% more likely to watch this/these anime(s).\n",
      "Because you have seen Your Lie in April (23273), we think you would like Attack on Titan (16498) and Noragami:Stray God (20507) with 58.428% confidence. You are also 94.117% more likely to watch this/these anime(s).\n",
      "Because you have seen Your Lie in April (23273), we think you would like Attack on Titan (16498) and My Hero Academia (31964) and One Punch Man (30276) with 53.272% confidence. You are also 93.466% more likely to watch this/these anime(s).\n",
      "Because you have seen Your Lie in April (23273), we think you would like Attack on Titan (16498) and Sword Art Online (11757) and Tokyo Ghoul (22319) with 52.881% confidence. You are also 93.457% more likely to watch this/these anime(s).\n",
      "Because you have seen Your Lie in April (23273), we think you would like Toradora! (4224) and Sword Art Online (11757) with 56.046% confidence. You are also 93.246% more likely to watch this/these anime(s).\n",
      "Because you have seen Your Lie in April (23273), we think you would like Attack on Titan (16498) and Angel Beats! (6547) and Death Note (1535) with 50.089% confidence. You are also 93.188% more likely to watch this/these anime(s).\n",
      "Because you have seen Your Lie in April (23273), we think you would like Death Parade (28223) with 54.979% confidence. You are also 93.039% more likely to watch this/these anime(s).\n",
      "Because you have seen Your Lie in April (23273), we think you would like Attack on Titan (16498) and My Hero Academia 2 (33486) with 52.240% confidence. You are also 92.724% more likely to watch this/these anime(s).\n",
      "Because you have seen Your Lie in April (23273), we think you would like Re:ZERO -Starting Life in Another World- (31240) with 63.549% confidence. You are also 92.509% more likely to watch this/these anime(s).\n",
      "Because you have seen Your Lie in April (23273), we think you would like Attack on Titan Season 2 (25777) and One Punch Man (30276) with 49.324% confidence. You are also 92.335% more likely to watch this/these anime(s).\n",
      "Because you have seen Your Lie in April (23273), we think you would like anohana:The Flower We Saw That Day (9989) with 63.834% confidence. You are also 91.949% more likely to watch this/these anime(s).\n",
      "Because you have seen Your Lie in April (23273), we think you would like My Hero Academia (31964) and My Hero Academia 2 (33486) and One Punch Man (30276) with 49.538% confidence. You are also 91.826% more likely to watch this/these anime(s).\n",
      "Because you have seen Your Lie in April (23273), we think you would like Death Note (1535) and No Game, No Life (19815) with 56.775% confidence. You are also 91.422% more likely to watch this/these anime(s).\n",
      "Because you have seen Your Lie in April (23273), we think you would like One Punch Man (30276) and Tokyo Ghoul (22319) with 56.952% confidence. You are also 91.390% more likely to watch this/these anime(s).\n",
      "Because you have seen Your Lie in April (23273), we think you would like Your Name. (32281) with 72.902% confidence. You are also 91.257% more likely to watch this/these anime(s).\n",
      "Because you have seen Your Lie in April (23273), we think you would like Angel Beats! (6547) and Steins;Gate (9253) with 51.547% confidence. You are also 90.624% more likely to watch this/these anime(s).\n",
      "Because you have seen Your Lie in April (23273), we think you would like Sword Art Online (11757) and No Game, No Life (19815) with 60.562% confidence. You are also 90.611% more likely to watch this/these anime(s).\n",
      "Because you have seen Your Lie in April (23273), we think you would like One Punch Man (30276) and My Hero Academia 2 (33486) with 50.622% confidence. You are also 90.574% more likely to watch this/these anime(s).\n",
      "Because you have seen Your Lie in April (23273), we think you would like Attack on Titan (16498) and No Game, No Life (19815) with 62.767% confidence. You are also 90.389% more likely to watch this/these anime(s).\n",
      "Because you have seen Your Lie in April (23273), we think you would like One Punch Man (30276) and Sword Art Online (11757) with 58.908% confidence. You are also 90.186% more likely to watch this/these anime(s).\n",
      "Because you have seen Your Lie in April (23273), we think you would like My Hero Academia (31964) and Death Note (1535) with 53.663% confidence. You are also 90.160% more likely to watch this/these anime(s).\n",
      "Because you have seen Your Lie in April (23273), we think you would like Sword Art Online (11757) and Steins;Gate (9253) with 52.347% confidence. You are also 89.846% more likely to watch this/these anime(s).\n",
      "Because you have seen Your Lie in April (23273), we think you would like Sword Art Online II (21881) and Sword Art Online (11757) with 56.846% confidence. You are also 89.819% more likely to watch this/these anime(s).\n",
      "Because you have seen Your Lie in April (23273), we think you would like Sword Art Online (11757) and Tokyo Ghoul (22319) with 57.432% confidence. You are also 89.510% more likely to watch this/these anime(s).\n",
      "Because you have seen Your Lie in April (23273), we think you would like Parasyte -the maxim- (22535) with 55.477% confidence. You are also 89.299% more likely to watch this/these anime(s).\n",
      "Because you have seen Your Lie in April (23273), we think you would like Sword Art Online II (21881) with 58.197% confidence. You are also 89.217% more likely to watch this/these anime(s).\n",
      "Because you have seen Your Lie in April (23273), we think you would like The Seven Deadly Sins (23755) with 53.361% confidence. You are also 88.943% more likely to watch this/these anime(s).\n",
      "Because you have seen Your Lie in April (23273), we think you would like Attack on Titan (16498) and My Hero Academia (31964) with 60.117% confidence. You are also 88.503% more likely to watch this/these anime(s).\n",
      "Because you have seen Your Lie in April (23273), we think you would like Attack on Titan (16498) and Death Note (1535) and Tokyo Ghoul (22319) with 52.952% confidence. You are also 87.712% more likely to watch this/these anime(s).\n",
      "Because you have seen Your Lie in April (23273), we think you would like Attack on Titan (16498) and One Punch Man (30276) and Death Note (1535) with 54.232% confidence. You are also 87.520% more likely to watch this/these anime(s).\n",
      "Because you have seen Your Lie in April (23273), we think you would like Toradora! (4224) and Angel Beats! (6547) with 54.232% confidence. You are also 87.273% more likely to watch this/these anime(s).\n",
      "Because you have seen Your Lie in April (23273), we think you would like Attack on Titan (16498) and Angel Beats! (6547) with 60.669% confidence. You are also 86.764% more likely to watch this/these anime(s).\n",
      "Because you have seen Your Lie in April (23273), we think you would like My Hero Academia (31964) and One Punch Man (30276) with 58.233% confidence. You are also 86.371% more likely to watch this/these anime(s).\n",
      "Because you have seen Your Lie in April (23273), we think you would like KonoSuba:God's Blessing on This Wonderful World! (30831) with 57.592% confidence. You are also 86.363% more likely to watch this/these anime(s).\n",
      "Because you have seen Your Lie in April (23273), we think you would like Fullmetal Alchemist:Brotherhood (5114) and One Punch Man (30276) with 52.827% confidence. You are also 85.449% more likely to watch this/these anime(s).\n",
      "Because you have seen Your Lie in April (23273), we think you would like Akame ga Kill! (22199) with 54.925% confidence. You are also 85.221% more likely to watch this/these anime(s).\n",
      "Because you have seen Your Lie in April (23273), we think you would like Noragami:Stray God (20507) with 65.416% confidence. You are also 85.069% more likely to watch this/these anime(s).\n",
      "Because you have seen Your Lie in April (23273), we think you would like Attack on Titan Season 2 (25777) and Attack on Titan (16498) with 57.077% confidence. You are also 84.824% more likely to watch this/these anime(s).\n",
      "Because you have seen Your Lie in April (23273), we think you would like Attack on Titan (16498) and Steins;Gate (9253) with 57.450% confidence. You are also 84.734% more likely to watch this/these anime(s).\n",
      "Because you have seen Your Lie in April (23273), we think you would like My Hero Academia (31964) and My Hero Academia 2 (33486) with 56.028% confidence. You are also 84.544% more likely to watch this/these anime(s).\n",
      "Because you have seen Your Lie in April (23273), we think you would like Tokyo Ghoul √A (27899) and Tokyo Ghoul (22319) with 50.267% confidence. You are also 83.968% more likely to watch this/these anime(s).\n",
      "Because you have seen Your Lie in April (23273), we think you would like Attack on Titan Season 2 (25777) with 58.001% confidence. You are also 83.904% more likely to watch this/these anime(s).\n",
      "Because you have seen Your Lie in April (23273), we think you would like Tokyo Ghoul √A (27899) with 50.800% confidence. You are also 83.333% more likely to watch this/these anime(s).\n",
      "Because you have seen Your Lie in April (23273), we think you would like Angel Beats! (6547) and Sword Art Online (11757) with 57.521% confidence. You are also 83.202% more likely to watch this/these anime(s).\n",
      "Because you have seen Your Lie in April (23273), we think you would like Death Note (1535) and Tokyo Ghoul (22319) with 57.166% confidence. You are also 82.734% more likely to watch this/these anime(s).\n",
      "Because you have seen Your Lie in April (23273), we think you would like My Hero Academia 2 (33486) with 57.504% confidence. You are also 82.577% more likely to watch this/these anime(s).\n",
      "Because you have seen Your Lie in April (23273), we think you would like Attack on Titan (16498) and Tokyo Ghoul (22319) with 63.353% confidence. You are also 81.606% more likely to watch this/these anime(s).\n",
      "Because you have seen Your Lie in April (23273), we think you would like Attack on Titan (16498) and One Punch Man (30276) with 65.505% confidence. You are also 80.955% more likely to watch this/these anime(s).\n",
      "Because you have seen Your Lie in April (23273), we think you would like One Punch Man (30276) and Death Note (1535) with 59.459% confidence. You are also 80.387% more likely to watch this/these anime(s).\n",
      "Because you have seen Your Lie in April (23273), we think you would like The Future Diary (10620) and Sword Art Online (11757) with 50.925% confidence. You are also 80.318% more likely to watch this/these anime(s).\n",
      "Because you have seen Your Lie in April (23273), we think you would like Love, Chunibyo & Other Delusions! (14741) with 50.302% confidence. You are also 79.321% more likely to watch this/these anime(s).\n",
      "Because you have seen Your Lie in April (23273), we think you would like Attack on Titan (16498) and Sword Art Online (11757) and Death Note (1535) with 53.307% confidence. You are also 79.239% more likely to watch this/these anime(s).\n",
      "Because you have seen Your Lie in April (23273), we think you would like Attack on Titan (16498) and The Future Diary (10620) with 53.574% confidence. You are also 79.154% more likely to watch this/these anime(s).\n",
      "Because you have seen Your Lie in April (23273), we think you would like The Devil is a Part-Timer! (15809) with 55.672% confidence. You are also 78.642% more likely to watch this/these anime(s).\n",
      "Because you have seen Your Lie in April (23273), we think you would like No Game, No Life (19815) with 71.924% confidence. You are also 78.395% more likely to watch this/these anime(s).\n",
      "Because you have seen Your Lie in April (23273), we think you would like Code Geass:Lelouch of the Rebellion R2 (2904) and Attack on Titan (16498) with 49.502% confidence. You are also 78.229% more likely to watch this/these anime(s).\n",
      "Because you have seen Your Lie in April (23273), we think you would like My Hero Academia (31964) with 66.874% confidence. You are also 77.543% more likely to watch this/these anime(s).\n",
      "Because you have seen Your Lie in April (23273), we think you would like Attack on Titan (16498) and Death Note (1535) and Fullmetal Alchemist:Brotherhood (5114) with 49.538% confidence. You are also 76.630% more likely to watch this/these anime(s).\n",
      "Because you have seen Your Lie in April (23273), we think you would like Sword Art Online (11757) and Code Geass:Lelouch of the Rebellion (1575) with 49.555% confidence. You are also 76.283% more likely to watch this/these anime(s).\n",
      "Because you have seen Your Lie in April (23273), we think you would like Fullmetal Alchemist:Brotherhood (5114) and Sword Art Online (11757) with 51.262% confidence. You are also 76.259% more likely to watch this/these anime(s).\n",
      "Because you have seen Your Lie in April (23273), we think you would like Steins;Gate (9253) and Death Note (1535) with 53.716% confidence. You are also 74.772% more likely to watch this/these anime(s).\n",
      "Because you have seen Your Lie in April (23273), we think you would like Attack on Titan (16498) and Code Geass:Lelouch of the Rebellion (1575) with 54.161% confidence. You are also 74.278% more likely to watch this/these anime(s).\n",
      "Because you have seen Your Lie in April (23273), we think you would like The Future Diary (10620) and Death Note (1535) with 49.538% confidence. You are also 73.405% more likely to watch this/these anime(s).\n",
      "Because you have seen Your Lie in April (23273), we think you would like Tokyo Ghoul (22319) with 69.844% confidence. You are also 73.072% more likely to watch this/these anime(s).\n",
      "Because you have seen Your Lie in April (23273), we think you would like Attack on Titan (16498) and Sword Art Online (11757) with 66.198% confidence. You are also 72.540% more likely to watch this/these anime(s).\n",
      "Because you have seen Your Lie in April (23273), we think you would like Toradora! (4224) and Death Note (1535) with 53.129% confidence. You are also 72.497% more likely to watch this/these anime(s).\n",
      "Because you have seen Your Lie in April (23273), we think you would like Angel Beats! (6547) and Death Note (1535) with 55.370% confidence. You are also 71.773% more likely to watch this/these anime(s).\n",
      "Because you have seen Your Lie in April (23273), we think you would like Attack on Titan (16498) and Fullmetal Alchemist:Brotherhood (5114) with 57.344% confidence. You are also 70.926% more likely to watch this/these anime(s).\n",
      "Because you have seen Your Lie in April (23273), we think you would like One Punch Man (30276) with 74.431% confidence. You are also 69.077% more likely to watch this/these anime(s).\n",
      "Because you have seen Your Lie in April (23273), we think you would like Sword Art Online (11757) and Death Note (1535) with 58.624% confidence. You are also 68.284% more likely to watch this/these anime(s).\n",
      "Because you have seen Your Lie in April (23273), we think you would like Steins;Gate (9253) with 65.327% confidence. You are also 66.175% more likely to watch this/these anime(s).\n",
      "Because you have seen Your Lie in April (23273), we think you would like The Future Diary (10620) with 59.993% confidence. You are also 63.085% more likely to watch this/these anime(s).\n",
      "Because you have seen Your Lie in April (23273), we think you would like Attack on Titan (16498) and Death Note (1535) with 65.985% confidence. You are also 62.569% more likely to watch this/these anime(s).\n",
      "Because you have seen Your Lie in April (23273), we think you would like Toradora! (4224) with 69.310% confidence. You are also 60.353% more likely to watch this/these anime(s).\n",
      "Because you have seen Your Lie in April (23273), we think you would like Angel Beats! (6547) with 70.288% confidence. You are also 60.061% more likely to watch this/these anime(s).\n",
      "Because you have seen Your Lie in April (23273), we think you would like Another (11111) with 52.632% confidence. You are also 59.148% more likely to watch this/these anime(s).\n",
      "Because you have seen Your Lie in April (23273), we think you would like Blue Exorcist (9919) with 53.538% confidence. You are also 58.480% more likely to watch this/these anime(s).\n",
      "Because you have seen Your Lie in April (23273), we think you would like Bakemonogatari (5081) with 49.182% confidence. You are also 56.887% more likely to watch this/these anime(s).\n",
      "Because you have seen Your Lie in April (23273), we think you would like Sword Art Online (11757) with 75.818% confidence. You are also 56.789% more likely to watch this/these anime(s).\n",
      "Because you have seen Your Lie in April (23273), we think you would like Clannad (2167) with 51.494% confidence. You are also 54.918% more likely to watch this/these anime(s).\n",
      "Because you have seen Your Lie in April (23273), we think you would like Fullmetal Alchemist:Brotherhood (5114) and Death Note (1535) with 53.930% confidence. You are also 54.809% more likely to watch this/these anime(s).\n",
      "Because you have seen Your Lie in April (23273), we think you would like Attack on Titan (16498) with 82.521% confidence. You are also 52.493% more likely to watch this/these anime(s).\n",
      "Because you have seen Your Lie in April (23273), we think you would like Death Note (1535) and Code Geass:Lelouch of the Rebellion (1575) with 51.814% confidence. You are also 46.857% more likely to watch this/these anime(s).\n",
      "Because you have seen Your Lie in April (23273), we think you would like Code Geass:Lelouch of the Rebellion R2 (2904) and Code Geass:Lelouch of the Rebellion (1575) with 54.445% confidence. You are also 44.797% more likely to watch this/these anime(s).\n",
      "Because you have seen Your Lie in April (23273), we think you would like Fullmetal Alchemist:Brotherhood (5114) with 64.420% confidence. You are also 44.588% more likely to watch this/these anime(s).\n",
      "Because you have seen Your Lie in April (23273), we think you would like Code Geass:Lelouch of the Rebellion R2 (2904) with 55.103% confidence. You are also 43.865% more likely to watch this/these anime(s).\n",
      "Because you have seen Your Lie in April (23273), we think you would like Code Geass:Lelouch of the Rebellion (1575) with 60.562% confidence. You are also 38.633% more likely to watch this/these anime(s).\n",
      "Because you have seen Your Lie in April (23273), we think you would like Spirited Away (199) with 52.969% confidence. You are also 35.339% more likely to watch this/these anime(s).\n",
      "Because you have seen Your Lie in April (23273), we think you would like Naruto (20) with 52.098% confidence. You are also 28.700% more likely to watch this/these anime(s).\n",
      "Because you have seen Your Lie in April (23273), we think you would like Death Note (1535) with 74.929% confidence. You are also 28.110% more likely to watch this/these anime(s).\n"
     ]
    }
   ],
   "source": [
    "for recommendations in find_recommendations_precise(seen_animes):\n",
    "\tfor i in range(len(recommendations[1])):\n",
    "\t\trecommendation = (recommendations[0], recommendations[1][i], recommendations[2][i], recommendations[3][i])\n",
    "\t\tprint(\"Because you have seen %s, we think you would like %s with %.3f%% confidence. You are also %.3f%% more likely to watch this/these anime(s).\" % (\n",
    "\t\t\t\" and \".join([animes_df[animes_df[\"MAL_ID\"] == x][\"English name\"].values[0] + f\" ({str(x)})\" for x in recommendation[0]]), \n",
    "\t\t\t\" and \".join([animes_df[animes_df[\"MAL_ID\"] == x][\"English name\"].values[0] + f\" ({str(x)})\" for x in recommendation[1]]), \n",
    "\t\t\trecommendation[2] * 100,\n",
    "\t\t\trecommendation[3] * 100 - 100)\n",
    "\t\t)"
   ]
  },
  {
   "cell_type": "code",
   "execution_count": 20,
   "metadata": {},
   "outputs": [
    {
     "data": {
      "text/html": [
       "<div>\n",
       "<style scoped>\n",
       "    .dataframe tbody tr th:only-of-type {\n",
       "        vertical-align: middle;\n",
       "    }\n",
       "\n",
       "    .dataframe tbody tr th {\n",
       "        vertical-align: top;\n",
       "    }\n",
       "\n",
       "    .dataframe thead th {\n",
       "        text-align: right;\n",
       "    }\n",
       "</style>\n",
       "<table border=\"1\" class=\"dataframe\">\n",
       "  <thead>\n",
       "    <tr style=\"text-align: right;\">\n",
       "      <th></th>\n",
       "      <th>source</th>\n",
       "      <th>recommended_id</th>\n",
       "      <th>average weight</th>\n",
       "    </tr>\n",
       "  </thead>\n",
       "  <tbody>\n",
       "    <tr>\n",
       "      <th>2</th>\n",
       "      <td>Your Lie in April</td>\n",
       "      <td>My Hero Academia 2</td>\n",
       "      <td>1.501262</td>\n",
       "    </tr>\n",
       "    <tr>\n",
       "      <th>0</th>\n",
       "      <td>Your Lie in April</td>\n",
       "      <td>Noragami Aragoto</td>\n",
       "      <td>1.475841</td>\n",
       "    </tr>\n",
       "    <tr>\n",
       "      <th>6</th>\n",
       "      <td>Your Lie in April</td>\n",
       "      <td>A Silent Voice</td>\n",
       "      <td>1.449543</td>\n",
       "    </tr>\n",
       "    <tr>\n",
       "      <th>7</th>\n",
       "      <td>Your Lie in April</td>\n",
       "      <td>Your Name.</td>\n",
       "      <td>1.430619</td>\n",
       "    </tr>\n",
       "    <tr>\n",
       "      <th>3</th>\n",
       "      <td>Your Lie in April</td>\n",
       "      <td>My Hero Academia</td>\n",
       "      <td>1.408154</td>\n",
       "    </tr>\n",
       "  </tbody>\n",
       "</table>\n",
       "</div>"
      ],
      "text/plain": [
       "              source      recommended_id  average weight\n",
       "2  Your Lie in April  My Hero Academia 2        1.501262\n",
       "0  Your Lie in April    Noragami Aragoto        1.475841\n",
       "6  Your Lie in April      A Silent Voice        1.449543\n",
       "7  Your Lie in April          Your Name.        1.430619\n",
       "3  Your Lie in April    My Hero Academia        1.408154"
      ]
     },
     "metadata": {},
     "output_type": "display_data"
    }
   ],
   "source": [
    "for index, recommendation_df in find_recommendations_free(seen_animes):\n",
    "\tdisplay(recommendation_df.head(5))"
   ]
  },
  {
   "cell_type": "code",
   "execution_count": 9,
   "metadata": {},
   "outputs": [],
   "source": [
    "# This is a list of what my little sister watched. I used it to see if we got some recommendations of animes she wanted to watch. Turns out we did, meaning that the recommendation system is working.\n",
    "last_seen_clo = [\n",
    "\t6702,\n",
    "\t16498,\n",
    "\t33255,\n",
    "\t20,\n",
    "\t28755,\n",
    "\t24833,\n",
    "\t30911,\n",
    "\t136,\n",
    "\t34176,\n",
    "\t28999,\n",
    "\t38000,\n",
    "\t9919,\n",
    "\t36039,\n",
    "\t31043,\n",
    "\t23755,\n",
    "\t35500,\n",
    "\t22319,\n",
    "\t38777,\n",
    "\t38793,\n",
    "\t4898,\n",
    "\t269,\n",
    "\t14227,\n",
    "\t28171,\n",
    "\t31741,\n",
    "\t32282,\n",
    "\t164,\n",
    "\t199,\n",
    "\t431,\n",
    "\t32281,\n",
    "\t513,\n",
    "\t2890,\n",
    "\t512,\n",
    "\t21557,\n",
    "\t39235,\n",
    "\t16662,\n",
    "\t572,\n",
    "\t36098,\n",
    "\t10029,\n",
    "\t34541,\n",
    "\t35098,\n",
    "\t578,\n",
    "\t12355,\n",
    "\t33352,\n",
    "\t11757,\n",
    "\t28851,\n",
    "\t39533,\n",
    "\t35222,\n",
    "\t11771,\n",
    "\t35507,\n",
    "\t34572,\n",
    "\t46352,\n",
    "\t21995,\n",
    "\t37208,\n",
    "\t26243,\n",
    "\t37396,\n",
    "\t39535,\n",
    "\t42249,\n",
    "\t41094,\n",
    "\t46569,\n",
    "\t31964,\n",
    "\t23273,\n",
    "\t523,\n",
    "\t20583,\n",
    "\t42897,\n",
    "\t31478,\n",
    "]"
   ]
  },
  {
   "cell_type": "code",
   "execution_count": 28,
   "metadata": {},
   "outputs": [],
   "source": [
    "def recommend_user(anime_ids): # We only keep the last 6 watched animes, but we use the list to make sure we don't recommend some animes that they have already seen.\n",
    "\trecommendations = []\n",
    "\tlinked_ids = get_linked_ids(anime_ids)\n",
    "\t\n",
    "\tfor combination in tqdm(generate_combinations(anime_ids[-6:]), desc=\"Trying every possible combination...\"):\n",
    "\t\tfilter_df = rules[\"antecedents\"].apply(lambda x: x == combination) & rules[\"consequents\"].apply(lambda x: np.all([id not in x for id in linked_ids]))\n",
    "\t\tif filter_df.apply(lambda x: x != False).sum() < 1:\n",
    "\t\t\tcontinue\n",
    "\t\tfor i in range(len(rules[filter_df][\"consequents\"].values)):\n",
    "\t\t\trecommendation = (\n",
    "\t\t\t\t\" & \".join([animes_df[animes_df[\"MAL_ID\"] == x][\"English name\"].values[0] for x in combination]), \n",
    "\t\t\t\t[animes_df[animes_df[\"MAL_ID\"] == x][\"English name\"].values[0] for x in rules[filter_df][\"consequents\"].values[i]], \n",
    "\t\t\t\trules[filter_df][\"confidence\"].values[i], rules[filter_df][\"lift\"].values[i]\n",
    "\t\t\t)\n",
    "\t\t\trecommendations.append(recommendation)\n",
    "\n",
    "\tdf_recommendations = pd.DataFrame(recommendations, columns=['combination', 'consequents', 'confidence', 'lift']).sort_values(\"lift\", ascending=False)\n",
    "\treturn df_recommendations"
   ]
  },
  {
   "cell_type": "code",
   "execution_count": 29,
   "metadata": {},
   "outputs": [
    {
     "name": "stdout",
     "output_type": "stream",
     "text": [
      "Found 1956 possible combinations.\n"
     ]
    },
    {
     "data": {
      "application/vnd.jupyter.widget-view+json": {
       "model_id": "39f02c2db42a4b36ac5a1f50020ef742",
       "version_major": 2,
       "version_minor": 0
      },
      "text/plain": [
       "Trying every possible combination...:   0%|          | 0/1956 [00:00<?, ?it/s]"
      ]
     },
     "metadata": {},
     "output_type": "display_data"
    },
    {
     "data": {
      "text/html": [
       "<div>\n",
       "<style scoped>\n",
       "    .dataframe tbody tr th:only-of-type {\n",
       "        vertical-align: middle;\n",
       "    }\n",
       "\n",
       "    .dataframe tbody tr th {\n",
       "        vertical-align: top;\n",
       "    }\n",
       "\n",
       "    .dataframe thead th {\n",
       "        text-align: right;\n",
       "    }\n",
       "</style>\n",
       "<table border=\"1\" class=\"dataframe\">\n",
       "  <thead>\n",
       "    <tr style=\"text-align: right;\">\n",
       "      <th></th>\n",
       "      <th>combination</th>\n",
       "      <th>consequents</th>\n",
       "      <th>confidence</th>\n",
       "      <th>lift</th>\n",
       "    </tr>\n",
       "  </thead>\n",
       "  <tbody>\n",
       "    <tr>\n",
       "      <th>0</th>\n",
       "      <td>My Hero Academia</td>\n",
       "      <td>[Re:ZERO -Starting Life in Another World-, One...</td>\n",
       "      <td>0.401067</td>\n",
       "      <td>2.404183</td>\n",
       "    </tr>\n",
       "    <tr>\n",
       "      <th>1</th>\n",
       "      <td>My Hero Academia</td>\n",
       "      <td>[Fullmetal Alchemist:Brotherhood, One Punch Ma...</td>\n",
       "      <td>0.398904</td>\n",
       "      <td>2.373440</td>\n",
       "    </tr>\n",
       "    <tr>\n",
       "      <th>2</th>\n",
       "      <td>My Hero Academia</td>\n",
       "      <td>[One Punch Man, Mob Psycho 100, No Game, No Life]</td>\n",
       "      <td>0.407124</td>\n",
       "      <td>2.368758</td>\n",
       "    </tr>\n",
       "    <tr>\n",
       "      <th>3</th>\n",
       "      <td>My Hero Academia</td>\n",
       "      <td>[Re:ZERO -Starting Life in Another World-, Mob...</td>\n",
       "      <td>0.421402</td>\n",
       "      <td>2.368728</td>\n",
       "    </tr>\n",
       "    <tr>\n",
       "      <th>4</th>\n",
       "      <td>My Hero Academia</td>\n",
       "      <td>[Mob Psycho 100, No Game, No Life]</td>\n",
       "      <td>0.428180</td>\n",
       "      <td>2.334824</td>\n",
       "    </tr>\n",
       "    <tr>\n",
       "      <th>5</th>\n",
       "      <td>My Hero Academia</td>\n",
       "      <td>[One Punch Man, Mob Psycho 100, Death Note]</td>\n",
       "      <td>0.428036</td>\n",
       "      <td>2.333346</td>\n",
       "    </tr>\n",
       "    <tr>\n",
       "      <th>211</th>\n",
       "      <td>Your Lie in April</td>\n",
       "      <td>[One Punch Man, anohana:The Flower We Saw That...</td>\n",
       "      <td>0.496444</td>\n",
       "      <td>2.333172</td>\n",
       "    </tr>\n",
       "    <tr>\n",
       "      <th>6</th>\n",
       "      <td>My Hero Academia</td>\n",
       "      <td>[Fullmetal Alchemist:Brotherhood, Mob Psycho 100]</td>\n",
       "      <td>0.420536</td>\n",
       "      <td>2.326918</td>\n",
       "    </tr>\n",
       "    <tr>\n",
       "      <th>212</th>\n",
       "      <td>Your Lie in April</td>\n",
       "      <td>[anohana:The Flower We Saw That Day, No Game, ...</td>\n",
       "      <td>0.492532</td>\n",
       "      <td>2.324281</td>\n",
       "    </tr>\n",
       "    <tr>\n",
       "      <th>7</th>\n",
       "      <td>My Hero Academia</td>\n",
       "      <td>[The Promised Neverland, One Punch Man]</td>\n",
       "      <td>0.400635</td>\n",
       "      <td>2.322923</td>\n",
       "    </tr>\n",
       "  </tbody>\n",
       "</table>\n",
       "</div>"
      ],
      "text/plain": [
       "           combination                                        consequents  \\\n",
       "0     My Hero Academia  [Re:ZERO -Starting Life in Another World-, One...   \n",
       "1     My Hero Academia  [Fullmetal Alchemist:Brotherhood, One Punch Ma...   \n",
       "2     My Hero Academia  [One Punch Man, Mob Psycho 100, No Game, No Life]   \n",
       "3     My Hero Academia  [Re:ZERO -Starting Life in Another World-, Mob...   \n",
       "4     My Hero Academia                 [Mob Psycho 100, No Game, No Life]   \n",
       "5     My Hero Academia        [One Punch Man, Mob Psycho 100, Death Note]   \n",
       "211  Your Lie in April  [One Punch Man, anohana:The Flower We Saw That...   \n",
       "6     My Hero Academia  [Fullmetal Alchemist:Brotherhood, Mob Psycho 100]   \n",
       "212  Your Lie in April  [anohana:The Flower We Saw That Day, No Game, ...   \n",
       "7     My Hero Academia            [The Promised Neverland, One Punch Man]   \n",
       "\n",
       "     confidence      lift  \n",
       "0      0.401067  2.404183  \n",
       "1      0.398904  2.373440  \n",
       "2      0.407124  2.368758  \n",
       "3      0.421402  2.368728  \n",
       "4      0.428180  2.334824  \n",
       "5      0.428036  2.333346  \n",
       "211    0.496444  2.333172  \n",
       "6      0.420536  2.326918  \n",
       "212    0.492532  2.324281  \n",
       "7      0.400635  2.322923  "
      ]
     },
     "metadata": {},
     "output_type": "display_data"
    }
   ],
   "source": [
    "recommendations_df = recommend_user(last_seen_clo)\n",
    "display(recommendations_df.head(10))"
   ]
  },
  {
   "cell_type": "code",
   "execution_count": 31,
   "metadata": {},
   "outputs": [
    {
     "name": "stdout",
     "output_type": "stream",
     "text": [
      "['Re:ZERO -Starting Life in Another World-', 'One Punch Man', 'Mob Psycho 100', 'Fullmetal Alchemist:Brotherhood', 'No Game, No Life', 'Death Note', 'anohana:The Flower We Saw That Day', 'The Promised Neverland', 'Noragami:Stray God', \"KonoSuba:God's Blessing on This Wonderful World!\"]\n"
     ]
    }
   ],
   "source": [
    "recommended_animes = []\n",
    "for consequents in recommendations_df[\"consequents\"]:\n",
    "    for consequent in consequents:\n",
    "        if not consequent in recommended_animes:\n",
    "            recommended_animes.append(consequent)\n",
    "\n",
    "print(recommended_animes[:10])"
   ]
  },
  {
   "cell_type": "code",
   "execution_count": 32,
   "metadata": {},
   "outputs": [
    {
     "data": {
      "text/html": [
       "<div>\n",
       "<style scoped>\n",
       "    .dataframe tbody tr th:only-of-type {\n",
       "        vertical-align: middle;\n",
       "    }\n",
       "\n",
       "    .dataframe tbody tr th {\n",
       "        vertical-align: top;\n",
       "    }\n",
       "\n",
       "    .dataframe thead th {\n",
       "        text-align: right;\n",
       "    }\n",
       "</style>\n",
       "<table border=\"1\" class=\"dataframe\">\n",
       "  <thead>\n",
       "    <tr style=\"text-align: right;\">\n",
       "      <th></th>\n",
       "      <th>combination</th>\n",
       "      <th>consequents</th>\n",
       "      <th>confidence</th>\n",
       "      <th>lift</th>\n",
       "    </tr>\n",
       "  </thead>\n",
       "  <tbody>\n",
       "    <tr>\n",
       "      <th>277</th>\n",
       "      <td>Haikyu!!</td>\n",
       "      <td>[Noragami:Stray God]</td>\n",
       "      <td>0.692204</td>\n",
       "      <td>1.958320</td>\n",
       "    </tr>\n",
       "    <tr>\n",
       "      <th>278</th>\n",
       "      <td>Haikyu!!</td>\n",
       "      <td>[One Punch Man, Death Note]</td>\n",
       "      <td>0.639561</td>\n",
       "      <td>1.940290</td>\n",
       "    </tr>\n",
       "    <tr>\n",
       "      <th>279</th>\n",
       "      <td>Haikyu!!</td>\n",
       "      <td>[One Punch Man]</td>\n",
       "      <td>0.782034</td>\n",
       "      <td>1.776464</td>\n",
       "    </tr>\n",
       "    <tr>\n",
       "      <th>280</th>\n",
       "      <td>Haikyu!!</td>\n",
       "      <td>[No Game, No Life]</td>\n",
       "      <td>0.692652</td>\n",
       "      <td>1.718005</td>\n",
       "    </tr>\n",
       "    <tr>\n",
       "      <th>281</th>\n",
       "      <td>Haikyu!!</td>\n",
       "      <td>[Fullmetal Alchemist:Brotherhood]</td>\n",
       "      <td>0.678539</td>\n",
       "      <td>1.522950</td>\n",
       "    </tr>\n",
       "  </tbody>\n",
       "</table>\n",
       "</div>"
      ],
      "text/plain": [
       "    combination                        consequents  confidence      lift\n",
       "277    Haikyu!!               [Noragami:Stray God]    0.692204  1.958320\n",
       "278    Haikyu!!        [One Punch Man, Death Note]    0.639561  1.940290\n",
       "279    Haikyu!!                    [One Punch Man]    0.782034  1.776464\n",
       "280    Haikyu!!                 [No Game, No Life]    0.692652  1.718005\n",
       "281    Haikyu!!  [Fullmetal Alchemist:Brotherhood]    0.678539  1.522950"
      ]
     },
     "metadata": {},
     "output_type": "display_data"
    },
    {
     "data": {
      "text/html": [
       "<div>\n",
       "<style scoped>\n",
       "    .dataframe tbody tr th:only-of-type {\n",
       "        vertical-align: middle;\n",
       "    }\n",
       "\n",
       "    .dataframe tbody tr th {\n",
       "        vertical-align: top;\n",
       "    }\n",
       "\n",
       "    .dataframe thead th {\n",
       "        text-align: right;\n",
       "    }\n",
       "</style>\n",
       "<table border=\"1\" class=\"dataframe\">\n",
       "  <thead>\n",
       "    <tr style=\"text-align: right;\">\n",
       "      <th></th>\n",
       "      <th>combination</th>\n",
       "      <th>consequents</th>\n",
       "      <th>confidence</th>\n",
       "      <th>lift</th>\n",
       "    </tr>\n",
       "  </thead>\n",
       "  <tbody>\n",
       "    <tr>\n",
       "      <th>0</th>\n",
       "      <td>My Hero Academia</td>\n",
       "      <td>[Re:ZERO -Starting Life in Another World-, One...</td>\n",
       "      <td>0.401067</td>\n",
       "      <td>2.404183</td>\n",
       "    </tr>\n",
       "    <tr>\n",
       "      <th>1</th>\n",
       "      <td>My Hero Academia</td>\n",
       "      <td>[Fullmetal Alchemist:Brotherhood, One Punch Ma...</td>\n",
       "      <td>0.398904</td>\n",
       "      <td>2.373440</td>\n",
       "    </tr>\n",
       "    <tr>\n",
       "      <th>2</th>\n",
       "      <td>My Hero Academia</td>\n",
       "      <td>[One Punch Man, Mob Psycho 100, No Game, No Life]</td>\n",
       "      <td>0.407124</td>\n",
       "      <td>2.368758</td>\n",
       "    </tr>\n",
       "    <tr>\n",
       "      <th>3</th>\n",
       "      <td>My Hero Academia</td>\n",
       "      <td>[Re:ZERO -Starting Life in Another World-, Mob...</td>\n",
       "      <td>0.421402</td>\n",
       "      <td>2.368728</td>\n",
       "    </tr>\n",
       "    <tr>\n",
       "      <th>4</th>\n",
       "      <td>My Hero Academia</td>\n",
       "      <td>[Mob Psycho 100, No Game, No Life]</td>\n",
       "      <td>0.428180</td>\n",
       "      <td>2.334824</td>\n",
       "    </tr>\n",
       "  </tbody>\n",
       "</table>\n",
       "</div>"
      ],
      "text/plain": [
       "        combination                                        consequents  \\\n",
       "0  My Hero Academia  [Re:ZERO -Starting Life in Another World-, One...   \n",
       "1  My Hero Academia  [Fullmetal Alchemist:Brotherhood, One Punch Ma...   \n",
       "2  My Hero Academia  [One Punch Man, Mob Psycho 100, No Game, No Life]   \n",
       "3  My Hero Academia  [Re:ZERO -Starting Life in Another World-, Mob...   \n",
       "4  My Hero Academia                 [Mob Psycho 100, No Game, No Life]   \n",
       "\n",
       "   confidence      lift  \n",
       "0    0.401067  2.404183  \n",
       "1    0.398904  2.373440  \n",
       "2    0.407124  2.368758  \n",
       "3    0.421402  2.368728  \n",
       "4    0.428180  2.334824  "
      ]
     },
     "metadata": {},
     "output_type": "display_data"
    },
    {
     "data": {
      "text/html": [
       "<div>\n",
       "<style scoped>\n",
       "    .dataframe tbody tr th:only-of-type {\n",
       "        vertical-align: middle;\n",
       "    }\n",
       "\n",
       "    .dataframe tbody tr th {\n",
       "        vertical-align: top;\n",
       "    }\n",
       "\n",
       "    .dataframe thead th {\n",
       "        text-align: right;\n",
       "    }\n",
       "</style>\n",
       "<table border=\"1\" class=\"dataframe\">\n",
       "  <thead>\n",
       "    <tr style=\"text-align: right;\">\n",
       "      <th></th>\n",
       "      <th>combination</th>\n",
       "      <th>consequents</th>\n",
       "      <th>confidence</th>\n",
       "      <th>lift</th>\n",
       "    </tr>\n",
       "  </thead>\n",
       "  <tbody>\n",
       "    <tr>\n",
       "      <th>284</th>\n",
       "      <td>My Hero Academia &amp; Haikyu!!</td>\n",
       "      <td>[One Punch Man]</td>\n",
       "      <td>0.86945</td>\n",
       "      <td>1.975038</td>\n",
       "    </tr>\n",
       "  </tbody>\n",
       "</table>\n",
       "</div>"
      ],
      "text/plain": [
       "                     combination      consequents  confidence      lift\n",
       "284  My Hero Academia & Haikyu!!  [One Punch Man]     0.86945  1.975038"
      ]
     },
     "metadata": {},
     "output_type": "display_data"
    },
    {
     "data": {
      "text/html": [
       "<div>\n",
       "<style scoped>\n",
       "    .dataframe tbody tr th:only-of-type {\n",
       "        vertical-align: middle;\n",
       "    }\n",
       "\n",
       "    .dataframe tbody tr th {\n",
       "        vertical-align: top;\n",
       "    }\n",
       "\n",
       "    .dataframe thead th {\n",
       "        text-align: right;\n",
       "    }\n",
       "</style>\n",
       "<table border=\"1\" class=\"dataframe\">\n",
       "  <thead>\n",
       "    <tr style=\"text-align: right;\">\n",
       "      <th></th>\n",
       "      <th>combination</th>\n",
       "      <th>consequents</th>\n",
       "      <th>confidence</th>\n",
       "      <th>lift</th>\n",
       "    </tr>\n",
       "  </thead>\n",
       "  <tbody>\n",
       "    <tr>\n",
       "      <th>276</th>\n",
       "      <td>My Neighbor Totoro</td>\n",
       "      <td>[Death Note]</td>\n",
       "      <td>0.756698</td>\n",
       "      <td>1.293773</td>\n",
       "    </tr>\n",
       "  </tbody>\n",
       "</table>\n",
       "</div>"
      ],
      "text/plain": [
       "            combination   consequents  confidence      lift\n",
       "276  My Neighbor Totoro  [Death Note]    0.756698  1.293773"
      ]
     },
     "metadata": {},
     "output_type": "display_data"
    },
    {
     "data": {
      "text/html": [
       "<div>\n",
       "<style scoped>\n",
       "    .dataframe tbody tr th:only-of-type {\n",
       "        vertical-align: middle;\n",
       "    }\n",
       "\n",
       "    .dataframe tbody tr th {\n",
       "        vertical-align: top;\n",
       "    }\n",
       "\n",
       "    .dataframe thead th {\n",
       "        text-align: right;\n",
       "    }\n",
       "</style>\n",
       "<table border=\"1\" class=\"dataframe\">\n",
       "  <thead>\n",
       "    <tr style=\"text-align: right;\">\n",
       "      <th></th>\n",
       "      <th>combination</th>\n",
       "      <th>consequents</th>\n",
       "      <th>confidence</th>\n",
       "      <th>lift</th>\n",
       "    </tr>\n",
       "  </thead>\n",
       "  <tbody>\n",
       "    <tr>\n",
       "      <th>211</th>\n",
       "      <td>Your Lie in April</td>\n",
       "      <td>[One Punch Man, anohana:The Flower We Saw That...</td>\n",
       "      <td>0.496444</td>\n",
       "      <td>2.333172</td>\n",
       "    </tr>\n",
       "    <tr>\n",
       "      <th>212</th>\n",
       "      <td>Your Lie in April</td>\n",
       "      <td>[anohana:The Flower We Saw That Day, No Game, ...</td>\n",
       "      <td>0.492532</td>\n",
       "      <td>2.324281</td>\n",
       "    </tr>\n",
       "    <tr>\n",
       "      <th>213</th>\n",
       "      <td>Your Lie in April</td>\n",
       "      <td>[Re:ZERO -Starting Life in Another World-, Ang...</td>\n",
       "      <td>0.492888</td>\n",
       "      <td>2.218476</td>\n",
       "    </tr>\n",
       "    <tr>\n",
       "      <th>214</th>\n",
       "      <td>Your Lie in April</td>\n",
       "      <td>[Toradora!, Noragami:Stray God]</td>\n",
       "      <td>0.491643</td>\n",
       "      <td>2.173548</td>\n",
       "    </tr>\n",
       "    <tr>\n",
       "      <th>215</th>\n",
       "      <td>Your Lie in April</td>\n",
       "      <td>[Noragami:Stray God, Angel Beats!]</td>\n",
       "      <td>0.504445</td>\n",
       "      <td>2.120651</td>\n",
       "    </tr>\n",
       "  </tbody>\n",
       "</table>\n",
       "</div>"
      ],
      "text/plain": [
       "           combination                                        consequents  \\\n",
       "211  Your Lie in April  [One Punch Man, anohana:The Flower We Saw That...   \n",
       "212  Your Lie in April  [anohana:The Flower We Saw That Day, No Game, ...   \n",
       "213  Your Lie in April  [Re:ZERO -Starting Life in Another World-, Ang...   \n",
       "214  Your Lie in April                    [Toradora!, Noragami:Stray God]   \n",
       "215  Your Lie in April                 [Noragami:Stray God, Angel Beats!]   \n",
       "\n",
       "     confidence      lift  \n",
       "211    0.496444  2.333172  \n",
       "212    0.492532  2.324281  \n",
       "213    0.492888  2.218476  \n",
       "214    0.491643  2.173548  \n",
       "215    0.504445  2.120651  "
      ]
     },
     "metadata": {},
     "output_type": "display_data"
    },
    {
     "data": {
      "text/html": [
       "<div>\n",
       "<style scoped>\n",
       "    .dataframe tbody tr th:only-of-type {\n",
       "        vertical-align: middle;\n",
       "    }\n",
       "\n",
       "    .dataframe tbody tr th {\n",
       "        vertical-align: top;\n",
       "    }\n",
       "\n",
       "    .dataframe thead th {\n",
       "        text-align: right;\n",
       "    }\n",
       "</style>\n",
       "<table border=\"1\" class=\"dataframe\">\n",
       "  <thead>\n",
       "    <tr style=\"text-align: right;\">\n",
       "      <th></th>\n",
       "      <th>combination</th>\n",
       "      <th>consequents</th>\n",
       "      <th>confidence</th>\n",
       "      <th>lift</th>\n",
       "    </tr>\n",
       "  </thead>\n",
       "  <tbody>\n",
       "    <tr>\n",
       "      <th>285</th>\n",
       "      <td>Your Lie in April &amp; My Hero Academia</td>\n",
       "      <td>[Re:ZERO -Starting Life in Another World-]</td>\n",
       "      <td>0.757511</td>\n",
       "      <td>2.294722</td>\n",
       "    </tr>\n",
       "    <tr>\n",
       "      <th>286</th>\n",
       "      <td>Your Lie in April &amp; My Hero Academia</td>\n",
       "      <td>[Noragami:Stray God]</td>\n",
       "      <td>0.736772</td>\n",
       "      <td>2.084407</td>\n",
       "    </tr>\n",
       "    <tr>\n",
       "      <th>287</th>\n",
       "      <td>Your Lie in April &amp; My Hero Academia</td>\n",
       "      <td>[One Punch Man]</td>\n",
       "      <td>0.870779</td>\n",
       "      <td>1.978057</td>\n",
       "    </tr>\n",
       "    <tr>\n",
       "      <th>288</th>\n",
       "      <td>Your Lie in April &amp; My Hero Academia</td>\n",
       "      <td>[No Game, No Life]</td>\n",
       "      <td>0.795533</td>\n",
       "      <td>1.973184</td>\n",
       "    </tr>\n",
       "    <tr>\n",
       "      <th>289</th>\n",
       "      <td>Your Lie in April &amp; My Hero Academia</td>\n",
       "      <td>[Angel Beats!]</td>\n",
       "      <td>0.737038</td>\n",
       "      <td>1.678393</td>\n",
       "    </tr>\n",
       "  </tbody>\n",
       "</table>\n",
       "</div>"
      ],
      "text/plain": [
       "                              combination  \\\n",
       "285  Your Lie in April & My Hero Academia   \n",
       "286  Your Lie in April & My Hero Academia   \n",
       "287  Your Lie in April & My Hero Academia   \n",
       "288  Your Lie in April & My Hero Academia   \n",
       "289  Your Lie in April & My Hero Academia   \n",
       "\n",
       "                                    consequents  confidence      lift  \n",
       "285  [Re:ZERO -Starting Life in Another World-]    0.757511  2.294722  \n",
       "286                        [Noragami:Stray God]    0.736772  2.084407  \n",
       "287                             [One Punch Man]    0.870779  1.978057  \n",
       "288                          [No Game, No Life]    0.795533  1.973184  \n",
       "289                              [Angel Beats!]    0.737038  1.678393  "
      ]
     },
     "metadata": {},
     "output_type": "display_data"
    }
   ],
   "source": [
    "for _, recommendation_df in recommendations_df.groupby(\"combination\"):\n",
    "\tdisplay(recommendation_df.head(5))"
   ]
  }
 ],
 "metadata": {
  "kernelspec": {
   "display_name": "Python 3",
   "language": "python",
   "name": "python3"
  },
  "language_info": {
   "codemirror_mode": {
    "name": "ipython",
    "version": 3
   },
   "file_extension": ".py",
   "mimetype": "text/x-python",
   "name": "python",
   "nbconvert_exporter": "python",
   "pygments_lexer": "ipython3",
   "version": "3.11.9"
  }
 },
 "nbformat": 4,
 "nbformat_minor": 2
}
