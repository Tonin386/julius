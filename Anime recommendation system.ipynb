{
 "cells": [
  {
   "cell_type": "markdown",
   "metadata": {},
   "source": [
    "# BHT Data Applications project\n",
    "# Automatic Anime recommendation Algorithm\n",
    "### This project aims to create an algorithm that can determine what anime to recommend to a user.\n",
    "##### Authors: Rashmi Di Michino and Antonin Mathubert"
   ]
  },
  {
   "cell_type": "markdown",
   "metadata": {},
   "source": [
    "The 320000 users and 16000 animes dataset was taken from https://www.kaggle.com/datasets/hernan4444/anime-recommendation-database-2020 <br>\n",
    "We are going to use this dataset to build a model that can recommend an anime based on the animes that the user is watching, has dropped, has kept on hold or put on their watching list."
   ]
  },
  {
   "cell_type": "markdown",
   "metadata": {},
   "source": [
    "### 1. Importing and parsing the data\n",
    "First, we want to import all of our available data in a suitable manner so it is treatable for the next steps of the project.<br><br>\n",
    "In order to load the data, we are going to do it by chunking the csv file so it's more efficient. Then we're changing the default type of the columns to be more convenient memory wise."
   ]
  },
  {
   "cell_type": "code",
   "execution_count": 1,
   "metadata": {},
   "outputs": [],
   "source": [
    "from mlxtend.frequent_patterns import apriori, association_rules\n",
    "from itertools import combinations\n",
    "import plotly.graph_objs as go\n",
    "from tqdm.notebook import tqdm\n",
    "import networkx as nx\n",
    "import pandas as pd\n",
    "import numpy as np\n",
    "import itertools"
   ]
  },
  {
   "cell_type": "markdown",
   "metadata": {},
   "source": [
    "Next cells are for using the right path for the data depending on your file architecture."
   ]
  },
  {
   "cell_type": "code",
   "execution_count": 2,
   "metadata": {},
   "outputs": [],
   "source": [
    "path = \"C:/Users/rashm/OneDrive/Desktop/data_applications_project/julius/anime_dataset/\""
   ]
  },
  {
   "cell_type": "code",
   "execution_count": 3,
   "metadata": {},
   "outputs": [],
   "source": [
    "path = \"dataset/anime/\""
   ]
  },
  {
   "cell_type": "markdown",
   "metadata": {},
   "source": [
    "We load the whole data from the CSV file into a DataFrame, and we then set some variables to ```None``` to free memory.\n",
    "\n",
    "The file containing information about the users watching status and rating of the animes is named ```animelist.csv```.\n",
    "\n",
    "The file containing the details about the animes (ID, name, english name, production, genre...) is named ```anime.csv```. "
   ]
  },
  {
   "cell_type": "code",
   "execution_count": 4,
   "metadata": {},
   "outputs": [],
   "source": [
    "dataset_chunks = pd.read_csv(path+\"animelist.csv\", chunksize=20000)\n",
    "animes_df = pd.read_csv(path+\"anime.csv\")\n",
    "\n",
    "chunks = []\n",
    "for chunk in dataset_chunks:\n",
    "    chunks.append(chunk)\n",
    "    \n",
    "dataset = pd.concat(chunks, ignore_index=True)\n",
    "dataset = dataset.astype({'user_id': \"int32\", 'anime_id': 'int32', \"watching_status\": \"int16\", \"rating\": \"int16\"})\n",
    "\n",
    "dataset_chunks = None\n",
    "chunks = None"
   ]
  },
  {
   "cell_type": "markdown",
   "metadata": {},
   "source": [
    "This is what the main data looks like before altering it."
   ]
  },
  {
   "cell_type": "code",
   "execution_count": 5,
   "metadata": {},
   "outputs": [
    {
     "data": {
      "text/html": [
       "<div>\n",
       "<style scoped>\n",
       "    .dataframe tbody tr th:only-of-type {\n",
       "        vertical-align: middle;\n",
       "    }\n",
       "\n",
       "    .dataframe tbody tr th {\n",
       "        vertical-align: top;\n",
       "    }\n",
       "\n",
       "    .dataframe thead th {\n",
       "        text-align: right;\n",
       "    }\n",
       "</style>\n",
       "<table border=\"1\" class=\"dataframe\">\n",
       "  <thead>\n",
       "    <tr style=\"text-align: right;\">\n",
       "      <th></th>\n",
       "      <th>user_id</th>\n",
       "      <th>anime_id</th>\n",
       "      <th>rating</th>\n",
       "      <th>watching_status</th>\n",
       "      <th>watched_episodes</th>\n",
       "    </tr>\n",
       "  </thead>\n",
       "  <tbody>\n",
       "    <tr>\n",
       "      <th>0</th>\n",
       "      <td>0</td>\n",
       "      <td>67</td>\n",
       "      <td>9</td>\n",
       "      <td>1</td>\n",
       "      <td>1</td>\n",
       "    </tr>\n",
       "    <tr>\n",
       "      <th>1</th>\n",
       "      <td>0</td>\n",
       "      <td>6702</td>\n",
       "      <td>7</td>\n",
       "      <td>1</td>\n",
       "      <td>4</td>\n",
       "    </tr>\n",
       "    <tr>\n",
       "      <th>2</th>\n",
       "      <td>0</td>\n",
       "      <td>242</td>\n",
       "      <td>10</td>\n",
       "      <td>1</td>\n",
       "      <td>4</td>\n",
       "    </tr>\n",
       "    <tr>\n",
       "      <th>3</th>\n",
       "      <td>0</td>\n",
       "      <td>4898</td>\n",
       "      <td>0</td>\n",
       "      <td>1</td>\n",
       "      <td>1</td>\n",
       "    </tr>\n",
       "    <tr>\n",
       "      <th>4</th>\n",
       "      <td>0</td>\n",
       "      <td>21</td>\n",
       "      <td>10</td>\n",
       "      <td>1</td>\n",
       "      <td>0</td>\n",
       "    </tr>\n",
       "  </tbody>\n",
       "</table>\n",
       "</div>"
      ],
      "text/plain": [
       "   user_id  anime_id  rating  watching_status  watched_episodes\n",
       "0        0        67       9                1                 1\n",
       "1        0      6702       7                1                 4\n",
       "2        0       242      10                1                 4\n",
       "3        0      4898       0                1                 1\n",
       "4        0        21      10                1                 0"
      ]
     },
     "execution_count": 5,
     "metadata": {},
     "output_type": "execute_result"
    }
   ],
   "source": [
    "dataset.head()"
   ]
  },
  {
   "cell_type": "markdown",
   "metadata": {},
   "source": [
    "And this is what the anime data looks like (we never change it)."
   ]
  },
  {
   "cell_type": "code",
   "execution_count": 6,
   "metadata": {},
   "outputs": [
    {
     "data": {
      "text/html": [
       "<div>\n",
       "<style scoped>\n",
       "    .dataframe tbody tr th:only-of-type {\n",
       "        vertical-align: middle;\n",
       "    }\n",
       "\n",
       "    .dataframe tbody tr th {\n",
       "        vertical-align: top;\n",
       "    }\n",
       "\n",
       "    .dataframe thead th {\n",
       "        text-align: right;\n",
       "    }\n",
       "</style>\n",
       "<table border=\"1\" class=\"dataframe\">\n",
       "  <thead>\n",
       "    <tr style=\"text-align: right;\">\n",
       "      <th></th>\n",
       "      <th>MAL_ID</th>\n",
       "      <th>Name</th>\n",
       "      <th>Score</th>\n",
       "      <th>Genres</th>\n",
       "      <th>English name</th>\n",
       "      <th>Japanese name</th>\n",
       "      <th>Type</th>\n",
       "      <th>Episodes</th>\n",
       "      <th>Aired</th>\n",
       "      <th>Premiered</th>\n",
       "      <th>...</th>\n",
       "      <th>Score-10</th>\n",
       "      <th>Score-9</th>\n",
       "      <th>Score-8</th>\n",
       "      <th>Score-7</th>\n",
       "      <th>Score-6</th>\n",
       "      <th>Score-5</th>\n",
       "      <th>Score-4</th>\n",
       "      <th>Score-3</th>\n",
       "      <th>Score-2</th>\n",
       "      <th>Score-1</th>\n",
       "    </tr>\n",
       "  </thead>\n",
       "  <tbody>\n",
       "    <tr>\n",
       "      <th>0</th>\n",
       "      <td>1</td>\n",
       "      <td>Cowboy Bebop</td>\n",
       "      <td>8.78</td>\n",
       "      <td>Action, Adventure, Comedy, Drama, Sci-Fi, Space</td>\n",
       "      <td>Cowboy Bebop</td>\n",
       "      <td>カウボーイビバップ</td>\n",
       "      <td>TV</td>\n",
       "      <td>26</td>\n",
       "      <td>Apr 3, 1998 to Apr 24, 1999</td>\n",
       "      <td>Spring 1998</td>\n",
       "      <td>...</td>\n",
       "      <td>229170.0</td>\n",
       "      <td>182126.0</td>\n",
       "      <td>131625.0</td>\n",
       "      <td>62330.0</td>\n",
       "      <td>20688.0</td>\n",
       "      <td>8904.0</td>\n",
       "      <td>3184.0</td>\n",
       "      <td>1357.0</td>\n",
       "      <td>741.0</td>\n",
       "      <td>1580.0</td>\n",
       "    </tr>\n",
       "    <tr>\n",
       "      <th>1</th>\n",
       "      <td>5</td>\n",
       "      <td>Cowboy Bebop: Tengoku no Tobira</td>\n",
       "      <td>8.39</td>\n",
       "      <td>Action, Drama, Mystery, Sci-Fi, Space</td>\n",
       "      <td>Cowboy Bebop:The Movie</td>\n",
       "      <td>カウボーイビバップ 天国の扉</td>\n",
       "      <td>Movie</td>\n",
       "      <td>1</td>\n",
       "      <td>Sep 1, 2001</td>\n",
       "      <td>Unknown</td>\n",
       "      <td>...</td>\n",
       "      <td>30043.0</td>\n",
       "      <td>49201.0</td>\n",
       "      <td>49505.0</td>\n",
       "      <td>22632.0</td>\n",
       "      <td>5805.0</td>\n",
       "      <td>1877.0</td>\n",
       "      <td>577.0</td>\n",
       "      <td>221.0</td>\n",
       "      <td>109.0</td>\n",
       "      <td>379.0</td>\n",
       "    </tr>\n",
       "    <tr>\n",
       "      <th>2</th>\n",
       "      <td>6</td>\n",
       "      <td>Trigun</td>\n",
       "      <td>8.24</td>\n",
       "      <td>Action, Sci-Fi, Adventure, Comedy, Drama, Shounen</td>\n",
       "      <td>Trigun</td>\n",
       "      <td>トライガン</td>\n",
       "      <td>TV</td>\n",
       "      <td>26</td>\n",
       "      <td>Apr 1, 1998 to Sep 30, 1998</td>\n",
       "      <td>Spring 1998</td>\n",
       "      <td>...</td>\n",
       "      <td>50229.0</td>\n",
       "      <td>75651.0</td>\n",
       "      <td>86142.0</td>\n",
       "      <td>49432.0</td>\n",
       "      <td>15376.0</td>\n",
       "      <td>5838.0</td>\n",
       "      <td>1965.0</td>\n",
       "      <td>664.0</td>\n",
       "      <td>316.0</td>\n",
       "      <td>533.0</td>\n",
       "    </tr>\n",
       "    <tr>\n",
       "      <th>3</th>\n",
       "      <td>7</td>\n",
       "      <td>Witch Hunter Robin</td>\n",
       "      <td>7.27</td>\n",
       "      <td>Action, Mystery, Police, Supernatural, Drama, ...</td>\n",
       "      <td>Witch Hunter Robin</td>\n",
       "      <td>Witch Hunter ROBIN (ウイッチハンターロビン)</td>\n",
       "      <td>TV</td>\n",
       "      <td>26</td>\n",
       "      <td>Jul 2, 2002 to Dec 24, 2002</td>\n",
       "      <td>Summer 2002</td>\n",
       "      <td>...</td>\n",
       "      <td>2182.0</td>\n",
       "      <td>4806.0</td>\n",
       "      <td>10128.0</td>\n",
       "      <td>11618.0</td>\n",
       "      <td>5709.0</td>\n",
       "      <td>2920.0</td>\n",
       "      <td>1083.0</td>\n",
       "      <td>353.0</td>\n",
       "      <td>164.0</td>\n",
       "      <td>131.0</td>\n",
       "    </tr>\n",
       "    <tr>\n",
       "      <th>4</th>\n",
       "      <td>8</td>\n",
       "      <td>Bouken Ou Beet</td>\n",
       "      <td>6.98</td>\n",
       "      <td>Adventure, Fantasy, Shounen, Supernatural</td>\n",
       "      <td>Beet the Vandel Buster</td>\n",
       "      <td>冒険王ビィト</td>\n",
       "      <td>TV</td>\n",
       "      <td>52</td>\n",
       "      <td>Sep 30, 2004 to Sep 29, 2005</td>\n",
       "      <td>Fall 2004</td>\n",
       "      <td>...</td>\n",
       "      <td>312.0</td>\n",
       "      <td>529.0</td>\n",
       "      <td>1242.0</td>\n",
       "      <td>1713.0</td>\n",
       "      <td>1068.0</td>\n",
       "      <td>634.0</td>\n",
       "      <td>265.0</td>\n",
       "      <td>83.0</td>\n",
       "      <td>50.0</td>\n",
       "      <td>27.0</td>\n",
       "    </tr>\n",
       "  </tbody>\n",
       "</table>\n",
       "<p>5 rows × 35 columns</p>\n",
       "</div>"
      ],
      "text/plain": [
       "   MAL_ID                             Name Score  \\\n",
       "0       1                     Cowboy Bebop  8.78   \n",
       "1       5  Cowboy Bebop: Tengoku no Tobira  8.39   \n",
       "2       6                           Trigun  8.24   \n",
       "3       7               Witch Hunter Robin  7.27   \n",
       "4       8                   Bouken Ou Beet  6.98   \n",
       "\n",
       "                                              Genres            English name  \\\n",
       "0    Action, Adventure, Comedy, Drama, Sci-Fi, Space            Cowboy Bebop   \n",
       "1              Action, Drama, Mystery, Sci-Fi, Space  Cowboy Bebop:The Movie   \n",
       "2  Action, Sci-Fi, Adventure, Comedy, Drama, Shounen                  Trigun   \n",
       "3  Action, Mystery, Police, Supernatural, Drama, ...      Witch Hunter Robin   \n",
       "4          Adventure, Fantasy, Shounen, Supernatural  Beet the Vandel Buster   \n",
       "\n",
       "                      Japanese name   Type Episodes  \\\n",
       "0                         カウボーイビバップ     TV       26   \n",
       "1                    カウボーイビバップ 天国の扉  Movie        1   \n",
       "2                             トライガン     TV       26   \n",
       "3  Witch Hunter ROBIN (ウイッチハンターロビン)     TV       26   \n",
       "4                            冒険王ビィト     TV       52   \n",
       "\n",
       "                          Aired    Premiered  ...  Score-10   Score-9  \\\n",
       "0   Apr 3, 1998 to Apr 24, 1999  Spring 1998  ...  229170.0  182126.0   \n",
       "1                   Sep 1, 2001      Unknown  ...   30043.0   49201.0   \n",
       "2   Apr 1, 1998 to Sep 30, 1998  Spring 1998  ...   50229.0   75651.0   \n",
       "3   Jul 2, 2002 to Dec 24, 2002  Summer 2002  ...    2182.0    4806.0   \n",
       "4  Sep 30, 2004 to Sep 29, 2005    Fall 2004  ...     312.0     529.0   \n",
       "\n",
       "    Score-8  Score-7  Score-6 Score-5 Score-4  Score-3  Score-2  Score-1  \n",
       "0  131625.0  62330.0  20688.0  8904.0  3184.0   1357.0    741.0   1580.0  \n",
       "1   49505.0  22632.0   5805.0  1877.0   577.0    221.0    109.0    379.0  \n",
       "2   86142.0  49432.0  15376.0  5838.0  1965.0    664.0    316.0    533.0  \n",
       "3   10128.0  11618.0   5709.0  2920.0  1083.0    353.0    164.0    131.0  \n",
       "4    1242.0   1713.0   1068.0   634.0   265.0     83.0     50.0     27.0  \n",
       "\n",
       "[5 rows x 35 columns]"
      ]
     },
     "execution_count": 6,
     "metadata": {},
     "output_type": "execute_result"
    }
   ],
   "source": [
    "animes_df.head()"
   ]
  },
  {
   "cell_type": "markdown",
   "metadata": {},
   "source": [
    "### 2. Cleaning the main dataset\n",
    "\n",
    "#### Reducing the dataset\n",
    "As the dataset we're working with is too large, we're also going to reduce it and keep only the first 20000 users (out of 320000).\n",
    "\n",
    "We also get rid of of the rows where ```watching_status == 4``` because this means a user dropped this anime, so it shouldn't be included in the data used to train the recommendation system."
   ]
  },
  {
   "cell_type": "code",
   "execution_count": 7,
   "metadata": {},
   "outputs": [],
   "source": [
    "dataset.drop(['watched_episodes'], axis=1, inplace=True)\n",
    "dataset = dataset[(dataset['watching_status'] != 4) & (dataset['user_id'] < 20000)]\n",
    "dataset = dataset.drop(\"watching_status\", axis=1)"
   ]
  },
  {
   "cell_type": "markdown",
   "metadata": {},
   "source": [
    "Here we can see a sample of how the dataset is now structured."
   ]
  },
  {
   "cell_type": "code",
   "execution_count": 8,
   "metadata": {},
   "outputs": [
    {
     "data": {
      "text/html": [
       "<div>\n",
       "<style scoped>\n",
       "    .dataframe tbody tr th:only-of-type {\n",
       "        vertical-align: middle;\n",
       "    }\n",
       "\n",
       "    .dataframe tbody tr th {\n",
       "        vertical-align: top;\n",
       "    }\n",
       "\n",
       "    .dataframe thead th {\n",
       "        text-align: right;\n",
       "    }\n",
       "</style>\n",
       "<table border=\"1\" class=\"dataframe\">\n",
       "  <thead>\n",
       "    <tr style=\"text-align: right;\">\n",
       "      <th></th>\n",
       "      <th>user_id</th>\n",
       "      <th>anime_id</th>\n",
       "      <th>rating</th>\n",
       "    </tr>\n",
       "  </thead>\n",
       "  <tbody>\n",
       "    <tr>\n",
       "      <th>0</th>\n",
       "      <td>0</td>\n",
       "      <td>67</td>\n",
       "      <td>9</td>\n",
       "    </tr>\n",
       "    <tr>\n",
       "      <th>1</th>\n",
       "      <td>0</td>\n",
       "      <td>6702</td>\n",
       "      <td>7</td>\n",
       "    </tr>\n",
       "    <tr>\n",
       "      <th>2</th>\n",
       "      <td>0</td>\n",
       "      <td>242</td>\n",
       "      <td>10</td>\n",
       "    </tr>\n",
       "    <tr>\n",
       "      <th>3</th>\n",
       "      <td>0</td>\n",
       "      <td>4898</td>\n",
       "      <td>0</td>\n",
       "    </tr>\n",
       "    <tr>\n",
       "      <th>4</th>\n",
       "      <td>0</td>\n",
       "      <td>21</td>\n",
       "      <td>10</td>\n",
       "    </tr>\n",
       "    <tr>\n",
       "      <th>5</th>\n",
       "      <td>0</td>\n",
       "      <td>24</td>\n",
       "      <td>9</td>\n",
       "    </tr>\n",
       "    <tr>\n",
       "      <th>6</th>\n",
       "      <td>0</td>\n",
       "      <td>2104</td>\n",
       "      <td>0</td>\n",
       "    </tr>\n",
       "    <tr>\n",
       "      <th>7</th>\n",
       "      <td>0</td>\n",
       "      <td>4722</td>\n",
       "      <td>8</td>\n",
       "    </tr>\n",
       "    <tr>\n",
       "      <th>8</th>\n",
       "      <td>0</td>\n",
       "      <td>6098</td>\n",
       "      <td>6</td>\n",
       "    </tr>\n",
       "    <tr>\n",
       "      <th>9</th>\n",
       "      <td>0</td>\n",
       "      <td>3125</td>\n",
       "      <td>9</td>\n",
       "    </tr>\n",
       "  </tbody>\n",
       "</table>\n",
       "</div>"
      ],
      "text/plain": [
       "   user_id  anime_id  rating\n",
       "0        0        67       9\n",
       "1        0      6702       7\n",
       "2        0       242      10\n",
       "3        0      4898       0\n",
       "4        0        21      10\n",
       "5        0        24       9\n",
       "6        0      2104       0\n",
       "7        0      4722       8\n",
       "8        0      6098       6\n",
       "9        0      3125       9"
      ]
     },
     "metadata": {},
     "output_type": "display_data"
    },
    {
     "data": {
      "text/plain": [
       "5858482"
      ]
     },
     "execution_count": 8,
     "metadata": {},
     "output_type": "execute_result"
    }
   ],
   "source": [
    "display(dataset.head(10))\n",
    "len(dataset)"
   ]
  },
  {
   "cell_type": "markdown",
   "metadata": {},
   "source": [
    "### 3. Understanding the data with graphs\n",
    "In order to get a better look at the data and how it is structured, we are going to use graphs.\n",
    "\n",
    "This will also allow us to get a first idea of what to recommend to the users.\n"
   ]
  },
  {
   "cell_type": "markdown",
   "metadata": {},
   "source": [
    "#### Creating the edges and the nodes\n",
    "We begin by computing edges and nodes to show on the graphs. \n",
    "\n",
    "The size of a node is proportional to the number of times an anime has been watched overall.\n",
    "\n",
    "The opacity and thickness of an edge is proportional to how strong the link between the two nodes is. This means, if the two animes are often watched by the same user, then the link is stronger.\n",
    "\n",
    "#### Computation times\n",
    "This method is highly inefficient to display all the links between the dataset, because there are too many animes to analyze. If we kept all of the animes, the visual representation would be unreadable. Also, it would take hours if not days to compute all the visual features to display. This is why we only use this method for the first 250 most watched animes."
   ]
  },
  {
   "cell_type": "code",
   "execution_count": null,
   "metadata": {},
   "outputs": [],
   "source": [
    "# Filter the dataset to include only the first 250 most watched animes\n",
    "top_animes = dataset['anime_id'].value_counts().nlargest(250).index \n",
    "df = dataset[dataset['anime_id'].isin(top_animes)]\n",
    "anime_counts = df[\"anime_id\"].value_counts()\n",
    "\n",
    "# Create a graph\n",
    "G = nx.Graph()\n",
    "\n",
    "# Group by user_id\n",
    "user_groups = df.groupby('user_id')\n",
    "\n",
    "# Create edges for each user's watched animes with ratings as weights\n",
    "for user_id, group in tqdm(user_groups):\n",
    "\tanimes = group['anime_id'].tolist()\n",
    "\tratings = group['rating'].tolist()\n",
    "\tfor (anime1, rating1), (anime2, rating2) in combinations(zip(animes, ratings), 2): # We use the ratings given to the anime by the users to compute how strong a link is.\n",
    "\t\tif G.has_edge(anime1, anime2):\n",
    "\t\t\tG[anime1][anime2]['weight'] += (rating1 + rating2) / 20  # Weight is how strong a link is.\n",
    "\t\telse:\n",
    "\t\t\tG.add_edge(anime1, anime2, weight=(rating1 + rating2) / 20)\n",
    "\n",
    "# Get the top 250 most frequent links\n",
    "top_edges = sorted(G.edges(data=True), key=lambda x: x[2]['weight'], reverse=True)[:250]\n",
    "\n",
    "# Create a new graph with only the top 250 edges\n",
    "top_G = nx.Graph()\n",
    "top_G.add_edges_from([(u, v, {'weight': d['weight']}) for u, v, d in top_edges]) # We add an additional column that will be used for printing the graphs.\n",
    "\n",
    "# Normalize the weights between 0 and 5 for visual representation reasons. Otherwise, the edges are too big and the graphs are unreadable.\n",
    "weights = [d['weight'] for u, v, d in top_G.edges(data=True)]\n",
    "min_weight = min(weights)\n",
    "max_weight = max(weights)\n",
    "\n",
    "min_count = anime_counts.min()\n",
    "max_count = anime_counts.max()\n",
    "\n",
    "node_sizes = [\n",
    "\t10 + (anime_counts[node] - min_count) * (50 - 10) / (max_count - min_count)\n",
    "\tfor node in top_G.nodes()\n",
    "]\n",
    "\n",
    "for u, v, d in top_G.edges(data=True):\n",
    "\td['normalized_weight'] = 5 * (d['weight'] - min_weight) / (max_weight - min_weight) # We modify the additional column to make it actually displayable on a graph"
   ]
  },
  {
   "cell_type": "markdown",
   "metadata": {},
   "source": [
    "#### Spring layout\n",
    "For our representation, we chose to use the spring layout."
   ]
  },
  {
   "cell_type": "code",
   "execution_count": 10,
   "metadata": {},
   "outputs": [],
   "source": [
    "# Get positions for all nodes\n",
    "pos = nx.spring_layout(top_G, k=10, iterations=100)"
   ]
  },
  {
   "cell_type": "markdown",
   "metadata": {},
   "source": [
    "We make the graphs more understandable by adding some context when hovering the nodes."
   ]
  },
  {
   "cell_type": "code",
   "execution_count": 11,
   "metadata": {},
   "outputs": [],
   "source": [
    "hover_texts = []\n",
    "for node in top_G.nodes():\n",
    "    neighbors = list(top_G[node])\n",
    "    weights = [top_G[node][neighbor]['weight'] for neighbor in neighbors]\n",
    "    total_weight = sum(weights)\n",
    "    percentages = [(neighbor, top_G[node][neighbor]['weight'] / total_weight * 100) for neighbor in neighbors]\n",
    "    percentages = sorted(percentages, key=lambda x: x[1], reverse=True)[:5]\n",
    "    \n",
    "    anime_name = animes_df[animes_df['MAL_ID'] == node]['English name'].values[0]\n",
    "    neighbors = [f\"{animes_df[animes_df['MAL_ID'] == neighbor]['English name'].values[0]}: {weight:.2f}%\" for neighbor, weight in percentages] #Each neighbor associated string is in the format \"{neighbor_name}: percent_occurence_with_linked_node%\"\n",
    "    hover_text = f\"{anime_name}<br>\" + \"<br>\".join(neighbors)\n",
    "    hover_texts.append(hover_text)"
   ]
  },
  {
   "cell_type": "code",
   "execution_count": 12,
   "metadata": {},
   "outputs": [],
   "source": [
    "# Create edge traces\n",
    "edge_trace = []\n",
    "for edge in top_G.edges(data=True):\n",
    "\tx0, y0 = pos[edge[0]]\n",
    "\tx1, y1 = pos[edge[1]]\n",
    "\ttrace = go.Scatter(\n",
    "\t\tx=[x0, x1, None],\n",
    "\t\ty=[y0, y1, None],\n",
    "\t\tline=dict(width=edge[2]['normalized_weight'], color='gray'),  # We use the normalized weights computed before\n",
    "\t\thoverinfo=\"none\",\n",
    "\t\tmode='lines'\n",
    "\t)\n",
    "\tedge_trace.append(trace)\n",
    "\n",
    "# Create node trace\n",
    "node_trace = go.Scatter(\n",
    "\tx=[pos[node][0] for node in top_G.nodes()],\n",
    "\ty=[pos[node][1] for node in top_G.nodes()],\n",
    "\thovertext=hover_texts,\n",
    "\ttext=[animes_df[animes_df['MAL_ID'] == node]['English name'].values[0] for node in top_G.nodes()], # This is converting the id into a name\n",
    "\tmode='markers+text',\n",
    "\ttextposition='top center',\n",
    "\tmarker=dict(\n",
    "\t\tsize=node_sizes,\n",
    "\t\tcolor='skyblue',\n",
    "\t\tline=dict(width=2, color='black')\n",
    "\t)\n",
    ")"
   ]
  },
  {
   "cell_type": "code",
   "execution_count": 13,
   "metadata": {},
   "outputs": [
    {
     "data": {
      "application/vnd.plotly.v1+json": {
       "config": {
        "plotlyServerURL": "https://plot.ly"
       },
       "data": [
        {
         "hoverinfo": "none",
         "line": {
          "color": "gray",
          "width": 5
         },
         "mode": "lines",
         "type": "scatter",
         "x": [
          0.12325816659999343,
          -0.10683267380600955,
          null
         ],
         "y": [
          0.09938265981017863,
          -0.060575490077410234,
          null
         ]
        },
        {
         "hoverinfo": "none",
         "line": {
          "color": "gray",
          "width": 4.3067630865311575
         },
         "mode": "lines",
         "type": "scatter",
         "x": [
          0.12325816659999343,
          0.019719701372325146,
          null
         ],
         "y": [
          0.09938265981017863,
          0.05222225069205478,
          null
         ]
        },
        {
         "hoverinfo": "none",
         "line": {
          "color": "gray",
          "width": 3.8957186293039054
         },
         "mode": "lines",
         "type": "scatter",
         "x": [
          0.12325816659999343,
          -0.09456552480518056,
          null
         ],
         "y": [
          0.09938265981017863,
          0.1595014715402861,
          null
         ]
        },
        {
         "hoverinfo": "none",
         "line": {
          "color": "gray",
          "width": 3.3116936477934096
         },
         "mode": "lines",
         "type": "scatter",
         "x": [
          0.12325816659999343,
          0.06881095184325808,
          null
         ],
         "y": [
          0.09938265981017863,
          0.00113483160736482,
          null
         ]
        },
        {
         "hoverinfo": "none",
         "line": {
          "color": "gray",
          "width": 3.18958008053261
         },
         "mode": "lines",
         "type": "scatter",
         "x": [
          0.12325816659999343,
          0.024858709411272984,
          null
         ],
         "y": [
          0.09938265981017863,
          -0.06446932135823895,
          null
         ]
        },
        {
         "hoverinfo": "none",
         "line": {
          "color": "gray",
          "width": 2.906072807954656
         },
         "mode": "lines",
         "type": "scatter",
         "x": [
          0.12325816659999343,
          -0.09231253902730852,
          null
         ],
         "y": [
          0.09938265981017863,
          -0.11210955958199971,
          null
         ]
        },
        {
         "hoverinfo": "none",
         "line": {
          "color": "gray",
          "width": 2.864163037225763
         },
         "mode": "lines",
         "type": "scatter",
         "x": [
          0.12325816659999343,
          0.07371358706928084,
          null
         ],
         "y": [
          0.09938265981017863,
          0.13702480971869202,
          null
         ]
        },
        {
         "hoverinfo": "none",
         "line": {
          "color": "gray",
          "width": 2.7002218752567977
         },
         "mode": "lines",
         "type": "scatter",
         "x": [
          0.12325816659999343,
          -0.002318795500188933,
          null
         ],
         "y": [
          0.09938265981017863,
          0.15378071306562674,
          null
         ]
        },
        {
         "hoverinfo": "none",
         "line": {
          "color": "gray",
          "width": 2.6080203796531345
         },
         "mode": "lines",
         "type": "scatter",
         "x": [
          0.12325816659999343,
          -0.12690408062775316,
          null
         ],
         "y": [
          0.09938265981017863,
          0.2771091015497012,
          null
         ]
        },
        {
         "hoverinfo": "none",
         "line": {
          "color": "gray",
          "width": 2.1807872462816427
         },
         "mode": "lines",
         "type": "scatter",
         "x": [
          0.12325816659999343,
          0.22650676245869772,
          null
         ],
         "y": [
          0.09938265981017863,
          0.2827907186596197,
          null
         ]
        },
        {
         "hoverinfo": "none",
         "line": {
          "color": "gray",
          "width": 2.1578601364122596
         },
         "mode": "lines",
         "type": "scatter",
         "x": [
          0.12325816659999343,
          -0.21261103129035247,
          null
         ],
         "y": [
          0.09938265981017863,
          0.15599713930489764,
          null
         ]
        },
        {
         "hoverinfo": "none",
         "line": {
          "color": "gray",
          "width": 2.0994329854548184
         },
         "mode": "lines",
         "type": "scatter",
         "x": [
          0.12325816659999343,
          0.14235758001942894,
          null
         ],
         "y": [
          0.09938265981017863,
          -0.2753397657460325,
          null
         ]
        },
        {
         "hoverinfo": "none",
         "line": {
          "color": "gray",
          "width": 2.0401018982660943
         },
         "mode": "lines",
         "type": "scatter",
         "x": [
          0.12325816659999343,
          -0.17400222113902494,
          null
         ],
         "y": [
          0.09938265981017863,
          0.026605836434634163,
          null
         ]
        },
        {
         "hoverinfo": "none",
         "line": {
          "color": "gray",
          "width": 1.8467417207659098
         },
         "mode": "lines",
         "type": "scatter",
         "x": [
          0.12325816659999343,
          -0.0347507912901253,
          null
         ],
         "y": [
          0.09938265981017863,
          0.2666451478668873,
          null
         ]
        },
        {
         "hoverinfo": "none",
         "line": {
          "color": "gray",
          "width": 1.8467417207658559
         },
         "mode": "lines",
         "type": "scatter",
         "x": [
          0.12325816659999343,
          -0.194172381273039,
          null
         ],
         "y": [
          0.09938265981017863,
          -0.06581745105705747,
          null
         ]
        },
        {
         "hoverinfo": "none",
         "line": {
          "color": "gray",
          "width": 1.6343167063851467
         },
         "mode": "lines",
         "type": "scatter",
         "x": [
          0.12325816659999343,
          -0.3430599153172366,
          null
         ],
         "y": [
          0.09938265981017863,
          0.3176424075159156,
          null
         ]
        },
        {
         "hoverinfo": "none",
         "line": {
          "color": "gray",
          "width": 1.3822828498644684
         },
         "mode": "lines",
         "type": "scatter",
         "x": [
          0.12325816659999343,
          -0.25334272059311524,
          null
         ],
         "y": [
          0.09938265981017863,
          -0.13828933333464086,
          null
         ]
        },
        {
         "hoverinfo": "none",
         "line": {
          "color": "gray",
          "width": 1.3077491987838634
         },
         "mode": "lines",
         "type": "scatter",
         "x": [
          0.12325816659999343,
          -0.020743255859477422,
          null
         ],
         "y": [
          0.09938265981017863,
          -0.16597487148227263,
          null
         ]
        },
        {
         "hoverinfo": "none",
         "line": {
          "color": "gray",
          "width": 1.0483195003697938
         },
         "mode": "lines",
         "type": "scatter",
         "x": [
          0.12325816659999343,
          0.015433138787508186,
          null
         ],
         "y": [
          0.09938265981017863,
          0.47404854839825056,
          null
         ]
        },
        {
         "hoverinfo": "none",
         "line": {
          "color": "gray",
          "width": 1.0080532500616126
         },
         "mode": "lines",
         "type": "scatter",
         "x": [
          0.12325816659999343,
          0.29478625685154936,
          null
         ],
         "y": [
          0.09938265981017863,
          0.11524827966195127,
          null
         ]
        },
        {
         "hoverinfo": "none",
         "line": {
          "color": "gray",
          "width": 1.0066562577040072
         },
         "mode": "lines",
         "type": "scatter",
         "x": [
          0.12325816659999343,
          -0.08915599501111612,
          null
         ],
         "y": [
          0.09938265981017863,
          -0.2820303374622859,
          null
         ]
        },
        {
         "hoverinfo": "none",
         "line": {
          "color": "gray",
          "width": 0.9501191552305387
         },
         "mode": "lines",
         "type": "scatter",
         "x": [
          0.12325816659999343,
          0.40208252768864594,
          null
         ],
         "y": [
          0.09938265981017863,
          0.014828974168762263,
          null
         ]
        },
        {
         "hoverinfo": "none",
         "line": {
          "color": "gray",
          "width": 0.919549675404759
         },
         "mode": "lines",
         "type": "scatter",
         "x": [
          0.12325816659999343,
          0.35301693209595614,
          null
         ],
         "y": [
          0.09938265981017863,
          -0.14438739033576298,
          null
         ]
        },
        {
         "hoverinfo": "none",
         "line": {
          "color": "gray",
          "width": 0.8922672364203706
         },
         "mode": "lines",
         "type": "scatter",
         "x": [
          0.12325816659999343,
          -0.40801345664229033,
          null
         ],
         "y": [
          0.09938265981017863,
          -0.04238464538519364,
          null
         ]
        },
        {
         "hoverinfo": "none",
         "line": {
          "color": "gray",
          "width": 0.8675322540882796
         },
         "mode": "lines",
         "type": "scatter",
         "x": [
          0.12325816659999343,
          -0.228307116377087,
          null
         ],
         "y": [
          0.09938265981017863,
          -0.318009867112384,
          null
         ]
        },
        {
         "hoverinfo": "none",
         "line": {
          "color": "gray",
          "width": 0.8388528227463189
         },
         "mode": "lines",
         "type": "scatter",
         "x": [
          0.12325816659999343,
          0.09850134846648266,
          null
         ],
         "y": [
          0.09938265981017863,
          0.3638727802495825,
          null
         ]
        },
        {
         "hoverinfo": "none",
         "line": {
          "color": "gray",
          "width": 0.834250965568255
         },
         "mode": "lines",
         "type": "scatter",
         "x": [
          0.12325816659999343,
          0.21001255460898094,
          null
         ],
         "y": [
          0.09938265981017863,
          0.4873543623677314,
          null
         ]
        },
        {
         "hoverinfo": "none",
         "line": {
          "color": "gray",
          "width": 0.7198619442846765
         },
         "mode": "lines",
         "type": "scatter",
         "x": [
          0.12325816659999343,
          -0.297020597403699,
          null
         ],
         "y": [
          0.09938265981017863,
          0.04330942814369144,
          null
         ]
        },
        {
         "hoverinfo": "none",
         "line": {
          "color": "gray",
          "width": 0.6629961377270106
         },
         "mode": "lines",
         "type": "scatter",
         "x": [
          0.12325816659999343,
          0.6226413189712324,
          null
         ],
         "y": [
          0.09938265981017863,
          0.251970752218781,
          null
         ]
        },
        {
         "hoverinfo": "none",
         "line": {
          "color": "gray",
          "width": 0.6417125482783962
         },
         "mode": "lines",
         "type": "scatter",
         "x": [
          0.12325816659999343,
          0.11823346104571722,
          null
         ],
         "y": [
          0.09938265981017863,
          -0.4004808146973514,
          null
         ]
        },
        {
         "hoverinfo": "none",
         "line": {
          "color": "gray",
          "width": 0.6389185635630945
         },
         "mode": "lines",
         "type": "scatter",
         "x": [
          0.12325816659999343,
          0.245325819206504,
          null
         ],
         "y": [
          0.09938265981017863,
          -0.3335578160897017,
          null
         ]
        },
        {
         "hoverinfo": "none",
         "line": {
          "color": "gray",
          "width": 0.6200180787245905
         },
         "mode": "lines",
         "type": "scatter",
         "x": [
          0.12325816659999343,
          0.15166198398178618,
          null
         ],
         "y": [
          0.09938265981017863,
          -0.1375063320984636,
          null
         ]
        },
        {
         "hoverinfo": "none",
         "line": {
          "color": "gray",
          "width": 0.6116361245788511
         },
         "mode": "lines",
         "type": "scatter",
         "x": [
          0.12325816659999343,
          0.7633046646199801,
          null
         ],
         "y": [
          0.09938265981017863,
          -0.36778722015776216,
          null
         ]
        },
        {
         "hoverinfo": "none",
         "line": {
          "color": "gray",
          "width": 0.5961870326239165
         },
         "mode": "lines",
         "type": "scatter",
         "x": [
          0.12325816659999343,
          -0.31937377789192695,
          null
         ],
         "y": [
          0.09938265981017863,
          0.5122043740165152,
          null
         ]
        },
        {
         "hoverinfo": "none",
         "line": {
          "color": "gray",
          "width": 0.529953159668009
         },
         "mode": "lines",
         "type": "scatter",
         "x": [
          0.12325816659999343,
          0.45492396995564044,
          null
         ],
         "y": [
          0.09938265981017863,
          -0.1725730976497226,
          null
         ]
        },
        {
         "hoverinfo": "none",
         "line": {
          "color": "gray",
          "width": 0.4553373325663518
         },
         "mode": "lines",
         "type": "scatter",
         "x": [
          0.12325816659999343,
          -0.4302561380001633,
          null
         ],
         "y": [
          0.09938265981017863,
          -0.2195513745572202,
          null
         ]
        },
        {
         "hoverinfo": "none",
         "line": {
          "color": "gray",
          "width": 0.3299367244638115
         },
         "mode": "lines",
         "type": "scatter",
         "x": [
          0.12325816659999343,
          -0.034774153567693256,
          null
         ],
         "y": [
          0.09938265981017863,
          -0.5659812243796298,
          null
         ]
        },
        {
         "hoverinfo": "none",
         "line": {
          "color": "gray",
          "width": 0.30446215794233034
         },
         "mode": "lines",
         "type": "scatter",
         "x": [
          0.12325816659999343,
          -0.4121859677983904,
          null
         ],
         "y": [
          0.09938265981017863,
          0.09555018349377375,
          null
         ]
        },
        {
         "hoverinfo": "none",
         "line": {
          "color": "gray",
          "width": 0.29246445887089917
         },
         "mode": "lines",
         "type": "scatter",
         "x": [
          0.12325816659999343,
          -0.20683255077251636,
          null
         ],
         "y": [
          0.09938265981017863,
          0.8443727080784635,
          null
         ]
        },
        {
         "hoverinfo": "none",
         "line": {
          "color": "gray",
          "width": 0.28391815268306114
         },
         "mode": "lines",
         "type": "scatter",
         "x": [
          0.12325816659999343,
          0.40622843877985715,
          null
         ],
         "y": [
          0.09938265981017863,
          0.2101754941216113,
          null
         ]
        },
        {
         "hoverinfo": "none",
         "line": {
          "color": "gray",
          "width": 0.22056044046349288
         },
         "mode": "lines",
         "type": "scatter",
         "x": [
          0.12325816659999343,
          0.7636824478521055,
          null
         ],
         "y": [
          0.09938265981017863,
          0.5755642757563393,
          null
         ]
        },
        {
         "hoverinfo": "none",
         "line": {
          "color": "gray",
          "width": 0.14331498068860263
         },
         "mode": "lines",
         "type": "scatter",
         "x": [
          0.12325816659999343,
          0.2068444173344469,
          null
         ],
         "y": [
          0.09938265981017863,
          0.8179622845886481,
          null
         ]
        },
        {
         "hoverinfo": "none",
         "line": {
          "color": "gray",
          "width": 0.10830799572685605
         },
         "mode": "lines",
         "type": "scatter",
         "x": [
          0.12325816659999343,
          0.5118457588317109,
          null
         ],
         "y": [
          0.09938265981017863,
          0.6436579845829874,
          null
         ]
        },
        {
         "hoverinfo": "none",
         "line": {
          "color": "gray",
          "width": 0.05563316624210992
         },
         "mode": "lines",
         "type": "scatter",
         "x": [
          0.12325816659999343,
          0.39892116545219475,
          null
         ],
         "y": [
          0.09938265981017863,
          -0.34361139052723494,
          null
         ]
        },
        {
         "hoverinfo": "none",
         "line": {
          "color": "gray",
          "width": 0.010847234776890912
         },
         "mode": "lines",
         "type": "scatter",
         "x": [
          0.12325816659999343,
          0.9109489474217597,
          null
         ],
         "y": [
          0.09938265981017863,
          0.2759036261695417,
          null
         ]
        },
        {
         "hoverinfo": "none",
         "line": {
          "color": "gray",
          "width": 3.8236502588545815
         },
         "mode": "lines",
         "type": "scatter",
         "x": [
          -0.10683267380600955,
          0.024858709411272984,
          null
         ],
         "y": [
          -0.060575490077410234,
          -0.06446932135823895,
          null
         ]
        },
        {
         "hoverinfo": "none",
         "line": {
          "color": "gray",
          "width": 3.7824800723147547
         },
         "mode": "lines",
         "type": "scatter",
         "x": [
          -0.10683267380600955,
          0.019719701372325146,
          null
         ],
         "y": [
          -0.060575490077410234,
          0.05222225069205478,
          null
         ]
        },
        {
         "hoverinfo": "none",
         "line": {
          "color": "gray",
          "width": 3.5325827923412465
         },
         "mode": "lines",
         "type": "scatter",
         "x": [
          -0.10683267380600955,
          -0.09231253902730852,
          null
         ],
         "y": [
          -0.060575490077410234,
          -0.11210955958199971,
          null
         ]
        },
        {
         "hoverinfo": "none",
         "line": {
          "color": "gray",
          "width": 3.3381543265673193
         },
         "mode": "lines",
         "type": "scatter",
         "x": [
          -0.10683267380600955,
          0.06881095184325808,
          null
         ],
         "y": [
          -0.060575490077410234,
          0.00113483160736482,
          null
         ]
        },
        {
         "hoverinfo": "none",
         "line": {
          "color": "gray",
          "width": 2.826526419590835
         },
         "mode": "lines",
         "type": "scatter",
         "x": [
          -0.10683267380600955,
          -0.21261103129035247,
          null
         ],
         "y": [
          -0.060575490077410234,
          0.15599713930489764,
          null
         ]
        },
        {
         "hoverinfo": "none",
         "line": {
          "color": "gray",
          "width": 2.802037965321772
         },
         "mode": "lines",
         "type": "scatter",
         "x": [
          -0.10683267380600955,
          0.07371358706928084,
          null
         ],
         "y": [
          -0.060575490077410234,
          0.13702480971869202,
          null
         ]
        },
        {
         "hoverinfo": "none",
         "line": {
          "color": "gray",
          "width": 2.6933190894897536
         },
         "mode": "lines",
         "type": "scatter",
         "x": [
          -0.10683267380600955,
          -0.17400222113902494,
          null
         ],
         "y": [
          -0.060575490077410234,
          0.026605836434634163,
          null
         ]
        },
        {
         "hoverinfo": "none",
         "line": {
          "color": "gray",
          "width": 2.6929082093844308
         },
         "mode": "lines",
         "type": "scatter",
         "x": [
          -0.10683267380600955,
          -0.09456552480518056,
          null
         ],
         "y": [
          -0.060575490077410234,
          0.1595014715402861,
          null
         ]
        },
        {
         "hoverinfo": "none",
         "line": {
          "color": "gray",
          "width": 2.373900895718655
         },
         "mode": "lines",
         "type": "scatter",
         "x": [
          -0.10683267380600955,
          -0.002318795500188933,
          null
         ],
         "y": [
          -0.060575490077410234,
          0.15378071306562674,
          null
         ]
        },
        {
         "hoverinfo": "none",
         "line": {
          "color": "gray",
          "width": 2.3637932451310104
         },
         "mode": "lines",
         "type": "scatter",
         "x": [
          -0.10683267380600955,
          -0.194172381273039,
          null
         ],
         "y": [
          -0.060575490077410234,
          -0.06581745105705747,
          null
         ]
        },
        {
         "hoverinfo": "none",
         "line": {
          "color": "gray",
          "width": 2.2097132056866404
         },
         "mode": "lines",
         "type": "scatter",
         "x": [
          -0.10683267380600955,
          -0.228307116377087,
          null
         ],
         "y": [
          -0.060575490077410234,
          -0.318009867112384,
          null
         ]
        },
        {
         "hoverinfo": "none",
         "line": {
          "color": "gray",
          "width": 2.1049387788644247
         },
         "mode": "lines",
         "type": "scatter",
         "x": [
          -0.10683267380600955,
          -0.25334272059311524,
          null
         ],
         "y": [
          -0.060575490077410234,
          -0.13828933333464086,
          null
         ]
        },
        {
         "hoverinfo": "none",
         "line": {
          "color": "gray",
          "width": 2.064261648451015
         },
         "mode": "lines",
         "type": "scatter",
         "x": [
          -0.10683267380600955,
          -0.0347507912901253,
          null
         ],
         "y": [
          -0.060575490077410234,
          0.2666451478668873,
          null
         ]
        },
        {
         "hoverinfo": "none",
         "line": {
          "color": "gray",
          "width": 2.0113402909031906
         },
         "mode": "lines",
         "type": "scatter",
         "x": [
          -0.10683267380600955,
          -0.020743255859477422,
          null
         ],
         "y": [
          -0.060575490077410234,
          -0.16597487148227263,
          null
         ]
        },
        {
         "hoverinfo": "none",
         "line": {
          "color": "gray",
          "width": 1.5164762922178823
         },
         "mode": "lines",
         "type": "scatter",
         "x": [
          -0.10683267380600955,
          -0.12690408062775316,
          null
         ],
         "y": [
          -0.060575490077410234,
          0.2771091015497012,
          null
         ]
        },
        {
         "hoverinfo": "none",
         "line": {
          "color": "gray",
          "width": 1.4680746158271474
         },
         "mode": "lines",
         "type": "scatter",
         "x": [
          -0.10683267380600955,
          -0.08915599501111612,
          null
         ],
         "y": [
          -0.060575490077410234,
          -0.2820303374622859,
          null
         ]
        },
        {
         "hoverinfo": "none",
         "line": {
          "color": "gray",
          "width": 1.3383186786095878
         },
         "mode": "lines",
         "type": "scatter",
         "x": [
          -0.10683267380600955,
          -0.297020597403699,
          null
         ],
         "y": [
          -0.060575490077410234,
          0.04330942814369144,
          null
         ]
        },
        {
         "hoverinfo": "none",
         "line": {
          "color": "gray",
          "width": 1.3068452625524674
         },
         "mode": "lines",
         "type": "scatter",
         "x": [
          -0.10683267380600955,
          0.22650676245869772,
          null
         ],
         "y": [
          -0.060575490077410234,
          0.2827907186596197,
          null
         ]
        },
        {
         "hoverinfo": "none",
         "line": {
          "color": "gray",
          "width": 1.3014216451639788
         },
         "mode": "lines",
         "type": "scatter",
         "x": [
          -0.10683267380600955,
          0.14235758001942894,
          null
         ],
         "y": [
          -0.060575490077410234,
          -0.2753397657460325,
          null
         ]
        },
        {
         "hoverinfo": "none",
         "line": {
          "color": "gray",
          "width": 1.1870326238803646
         },
         "mode": "lines",
         "type": "scatter",
         "x": [
          -0.10683267380600955,
          0.29478625685154936,
          null
         ],
         "y": [
          -0.060575490077410234,
          0.11524827966195127,
          null
         ]
        },
        {
         "hoverinfo": "none",
         "line": {
          "color": "gray",
          "width": 1.184978223354423
         },
         "mode": "lines",
         "type": "scatter",
         "x": [
          -0.10683267380600955,
          0.15166198398178618,
          null
         ],
         "y": [
          -0.060575490077410234,
          -0.1375063320984636,
          null
         ]
        },
        {
         "hoverinfo": "none",
         "line": {
          "color": "gray",
          "width": 1.115868189662332
         },
         "mode": "lines",
         "type": "scatter",
         "x": [
          -0.10683267380600955,
          0.35301693209595614,
          null
         ],
         "y": [
          -0.060575490077410234,
          -0.14438739033576298,
          null
         ]
        },
        {
         "hoverinfo": "none",
         "line": {
          "color": "gray",
          "width": 1.0166817322705253
         },
         "mode": "lines",
         "type": "scatter",
         "x": [
          -0.10683267380600955,
          0.45492396995564044,
          null
         ],
         "y": [
          -0.060575490077410234,
          -0.1725730976497226,
          null
         ]
        },
        {
         "hoverinfo": "none",
         "line": {
          "color": "gray",
          "width": 0.9977812474320602
         },
         "mode": "lines",
         "type": "scatter",
         "x": [
          -0.10683267380600955,
          0.40208252768864594,
          null
         ],
         "y": [
          -0.060575490077410234,
          0.014828974168762263,
          null
         ]
        },
        {
         "hoverinfo": "none",
         "line": {
          "color": "gray",
          "width": 0.9677048237324868
         },
         "mode": "lines",
         "type": "scatter",
         "x": [
          -0.10683267380600955,
          -0.4121859677983904,
          null
         ],
         "y": [
          -0.060575490077410234,
          0.09555018349377375,
          null
         ]
        },
        {
         "hoverinfo": "none",
         "line": {
          "color": "gray",
          "width": 0.9307256142657807
         },
         "mode": "lines",
         "type": "scatter",
         "x": [
          -0.10683267380600955,
          -0.4302561380001633,
          null
         ],
         "y": [
          -0.060575490077410234,
          -0.2195513745572202,
          null
         ]
        },
        {
         "hoverinfo": "none",
         "line": {
          "color": "gray",
          "width": 0.9013065987344971
         },
         "mode": "lines",
         "type": "scatter",
         "x": [
          -0.10683267380600955,
          0.11823346104571722,
          null
         ],
         "y": [
          -0.060575490077410234,
          -0.4004808146973514,
          null
         ]
        },
        {
         "hoverinfo": "none",
         "line": {
          "color": "gray",
          "width": 0.900238310460977
         },
         "mode": "lines",
         "type": "scatter",
         "x": [
          -0.10683267380600955,
          0.245325819206504,
          null
         ],
         "y": [
          -0.060575490077410234,
          -0.3335578160897017,
          null
         ]
        },
        {
         "hoverinfo": "none",
         "line": {
          "color": "gray",
          "width": 0.6527241350973836
         },
         "mode": "lines",
         "type": "scatter",
         "x": [
          -0.10683267380600955,
          0.3535246266283876,
          null
         ],
         "y": [
          -0.060575490077410234,
          -0.6999832572324213,
          null
         ]
        },
        {
         "hoverinfo": "none",
         "line": {
          "color": "gray",
          "width": 0.6453282932040582
         },
         "mode": "lines",
         "type": "scatter",
         "x": [
          -0.10683267380600955,
          -0.034774153567693256,
          null
         ],
         "y": [
          -0.060575490077410234,
          -0.5659812243796298,
          null
         ]
        },
        {
         "hoverinfo": "none",
         "line": {
          "color": "gray",
          "width": 0.6413838441942976
         },
         "mode": "lines",
         "type": "scatter",
         "x": [
          -0.10683267380600955,
          0.39892116545219475,
          null
         ],
         "y": [
          -0.060575490077410234,
          -0.34361139052723494,
          null
         ]
        },
        {
         "hoverinfo": "none",
         "line": {
          "color": "gray",
          "width": 0.6371106911003397
         },
         "mode": "lines",
         "type": "scatter",
         "x": [
          -0.10683267380600955,
          0.09850134846648266,
          null
         ],
         "y": [
          -0.060575490077410234,
          0.3638727802495825,
          null
         ]
        },
        {
         "hoverinfo": "none",
         "line": {
          "color": "gray",
          "width": 0.5444161393705521
         },
         "mode": "lines",
         "type": "scatter",
         "x": [
          -0.10683267380600955,
          0.40622843877985715,
          null
         ],
         "y": [
          -0.060575490077410234,
          0.2101754941216113,
          null
         ]
        },
        {
         "hoverinfo": "none",
         "line": {
          "color": "gray",
          "width": 0.49963020790539664
         },
         "mode": "lines",
         "type": "scatter",
         "x": [
          -0.10683267380600955,
          -0.368645671642344,
          null
         ],
         "y": [
          -0.060575490077410234,
          -0.5262095532624058,
          null
         ]
        },
        {
         "hoverinfo": "none",
         "line": {
          "color": "gray",
          "width": 0.479743610814392
         },
         "mode": "lines",
         "type": "scatter",
         "x": [
          -0.10683267380600955,
          -0.3430599153172366,
          null
         ],
         "y": [
          -0.060575490077410234,
          0.3176424075159156,
          null
         ]
        },
        {
         "hoverinfo": "none",
         "line": {
          "color": "gray",
          "width": 0.4368477278330899
         },
         "mode": "lines",
         "type": "scatter",
         "x": [
          -0.10683267380600955,
          -0.6173901536740338,
          null
         ],
         "y": [
          -0.060575490077410234,
          -0.11555101523749747,
          null
         ]
        },
        {
         "hoverinfo": "none",
         "line": {
          "color": "gray",
          "width": 0.4307667022762981
         },
         "mode": "lines",
         "type": "scatter",
         "x": [
          -0.10683267380600955,
          0.015433138787508186,
          null
         ],
         "y": [
          -0.060575490077410234,
          0.47404854839825056,
          null
         ]
        },
        {
         "hoverinfo": "none",
         "line": {
          "color": "gray",
          "width": 0.42304215629882774
         },
         "mode": "lines",
         "type": "scatter",
         "x": [
          -0.10683267380600955,
          -0.31937377789192695,
          null
         ],
         "y": [
          -0.060575490077410234,
          0.5122043740165152,
          null
         ]
        },
        {
         "hoverinfo": "none",
         "line": {
          "color": "gray",
          "width": 0.4079217684280096
         },
         "mode": "lines",
         "type": "scatter",
         "x": [
          -0.10683267380600955,
          0.21001255460898094,
          null
         ],
         "y": [
          -0.060575490077410234,
          0.4873543623677314,
          null
         ]
        },
        {
         "hoverinfo": "none",
         "line": {
          "color": "gray",
          "width": 0.4026625030815914
         },
         "mode": "lines",
         "type": "scatter",
         "x": [
          -0.10683267380600955,
          -0.40801345664229033,
          null
         ],
         "y": [
          -0.060575490077410234,
          -0.04238464538519364,
          null
         ]
        },
        {
         "hoverinfo": "none",
         "line": {
          "color": "gray",
          "width": 0.33725039033614135
         },
         "mode": "lines",
         "type": "scatter",
         "x": [
          -0.10683267380600955,
          -0.2854581060082232,
          null
         ],
         "y": [
          -0.060575490077410234,
          -0.6668824985835136,
          null
         ]
        },
        {
         "hoverinfo": "none",
         "line": {
          "color": "gray",
          "width": 0.2420083819541656
         },
         "mode": "lines",
         "type": "scatter",
         "x": [
          -0.10683267380600955,
          -0.9075081022095464,
          null
         ],
         "y": [
          -0.060575490077410234,
          0.03494807557547126,
          null
         ]
        },
        {
         "hoverinfo": "none",
         "line": {
          "color": "gray",
          "width": 0.17059741967296702
         },
         "mode": "lines",
         "type": "scatter",
         "x": [
          -0.10683267380600955,
          -0.8577607230586327,
          null
         ],
         "y": [
          -0.060575490077410234,
          -0.35639668952135284,
          null
         ]
        },
        {
         "hoverinfo": "none",
         "line": {
          "color": "gray",
          "width": 0.15465527159178125
         },
         "mode": "lines",
         "type": "scatter",
         "x": [
          -0.10683267380600955,
          -0.6833057423589156,
          null
         ],
         "y": [
          -0.060575490077410234,
          -0.6291609624467532,
          null
         ]
        },
        {
         "hoverinfo": "none",
         "line": {
          "color": "gray",
          "width": 0.09474895225576428
         },
         "mode": "lines",
         "type": "scatter",
         "x": [
          -0.10683267380600955,
          -0.543205595882206,
          null
         ],
         "y": [
          -0.060575490077410234,
          0.5138120600163492,
          null
         ]
        },
        {
         "hoverinfo": "none",
         "line": {
          "color": "gray",
          "width": 2.6210041909769246
         },
         "mode": "lines",
         "type": "scatter",
         "x": [
          0.019719701372325146,
          -0.09456552480518056,
          null
         ],
         "y": [
          0.05222225069205478,
          0.1595014715402861,
          null
         ]
        },
        {
         "hoverinfo": "none",
         "line": {
          "color": "gray",
          "width": 2.490508669570078
         },
         "mode": "lines",
         "type": "scatter",
         "x": [
          0.019719701372325146,
          0.06881095184325808,
          null
         ],
         "y": [
          0.05222225069205478,
          0.00113483160736482,
          null
         ]
        },
        {
         "hoverinfo": "none",
         "line": {
          "color": "gray",
          "width": 2.2306680910508967
         },
         "mode": "lines",
         "type": "scatter",
         "x": [
          0.019719701372325146,
          -0.09231253902730852,
          null
         ],
         "y": [
          0.05222225069205478,
          -0.11210955958199971,
          null
         ]
        },
        {
         "hoverinfo": "none",
         "line": {
          "color": "gray",
          "width": 2.2021530117512436
         },
         "mode": "lines",
         "type": "scatter",
         "x": [
          0.019719701372325146,
          0.024858709411272984,
          null
         ],
         "y": [
          0.05222225069205478,
          -0.06446932135823895,
          null
         ]
        },
        {
         "hoverinfo": "none",
         "line": {
          "color": "gray",
          "width": 1.813789136329994
         },
         "mode": "lines",
         "type": "scatter",
         "x": [
          0.019719701372325146,
          0.07371358706928084,
          null
         ],
         "y": [
          0.05222225069205478,
          0.13702480971869202,
          null
         ]
        },
        {
         "hoverinfo": "none",
         "line": {
          "color": "gray",
          "width": 1.6572438162543277
         },
         "mode": "lines",
         "type": "scatter",
         "x": [
          0.019719701372325146,
          -0.12690408062775316,
          null
         ],
         "y": [
          0.05222225069205478,
          0.2771091015497012,
          null
         ]
        },
        {
         "hoverinfo": "none",
         "line": {
          "color": "gray",
          "width": 1.5580573588626256
         },
         "mode": "lines",
         "type": "scatter",
         "x": [
          0.019719701372325146,
          -0.002318795500188933,
          null
         ],
         "y": [
          0.05222225069205478,
          0.15378071306562674,
          null
         ]
        },
        {
         "hoverinfo": "none",
         "line": {
          "color": "gray",
          "width": 1.228778042567172
         },
         "mode": "lines",
         "type": "scatter",
         "x": [
          0.019719701372325146,
          -0.17400222113902494,
          null
         ],
         "y": [
          0.05222225069205478,
          0.026605836434634163,
          null
         ]
        },
        {
         "hoverinfo": "none",
         "line": {
          "color": "gray",
          "width": 1.13378256224825
         },
         "mode": "lines",
         "type": "scatter",
         "x": [
          0.019719701372325146,
          -0.194172381273039,
          null
         ],
         "y": [
          0.05222225069205478,
          -0.06581745105705747,
          null
         ]
        },
        {
         "hoverinfo": "none",
         "line": {
          "color": "gray",
          "width": 1.082751253184337
         },
         "mode": "lines",
         "type": "scatter",
         "x": [
          0.019719701372325146,
          -0.21261103129035247,
          null
         ],
         "y": [
          0.05222225069205478,
          0.15599713930489764,
          null
         ]
        },
        {
         "hoverinfo": "none",
         "line": {
          "color": "gray",
          "width": 1.010272002629617
         },
         "mode": "lines",
         "type": "scatter",
         "x": [
          0.019719701372325146,
          -0.25334272059311524,
          null
         ],
         "y": [
          0.05222225069205478,
          -0.13828933333464086,
          null
         ]
        },
        {
         "hoverinfo": "none",
         "line": {
          "color": "gray",
          "width": 0.9711562166159096
         },
         "mode": "lines",
         "type": "scatter",
         "x": [
          0.019719701372325146,
          0.14235758001942894,
          null
         ],
         "y": [
          0.05222225069205478,
          -0.2753397657460325,
          null
         ]
        },
        {
         "hoverinfo": "none",
         "line": {
          "color": "gray",
          "width": 0.8851179225902321
         },
         "mode": "lines",
         "type": "scatter",
         "x": [
          0.019719701372325146,
          0.22650676245869772,
          null
         ],
         "y": [
          0.05222225069205478,
          0.2827907186596197,
          null
         ]
        },
        {
         "hoverinfo": "none",
         "line": {
          "color": "gray",
          "width": 0.7327635795874798
         },
         "mode": "lines",
         "type": "scatter",
         "x": [
          0.019719701372325146,
          -0.0347507912901253,
          null
         ],
         "y": [
          0.05222225069205478,
          0.2666451478668873,
          null
         ]
        },
        {
         "hoverinfo": "none",
         "line": {
          "color": "gray",
          "width": 0.6809105103130872
         },
         "mode": "lines",
         "type": "scatter",
         "x": [
          0.019719701372325146,
          -0.020743255859477422,
          null
         ],
         "y": [
          0.05222225069205478,
          -0.16597487148227263,
          null
         ]
        },
        {
         "hoverinfo": "none",
         "line": {
          "color": "gray",
          "width": 0.48377023584509427
         },
         "mode": "lines",
         "type": "scatter",
         "x": [
          0.019719701372325146,
          0.245325819206504,
          null
         ],
         "y": [
          0.05222225069205478,
          -0.3335578160897017,
          null
         ]
        },
        {
         "hoverinfo": "none",
         "line": {
          "color": "gray",
          "width": 0.48023666694053396
         },
         "mode": "lines",
         "type": "scatter",
         "x": [
          0.019719701372325146,
          -0.40801345664229033,
          null
         ],
         "y": [
          0.05222225069205478,
          -0.04238464538519364,
          null
         ]
        },
        {
         "hoverinfo": "none",
         "line": {
          "color": "gray",
          "width": 0.38902128358941596
         },
         "mode": "lines",
         "type": "scatter",
         "x": [
          0.019719701372325146,
          -0.08915599501111612,
          null
         ],
         "y": [
          0.05222225069205478,
          -0.2820303374622859,
          null
         ]
        },
        {
         "hoverinfo": "none",
         "line": {
          "color": "gray",
          "width": 0.30742049469967997
         },
         "mode": "lines",
         "type": "scatter",
         "x": [
          0.019719701372325146,
          0.35301693209595614,
          null
         ],
         "y": [
          0.05222225069205478,
          -0.14438739033576298,
          null
         ]
        },
        {
         "hoverinfo": "none",
         "line": {
          "color": "gray",
          "width": 0.3024077574163664
         },
         "mode": "lines",
         "type": "scatter",
         "x": [
          0.019719701372325146,
          0.29478625685154936,
          null
         ],
         "y": [
          0.05222225069205478,
          0.11524827966195127,
          null
         ]
        },
        {
         "hoverinfo": "none",
         "line": {
          "color": "gray",
          "width": 0.2797271756101631
         },
         "mode": "lines",
         "type": "scatter",
         "x": [
          0.019719701372325146,
          0.6226413189712324,
          null
         ],
         "y": [
          0.05222225069205478,
          0.251970752218781,
          null
         ]
        },
        {
         "hoverinfo": "none",
         "line": {
          "color": "gray",
          "width": 0.23091461911412894
         },
         "mode": "lines",
         "type": "scatter",
         "x": [
          0.019719701372325146,
          -0.228307116377087,
          null
         ],
         "y": [
          0.05222225069205478,
          -0.318009867112384,
          null
         ]
        },
        {
         "hoverinfo": "none",
         "line": {
          "color": "gray",
          "width": 0.2089736214972156
         },
         "mode": "lines",
         "type": "scatter",
         "x": [
          0.019719701372325146,
          -0.297020597403699,
          null
         ],
         "y": [
          0.05222225069205478,
          0.04330942814369144,
          null
         ]
        },
        {
         "hoverinfo": "none",
         "line": {
          "color": "gray",
          "width": 0.19270276933188635
         },
         "mode": "lines",
         "type": "scatter",
         "x": [
          0.019719701372325146,
          0.09850134846648266,
          null
         ],
         "y": [
          0.05222225069205478,
          0.3638727802495825,
          null
         ]
        },
        {
         "hoverinfo": "none",
         "line": {
          "color": "gray",
          "width": 0.12252444736625422
         },
         "mode": "lines",
         "type": "scatter",
         "x": [
          0.019719701372325146,
          0.21001255460898094,
          null
         ],
         "y": [
          0.05222225069205478,
          0.4873543623677314,
          null
         ]
        },
        {
         "hoverinfo": "none",
         "line": {
          "color": "gray",
          "width": 0.09499548031884349
         },
         "mode": "lines",
         "type": "scatter",
         "x": [
          0.019719701372325146,
          -0.3430599153172366,
          null
         ],
         "y": [
          0.05222225069205478,
          0.3176424075159156,
          null
         ]
        },
        {
         "hoverinfo": "none",
         "line": {
          "color": "gray",
          "width": 0.04256717889717954
         },
         "mode": "lines",
         "type": "scatter",
         "x": [
          0.019719701372325146,
          -0.4121859677983904,
          null
         ],
         "y": [
          0.05222225069205478,
          0.09555018349377375,
          null
         ]
        },
        {
         "hoverinfo": "none",
         "line": {
          "color": "gray",
          "width": 0.03870490590845857
         },
         "mode": "lines",
         "type": "scatter",
         "x": [
          0.019719701372325146,
          0.015433138787508186,
          null
         ],
         "y": [
          0.05222225069205478,
          0.47404854839825056,
          null
         ]
        },
        {
         "hoverinfo": "none",
         "line": {
          "color": "gray",
          "width": 0.03837620182427175
         },
         "mode": "lines",
         "type": "scatter",
         "x": [
          0.019719701372325146,
          0.11823346104571722,
          null
         ],
         "y": [
          0.05222225069205478,
          -0.4004808146973514,
          null
         ]
        },
        {
         "hoverinfo": "none",
         "line": {
          "color": "gray",
          "width": 0.03171994412026995
         },
         "mode": "lines",
         "type": "scatter",
         "x": [
          0.019719701372325146,
          0.15166198398178618,
          null
         ],
         "y": [
          0.05222225069205478,
          -0.1375063320984636,
          null
         ]
        },
        {
         "hoverinfo": "none",
         "line": {
          "color": "gray",
          "width": 0.023009285890339282
         },
         "mode": "lines",
         "type": "scatter",
         "x": [
          0.019719701372325146,
          0.40622843877985715,
          null
         ],
         "y": [
          0.05222225069205478,
          0.2101754941216113,
          null
         ]
        },
        {
         "hoverinfo": "none",
         "line": {
          "color": "gray",
          "width": 3.816254416961081
         },
         "mode": "lines",
         "type": "scatter",
         "x": [
          -0.09456552480518056,
          -0.12690408062775316,
          null
         ],
         "y": [
          0.1595014715402861,
          0.2771091015497012,
          null
         ]
        },
        {
         "hoverinfo": "none",
         "line": {
          "color": "gray",
          "width": 1.889473251705025
         },
         "mode": "lines",
         "type": "scatter",
         "x": [
          -0.09456552480518056,
          0.06881095184325808,
          null
         ],
         "y": [
          0.1595014715402861,
          0.00113483160736482,
          null
         ]
        },
        {
         "hoverinfo": "none",
         "line": {
          "color": "gray",
          "width": 1.5698085298709714
         },
         "mode": "lines",
         "type": "scatter",
         "x": [
          -0.09456552480518056,
          0.07371358706928084,
          null
         ],
         "y": [
          0.1595014715402861,
          0.13702480971869202,
          null
         ]
        },
        {
         "hoverinfo": "none",
         "line": {
          "color": "gray",
          "width": 1.4915769578437468
         },
         "mode": "lines",
         "type": "scatter",
         "x": [
          -0.09456552480518056,
          0.024858709411272984,
          null
         ],
         "y": [
          0.1595014715402861,
          -0.06446932135823895,
          null
         ]
        },
        {
         "hoverinfo": "none",
         "line": {
          "color": "gray",
          "width": 1.3378256224833172
         },
         "mode": "lines",
         "type": "scatter",
         "x": [
          -0.09456552480518056,
          -0.002318795500188933,
          null
         ],
         "y": [
          0.1595014715402861,
          0.15378071306562674,
          null
         ]
        },
        {
         "hoverinfo": "none",
         "line": {
          "color": "gray",
          "width": 1.0870244062782457
         },
         "mode": "lines",
         "type": "scatter",
         "x": [
          -0.09456552480518056,
          -0.09231253902730852,
          null
         ],
         "y": [
          0.1595014715402861,
          -0.11210955958199971,
          null
         ]
        },
        {
         "hoverinfo": "none",
         "line": {
          "color": "gray",
          "width": 0.6790204618292413
         },
         "mode": "lines",
         "type": "scatter",
         "x": [
          -0.09456552480518056,
          -0.17400222113902494,
          null
         ],
         "y": [
          0.1595014715402861,
          0.026605836434634163,
          null
         ]
        },
        {
         "hoverinfo": "none",
         "line": {
          "color": "gray",
          "width": 0.37792752074941965
         },
         "mode": "lines",
         "type": "scatter",
         "x": [
          -0.09456552480518056,
          0.14235758001942894,
          null
         ],
         "y": [
          0.1595014715402861,
          -0.2753397657460325,
          null
         ]
        },
        {
         "hoverinfo": "none",
         "line": {
          "color": "gray",
          "width": 0.32286958665458926
         },
         "mode": "lines",
         "type": "scatter",
         "x": [
          -0.09456552480518056,
          -0.40801345664229033,
          null
         ],
         "y": [
          0.1595014715402861,
          -0.04238464538519364,
          null
         ]
        },
        {
         "hoverinfo": "none",
         "line": {
          "color": "gray",
          "width": 0.3103788314569981
         },
         "mode": "lines",
         "type": "scatter",
         "x": [
          -0.09456552480518056,
          -0.0347507912901253,
          null
         ],
         "y": [
          0.1595014715402861,
          0.2666451478668873,
          null
         ]
        },
        {
         "hoverinfo": "none",
         "line": {
          "color": "gray",
          "width": 0.2700304051278528
         },
         "mode": "lines",
         "type": "scatter",
         "x": [
          -0.09456552480518056,
          0.22650676245869772,
          null
         ],
         "y": [
          0.1595014715402861,
          0.2827907186596197,
          null
         ]
        },
        {
         "hoverinfo": "none",
         "line": {
          "color": "gray",
          "width": 0.2613197468978967
         },
         "mode": "lines",
         "type": "scatter",
         "x": [
          -0.09456552480518056,
          -0.21261103129035247,
          null
         ],
         "y": [
          0.1595014715402861,
          0.15599713930489764,
          null
         ]
        },
        {
         "hoverinfo": "none",
         "line": {
          "color": "gray",
          "width": 0.17322705234614622
         },
         "mode": "lines",
         "type": "scatter",
         "x": [
          -0.09456552480518056,
          -0.3430599153172366,
          null
         ],
         "y": [
          0.1595014715402861,
          0.3176424075159156,
          null
         ]
        },
        {
         "hoverinfo": "none",
         "line": {
          "color": "gray",
          "width": 0.14011011586818578
         },
         "mode": "lines",
         "type": "scatter",
         "x": [
          -0.09456552480518056,
          0.015433138787508186,
          null
         ],
         "y": [
          0.1595014715402861,
          0.47404854839825056,
          null
         ]
        },
        {
         "hoverinfo": "none",
         "line": {
          "color": "gray",
          "width": 0.10576053907468583
         },
         "mode": "lines",
         "type": "scatter",
         "x": [
          -0.09456552480518056,
          0.09850134846648266,
          null
         ],
         "y": [
          0.1595014715402861,
          0.3638727802495825,
          null
         ]
        },
        {
         "hoverinfo": "none",
         "line": {
          "color": "gray",
          "width": 0.09129755937215314
         },
         "mode": "lines",
         "type": "scatter",
         "x": [
          -0.09456552480518056,
          -0.194172381273039,
          null
         ],
         "y": [
          0.1595014715402861,
          -0.06581745105705747,
          null
         ]
        },
        {
         "hoverinfo": "none",
         "line": {
          "color": "gray",
          "width": 2.115539485578186
         },
         "mode": "lines",
         "type": "scatter",
         "x": [
          0.024858709411272984,
          0.07371358706928084,
          null
         ],
         "y": [
          -0.06446932135823895,
          0.13702480971869202,
          null
         ]
        },
        {
         "hoverinfo": "none",
         "line": {
          "color": "gray",
          "width": 2.014791683786767
         },
         "mode": "lines",
         "type": "scatter",
         "x": [
          0.024858709411272984,
          -0.17400222113902494,
          null
         ],
         "y": [
          -0.06446932135823895,
          0.026605836434634163,
          null
         ]
        },
        {
         "hoverinfo": "none",
         "line": {
          "color": "gray",
          "width": 1.9409154408744254
         },
         "mode": "lines",
         "type": "scatter",
         "x": [
          0.024858709411272984,
          0.06881095184325808,
          null
         ],
         "y": [
          -0.06446932135823895,
          0.00113483160736482,
          null
         ]
        },
        {
         "hoverinfo": "none",
         "line": {
          "color": "gray",
          "width": 1.9146191141425886
         },
         "mode": "lines",
         "type": "scatter",
         "x": [
          0.024858709411272984,
          -0.09231253902730852,
          null
         ],
         "y": [
          -0.06446932135823895,
          -0.11210955958199971,
          null
         ]
        },
        {
         "hoverinfo": "none",
         "line": {
          "color": "gray",
          "width": 1.6321801298381826
         },
         "mode": "lines",
         "type": "scatter",
         "x": [
          0.024858709411272984,
          -0.002318795500188933,
          null
         ],
         "y": [
          -0.06446932135823895,
          0.15378071306562674,
          null
         ]
        },
        {
         "hoverinfo": "none",
         "line": {
          "color": "gray",
          "width": 1.3466184567344242
         },
         "mode": "lines",
         "type": "scatter",
         "x": [
          0.024858709411272984,
          -0.21261103129035247,
          null
         ],
         "y": [
          -0.06446932135823895,
          0.15599713930489764,
          null
         ]
        },
        {
         "hoverinfo": "none",
         "line": {
          "color": "gray",
          "width": 1.1785684937135803
         },
         "mode": "lines",
         "type": "scatter",
         "x": [
          0.024858709411272984,
          -0.0347507912901253,
          null
         ],
         "y": [
          -0.06446932135823895,
          0.2666451478668873,
          null
         ]
        },
        {
         "hoverinfo": "none",
         "line": {
          "color": "gray",
          "width": 1.0239953981428747
         },
         "mode": "lines",
         "type": "scatter",
         "x": [
          0.024858709411272984,
          -0.194172381273039,
          null
         ],
         "y": [
          -0.06446932135823895,
          -0.06581745105705747,
          null
         ]
        },
        {
         "hoverinfo": "none",
         "line": {
          "color": "gray",
          "width": 0.9457638261156003
         },
         "mode": "lines",
         "type": "scatter",
         "x": [
          0.024858709411272984,
          -0.368645671642344,
          null
         ],
         "y": [
          -0.06446932135823895,
          -0.5262095532624058,
          null
         ]
        },
        {
         "hoverinfo": "none",
         "line": {
          "color": "gray",
          "width": 0.864491741309945
         },
         "mode": "lines",
         "type": "scatter",
         "x": [
          0.024858709411272984,
          -0.020743255859477422,
          null
         ],
         "y": [
          -0.06446932135823895,
          -0.16597487148227263,
          null
         ]
        },
        {
         "hoverinfo": "none",
         "line": {
          "color": "gray",
          "width": 0.6611882652642663
         },
         "mode": "lines",
         "type": "scatter",
         "x": [
          0.024858709411272984,
          -0.25334272059311524,
          null
         ],
         "y": [
          -0.06446932135823895,
          -0.13828933333464086,
          null
         ]
        },
        {
         "hoverinfo": "none",
         "line": {
          "color": "gray",
          "width": 0.5975840249815083
         },
         "mode": "lines",
         "type": "scatter",
         "x": [
          0.024858709411272984,
          -0.12690408062775316,
          null
         ],
         "y": [
          -0.06446932135823895,
          0.2771091015497012,
          null
         ]
        },
        {
         "hoverinfo": "none",
         "line": {
          "color": "gray",
          "width": 0.5235434300271544
         },
         "mode": "lines",
         "type": "scatter",
         "x": [
          0.024858709411272984,
          -0.297020597403699,
          null
         ],
         "y": [
          -0.06446932135823895,
          0.04330942814369144,
          null
         ]
        },
        {
         "hoverinfo": "none",
         "line": {
          "color": "gray",
          "width": 0.3586161558057767
         },
         "mode": "lines",
         "type": "scatter",
         "x": [
          0.024858709411272984,
          0.35301693209595614,
          null
         ],
         "y": [
          -0.06446932135823895,
          -0.14438739033576298,
          null
         ]
        },
        {
         "hoverinfo": "none",
         "line": {
          "color": "gray",
          "width": 0.295833675733458
         },
         "mode": "lines",
         "type": "scatter",
         "x": [
          0.024858709411272984,
          0.29478625685154936,
          null
         ],
         "y": [
          -0.06446932135823895,
          0.11524827966195127,
          null
         ]
        },
        {
         "hoverinfo": "none",
         "line": {
          "color": "gray",
          "width": 0.273646150053455
         },
         "mode": "lines",
         "type": "scatter",
         "x": [
          0.024858709411272984,
          0.15166198398178618,
          null
         ],
         "y": [
          -0.06446932135823895,
          -0.1375063320984636,
          null
         ]
        },
        {
         "hoverinfo": "none",
         "line": {
          "color": "gray",
          "width": 0.22532664968364802
         },
         "mode": "lines",
         "type": "scatter",
         "x": [
          0.024858709411272984,
          0.22650676245869772,
          null
         ],
         "y": [
          -0.06446932135823895,
          0.2827907186596197,
          null
         ]
        },
        {
         "hoverinfo": "none",
         "line": {
          "color": "gray",
          "width": 0.19155230503742005
         },
         "mode": "lines",
         "type": "scatter",
         "x": [
          0.024858709411272984,
          -0.08915599501111612,
          null
         ],
         "y": [
          -0.06446932135823895,
          -0.2820303374622859,
          null
         ]
        },
        {
         "hoverinfo": "none",
         "line": {
          "color": "gray",
          "width": 0.11241679677874218
         },
         "mode": "lines",
         "type": "scatter",
         "x": [
          0.024858709411272984,
          0.39892116545219475,
          null
         ],
         "y": [
          -0.06446932135823895,
          -0.34361139052723494,
          null
         ]
        },
        {
         "hoverinfo": "none",
         "line": {
          "color": "gray",
          "width": 0.011175938861084462
         },
         "mode": "lines",
         "type": "scatter",
         "x": [
          0.024858709411272984,
          0.40208252768864594,
          null
         ],
         "y": [
          -0.06446932135823895,
          0.014828974168762263,
          null
         ]
        },
        {
         "hoverinfo": "none",
         "line": {
          "color": "gray",
          "width": 1.0715753143232047
         },
         "mode": "lines",
         "type": "scatter",
         "x": [
          -0.12690408062775316,
          0.06881095184325808,
          null
         ],
         "y": [
          0.2771091015497012,
          0.00113483160736482,
          null
         ]
        },
        {
         "hoverinfo": "none",
         "line": {
          "color": "gray",
          "width": 0.6678445229681852
         },
         "mode": "lines",
         "type": "scatter",
         "x": [
          -0.12690408062775316,
          0.07371358706928084,
          null
         ],
         "y": [
          0.2771091015497012,
          0.13702480971869202,
          null
         ]
        },
        {
         "hoverinfo": "none",
         "line": {
          "color": "gray",
          "width": 0.45114635549344173
         },
         "mode": "lines",
         "type": "scatter",
         "x": [
          -0.12690408062775316,
          -0.002318795500188933,
          null
         ],
         "y": [
          0.2771091015497012,
          0.15378071306562674,
          null
         ]
        },
        {
         "hoverinfo": "none",
         "line": {
          "color": "gray",
          "width": 0.14725942969839756
         },
         "mode": "lines",
         "type": "scatter",
         "x": [
          -0.12690408062775316,
          -0.09231253902730852,
          null
         ],
         "y": [
          0.2771091015497012,
          -0.11210955958199971,
          null
         ]
        },
        {
         "hoverinfo": "none",
         "line": {
          "color": "gray",
          "width": 1.9315473744762377
         },
         "mode": "lines",
         "type": "scatter",
         "x": [
          -0.09231253902730852,
          -0.25334272059311524,
          null
         ],
         "y": [
          -0.11210955958199971,
          -0.13828933333464086,
          null
         ]
        },
        {
         "hoverinfo": "none",
         "line": {
          "color": "gray",
          "width": 1.8472347768919815
         },
         "mode": "lines",
         "type": "scatter",
         "x": [
          -0.09231253902730852,
          0.06881095184325808,
          null
         ],
         "y": [
          -0.11210955958199971,
          0.00113483160736482,
          null
         ]
        },
        {
         "hoverinfo": "none",
         "line": {
          "color": "gray",
          "width": 1.7702358451804232
         },
         "mode": "lines",
         "type": "scatter",
         "x": [
          -0.09231253902730852,
          -0.17400222113902494,
          null
         ],
         "y": [
          -0.11210955958199971,
          0.026605836434634163,
          null
         ]
        },
        {
         "hoverinfo": "none",
         "line": {
          "color": "gray",
          "width": 1.734242747966104
         },
         "mode": "lines",
         "type": "scatter",
         "x": [
          -0.09231253902730852,
          -0.194172381273039,
          null
         ],
         "y": [
          -0.11210955958199971,
          -0.06581745105705747,
          null
         ]
        },
        {
         "hoverinfo": "none",
         "line": {
          "color": "gray",
          "width": 1.5264195907634854
         },
         "mode": "lines",
         "type": "scatter",
         "x": [
          -0.09231253902730852,
          -0.21261103129035247,
          null
         ],
         "y": [
          -0.11210955958199971,
          0.15599713930489764,
          null
         ]
        },
        {
         "hoverinfo": "none",
         "line": {
          "color": "gray",
          "width": 1.1276193606706062
         },
         "mode": "lines",
         "type": "scatter",
         "x": [
          -0.09231253902730852,
          0.07371358706928084,
          null
         ],
         "y": [
          -0.11210955958199971,
          0.13702480971869202,
          null
         ]
        },
        {
         "hoverinfo": "none",
         "line": {
          "color": "gray",
          "width": 1.00821760210375
         },
         "mode": "lines",
         "type": "scatter",
         "x": [
          -0.09231253902730852,
          -0.297020597403699,
          null
         ],
         "y": [
          -0.11210955958199971,
          0.04330942814369144,
          null
         ]
        },
        {
         "hoverinfo": "none",
         "line": {
          "color": "gray",
          "width": 0.9743610814365207
         },
         "mode": "lines",
         "type": "scatter",
         "x": [
          -0.09231253902730852,
          -0.020743255859477422,
          null
         ],
         "y": [
          -0.11210955958199971,
          -0.16597487148227263,
          null
         ]
        },
        {
         "hoverinfo": "none",
         "line": {
          "color": "gray",
          "width": 0.9435450735475691
         },
         "mode": "lines",
         "type": "scatter",
         "x": [
          -0.09231253902730852,
          -0.002318795500188933,
          null
         ],
         "y": [
          -0.11210955958199971,
          0.15378071306562674,
          null
         ]
        },
        {
         "hoverinfo": "none",
         "line": {
          "color": "gray",
          "width": 0.9102637850275563
         },
         "mode": "lines",
         "type": "scatter",
         "x": [
          -0.09231253902730852,
          -0.08915599501111612,
          null
         ],
         "y": [
          -0.11210955958199971,
          -0.2820303374622859,
          null
         ]
        },
        {
         "hoverinfo": "none",
         "line": {
          "color": "gray",
          "width": 0.7879858657244299
         },
         "mode": "lines",
         "type": "scatter",
         "x": [
          -0.09231253902730852,
          -0.4121859677983904,
          null
         ],
         "y": [
          -0.11210955958199971,
          0.09555018349377375,
          null
         ]
        },
        {
         "hoverinfo": "none",
         "line": {
          "color": "gray",
          "width": 0.7631687073712387
         },
         "mode": "lines",
         "type": "scatter",
         "x": [
          -0.09231253902730852,
          -0.228307116377087,
          null
         ],
         "y": [
          -0.11210955958199971,
          -0.318009867112384,
          null
         ]
        },
        {
         "hoverinfo": "none",
         "line": {
          "color": "gray",
          "width": 0.4914947818227066
         },
         "mode": "lines",
         "type": "scatter",
         "x": [
          -0.09231253902730852,
          -0.0347507912901253,
          null
         ],
         "y": [
          -0.11210955958199971,
          0.2666451478668873,
          null
         ]
        },
        {
         "hoverinfo": "none",
         "line": {
          "color": "gray",
          "width": 0.48261977155063995
         },
         "mode": "lines",
         "type": "scatter",
         "x": [
          -0.09231253902730852,
          -0.4302561380001633,
          null
         ],
         "y": [
          -0.11210955958199971,
          -0.2195513745572202,
          null
         ]
        },
        {
         "hoverinfo": "none",
         "line": {
          "color": "gray",
          "width": 0.4305201742131606
         },
         "mode": "lines",
         "type": "scatter",
         "x": [
          -0.09231253902730852,
          0.15166198398178618,
          null
         ],
         "y": [
          -0.11210955958199971,
          -0.1375063320984636,
          null
         ]
        },
        {
         "hoverinfo": "none",
         "line": {
          "color": "gray",
          "width": 0.37883145698089643
         },
         "mode": "lines",
         "type": "scatter",
         "x": [
          -0.09231253902730852,
          -0.6173901536740338,
          null
         ],
         "y": [
          -0.11210955958199971,
          -0.11555101523749747,
          null
         ]
        },
        {
         "hoverinfo": "none",
         "line": {
          "color": "gray",
          "width": 0.3056126222368669
         },
         "mode": "lines",
         "type": "scatter",
         "x": [
          -0.09231253902730852,
          0.45492396995564044,
          null
         ],
         "y": [
          -0.11210955958199971,
          -0.1725730976497226,
          null
         ]
        },
        {
         "hoverinfo": "none",
         "line": {
          "color": "gray",
          "width": 0.24373407839590688
         },
         "mode": "lines",
         "type": "scatter",
         "x": [
          -0.09231253902730852,
          0.245325819206504,
          null
         ],
         "y": [
          -0.11210955958199971,
          -0.3335578160897017,
          null
         ]
        },
        {
         "hoverinfo": "none",
         "line": {
          "color": "gray",
          "width": 0.029254663489223773
         },
         "mode": "lines",
         "type": "scatter",
         "x": [
          -0.09231253902730852,
          0.22650676245869772,
          null
         ],
         "y": [
          -0.11210955958199971,
          0.2827907186596197,
          null
         ]
        },
        {
         "hoverinfo": "none",
         "line": {
          "color": "gray",
          "width": 0.012819459281798104
         },
         "mode": "lines",
         "type": "scatter",
         "x": [
          -0.09231253902730852,
          0.14235758001942894,
          null
         ],
         "y": [
          -0.11210955958199971,
          -0.2753397657460325,
          null
         ]
        },
        {
         "hoverinfo": "none",
         "line": {
          "color": "gray",
          "width": 0.004190977072919752
         },
         "mode": "lines",
         "type": "scatter",
         "x": [
          -0.09231253902730852,
          -0.2854581060082232,
          null
         ],
         "y": [
          -0.11210955958199971,
          -0.6668824985835136,
          null
         ]
        },
        {
         "hoverinfo": "none",
         "line": {
          "color": "gray",
          "width": 1.9115786013640355
         },
         "mode": "lines",
         "type": "scatter",
         "x": [
          0.06881095184325808,
          0.07371358706928084,
          null
         ],
         "y": [
          0.00113483160736482,
          0.13702480971869202,
          null
         ]
        },
        {
         "hoverinfo": "none",
         "line": {
          "color": "gray",
          "width": 1.4465444983153024
         },
         "mode": "lines",
         "type": "scatter",
         "x": [
          0.06881095184325808,
          -0.002318795500188933,
          null
         ],
         "y": [
          0.00113483160736482,
          0.15378071306562674,
          null
         ]
        },
        {
         "hoverinfo": "none",
         "line": {
          "color": "gray",
          "width": 1.4019229188922355
         },
         "mode": "lines",
         "type": "scatter",
         "x": [
          0.06881095184325808,
          -0.17400222113902494,
          null
         ],
         "y": [
          0.00113483160736482,
          0.026605836434634163,
          null
         ]
        },
        {
         "hoverinfo": "none",
         "line": {
          "color": "gray",
          "width": 1.1375626592159522
         },
         "mode": "lines",
         "type": "scatter",
         "x": [
          0.06881095184325808,
          -0.194172381273039,
          null
         ],
         "y": [
          0.00113483160736482,
          -0.06581745105705747,
          null
         ]
        },
        {
         "hoverinfo": "none",
         "line": {
          "color": "gray",
          "width": 0.8651491494781707
         },
         "mode": "lines",
         "type": "scatter",
         "x": [
          0.06881095184325808,
          -0.0347507912901253,
          null
         ],
         "y": [
          0.00113483160736482,
          0.2666451478668873,
          null
         ]
        },
        {
         "hoverinfo": "none",
         "line": {
          "color": "gray",
          "width": 0.7617717150135737
         },
         "mode": "lines",
         "type": "scatter",
         "x": [
          0.06881095184325808,
          -0.21261103129035247,
          null
         ],
         "y": [
          0.00113483160736482,
          0.15599713930489764,
          null
         ]
        },
        {
         "hoverinfo": "none",
         "line": {
          "color": "gray",
          "width": 0.5529624455583483
         },
         "mode": "lines",
         "type": "scatter",
         "x": [
          0.06881095184325808,
          0.29478625685154936,
          null
         ],
         "y": [
          0.00113483160736482,
          0.11524827966195127,
          null
         ]
        },
        {
         "hoverinfo": "none",
         "line": {
          "color": "gray",
          "width": 0.4996302079053189
         },
         "mode": "lines",
         "type": "scatter",
         "x": [
          0.06881095184325808,
          -0.08915599501111612,
          null
         ],
         "y": [
          0.00113483160736482,
          -0.2820303374622859,
          null
         ]
        },
        {
         "hoverinfo": "none",
         "line": {
          "color": "gray",
          "width": 0.445722738105043
         },
         "mode": "lines",
         "type": "scatter",
         "x": [
          0.06881095184325808,
          -0.25334272059311524,
          null
         ],
         "y": [
          0.00113483160736482,
          -0.13828933333464086,
          null
         ]
        },
        {
         "hoverinfo": "none",
         "line": {
          "color": "gray",
          "width": 0.44547621004190846
         },
         "mode": "lines",
         "type": "scatter",
         "x": [
          0.06881095184325808,
          -0.020743255859477422,
          null
         ],
         "y": [
          0.00113483160736482,
          -0.16597487148227263,
          null
         ]
        },
        {
         "hoverinfo": "none",
         "line": {
          "color": "gray",
          "width": 0.42624702111919077
         },
         "mode": "lines",
         "type": "scatter",
         "x": [
          0.06881095184325808,
          0.09850134846648266,
          null
         ],
         "y": [
          0.00113483160736482,
          0.3638727802495825,
          null
         ]
        },
        {
         "hoverinfo": "none",
         "line": {
          "color": "gray",
          "width": 0.41622154655267724
         },
         "mode": "lines",
         "type": "scatter",
         "x": [
          0.06881095184325808,
          -0.297020597403699,
          null
         ],
         "y": [
          0.00113483160736482,
          0.04330942814369144,
          null
         ]
        },
        {
         "hoverinfo": "none",
         "line": {
          "color": "gray",
          "width": 0.30972142328866187
         },
         "mode": "lines",
         "type": "scatter",
         "x": [
          0.06881095184325808,
          0.14235758001942894,
          null
         ],
         "y": [
          0.00113483160736482,
          -0.2753397657460325,
          null
         ]
        },
        {
         "hoverinfo": "none",
         "line": {
          "color": "gray",
          "width": 0.14586243734073848
         },
         "mode": "lines",
         "type": "scatter",
         "x": [
          0.06881095184325808,
          0.15166198398178618,
          null
         ],
         "y": [
          0.00113483160736482,
          -0.1375063320984636,
          null
         ]
        },
        {
         "hoverinfo": "none",
         "line": {
          "color": "gray",
          "width": 0.08258690114220156
         },
         "mode": "lines",
         "type": "scatter",
         "x": [
          0.06881095184325808,
          0.11823346104571722,
          null
         ],
         "y": [
          0.00113483160736482,
          -0.4004808146973514,
          null
         ]
        },
        {
         "hoverinfo": "none",
         "line": {
          "color": "gray",
          "width": 0.07872462815347685
         },
         "mode": "lines",
         "type": "scatter",
         "x": [
          0.06881095184325808,
          0.40622843877985715,
          null
         ],
         "y": [
          0.00113483160736482,
          0.2101754941216113,
          null
         ]
        },
        {
         "hoverinfo": "none",
         "line": {
          "color": "gray",
          "width": 0.031473416057220635
         },
         "mode": "lines",
         "type": "scatter",
         "x": [
          0.06881095184325808,
          0.40208252768864594,
          null
         ],
         "y": [
          0.00113483160736482,
          0.014828974168762263,
          null
         ]
        },
        {
         "hoverinfo": "none",
         "line": {
          "color": "gray",
          "width": 1.9050045196812018
         },
         "mode": "lines",
         "type": "scatter",
         "x": [
          0.07371358706928084,
          -0.002318795500188933,
          null
         ],
         "y": [
          0.13702480971869202,
          0.15378071306562674,
          null
         ]
        },
        {
         "hoverinfo": "none",
         "line": {
          "color": "gray",
          "width": 1.3268962116854734
         },
         "mode": "lines",
         "type": "scatter",
         "x": [
          0.07371358706928084,
          -0.17400222113902494,
          null
         ],
         "y": [
          0.13702480971869202,
          0.026605836434634163,
          null
         ]
        },
        {
         "hoverinfo": "none",
         "line": {
          "color": "gray",
          "width": 0.8882406113896295
         },
         "mode": "lines",
         "type": "scatter",
         "x": [
          0.07371358706928084,
          -0.0347507912901253,
          null
         ],
         "y": [
          0.13702480971869202,
          0.2666451478668873,
          null
         ]
        },
        {
         "hoverinfo": "none",
         "line": {
          "color": "gray",
          "width": 0.724381625441748
         },
         "mode": "lines",
         "type": "scatter",
         "x": [
          0.07371358706928084,
          0.29478625685154936,
          null
         ],
         "y": [
          0.13702480971869202,
          0.11524827966195127,
          null
         ]
        },
        {
         "hoverinfo": "none",
         "line": {
          "color": "gray",
          "width": 0.6281535048073135
         },
         "mode": "lines",
         "type": "scatter",
         "x": [
          0.07371358706928084,
          0.015433138787508186,
          null
         ],
         "y": [
          0.13702480971869202,
          0.47404854839825056,
          null
         ]
        },
        {
         "hoverinfo": "none",
         "line": {
          "color": "gray",
          "width": 0.5471279480647359
         },
         "mode": "lines",
         "type": "scatter",
         "x": [
          0.07371358706928084,
          -0.194172381273039,
          null
         ],
         "y": [
          0.13702480971869202,
          -0.06581745105705747,
          null
         ]
        },
        {
         "hoverinfo": "none",
         "line": {
          "color": "gray",
          "width": 0.5080943380722213
         },
         "mode": "lines",
         "type": "scatter",
         "x": [
          0.07371358706928084,
          -0.21261103129035247,
          null
         ],
         "y": [
          0.13702480971869202,
          0.15599713930489764,
          null
         ]
        },
        {
         "hoverinfo": "none",
         "line": {
          "color": "gray",
          "width": 0.3588626838688798
         },
         "mode": "lines",
         "type": "scatter",
         "x": [
          0.07371358706928084,
          0.09850134846648266,
          null
         ],
         "y": [
          0.13702480971869202,
          0.3638727802495825,
          null
         ]
        },
        {
         "hoverinfo": "none",
         "line": {
          "color": "gray",
          "width": 0.2955871476703623
         },
         "mode": "lines",
         "type": "scatter",
         "x": [
          0.07371358706928084,
          -0.020743255859477422,
          null
         ],
         "y": [
          0.13702480971869202,
          -0.16597487148227263,
          null
         ]
        },
        {
         "hoverinfo": "none",
         "line": {
          "color": "gray",
          "width": 0.11521078149400059
         },
         "mode": "lines",
         "type": "scatter",
         "x": [
          0.07371358706928084,
          0.40208252768864594,
          null
         ],
         "y": [
          0.13702480971869202,
          0.014828974168762263,
          null
         ]
        },
        {
         "hoverinfo": "none",
         "line": {
          "color": "gray",
          "width": 0.027775495110534034
         },
         "mode": "lines",
         "type": "scatter",
         "x": [
          0.07371358706928084,
          0.14235758001942894,
          null
         ],
         "y": [
          0.13702480971869202,
          -0.2753397657460325,
          null
         ]
        },
        {
         "hoverinfo": "none",
         "line": {
          "color": "gray",
          "width": 0
         },
         "mode": "lines",
         "type": "scatter",
         "x": [
          0.07371358706928084,
          0.15166198398178618,
          null
         ],
         "y": [
          0.13702480971869202,
          -0.1375063320984636,
          null
         ]
        },
        {
         "hoverinfo": "none",
         "line": {
          "color": "gray",
          "width": 0.9893992932862821
         },
         "mode": "lines",
         "type": "scatter",
         "x": [
          -0.21261103129035247,
          -0.17400222113902494,
          null
         ],
         "y": [
          0.15599713930489764,
          0.026605836434634163,
          null
         ]
        },
        {
         "hoverinfo": "none",
         "line": {
          "color": "gray",
          "width": 0.6161558057359331
         },
         "mode": "lines",
         "type": "scatter",
         "x": [
          -0.21261103129035247,
          -0.194172381273039,
          null
         ],
         "y": [
          0.15599713930489764,
          -0.06581745105705747,
          null
         ]
        },
        {
         "hoverinfo": "none",
         "line": {
          "color": "gray",
          "width": 0.5561673103789041
         },
         "mode": "lines",
         "type": "scatter",
         "x": [
          -0.21261103129035247,
          -0.020743255859477422,
          null
         ],
         "y": [
          0.15599713930489764,
          -0.16597487148227263,
          null
         ]
        },
        {
         "hoverinfo": "none",
         "line": {
          "color": "gray",
          "width": 0.4171254827841525
         },
         "mode": "lines",
         "type": "scatter",
         "x": [
          -0.21261103129035247,
          -0.25334272059311524,
          null
         ],
         "y": [
          0.15599713930489764,
          -0.13828933333464086,
          null
         ]
        },
        {
         "hoverinfo": "none",
         "line": {
          "color": "gray",
          "width": 0.25819705809847093
         },
         "mode": "lines",
         "type": "scatter",
         "x": [
          -0.21261103129035247,
          -0.0347507912901253,
          null
         ],
         "y": [
          0.15599713930489764,
          0.2666451478668873,
          null
         ]
        },
        {
         "hoverinfo": "none",
         "line": {
          "color": "gray",
          "width": 0.24151532582798774
         },
         "mode": "lines",
         "type": "scatter",
         "x": [
          -0.21261103129035247,
          -0.543205595882206,
          null
         ],
         "y": [
          0.15599713930489764,
          0.5138120600163492,
          null
         ]
        },
        {
         "hoverinfo": "none",
         "line": {
          "color": "gray",
          "width": 0.11512860547293931
         },
         "mode": "lines",
         "type": "scatter",
         "x": [
          -0.21261103129035247,
          -0.002318795500188933,
          null
         ],
         "y": [
          0.15599713930489764,
          0.15378071306562674,
          null
         ]
        },
        {
         "hoverinfo": "none",
         "line": {
          "color": "gray",
          "width": 0.925301996877367
         },
         "mode": "lines",
         "type": "scatter",
         "x": [
          -0.002318795500188933,
          -0.17400222113902494,
          null
         ],
         "y": [
          0.15378071306562674,
          0.026605836434634163,
          null
         ]
        },
        {
         "hoverinfo": "none",
         "line": {
          "color": "gray",
          "width": 0.6514093187607827
         },
         "mode": "lines",
         "type": "scatter",
         "x": [
          -0.002318795500188933,
          0.015433138787508186,
          null
         ],
         "y": [
          0.15378071306562674,
          0.47404854839825056,
          null
         ]
        },
        {
         "hoverinfo": "none",
         "line": {
          "color": "gray",
          "width": 0.5942148081189897
         },
         "mode": "lines",
         "type": "scatter",
         "x": [
          -0.002318795500188933,
          0.29478625685154936,
          null
         ],
         "y": [
          0.15378071306562674,
          0.11524827966195127,
          null
         ]
        },
        {
         "hoverinfo": "none",
         "line": {
          "color": "gray",
          "width": 0.5120387870819295
         },
         "mode": "lines",
         "type": "scatter",
         "x": [
          -0.002318795500188933,
          -0.194172381273039,
          null
         ],
         "y": [
          0.15378071306562674,
          -0.06581745105705747,
          null
         ]
        },
        {
         "hoverinfo": "none",
         "line": {
          "color": "gray",
          "width": 0.36609417372009906
         },
         "mode": "lines",
         "type": "scatter",
         "x": [
          -0.002318795500188933,
          0.09850134846648266,
          null
         ],
         "y": [
          0.15378071306562674,
          0.3638727802495825,
          null
         ]
        },
        {
         "hoverinfo": "none",
         "line": {
          "color": "gray",
          "width": 0.359684444079246
         },
         "mode": "lines",
         "type": "scatter",
         "x": [
          -0.002318795500188933,
          -0.0347507912901253,
          null
         ],
         "y": [
          0.15378071306562674,
          0.2666451478668873,
          null
         ]
        },
        {
         "hoverinfo": "none",
         "line": {
          "color": "gray",
          "width": 0.1811981263867167
         },
         "mode": "lines",
         "type": "scatter",
         "x": [
          -0.002318795500188933,
          0.14235758001942894,
          null
         ],
         "y": [
          0.15378071306562674,
          -0.2753397657460325,
          null
         ]
        },
        {
         "hoverinfo": "none",
         "line": {
          "color": "gray",
          "width": 0.0501273728326499
         },
         "mode": "lines",
         "type": "scatter",
         "x": [
          -0.002318795500188933,
          -0.020743255859477422,
          null
         ],
         "y": [
          0.15378071306562674,
          -0.16597487148227263,
          null
         ]
        },
        {
         "hoverinfo": "none",
         "line": {
          "color": "gray",
          "width": 0.8872544991371603
         },
         "mode": "lines",
         "type": "scatter",
         "x": [
          -0.17400222113902494,
          -0.194172381273039,
          null
         ],
         "y": [
          0.026605836434634163,
          -0.06581745105705747,
          null
         ]
        },
        {
         "hoverinfo": "none",
         "line": {
          "color": "gray",
          "width": 0.6827183827759465
         },
         "mode": "lines",
         "type": "scatter",
         "x": [
          -0.17400222113902494,
          -0.020743255859477422,
          null
         ],
         "y": [
          0.026605836434634163,
          -0.16597487148227263,
          null
         ]
        },
        {
         "hoverinfo": "none",
         "line": {
          "color": "gray",
          "width": 0.6783630536609588
         },
         "mode": "lines",
         "type": "scatter",
         "x": [
          -0.17400222113902494,
          -0.297020597403699,
          null
         ],
         "y": [
          0.026605836434634163,
          0.04330942814369144,
          null
         ]
        },
        {
         "hoverinfo": "none",
         "line": {
          "color": "gray",
          "width": 0.6182923822828865
         },
         "mode": "lines",
         "type": "scatter",
         "x": [
          -0.17400222113902494,
          -0.25334272059311524,
          null
         ],
         "y": [
          0.026605836434634163,
          -0.13828933333464086,
          null
         ]
        },
        {
         "hoverinfo": "none",
         "line": {
          "color": "gray",
          "width": 0.5118744350398786
         },
         "mode": "lines",
         "type": "scatter",
         "x": [
          -0.17400222113902494,
          -0.0347507912901253,
          null
         ],
         "y": [
          0.026605836434634163,
          0.2666451478668873,
          null
         ]
        },
        {
         "hoverinfo": "none",
         "line": {
          "color": "gray",
          "width": 0.11890870244067747
         },
         "mode": "lines",
         "type": "scatter",
         "x": [
          -0.17400222113902494,
          -0.6173901536740338,
          null
         ],
         "y": [
          0.026605836434634163,
          -0.11555101523749747,
          null
         ]
        },
        {
         "hoverinfo": "none",
         "line": {
          "color": "gray",
          "width": 0.1152929575150245
         },
         "mode": "lines",
         "type": "scatter",
         "x": [
          -0.17400222113902494,
          -0.08915599501111612,
          null
         ],
         "y": [
          0.026605836434634163,
          -0.2820303374622859,
          null
         ]
        },
        {
         "hoverinfo": "none",
         "line": {
          "color": "gray",
          "width": 0.10403484263293407
         },
         "mode": "lines",
         "type": "scatter",
         "x": [
          -0.17400222113902494,
          0.15166198398178618,
          null
         ],
         "y": [
          0.026605836434634163,
          -0.1375063320984636,
          null
         ]
        },
        {
         "hoverinfo": "none",
         "line": {
          "color": "gray",
          "width": 1.3564795792587063
         },
         "mode": "lines",
         "type": "scatter",
         "x": [
          -0.194172381273039,
          -0.4302561380001633,
          null
         ],
         "y": [
          -0.06581745105705747,
          -0.2195513745572202,
          null
         ]
        },
        {
         "hoverinfo": "none",
         "line": {
          "color": "gray",
          "width": 0.9043471115128975
         },
         "mode": "lines",
         "type": "scatter",
         "x": [
          -0.194172381273039,
          -0.25334272059311524,
          null
         ],
         "y": [
          -0.06581745105705747,
          -0.13828933333464086,
          null
         ]
        },
        {
         "hoverinfo": "none",
         "line": {
          "color": "gray",
          "width": 0.6462322294354198
         },
         "mode": "lines",
         "type": "scatter",
         "x": [
          -0.194172381273039,
          -0.08915599501111612,
          null
         ],
         "y": [
          -0.06581745105705747,
          -0.2820303374622859,
          null
         ]
        },
        {
         "hoverinfo": "none",
         "line": {
          "color": "gray",
          "width": 0.534883720930212
         },
         "mode": "lines",
         "type": "scatter",
         "x": [
          -0.194172381273039,
          -0.297020597403699,
          null
         ],
         "y": [
          -0.06581745105705747,
          0.04330942814369144,
          null
         ]
        },
        {
         "hoverinfo": "none",
         "line": {
          "color": "gray",
          "width": 0.4678280877639638
         },
         "mode": "lines",
         "type": "scatter",
         "x": [
          -0.194172381273039,
          0.15166198398178618,
          null
         ],
         "y": [
          -0.06581745105705747,
          -0.1375063320984636,
          null
         ]
        },
        {
         "hoverinfo": "none",
         "line": {
          "color": "gray",
          "width": 0.3577122195743463
         },
         "mode": "lines",
         "type": "scatter",
         "x": [
          -0.194172381273039,
          -0.020743255859477422,
          null
         ],
         "y": [
          -0.06581745105705747,
          -0.16597487148227263,
          null
         ]
        },
        {
         "hoverinfo": "none",
         "line": {
          "color": "gray",
          "width": 0.34620757662914675
         },
         "mode": "lines",
         "type": "scatter",
         "x": [
          -0.194172381273039,
          -0.228307116377087,
          null
         ],
         "y": [
          -0.06581745105705747,
          -0.318009867112384,
          null
         ]
        },
        {
         "hoverinfo": "none",
         "line": {
          "color": "gray",
          "width": 0.13879529953159545
         },
         "mode": "lines",
         "type": "scatter",
         "x": [
          -0.194172381273039,
          -0.4121859677983904,
          null
         ],
         "y": [
          -0.06581745105705747,
          0.09555018349377375,
          null
         ]
        },
        {
         "hoverinfo": "none",
         "line": {
          "color": "gray",
          "width": 0.14158928424691664
         },
         "mode": "lines",
         "type": "scatter",
         "x": [
          -0.228307116377087,
          -0.25334272059311524,
          null
         ],
         "y": [
          -0.318009867112384,
          -0.13828933333464086,
          null
         ]
        },
        {
         "hoverinfo": "none",
         "line": {
          "color": "gray",
          "width": 0.39452707699895967
         },
         "mode": "lines",
         "type": "scatter",
         "x": [
          0.22650676245869772,
          0.5118457588317109,
          null
         ],
         "y": [
          0.2827907186596197,
          0.6436579845829874,
          null
         ]
        },
        {
         "hoverinfo": "none",
         "line": {
          "color": "gray",
          "width": 1.3522064261649949
         },
         "mode": "lines",
         "type": "scatter",
         "x": [
          -0.25334272059311524,
          -0.4121859677983904,
          null
         ],
         "y": [
          -0.13828933333464086,
          0.09555018349377375,
          null
         ]
        },
        {
         "hoverinfo": "none",
         "line": {
          "color": "gray",
          "width": 0.2506368641631097
         },
         "mode": "lines",
         "type": "scatter",
         "x": [
          -0.25334272059311524,
          -0.297020597403699,
          null
         ],
         "y": [
          -0.13828933333464086,
          0.04330942814369144,
          null
         ]
        },
        {
         "hoverinfo": "none",
         "line": {
          "color": "gray",
          "width": 0.028350727257860604
         },
         "mode": "lines",
         "type": "scatter",
         "x": [
          -0.25334272059311524,
          -0.020743255859477422,
          null
         ],
         "y": [
          -0.13828933333464086,
          -0.16597487148227263,
          null
         ]
        },
        {
         "hoverinfo": "none",
         "line": {
          "color": "gray",
          "width": 0.011258114882100899
         },
         "mode": "lines",
         "type": "scatter",
         "x": [
          -0.25334272059311524,
          -0.08915599501111612,
          null
         ],
         "y": [
          -0.13828933333464086,
          -0.2820303374622859,
          null
         ]
        },
        {
         "hoverinfo": "none",
         "line": {
          "color": "gray",
          "width": 0.1948393458788877
         },
         "mode": "lines",
         "type": "scatter",
         "x": [
          0.14235758001942894,
          0.38366454147289675,
          null
         ],
         "y": [
          -0.2753397657460325,
          -0.9999999999999999,
          null
         ]
        },
        {
         "hoverinfo": "none",
         "line": {
          "color": "gray",
          "width": 0.8274303558221716
         },
         "mode": "lines",
         "type": "scatter",
         "x": [
          0.015433138787508186,
          0.2068444173344469,
          null
         ],
         "y": [
          0.47404854839825056,
          0.8179622845886481,
          null
         ]
        },
        {
         "hovertext": [
          "Death Note<br>Attack on Titan: 3.21%<br>Fullmetal Alchemist:Brotherhood: 3.02%<br>Code Geass:Lelouch of the Rebellion: 2.91%<br>Steins;Gate: 2.75%<br>Sword Art Online: 2.72%",
          "Attack on Titan<br>Death Note: 3.12%<br>Sword Art Online: 2.81%<br>Fullmetal Alchemist:Brotherhood: 2.80%<br>One Punch Man: 2.73%<br>Steins;Gate: 2.68%",
          "Fullmetal Alchemist:Brotherhood<br>Death Note: 4.33%<br>Attack on Titan: 4.12%<br>Code Geass:Lelouch of the Rebellion: 3.66%<br>Steins;Gate: 3.61%<br>One Punch Man: 3.51%",
          "Code Geass:Lelouch of the Rebellion<br>Death Note: 7.05%<br>Code Geass:Lelouch of the Rebellion R2: 7.00%<br>Attack on Titan: 6.25%<br>Fullmetal Alchemist:Brotherhood: 6.20%<br>Steins;Gate: 5.71%",
          "Sword Art Online<br>Attack on Titan: 5.55%<br>Death Note: 5.22%<br>Fullmetal Alchemist:Brotherhood: 4.69%<br>Angel Beats!: 4.65%<br>No Game, No Life: 4.59%",
          "Code Geass:Lelouch of the Rebellion R2<br>Code Geass:Lelouch of the Rebellion: 14.45%<br>Death Note: 12.79%<br>Fullmetal Alchemist:Brotherhood: 11.48%<br>Attack on Titan: 11.28%<br>Steins;Gate: 10.67%",
          "One Punch Man<br>Attack on Titan: 4.87%<br>Death Note: 4.57%<br>Fullmetal Alchemist:Brotherhood: 4.25%<br>My Hero Academia: 4.10%<br>Sword Art Online: 4.10%",
          "Steins;Gate<br>Attack on Titan: 5.35%<br>Death Note: 5.34%<br>Fullmetal Alchemist:Brotherhood: 4.90%<br>Sword Art Online: 4.61%<br>Angel Beats!: 4.59%",
          "Angel Beats!<br>Death Note: 6.13%<br>Attack on Titan: 6.09%<br>Sword Art Online: 5.65%<br>Steins;Gate: 5.52%<br>Toradora!: 5.51%",
          "Tokyo Ghoul<br>Attack on Titan: 8.35%<br>Death Note: 7.76%<br>One Punch Man: 7.21%<br>Sword Art Online: 7.05%<br>Fullmetal Alchemist:Brotherhood: 6.82%",
          "Toradora!<br>Death Note: 6.78%<br>Attack on Titan: 6.55%<br>Angel Beats!: 6.21%<br>Sword Art Online: 6.01%<br>Fullmetal Alchemist:Brotherhood: 5.96%",
          "No Game, No Life<br>Attack on Titan: 6.74%<br>Death Note: 6.27%<br>Sword Art Online: 6.25%<br>One Punch Man: 6.08%<br>Steins;Gate: 5.81%",
          "Your Name.<br>Attack on Titan: 6.30%<br>Death Note: 5.94%<br>One Punch Man: 5.86%<br>A Silent Voice: 5.60%<br>Steins;Gate: 5.45%",
          "Attack on Titan Season 2<br>Attack on Titan: 19.92%<br>Death Note: 16.91%<br>One Punch Man: 16.67%<br>Your Name.: 15.74%<br>Fullmetal Alchemist:Brotherhood: 15.48%",
          "Naruto<br>Death Note: 17.03%<br>Attack on Titan: 15.35%<br>Fullmetal Alchemist:Brotherhood: 14.53%<br>Naruto:Shippuden: 13.59%<br>Code Geass:Lelouch of the Rebellion: 13.35%",
          "My Hero Academia<br>Attack on Titan: 8.39%<br>One Punch Man: 8.22%<br>Death Note: 7.70%<br>My Hero Academia 2: 7.67%<br>Fullmetal Alchemist:Brotherhood: 7.34%",
          "Spirited Away<br>Death Note: 13.39%<br>Attack on Titan: 12.17%<br>Fullmetal Alchemist:Brotherhood: 11.66%<br>Code Geass:Lelouch of the Rebellion: 10.76%<br>Steins;Gate: 10.66%",
          "The Future Diary<br>Attack on Titan: 10.54%<br>Death Note: 10.28%<br>Sword Art Online: 9.47%<br>Angel Beats!: 9.12%<br>Steins;Gate: 9.09%",
          "Noragami:Stray God<br>Attack on Titan: 9.83%<br>Death Note: 9.04%<br>One Punch Man: 8.66%<br>Sword Art Online: 8.53%<br>No Game, No Life: 8.33%",
          "Elfen Lied<br>Death Note: 28.57%<br>Attack on Titan: 24.60%<br>Code Geass:Lelouch of the Rebellion: 23.55%<br>Fullmetal Alchemist:Brotherhood: 23.28%",
          "ERASED<br>Attack on Titan: 12.47%<br>Death Note: 11.76%<br>One Punch Man: 11.61%<br>Your Name.: 11.21%<br>Steins;Gate: 10.98%",
          "A Silent Voice<br>Your Name.: 26.84%<br>Attack on Titan: 25.42%<br>One Punch Man: 23.92%<br>Death Note: 23.83%",
          "My Hero Academia 2<br>My Hero Academia: 18.39%<br>Attack on Titan: 17.51%<br>One Punch Man: 17.10%<br>Death Note: 15.99%<br>Your Name.: 15.61%",
          "Re:ZERO -Starting Life in Another World-<br>Attack on Titan: 12.19%<br>One Punch Man: 11.69%<br>Death Note: 11.25%<br>No Game, No Life: 11.18%<br>Your Name.: 10.96%",
          "anohana:The Flower We Saw That Day<br>Attack on Titan: 15.30%<br>Death Note: 14.95%<br>Angel Beats!: 14.40%<br>Toradora!: 14.15%<br>Steins;Gate: 14.06%",
          "Your Lie in April<br>Attack on Titan: 12.41%<br>Death Note: 11.52%<br>Your Name.: 11.28%<br>One Punch Man: 11.22%<br>Sword Art Online: 10.97%",
          "Blue Exorcist<br>Attack on Titan: 26.50%<br>Death Note: 25.83%<br>Sword Art Online: 23.92%<br>Fullmetal Alchemist:Brotherhood: 23.75%",
          "Clannad<br>Death Note: 15.30%<br>Clannad ~After Story~: 14.86%<br>Toradora!: 14.51%<br>Angel Beats!: 14.46%<br>Attack on Titan: 14.07%",
          "Parasyte -the maxim-<br>Attack on Titan: 35.16%<br>Death Note: 32.93%<br>One Punch Man: 31.91%",
          "Another<br>Attack on Titan: 21.63%<br>Death Note: 21.49%<br>Angel Beats!: 19.14%<br>Steins;Gate: 18.90%<br>Sword Art Online: 18.84%",
          "Sword Art Online II<br>Sword Art Online: 51.51%<br>Attack on Titan: 48.49%",
          "Psycho-Pass<br>Attack on Titan: 26.71%<br>Death Note: 25.80%<br>Steins;Gate: 23.82%<br>Fullmetal Alchemist:Brotherhood: 23.67%",
          "Hunter x Hunter<br>Attack on Titan: 26.15%<br>Death Note: 25.25%<br>Fullmetal Alchemist:Brotherhood: 24.71%<br>One Punch Man: 23.88%",
          "Gurren Lagann<br>Death Note: 26.28%<br>Fullmetal Alchemist:Brotherhood: 24.85%<br>Attack on Titan: 24.58%<br>Code Geass:Lelouch of the Rebellion: 24.30%",
          "Bakemonogatari<br>Death Note: 15.13%<br>Attack on Titan: 14.73%<br>Steins;Gate: 14.30%<br>Toradora!: 14.18%<br>Angel Beats!: 14.17%",
          "Durarara!!<br>Death Note: 35.11%<br>Attack on Titan: 33.11%<br>Fullmetal Alchemist:Brotherhood: 31.78%",
          "Clannad ~After Story~<br>Clannad: 52.39%<br>Death Note: 47.61%",
          "Fullmetal Alchemist<br>Death Note: 51.34%<br>Fullmetal Alchemist:Brotherhood: 48.66%",
          "Akame ga Kill!<br>Attack on Titan: 100.00%",
          "Death Parade<br>Attack on Titan: 51.10%<br>Death Note: 48.90%",
          "The Devil is a Part-Timer!<br>Attack on Titan: 35.12%<br>Sword Art Online: 32.58%<br>Death Note: 32.30%",
          "Neon Genesis Evangelion<br>Death Note: 100.00%",
          "High School of the Dead<br>Death Note: 50.60%<br>Attack on Titan: 49.40%",
          "Fate/Zero<br>Attack on Titan: 26.13%<br>Death Note: 25.19%<br>Steins;Gate: 24.44%<br>Fullmetal Alchemist:Brotherhood: 24.24%",
          "KonoSuba:God's Blessing on This Wonderful World!<br>Attack on Titan: 33.93%<br>One Punch Man: 33.65%<br>No Game, No Life: 32.41%",
          "Naruto:Shippuden<br>Naruto: 51.03%<br>Death Note: 48.97%",
          "The Seven Deadly Sins<br>Attack on Titan: 51.22%<br>One Punch Man: 48.78%",
          "Cowboy Bebop<br>Death Note: 100.00%",
          "KILL la KILL<br>Attack on Titan: 100.00%",
          "Tokyo Ghoul √A<br>Tokyo Ghoul: 50.54%<br>Attack on Titan: 49.46%",
          "Soul Eater<br>Death Note: 100.00%",
          "Howl's Moving Castle<br>Spirited Away: 100.00%",
          "Food Wars! Shokugeki no Soma<br>Attack on Titan: 100.00%",
          "My Teen Romantic Comedy SNAFU<br>Attack on Titan: 100.00%",
          "Puella Magi Madoka Magica<br>Death Note: 100.00%"
         ],
         "marker": {
          "color": "skyblue",
          "line": {
           "color": "black",
           "width": 2
          },
          "size": [
           50,
           45.51315789473684,
           42.28508771929825,
           39.85526315789474,
           42.171052631578945,
           31.49561403508772,
           36.37280701754386,
           39.8640350877193,
           39.526315789473685,
           34.46491228070175,
           39.96052631578947,
           34.95614035087719,
           31.68859649122807,
           27.31140350877193,
           33.39473684210526,
           30.82894736842105,
           32.58333333333333,
           35.28508771929825,
           32.79385964912281,
           33.368421052631575,
           28.95614035087719,
           26.06140350877193,
           24.94736842105263,
           28.54824561403509,
           30.68421052631579,
           28.517543859649123,
           30.79385964912281,
           32.70175438596491,
           26.18421052631579,
           30.5,
           26.44298245614035,
           28.95614035087719,
           26.20175438596491,
           30.44736842105263,
           31.982456140350877,
           31.32894736842105,
           25.74561403508772,
           27.214912280701753,
           26.38157894736842,
           25.885964912280702,
           27.478070175438596,
           28.763157894736842,
           29.114035087719298,
           26.960526315789473,
           25.828947368421055,
           23.859649122807017,
           23.94298245614035,
           28.07456140350877,
           26.32894736842105,
           22.780701754385966,
           28.285087719298247,
           22.166666666666664,
           23.565789473684212,
           25.565789473684212,
           26.82456140350877
          ]
         },
         "mode": "markers+text",
         "text": [
          "Death Note",
          "Attack on Titan",
          "Fullmetal Alchemist:Brotherhood",
          "Code Geass:Lelouch of the Rebellion",
          "Sword Art Online",
          "Code Geass:Lelouch of the Rebellion R2",
          "One Punch Man",
          "Steins;Gate",
          "Angel Beats!",
          "Tokyo Ghoul",
          "Toradora!",
          "No Game, No Life",
          "Your Name.",
          "Attack on Titan Season 2",
          "Naruto",
          "My Hero Academia",
          "Spirited Away",
          "The Future Diary",
          "Noragami:Stray God",
          "Elfen Lied",
          "ERASED",
          "A Silent Voice",
          "My Hero Academia 2",
          "Re:ZERO -Starting Life in Another World-",
          "anohana:The Flower We Saw That Day",
          "Your Lie in April",
          "Blue Exorcist",
          "Clannad",
          "Parasyte -the maxim-",
          "Another",
          "Sword Art Online II",
          "Psycho-Pass",
          "Hunter x Hunter",
          "Gurren Lagann",
          "Bakemonogatari",
          "Durarara!!",
          "Clannad ~After Story~",
          "Fullmetal Alchemist",
          "Akame ga Kill!",
          "Death Parade",
          "The Devil is a Part-Timer!",
          "Neon Genesis Evangelion",
          "High School of the Dead",
          "Fate/Zero",
          "KonoSuba:God's Blessing on This Wonderful World!",
          "Naruto:Shippuden",
          "The Seven Deadly Sins",
          "Cowboy Bebop",
          "KILL la KILL",
          "Tokyo Ghoul √A",
          "Soul Eater",
          "Howl's Moving Castle",
          "Food Wars! Shokugeki no Soma",
          "My Teen Romantic Comedy SNAFU",
          "Puella Magi Madoka Magica"
         ],
         "textposition": "top center",
         "type": "scatter",
         "x": [
          0.12325816659999343,
          -0.10683267380600955,
          0.019719701372325146,
          -0.09456552480518056,
          0.024858709411272984,
          -0.12690408062775316,
          -0.09231253902730852,
          0.06881095184325808,
          0.07371358706928084,
          -0.21261103129035247,
          -0.002318795500188933,
          -0.17400222113902494,
          -0.194172381273039,
          -0.228307116377087,
          0.22650676245869772,
          -0.25334272059311524,
          0.14235758001942894,
          -0.0347507912901253,
          -0.020743255859477422,
          -0.3430599153172366,
          -0.08915599501111612,
          -0.4302561380001633,
          -0.4121859677983904,
          -0.297020597403699,
          0.29478625685154936,
          0.15166198398178618,
          0.35301693209595614,
          0.015433138787508186,
          0.45492396995564044,
          0.40208252768864594,
          -0.368645671642344,
          0.11823346104571722,
          0.245325819206504,
          -0.40801345664229033,
          0.09850134846648266,
          0.21001255460898094,
          0.2068444173344469,
          0.6226413189712324,
          0.3535246266283876,
          -0.034774153567693256,
          0.39892116545219475,
          0.7633046646199801,
          -0.31937377789192695,
          0.40622843877985715,
          -0.6173901536740338,
          0.5118457588317109,
          -0.2854581060082232,
          -0.20683255077251636,
          -0.9075081022095464,
          -0.543205595882206,
          0.7636824478521055,
          0.38366454147289675,
          -0.8577607230586327,
          -0.6833057423589156,
          0.9109489474217597
         ],
         "y": [
          0.09938265981017863,
          -0.060575490077410234,
          0.05222225069205478,
          0.1595014715402861,
          -0.06446932135823895,
          0.2771091015497012,
          -0.11210955958199971,
          0.00113483160736482,
          0.13702480971869202,
          0.15599713930489764,
          0.15378071306562674,
          0.026605836434634163,
          -0.06581745105705747,
          -0.318009867112384,
          0.2827907186596197,
          -0.13828933333464086,
          -0.2753397657460325,
          0.2666451478668873,
          -0.16597487148227263,
          0.3176424075159156,
          -0.2820303374622859,
          -0.2195513745572202,
          0.09555018349377375,
          0.04330942814369144,
          0.11524827966195127,
          -0.1375063320984636,
          -0.14438739033576298,
          0.47404854839825056,
          -0.1725730976497226,
          0.014828974168762263,
          -0.5262095532624058,
          -0.4004808146973514,
          -0.3335578160897017,
          -0.04238464538519364,
          0.3638727802495825,
          0.4873543623677314,
          0.8179622845886481,
          0.251970752218781,
          -0.6999832572324213,
          -0.5659812243796298,
          -0.34361139052723494,
          -0.36778722015776216,
          0.5122043740165152,
          0.2101754941216113,
          -0.11555101523749747,
          0.6436579845829874,
          -0.6668824985835136,
          0.8443727080784635,
          0.03494807557547126,
          0.5138120600163492,
          0.5755642757563393,
          -0.9999999999999999,
          -0.35639668952135284,
          -0.6291609624467532,
          0.2759036261695417
         ]
        }
       ],
       "layout": {
        "annotations": [
         {
          "showarrow": false,
          "text": "",
          "xref": "paper",
          "yref": "paper"
         }
        ],
        "height": 800,
        "hovermode": "closest",
        "margin": {
         "b": 20,
         "l": 5,
         "r": 5,
         "t": 40
        },
        "showlegend": false,
        "template": {
         "data": {
          "bar": [
           {
            "error_x": {
             "color": "#2a3f5f"
            },
            "error_y": {
             "color": "#2a3f5f"
            },
            "marker": {
             "line": {
              "color": "#E5ECF6",
              "width": 0.5
             },
             "pattern": {
              "fillmode": "overlay",
              "size": 10,
              "solidity": 0.2
             }
            },
            "type": "bar"
           }
          ],
          "barpolar": [
           {
            "marker": {
             "line": {
              "color": "#E5ECF6",
              "width": 0.5
             },
             "pattern": {
              "fillmode": "overlay",
              "size": 10,
              "solidity": 0.2
             }
            },
            "type": "barpolar"
           }
          ],
          "carpet": [
           {
            "aaxis": {
             "endlinecolor": "#2a3f5f",
             "gridcolor": "white",
             "linecolor": "white",
             "minorgridcolor": "white",
             "startlinecolor": "#2a3f5f"
            },
            "baxis": {
             "endlinecolor": "#2a3f5f",
             "gridcolor": "white",
             "linecolor": "white",
             "minorgridcolor": "white",
             "startlinecolor": "#2a3f5f"
            },
            "type": "carpet"
           }
          ],
          "choropleth": [
           {
            "colorbar": {
             "outlinewidth": 0,
             "ticks": ""
            },
            "type": "choropleth"
           }
          ],
          "contour": [
           {
            "colorbar": {
             "outlinewidth": 0,
             "ticks": ""
            },
            "colorscale": [
             [
              0,
              "#0d0887"
             ],
             [
              0.1111111111111111,
              "#46039f"
             ],
             [
              0.2222222222222222,
              "#7201a8"
             ],
             [
              0.3333333333333333,
              "#9c179e"
             ],
             [
              0.4444444444444444,
              "#bd3786"
             ],
             [
              0.5555555555555556,
              "#d8576b"
             ],
             [
              0.6666666666666666,
              "#ed7953"
             ],
             [
              0.7777777777777778,
              "#fb9f3a"
             ],
             [
              0.8888888888888888,
              "#fdca26"
             ],
             [
              1,
              "#f0f921"
             ]
            ],
            "type": "contour"
           }
          ],
          "contourcarpet": [
           {
            "colorbar": {
             "outlinewidth": 0,
             "ticks": ""
            },
            "type": "contourcarpet"
           }
          ],
          "heatmap": [
           {
            "colorbar": {
             "outlinewidth": 0,
             "ticks": ""
            },
            "colorscale": [
             [
              0,
              "#0d0887"
             ],
             [
              0.1111111111111111,
              "#46039f"
             ],
             [
              0.2222222222222222,
              "#7201a8"
             ],
             [
              0.3333333333333333,
              "#9c179e"
             ],
             [
              0.4444444444444444,
              "#bd3786"
             ],
             [
              0.5555555555555556,
              "#d8576b"
             ],
             [
              0.6666666666666666,
              "#ed7953"
             ],
             [
              0.7777777777777778,
              "#fb9f3a"
             ],
             [
              0.8888888888888888,
              "#fdca26"
             ],
             [
              1,
              "#f0f921"
             ]
            ],
            "type": "heatmap"
           }
          ],
          "heatmapgl": [
           {
            "colorbar": {
             "outlinewidth": 0,
             "ticks": ""
            },
            "colorscale": [
             [
              0,
              "#0d0887"
             ],
             [
              0.1111111111111111,
              "#46039f"
             ],
             [
              0.2222222222222222,
              "#7201a8"
             ],
             [
              0.3333333333333333,
              "#9c179e"
             ],
             [
              0.4444444444444444,
              "#bd3786"
             ],
             [
              0.5555555555555556,
              "#d8576b"
             ],
             [
              0.6666666666666666,
              "#ed7953"
             ],
             [
              0.7777777777777778,
              "#fb9f3a"
             ],
             [
              0.8888888888888888,
              "#fdca26"
             ],
             [
              1,
              "#f0f921"
             ]
            ],
            "type": "heatmapgl"
           }
          ],
          "histogram": [
           {
            "marker": {
             "pattern": {
              "fillmode": "overlay",
              "size": 10,
              "solidity": 0.2
             }
            },
            "type": "histogram"
           }
          ],
          "histogram2d": [
           {
            "colorbar": {
             "outlinewidth": 0,
             "ticks": ""
            },
            "colorscale": [
             [
              0,
              "#0d0887"
             ],
             [
              0.1111111111111111,
              "#46039f"
             ],
             [
              0.2222222222222222,
              "#7201a8"
             ],
             [
              0.3333333333333333,
              "#9c179e"
             ],
             [
              0.4444444444444444,
              "#bd3786"
             ],
             [
              0.5555555555555556,
              "#d8576b"
             ],
             [
              0.6666666666666666,
              "#ed7953"
             ],
             [
              0.7777777777777778,
              "#fb9f3a"
             ],
             [
              0.8888888888888888,
              "#fdca26"
             ],
             [
              1,
              "#f0f921"
             ]
            ],
            "type": "histogram2d"
           }
          ],
          "histogram2dcontour": [
           {
            "colorbar": {
             "outlinewidth": 0,
             "ticks": ""
            },
            "colorscale": [
             [
              0,
              "#0d0887"
             ],
             [
              0.1111111111111111,
              "#46039f"
             ],
             [
              0.2222222222222222,
              "#7201a8"
             ],
             [
              0.3333333333333333,
              "#9c179e"
             ],
             [
              0.4444444444444444,
              "#bd3786"
             ],
             [
              0.5555555555555556,
              "#d8576b"
             ],
             [
              0.6666666666666666,
              "#ed7953"
             ],
             [
              0.7777777777777778,
              "#fb9f3a"
             ],
             [
              0.8888888888888888,
              "#fdca26"
             ],
             [
              1,
              "#f0f921"
             ]
            ],
            "type": "histogram2dcontour"
           }
          ],
          "mesh3d": [
           {
            "colorbar": {
             "outlinewidth": 0,
             "ticks": ""
            },
            "type": "mesh3d"
           }
          ],
          "parcoords": [
           {
            "line": {
             "colorbar": {
              "outlinewidth": 0,
              "ticks": ""
             }
            },
            "type": "parcoords"
           }
          ],
          "pie": [
           {
            "automargin": true,
            "type": "pie"
           }
          ],
          "scatter": [
           {
            "fillpattern": {
             "fillmode": "overlay",
             "size": 10,
             "solidity": 0.2
            },
            "type": "scatter"
           }
          ],
          "scatter3d": [
           {
            "line": {
             "colorbar": {
              "outlinewidth": 0,
              "ticks": ""
             }
            },
            "marker": {
             "colorbar": {
              "outlinewidth": 0,
              "ticks": ""
             }
            },
            "type": "scatter3d"
           }
          ],
          "scattercarpet": [
           {
            "marker": {
             "colorbar": {
              "outlinewidth": 0,
              "ticks": ""
             }
            },
            "type": "scattercarpet"
           }
          ],
          "scattergeo": [
           {
            "marker": {
             "colorbar": {
              "outlinewidth": 0,
              "ticks": ""
             }
            },
            "type": "scattergeo"
           }
          ],
          "scattergl": [
           {
            "marker": {
             "colorbar": {
              "outlinewidth": 0,
              "ticks": ""
             }
            },
            "type": "scattergl"
           }
          ],
          "scattermapbox": [
           {
            "marker": {
             "colorbar": {
              "outlinewidth": 0,
              "ticks": ""
             }
            },
            "type": "scattermapbox"
           }
          ],
          "scatterpolar": [
           {
            "marker": {
             "colorbar": {
              "outlinewidth": 0,
              "ticks": ""
             }
            },
            "type": "scatterpolar"
           }
          ],
          "scatterpolargl": [
           {
            "marker": {
             "colorbar": {
              "outlinewidth": 0,
              "ticks": ""
             }
            },
            "type": "scatterpolargl"
           }
          ],
          "scatterternary": [
           {
            "marker": {
             "colorbar": {
              "outlinewidth": 0,
              "ticks": ""
             }
            },
            "type": "scatterternary"
           }
          ],
          "surface": [
           {
            "colorbar": {
             "outlinewidth": 0,
             "ticks": ""
            },
            "colorscale": [
             [
              0,
              "#0d0887"
             ],
             [
              0.1111111111111111,
              "#46039f"
             ],
             [
              0.2222222222222222,
              "#7201a8"
             ],
             [
              0.3333333333333333,
              "#9c179e"
             ],
             [
              0.4444444444444444,
              "#bd3786"
             ],
             [
              0.5555555555555556,
              "#d8576b"
             ],
             [
              0.6666666666666666,
              "#ed7953"
             ],
             [
              0.7777777777777778,
              "#fb9f3a"
             ],
             [
              0.8888888888888888,
              "#fdca26"
             ],
             [
              1,
              "#f0f921"
             ]
            ],
            "type": "surface"
           }
          ],
          "table": [
           {
            "cells": {
             "fill": {
              "color": "#EBF0F8"
             },
             "line": {
              "color": "white"
             }
            },
            "header": {
             "fill": {
              "color": "#C8D4E3"
             },
             "line": {
              "color": "white"
             }
            },
            "type": "table"
           }
          ]
         },
         "layout": {
          "annotationdefaults": {
           "arrowcolor": "#2a3f5f",
           "arrowhead": 0,
           "arrowwidth": 1
          },
          "autotypenumbers": "strict",
          "coloraxis": {
           "colorbar": {
            "outlinewidth": 0,
            "ticks": ""
           }
          },
          "colorscale": {
           "diverging": [
            [
             0,
             "#8e0152"
            ],
            [
             0.1,
             "#c51b7d"
            ],
            [
             0.2,
             "#de77ae"
            ],
            [
             0.3,
             "#f1b6da"
            ],
            [
             0.4,
             "#fde0ef"
            ],
            [
             0.5,
             "#f7f7f7"
            ],
            [
             0.6,
             "#e6f5d0"
            ],
            [
             0.7,
             "#b8e186"
            ],
            [
             0.8,
             "#7fbc41"
            ],
            [
             0.9,
             "#4d9221"
            ],
            [
             1,
             "#276419"
            ]
           ],
           "sequential": [
            [
             0,
             "#0d0887"
            ],
            [
             0.1111111111111111,
             "#46039f"
            ],
            [
             0.2222222222222222,
             "#7201a8"
            ],
            [
             0.3333333333333333,
             "#9c179e"
            ],
            [
             0.4444444444444444,
             "#bd3786"
            ],
            [
             0.5555555555555556,
             "#d8576b"
            ],
            [
             0.6666666666666666,
             "#ed7953"
            ],
            [
             0.7777777777777778,
             "#fb9f3a"
            ],
            [
             0.8888888888888888,
             "#fdca26"
            ],
            [
             1,
             "#f0f921"
            ]
           ],
           "sequentialminus": [
            [
             0,
             "#0d0887"
            ],
            [
             0.1111111111111111,
             "#46039f"
            ],
            [
             0.2222222222222222,
             "#7201a8"
            ],
            [
             0.3333333333333333,
             "#9c179e"
            ],
            [
             0.4444444444444444,
             "#bd3786"
            ],
            [
             0.5555555555555556,
             "#d8576b"
            ],
            [
             0.6666666666666666,
             "#ed7953"
            ],
            [
             0.7777777777777778,
             "#fb9f3a"
            ],
            [
             0.8888888888888888,
             "#fdca26"
            ],
            [
             1,
             "#f0f921"
            ]
           ]
          },
          "colorway": [
           "#636efa",
           "#EF553B",
           "#00cc96",
           "#ab63fa",
           "#FFA15A",
           "#19d3f3",
           "#FF6692",
           "#B6E880",
           "#FF97FF",
           "#FECB52"
          ],
          "font": {
           "color": "#2a3f5f"
          },
          "geo": {
           "bgcolor": "white",
           "lakecolor": "white",
           "landcolor": "#E5ECF6",
           "showlakes": true,
           "showland": true,
           "subunitcolor": "white"
          },
          "hoverlabel": {
           "align": "left"
          },
          "hovermode": "closest",
          "mapbox": {
           "style": "light"
          },
          "paper_bgcolor": "white",
          "plot_bgcolor": "#E5ECF6",
          "polar": {
           "angularaxis": {
            "gridcolor": "white",
            "linecolor": "white",
            "ticks": ""
           },
           "bgcolor": "#E5ECF6",
           "radialaxis": {
            "gridcolor": "white",
            "linecolor": "white",
            "ticks": ""
           }
          },
          "scene": {
           "xaxis": {
            "backgroundcolor": "#E5ECF6",
            "gridcolor": "white",
            "gridwidth": 2,
            "linecolor": "white",
            "showbackground": true,
            "ticks": "",
            "zerolinecolor": "white"
           },
           "yaxis": {
            "backgroundcolor": "#E5ECF6",
            "gridcolor": "white",
            "gridwidth": 2,
            "linecolor": "white",
            "showbackground": true,
            "ticks": "",
            "zerolinecolor": "white"
           },
           "zaxis": {
            "backgroundcolor": "#E5ECF6",
            "gridcolor": "white",
            "gridwidth": 2,
            "linecolor": "white",
            "showbackground": true,
            "ticks": "",
            "zerolinecolor": "white"
           }
          },
          "shapedefaults": {
           "line": {
            "color": "#2a3f5f"
           }
          },
          "ternary": {
           "aaxis": {
            "gridcolor": "white",
            "linecolor": "white",
            "ticks": ""
           },
           "baxis": {
            "gridcolor": "white",
            "linecolor": "white",
            "ticks": ""
           },
           "bgcolor": "#E5ECF6",
           "caxis": {
            "gridcolor": "white",
            "linecolor": "white",
            "ticks": ""
           }
          },
          "title": {
           "x": 0.05
          },
          "xaxis": {
           "automargin": true,
           "gridcolor": "white",
           "linecolor": "white",
           "ticks": "",
           "title": {
            "standoff": 15
           },
           "zerolinecolor": "white",
           "zerolinewidth": 2
          },
          "yaxis": {
           "automargin": true,
           "gridcolor": "white",
           "linecolor": "white",
           "ticks": "",
           "title": {
            "standoff": 15
           },
           "zerolinecolor": "white",
           "zerolinewidth": 2
          }
         }
        },
        "title": {
         "font": {
          "size": 16
         },
         "text": "Top 250 most frequent anime watching links"
        },
        "xaxis": {
         "showgrid": false,
         "showticklabels": false,
         "zeroline": false
        },
        "yaxis": {
         "showgrid": false,
         "showticklabels": false,
         "zeroline": false
        }
       }
      }
     },
     "metadata": {},
     "output_type": "display_data"
    }
   ],
   "source": [
    "# Create the figure\n",
    "fig = go.Figure(\n",
    "\tdata=edge_trace + [node_trace],\n",
    "\tlayout=go.Layout(\n",
    "\t\ttitle='Top 250 most frequent anime watching links',\n",
    "\t\ttitlefont_size=16,\n",
    "\t\tshowlegend=False,\n",
    "\t\thovermode='closest',\n",
    "\t\theight=800,\n",
    "\t\tmargin=dict(b=20, l=5, r=5, t=40),\n",
    "\t\tannotations=[dict(\n",
    "\t\t\ttext=\"\",\n",
    "\t\t\tshowarrow=False,\n",
    "\t\t\txref=\"paper\", yref=\"paper\"\n",
    "\t\t)],\n",
    "\t\txaxis=dict(showgrid=False, zeroline=False, showticklabels=False),\n",
    "\t\tyaxis=dict(showgrid=False, zeroline=False, showticklabels=False)\n",
    "\t)\n",
    ")\n",
    "\n",
    "# Show the figure\n",
    "fig.show()"
   ]
  },
  {
   "cell_type": "markdown",
   "metadata": {},
   "source": [
    "### 4. Computing association rules\n",
    "\n",
    "#### Binary matrix\n",
    "\n",
    "To create association rules, we need to have a binary matrix where the rows represent the watchlist of a user and the columns are the animes.\n",
    "\n",
    "In our case, we get a 20000 x 16000 matrix because we only kept the first 20000 users and there are approx. 16000 different animes in the dataset."
   ]
  },
  {
   "cell_type": "code",
   "execution_count": 14,
   "metadata": {},
   "outputs": [],
   "source": [
    "dataset = dataset.pivot(index='user_id', columns='anime_id', values='rating')"
   ]
  },
  {
   "cell_type": "markdown",
   "metadata": {},
   "source": [
    "We are now converting our matrix into a binary matrix in order to be able to retrieve the association rules: we only take into account the ratings that are above 3."
   ]
  },
  {
   "cell_type": "code",
   "execution_count": 15,
   "metadata": {},
   "outputs": [],
   "source": [
    "dataset = dataset > 3"
   ]
  },
  {
   "cell_type": "markdown",
   "metadata": {},
   "source": [
    "#### Retrieving the association rules\n",
    "Finally, we are exploiting the mlxtend library to build the recommendation system and we're retrieving the association rules.\n",
    "\n",
    "We chose to use the lift metric because we thought that in this case it was the most relevant."
   ]
  },
  {
   "cell_type": "code",
   "execution_count": 16,
   "metadata": {},
   "outputs": [],
   "source": [
    "frequent_itemsets  = apriori(dataset, use_colnames=True, min_support=0.15) #Getting under 0.1 support takes too much computation time / memory and lacks of meaning.\n",
    "\n",
    "rules = association_rules(frequent_itemsets, metric=\"lift\", min_threshold=1.1)"
   ]
  },
  {
   "cell_type": "markdown",
   "metadata": {},
   "source": [
    "Now that we have a lot of rules, we also filter the rules that are not very present in the dataset, using the confidence metric."
   ]
  },
  {
   "cell_type": "code",
   "execution_count": 17,
   "metadata": {},
   "outputs": [],
   "source": [
    "rules[\"antecedents\"] = rules[\"antecedents\"].apply(lambda x: [x for x in x])\n",
    "rules[\"consequents\"] = rules[\"consequents\"].apply(lambda x: [x for x in x])\n",
    "rules = rules[rules[\"confidence\"] > 0.2].reset_index().drop(\"index\", axis=1).sort_values(\"lift\", ascending=False)"
   ]
  },
  {
   "cell_type": "markdown",
   "metadata": {},
   "source": [
    "Here are some of the rules detected by the algorithm."
   ]
  },
  {
   "cell_type": "code",
   "execution_count": 18,
   "metadata": {},
   "outputs": [
    {
     "data": {
      "text/html": [
       "<div>\n",
       "<style scoped>\n",
       "    .dataframe tbody tr th:only-of-type {\n",
       "        vertical-align: middle;\n",
       "    }\n",
       "\n",
       "    .dataframe tbody tr th {\n",
       "        vertical-align: top;\n",
       "    }\n",
       "\n",
       "    .dataframe thead th {\n",
       "        text-align: right;\n",
       "    }\n",
       "</style>\n",
       "<table border=\"1\" class=\"dataframe\">\n",
       "  <thead>\n",
       "    <tr style=\"text-align: right;\">\n",
       "      <th></th>\n",
       "      <th>antecedents</th>\n",
       "      <th>consequents</th>\n",
       "      <th>antecedent support</th>\n",
       "      <th>consequent support</th>\n",
       "      <th>support</th>\n",
       "      <th>confidence</th>\n",
       "      <th>lift</th>\n",
       "      <th>leverage</th>\n",
       "      <th>conviction</th>\n",
       "      <th>zhangs_metric</th>\n",
       "    </tr>\n",
       "  </thead>\n",
       "  <tbody>\n",
       "    <tr>\n",
       "      <th>23346</th>\n",
       "      <td>[28891]</td>\n",
       "      <td>[20583, 32935]</td>\n",
       "      <td>0.191679</td>\n",
       "      <td>0.160285</td>\n",
       "      <td>0.157786</td>\n",
       "      <td>0.823179</td>\n",
       "      <td>5.135735</td>\n",
       "      <td>0.127063</td>\n",
       "      <td>4.748967</td>\n",
       "      <td>0.996245</td>\n",
       "    </tr>\n",
       "    <tr>\n",
       "      <th>23343</th>\n",
       "      <td>[20583, 32935]</td>\n",
       "      <td>[28891]</td>\n",
       "      <td>0.160285</td>\n",
       "      <td>0.191679</td>\n",
       "      <td>0.157786</td>\n",
       "      <td>0.984412</td>\n",
       "      <td>5.135735</td>\n",
       "      <td>0.127063</td>\n",
       "      <td>51.855557</td>\n",
       "      <td>0.958999</td>\n",
       "    </tr>\n",
       "    <tr>\n",
       "      <th>73383</th>\n",
       "      <td>[35760, 33486]</td>\n",
       "      <td>[25777, 31964, 38524]</td>\n",
       "      <td>0.178372</td>\n",
       "      <td>0.165499</td>\n",
       "      <td>0.150997</td>\n",
       "      <td>0.846529</td>\n",
       "      <td>5.115011</td>\n",
       "      <td>0.121476</td>\n",
       "      <td>5.437503</td>\n",
       "      <td>0.979149</td>\n",
       "    </tr>\n",
       "    <tr>\n",
       "      <th>73374</th>\n",
       "      <td>[25777, 31964, 38524]</td>\n",
       "      <td>[35760, 33486]</td>\n",
       "      <td>0.165499</td>\n",
       "      <td>0.178372</td>\n",
       "      <td>0.150997</td>\n",
       "      <td>0.912373</td>\n",
       "      <td>5.115011</td>\n",
       "      <td>0.121476</td>\n",
       "      <td>9.376411</td>\n",
       "      <td>0.964045</td>\n",
       "    </tr>\n",
       "    <tr>\n",
       "      <th>23345</th>\n",
       "      <td>[32935]</td>\n",
       "      <td>[28891, 20583]</td>\n",
       "      <td>0.164521</td>\n",
       "      <td>0.187822</td>\n",
       "      <td>0.157786</td>\n",
       "      <td>0.959062</td>\n",
       "      <td>5.106217</td>\n",
       "      <td>0.126885</td>\n",
       "      <td>19.839400</td>\n",
       "      <td>0.962514</td>\n",
       "    </tr>\n",
       "    <tr>\n",
       "      <th>23344</th>\n",
       "      <td>[28891, 20583]</td>\n",
       "      <td>[32935]</td>\n",
       "      <td>0.187822</td>\n",
       "      <td>0.164521</td>\n",
       "      <td>0.157786</td>\n",
       "      <td>0.840081</td>\n",
       "      <td>5.106217</td>\n",
       "      <td>0.126885</td>\n",
       "      <td>5.224386</td>\n",
       "      <td>0.990129</td>\n",
       "    </tr>\n",
       "    <tr>\n",
       "      <th>73370</th>\n",
       "      <td>[25777, 38524, 33486]</td>\n",
       "      <td>[35760, 31964]</td>\n",
       "      <td>0.157949</td>\n",
       "      <td>0.187497</td>\n",
       "      <td>0.150997</td>\n",
       "      <td>0.955983</td>\n",
       "      <td>5.098671</td>\n",
       "      <td>0.121382</td>\n",
       "      <td>18.459061</td>\n",
       "      <td>0.954658</td>\n",
       "    </tr>\n",
       "    <tr>\n",
       "      <th>73387</th>\n",
       "      <td>[35760, 31964]</td>\n",
       "      <td>[25777, 38524, 33486]</td>\n",
       "      <td>0.187497</td>\n",
       "      <td>0.157949</td>\n",
       "      <td>0.150997</td>\n",
       "      <td>0.805330</td>\n",
       "      <td>5.098671</td>\n",
       "      <td>0.121382</td>\n",
       "      <td>4.325536</td>\n",
       "      <td>0.989375</td>\n",
       "    </tr>\n",
       "    <tr>\n",
       "      <th>73375</th>\n",
       "      <td>[35760, 25777, 33486]</td>\n",
       "      <td>[31964, 38524]</td>\n",
       "      <td>0.174841</td>\n",
       "      <td>0.169790</td>\n",
       "      <td>0.150997</td>\n",
       "      <td>0.863622</td>\n",
       "      <td>5.086420</td>\n",
       "      <td>0.121310</td>\n",
       "      <td>6.087578</td>\n",
       "      <td>0.973628</td>\n",
       "    </tr>\n",
       "    <tr>\n",
       "      <th>73382</th>\n",
       "      <td>[31964, 38524]</td>\n",
       "      <td>[35760, 25777, 33486]</td>\n",
       "      <td>0.169790</td>\n",
       "      <td>0.174841</td>\n",
       "      <td>0.150997</td>\n",
       "      <td>0.889315</td>\n",
       "      <td>5.086420</td>\n",
       "      <td>0.121310</td>\n",
       "      <td>7.455048</td>\n",
       "      <td>0.967704</td>\n",
       "    </tr>\n",
       "    <tr>\n",
       "      <th>73378</th>\n",
       "      <td>[35760, 25777, 31964]</td>\n",
       "      <td>[38524, 33486]</td>\n",
       "      <td>0.183695</td>\n",
       "      <td>0.162023</td>\n",
       "      <td>0.150997</td>\n",
       "      <td>0.821999</td>\n",
       "      <td>5.073356</td>\n",
       "      <td>0.121234</td>\n",
       "      <td>4.707706</td>\n",
       "      <td>0.983568</td>\n",
       "    </tr>\n",
       "    <tr>\n",
       "      <th>73379</th>\n",
       "      <td>[38524, 33486]</td>\n",
       "      <td>[35760, 25777, 31964]</td>\n",
       "      <td>0.162023</td>\n",
       "      <td>0.183695</td>\n",
       "      <td>0.150997</td>\n",
       "      <td>0.931948</td>\n",
       "      <td>5.073356</td>\n",
       "      <td>0.121234</td>\n",
       "      <td>11.995267</td>\n",
       "      <td>0.958131</td>\n",
       "    </tr>\n",
       "    <tr>\n",
       "      <th>72938</th>\n",
       "      <td>[38524, 31964]</td>\n",
       "      <td>[35760, 16498, 33486]</td>\n",
       "      <td>0.169790</td>\n",
       "      <td>0.176090</td>\n",
       "      <td>0.151594</td>\n",
       "      <td>0.892834</td>\n",
       "      <td>5.070318</td>\n",
       "      <td>0.121696</td>\n",
       "      <td>7.688183</td>\n",
       "      <td>0.966952</td>\n",
       "    </tr>\n",
       "    <tr>\n",
       "      <th>72919</th>\n",
       "      <td>[35760, 16498, 33486]</td>\n",
       "      <td>[38524, 31964]</td>\n",
       "      <td>0.176090</td>\n",
       "      <td>0.169790</td>\n",
       "      <td>0.151594</td>\n",
       "      <td>0.860888</td>\n",
       "      <td>5.070318</td>\n",
       "      <td>0.121696</td>\n",
       "      <td>5.967941</td>\n",
       "      <td>0.974347</td>\n",
       "    </tr>\n",
       "    <tr>\n",
       "      <th>72929</th>\n",
       "      <td>[35760, 33486]</td>\n",
       "      <td>[38524, 16498, 31964]</td>\n",
       "      <td>0.178372</td>\n",
       "      <td>0.167672</td>\n",
       "      <td>0.151594</td>\n",
       "      <td>0.849878</td>\n",
       "      <td>5.068710</td>\n",
       "      <td>0.121686</td>\n",
       "      <td>5.544355</td>\n",
       "      <td>0.976976</td>\n",
       "    </tr>\n",
       "    <tr>\n",
       "      <th>72928</th>\n",
       "      <td>[38524, 16498, 31964]</td>\n",
       "      <td>[35760, 33486]</td>\n",
       "      <td>0.167672</td>\n",
       "      <td>0.178372</td>\n",
       "      <td>0.151594</td>\n",
       "      <td>0.904114</td>\n",
       "      <td>5.068710</td>\n",
       "      <td>0.121686</td>\n",
       "      <td>8.568807</td>\n",
       "      <td>0.964416</td>\n",
       "    </tr>\n",
       "    <tr>\n",
       "      <th>72934</th>\n",
       "      <td>[35760, 31964]</td>\n",
       "      <td>[16498, 38524, 33486]</td>\n",
       "      <td>0.187497</td>\n",
       "      <td>0.159524</td>\n",
       "      <td>0.151594</td>\n",
       "      <td>0.808517</td>\n",
       "      <td>5.068302</td>\n",
       "      <td>0.121684</td>\n",
       "      <td>4.389293</td>\n",
       "      <td>0.987928</td>\n",
       "    </tr>\n",
       "    <tr>\n",
       "      <th>72923</th>\n",
       "      <td>[16498, 38524, 33486]</td>\n",
       "      <td>[35760, 31964]</td>\n",
       "      <td>0.159524</td>\n",
       "      <td>0.187497</td>\n",
       "      <td>0.151594</td>\n",
       "      <td>0.950289</td>\n",
       "      <td>5.068302</td>\n",
       "      <td>0.121684</td>\n",
       "      <td>16.344674</td>\n",
       "      <td>0.955049</td>\n",
       "    </tr>\n",
       "    <tr>\n",
       "      <th>3382</th>\n",
       "      <td>[28891]</td>\n",
       "      <td>[32935]</td>\n",
       "      <td>0.191679</td>\n",
       "      <td>0.164521</td>\n",
       "      <td>0.159796</td>\n",
       "      <td>0.833664</td>\n",
       "      <td>5.067212</td>\n",
       "      <td>0.128261</td>\n",
       "      <td>5.022836</td>\n",
       "      <td>0.992988</td>\n",
       "    </tr>\n",
       "    <tr>\n",
       "      <th>3383</th>\n",
       "      <td>[32935]</td>\n",
       "      <td>[28891]</td>\n",
       "      <td>0.164521</td>\n",
       "      <td>0.191679</td>\n",
       "      <td>0.159796</td>\n",
       "      <td>0.971278</td>\n",
       "      <td>5.067212</td>\n",
       "      <td>0.128261</td>\n",
       "      <td>28.142582</td>\n",
       "      <td>0.960710</td>\n",
       "    </tr>\n",
       "  </tbody>\n",
       "</table>\n",
       "</div>"
      ],
      "text/plain": [
       "                 antecedents            consequents  antecedent support  \\\n",
       "23346                [28891]         [20583, 32935]            0.191679   \n",
       "23343         [20583, 32935]                [28891]            0.160285   \n",
       "73383         [35760, 33486]  [25777, 31964, 38524]            0.178372   \n",
       "73374  [25777, 31964, 38524]         [35760, 33486]            0.165499   \n",
       "23345                [32935]         [28891, 20583]            0.164521   \n",
       "23344         [28891, 20583]                [32935]            0.187822   \n",
       "73370  [25777, 38524, 33486]         [35760, 31964]            0.157949   \n",
       "73387         [35760, 31964]  [25777, 38524, 33486]            0.187497   \n",
       "73375  [35760, 25777, 33486]         [31964, 38524]            0.174841   \n",
       "73382         [31964, 38524]  [35760, 25777, 33486]            0.169790   \n",
       "73378  [35760, 25777, 31964]         [38524, 33486]            0.183695   \n",
       "73379         [38524, 33486]  [35760, 25777, 31964]            0.162023   \n",
       "72938         [38524, 31964]  [35760, 16498, 33486]            0.169790   \n",
       "72919  [35760, 16498, 33486]         [38524, 31964]            0.176090   \n",
       "72929         [35760, 33486]  [38524, 16498, 31964]            0.178372   \n",
       "72928  [38524, 16498, 31964]         [35760, 33486]            0.167672   \n",
       "72934         [35760, 31964]  [16498, 38524, 33486]            0.187497   \n",
       "72923  [16498, 38524, 33486]         [35760, 31964]            0.159524   \n",
       "3382                 [28891]                [32935]            0.191679   \n",
       "3383                 [32935]                [28891]            0.164521   \n",
       "\n",
       "       consequent support   support  confidence      lift  leverage  \\\n",
       "23346            0.160285  0.157786    0.823179  5.135735  0.127063   \n",
       "23343            0.191679  0.157786    0.984412  5.135735  0.127063   \n",
       "73383            0.165499  0.150997    0.846529  5.115011  0.121476   \n",
       "73374            0.178372  0.150997    0.912373  5.115011  0.121476   \n",
       "23345            0.187822  0.157786    0.959062  5.106217  0.126885   \n",
       "23344            0.164521  0.157786    0.840081  5.106217  0.126885   \n",
       "73370            0.187497  0.150997    0.955983  5.098671  0.121382   \n",
       "73387            0.157949  0.150997    0.805330  5.098671  0.121382   \n",
       "73375            0.169790  0.150997    0.863622  5.086420  0.121310   \n",
       "73382            0.174841  0.150997    0.889315  5.086420  0.121310   \n",
       "73378            0.162023  0.150997    0.821999  5.073356  0.121234   \n",
       "73379            0.183695  0.150997    0.931948  5.073356  0.121234   \n",
       "72938            0.176090  0.151594    0.892834  5.070318  0.121696   \n",
       "72919            0.169790  0.151594    0.860888  5.070318  0.121696   \n",
       "72929            0.167672  0.151594    0.849878  5.068710  0.121686   \n",
       "72928            0.178372  0.151594    0.904114  5.068710  0.121686   \n",
       "72934            0.159524  0.151594    0.808517  5.068302  0.121684   \n",
       "72923            0.187497  0.151594    0.950289  5.068302  0.121684   \n",
       "3382             0.164521  0.159796    0.833664  5.067212  0.128261   \n",
       "3383             0.191679  0.159796    0.971278  5.067212  0.128261   \n",
       "\n",
       "       conviction  zhangs_metric  \n",
       "23346    4.748967       0.996245  \n",
       "23343   51.855557       0.958999  \n",
       "73383    5.437503       0.979149  \n",
       "73374    9.376411       0.964045  \n",
       "23345   19.839400       0.962514  \n",
       "23344    5.224386       0.990129  \n",
       "73370   18.459061       0.954658  \n",
       "73387    4.325536       0.989375  \n",
       "73375    6.087578       0.973628  \n",
       "73382    7.455048       0.967704  \n",
       "73378    4.707706       0.983568  \n",
       "73379   11.995267       0.958131  \n",
       "72938    7.688183       0.966952  \n",
       "72919    5.967941       0.974347  \n",
       "72929    5.544355       0.976976  \n",
       "72928    8.568807       0.964416  \n",
       "72934    4.389293       0.987928  \n",
       "72923   16.344674       0.955049  \n",
       "3382     5.022836       0.992988  \n",
       "3383    28.142582       0.960710  "
      ]
     },
     "metadata": {},
     "output_type": "display_data"
    },
    {
     "name": "stdout",
     "output_type": "stream",
     "text": [
      "74848 rules found.\n"
     ]
    }
   ],
   "source": [
    "display(rules.head(20))\n",
    "print(f\"{len(rules)} rules found.\")"
   ]
  },
  {
   "cell_type": "markdown",
   "metadata": {},
   "source": [
    "#### Parsing the rules\n",
    "These functions are designed to parse and filter the results of the detected rules, so we can understand them and use them more easily.\n",
    "\n",
    "<hr>\n",
    "\n",
    "```find_recommendations_precise``` will compute every possible combination of the watched anime ids, and try to find them in the rules dataset.\n",
    "<hr>\n",
    "\n",
    "```find_recommendations_free``` will look for every occurence of each anime id in the rules, even if the antecedents frozen set isn't containing only the given id. \n",
    "\n",
    "It will return one dataset per seen anime, ordered from highest to lowest weight. Weight is computed by adding every confidence value obtained in the rules containing the recommendated anime in the consequents."
   ]
  },
  {
   "cell_type": "code",
   "execution_count": 19,
   "metadata": {},
   "outputs": [],
   "source": [
    "def generate_combinations(ids): #This is used to compute every existing permutation of the elements of an array.\n",
    "\tresult = []\n",
    "\tfor r in range(1, len(ids) + 1):\n",
    "\t\tpermutations = itertools.permutations(ids, r)\n",
    "\t\tfor p in permutations:\n",
    "\t\t\tresult.append(list(p))\n",
    "\n",
    "\tprint(f\"Found {len(result)} possible combinations.\")\n",
    "\treturn result\n",
    "\n",
    "def get_linked_ids(ids): #This is used to find animes that are almost the same (For example, it is possible that in the dataset id 20000 represents Naruto and 21000 represents Naruto shipudden, this will be useful later.)\n",
    "\tlinked = []\n",
    "\tfor id in ids:\n",
    "\t\tanime_name = animes_df[animes_df[\"MAL_ID\"] == id][\"Name\"].values[0]\n",
    "\t\tfor value in animes_df[animes_df[\"Name\"].apply(lambda x: anime_name.lower() in x.lower())][\"MAL_ID\"].values:\n",
    "\t\t\tlinked.append(value)\n",
    "\n",
    "\treturn list(set(linked))\n",
    "\n",
    "def find_recommendations_precise(anime_ids): #The description is available in the markdown above\n",
    "\trecommendations = []\n",
    "\t\n",
    "\tfor combination in tqdm(generate_combinations(anime_ids), desc=\"Trying every possible combination...\"):\n",
    "\t\t# We try to find the associated rows to this exact combination by looking at the antecedents column, but the consequents column (recommendation) shouldn't an anime that has already been watched (i.e. is in anime_ids)\n",
    "\t\tfilter_df = rules[\"antecedents\"].apply(lambda x: x == combination) & rules[\"consequents\"].apply(lambda x: np.all([id not in x for id in anime_ids])) \n",
    "\t\tif filter_df.apply(lambda x: x != False).sum() < 1:\n",
    "\t\t\tcontinue\n",
    "\t\trecommendation = (combination, rules[filter_df][\"consequents\"].values, rules[filter_df][\"confidence\"].values, rules[filter_df][\"lift\"].values)\n",
    "\t\trecommendations.append(recommendation)\n",
    "\n",
    "\treturn recommendations\n",
    "\n",
    "def find_recommendations_free(anime_ids): #The description is available in the markdown above\n",
    "\trecommendations = []\n",
    "\n",
    "\tfor id in anime_ids:\n",
    "\t\t# We try to find the associated rows to this anime by looking at the antecedents column, but the consequents column (recommendation) shouldn't an anime that has already been watched (i.e. is in anime_ids)\n",
    "\t\tfilter_df = rules[\"antecedents\"].apply(lambda x: id in x) & rules[\"consequents\"].apply(lambda x: np.all([id not in x for id in anime_ids]))\n",
    "\t\tif filter_df.apply(lambda x: x != False).sum() < 1:\n",
    "\t\t\tcontinue\n",
    "\n",
    "\t\trecommendation = pd.DataFrame({\"source\": id, \"antecedents\": rules[filter_df][\"antecedents\"].values, \"consequents\": rules[filter_df][\"consequents\"].values, \"confidence\": rules[filter_df][\"confidence\"].values, \"lift\": rules[filter_df][\"lift\"].values})\n",
    "\t\trecommendations.append(recommendation)\n",
    "\n",
    "\trecommendations = pd.concat(recommendations)\n",
    "\trecommendations_dict = {anime: {}  for anime in anime_ids}\n",
    "\trecommendations_df = []\n",
    "\tfor anime in recommendations_dict:\n",
    "\t\trows = recommendations[recommendations[\"source\"] == anime]\n",
    "\t\tfor _, row in rows.iterrows():\n",
    "\t\t\tfor x in row[\"consequents\"]: \n",
    "\t\t\t\tif x in recommendations_dict[anime]: # For each recommendation DataFrame (one by source anime), we compute the weight of its rules. For a given input anime, each output anime in consequents column is a rule. \n",
    "\t\t\t\t\t# We sum up the product of the lift and confidence for the given rule. \n",
    "\t\t\t\t\t# For example, if an input anime has 3 different rows or where the anime with 1 is present in the consequents column, il will sum up the product of the lift and confidence values of these 3 rows and in the end take the mean. \n",
    "\t\t\t\t\trecommendations_dict[anime][x][0] += row[\"lift\"] * row[\"confidence\"] \n",
    "\t\t\t\t\trecommendations_dict[anime][x][1] += 1\n",
    "\t\t\t\telse:\n",
    "\t\t\t\t\trecommendations_dict[anime][x] = [row[\"lift\"]* row[\"confidence\"], 1]\n",
    "\t\t\n",
    "\t\tfor anime_recommended in recommendations_dict[anime]:\n",
    "\t\t\trecommendations_df.append(\n",
    "\t\t\t\t[\n",
    "\t\t\t\t\tanimes_df[animes_df[\"MAL_ID\"] == anime][\"English name\"].values[0],  # The name of the anime this rule is for\n",
    "\t\t\t\t\tanimes_df[animes_df[\"MAL_ID\"] == anime_recommended][\"English name\"].values[0],  # The name of the recommended anime\n",
    "\t\t\t\t\trecommendations_dict[anime][anime_recommended][0] / recommendations_dict[anime][anime_recommended][1] # The mean of the weights of the found rules\n",
    "\t\t\t\t]\n",
    "\t\t\t)\n",
    "\n",
    "\trecommendations_df = pd.DataFrame(recommendations_df, columns=['source', 'recommended_id', 'average weight']).sort_values(by=\"average weight\", ascending=False).groupby(\"source\")\n",
    "\n",
    "\treturn recommendations_df"
   ]
  },
  {
   "cell_type": "markdown",
   "metadata": {},
   "source": [
    "Here we use the previously defined function and parse the results to print them and link them with the anime infos dataset."
   ]
  },
  {
   "cell_type": "code",
   "execution_count": 20,
   "metadata": {},
   "outputs": [],
   "source": [
    "seen_animes = [23273] #More than 7 at a time takes forever."
   ]
  },
  {
   "cell_type": "code",
   "execution_count": 21,
   "metadata": {},
   "outputs": [
    {
     "name": "stdout",
     "output_type": "stream",
     "text": [
      "Found 1 possible combinations.\n"
     ]
    },
    {
     "data": {
      "application/vnd.jupyter.widget-view+json": {
       "model_id": "e01e84f0f03b48efabaa0307e95e24a1",
       "version_major": 2,
       "version_minor": 0
      },
      "text/plain": [
       "Trying every possible combination...:   0%|          | 0/1 [00:00<?, ?it/s]"
      ]
     },
     "metadata": {},
     "output_type": "display_data"
    },
    {
     "name": "stdout",
     "output_type": "stream",
     "text": [
      "Because you have seen Your Lie in April (23273), we think you would like Your Name. (32281) and anohana:The Flower We Saw That Day (9989) with 50.480% confidence. You are also 142.028% more likely to watch this/these anime(s).\n",
      "Because you have seen Your Lie in April (23273), we think you would like One Punch Man (30276) and anohana:The Flower We Saw That Day (9989) with 49.644% confidence. You are also 133.343% more likely to watch this/these anime(s).\n",
      "Because you have seen Your Lie in April (23273), we think you would like anohana:The Flower We Saw That Day (9989) and No Game, No Life (19815) with 49.253% confidence. You are also 132.453% more likely to watch this/these anime(s).\n",
      "Because you have seen Your Lie in April (23273), we think you would like Toradora! (4224) and Your Name. (32281) with 52.543% confidence. You are also 128.799% more likely to watch this/these anime(s).\n",
      "Because you have seen Your Lie in April (23273), we think you would like ERASED (31043) and Angel Beats! (6547) with 50.711% confidence. You are also 128.052% more likely to watch this/these anime(s).\n",
      "Because you have seen Your Lie in April (23273), we think you would like Your Name. (32281) and Attack on Titan (16498) and A Silent Voice (28851) with 50.071% confidence. You are also 126.279% more likely to watch this/these anime(s).\n",
      "Because you have seen Your Lie in April (23273), we think you would like Your Name. (32281) and ERASED (31043) with 53.930% confidence. You are also 124.943% more likely to watch this/these anime(s).\n",
      "Because you have seen Your Lie in April (23273), we think you would like Your Name. (32281) and Angel Beats! (6547) with 52.969% confidence. You are also 124.188% more likely to watch this/these anime(s).\n",
      "Because you have seen Your Lie in April (23273), we think you would like ERASED (31043) and No Game, No Life (19815) with 51.796% confidence. You are also 123.486% more likely to watch this/these anime(s).\n",
      "Because you have seen Your Lie in April (23273), we think you would like Re:ZERO -Starting Life in Another World- (31240) and Angel Beats! (6547) with 49.289% confidence. You are also 121.872% more likely to watch this/these anime(s).\n",
      "Because you have seen Your Lie in April (23273), we think you would like Your Name. (32281) and Noragami:Stray God (20507) with 50.605% confidence. You are also 121.565% more likely to watch this/these anime(s).\n",
      "Because you have seen Your Lie in April (23273), we think you would like Re:ZERO -Starting Life in Another World- (31240) and Your Name. (32281) with 52.383% confidence. You are also 121.044% more likely to watch this/these anime(s).\n",
      "Because you have seen Your Lie in April (23273), we think you would like ERASED (31043) and Steins;Gate (9253) with 49.147% confidence. You are also 120.638% more likely to watch this/these anime(s).\n",
      "Because you have seen Your Lie in April (23273), we think you would like A Silent Voice (28851) and One Punch Man (30276) with 51.654% confidence. You are also 119.883% more likely to watch this/these anime(s).\n",
      "Because you have seen Your Lie in April (23273), we think you would like ERASED (31043) and Sword Art Online (11757) with 52.774% confidence. You are also 119.674% more likely to watch this/these anime(s).\n",
      "Because you have seen Your Lie in April (23273), we think you would like Your Name. (32281) and Attack on Titan (16498) and Sword Art Online (11757) with 50.089% confidence. You are also 119.307% more likely to watch this/these anime(s).\n",
      "Because you have seen Your Lie in April (23273), we think you would like Your Name. (32281) and Steins;Gate (9253) with 50.480% confidence. You are also 118.115% more likely to watch this/these anime(s).\n",
      "Because you have seen Your Lie in April (23273), we think you would like Your Name. (32281) and Attack on Titan (16498) and Tokyo Ghoul (22319) with 49.218% confidence. You are also 117.510% more likely to watch this/these anime(s).\n",
      "Because you have seen Your Lie in April (23273), we think you would like Attack on Titan (16498) and A Silent Voice (28851) with 54.232% confidence. You are also 117.388% more likely to watch this/these anime(s).\n",
      "Because you have seen Your Lie in April (23273), we think you would like Toradora! (4224) and Noragami:Stray God (20507) with 49.164% confidence. You are also 117.378% more likely to watch this/these anime(s).\n",
      "Because you have seen Your Lie in April (23273), we think you would like Your Name. (32281) and A Silent Voice (28851) with 57.752% confidence. You are also 117.129% more likely to watch this/these anime(s).\n",
      "Because you have seen Your Lie in April (23273), we think you would like A Silent Voice (28851) and Death Note (1535) with 49.218% confidence. You are also 116.937% more likely to watch this/these anime(s).\n",
      "Because you have seen Your Lie in April (23273), we think you would like Attack on Titan (16498) and ERASED (31043) and One Punch Man (30276) with 49.698% confidence. You are also 116.667% more likely to watch this/these anime(s).\n",
      "Because you have seen Your Lie in April (23273), we think you would like Your Name. (32281) and Attack on Titan (16498) and My Hero Academia (31964) with 49.716% confidence. You are also 116.437% more likely to watch this/these anime(s).\n",
      "Because you have seen Your Lie in April (23273), we think you would like Your Name. (32281) and No Game, No Life (19815) with 54.819% confidence. You are also 116.302% more likely to watch this/these anime(s).\n",
      "Because you have seen Your Lie in April (23273), we think you would like ERASED (31043) and My Hero Academia (31964) with 50.800% confidence. You are also 116.150% more likely to watch this/these anime(s).\n",
      "Because you have seen Your Lie in April (23273), we think you would like ERASED (31043) and Tokyo Ghoul (22319) with 50.676% confidence. You are also 115.720% more likely to watch this/these anime(s).\n",
      "Because you have seen Your Lie in April (23273), we think you would like Attack on Titan (16498) and Food Wars! Shokugeki no Soma (28171) with 49.627% confidence. You are also 115.540% more likely to watch this/these anime(s).\n",
      "Because you have seen Your Lie in April (23273), we think you would like Toradora! (4224) and Tokyo Ghoul (22319) with 50.533% confidence. You are also 115.264% more likely to watch this/these anime(s).\n",
      "Because you have seen Your Lie in April (23273), we think you would like Sword Art Online (11757) and anohana:The Flower We Saw That Day (9989) with 50.338% confidence. You are also 114.679% more likely to watch this/these anime(s).\n",
      "Because you have seen Your Lie in April (23273), we think you would like Angel Beats! (6547) and My Hero Academia (31964) with 49.289% confidence. You are also 114.630% more likely to watch this/these anime(s).\n",
      "Because you have seen Your Lie in April (23273), we think you would like Attack on Titan (16498) and anohana:The Flower We Saw That Day (9989) with 55.103% confidence. You are also 114.437% more likely to watch this/these anime(s).\n",
      "Because you have seen Your Lie in April (23273), we think you would like Your Name. (32281) and Tokyo Ghoul (22319) with 53.343% confidence. You are also 113.592% more likely to watch this/these anime(s).\n",
      "Because you have seen Your Lie in April (23273), we think you would like Your Name. (32281) and Sword Art Online (11757) with 56.223% confidence. You are also 113.296% more likely to watch this/these anime(s).\n",
      "Because you have seen Your Lie in April (23273), we think you would like Attack on Titan Season 2 (25777) and Your Name. (32281) with 49.751% confidence. You are also 112.867% more likely to watch this/these anime(s).\n",
      "Because you have seen Your Lie in April (23273), we think you would like Your Name. (32281) and Attack on Titan (16498) and One Punch Man (30276) with 52.329% confidence. You are also 112.444% more likely to watch this/these anime(s).\n",
      "Because you have seen Your Lie in April (23273), we think you would like Attack on Titan (16498) and Angel Beats! (6547) and One Punch Man (30276) with 49.467% confidence. You are also 112.390% more likely to watch this/these anime(s).\n",
      "Because you have seen Your Lie in April (23273), we think you would like Noragami:Stray God (20507) and Angel Beats! (6547) with 50.445% confidence. You are also 112.088% more likely to watch this/these anime(s).\n",
      "Because you have seen Your Lie in April (23273), we think you would like ERASED (31043) and One Punch Man (30276) with 54.641% confidence. You are also 112.011% more likely to watch this/these anime(s).\n",
      "Because you have seen Your Lie in April (23273), we think you would like Toradora! (4224) and One Punch Man (30276) with 53.823% confidence. You are also 111.647% more likely to watch this/these anime(s).\n",
      "Because you have seen Your Lie in April (23273), we think you would like Toradora! (4224) and No Game, No Life (19815) with 54.161% confidence. You are also 110.993% more likely to watch this/these anime(s).\n",
      "Because you have seen Your Lie in April (23273), we think you would like Attack on Titan (16498) and Angel Beats! (6547) and No Game, No Life (19815) with 50.178% confidence. You are also 110.774% more likely to watch this/these anime(s).\n",
      "Because you have seen Your Lie in April (23273), we think you would like Your Name. (32281) and My Hero Academia (31964) with 54.623% confidence. You are also 110.522% more likely to watch this/these anime(s).\n",
      "Because you have seen Your Lie in April (23273), we think you would like Your Name. (32281) and Attack on Titan (16498) and Death Note (1535) with 50.907% confidence. You are also 110.475% more likely to watch this/these anime(s).\n",
      "Because you have seen Your Lie in April (23273), we think you would like Attack on Titan (16498) and ERASED (31043) with 58.375% confidence. You are also 110.197% more likely to watch this/these anime(s).\n",
      "Because you have seen Your Lie in April (23273), we think you would like Your Name. (32281) and Fullmetal Alchemist:Brotherhood (5114) with 49.235% confidence. You are also 110.075% more likely to watch this/these anime(s).\n",
      "Because you have seen Your Lie in April (23273), we think you would like Charlotte (28999) with 53.716% confidence. You are also 109.483% more likely to watch this/these anime(s).\n",
      "Because you have seen Your Lie in April (23273), we think you would like Toradora! (4224) and anohana:The Flower We Saw That Day (9989) with 49.573% confidence. You are also 109.285% more likely to watch this/these anime(s).\n",
      "Because you have seen Your Lie in April (23273), we think you would like ERASED (31043) and Death Note (1535) with 53.165% confidence. You are also 108.837% more likely to watch this/these anime(s).\n",
      "Because you have seen Your Lie in April (23273), we think you would like Angel Beats! (6547) and anohana:The Flower We Saw That Day (9989) with 51.387% confidence. You are also 107.976% more likely to watch this/these anime(s).\n",
      "Because you have seen Your Lie in April (23273), we think you would like Toradora! (4224) and Attack on Titan (16498) and Sword Art Online (11757) with 49.840% confidence. You are also 107.697% more likely to watch this/these anime(s).\n",
      "Because you have seen Your Lie in April (23273), we think you would like Noragami:Stray God (20507) and Noragami Aragoto (30503) with 49.680% confidence. You are also 107.547% more likely to watch this/these anime(s).\n",
      "Because you have seen Your Lie in April (23273), we think you would like Re:ZERO -Starting Life in Another World- (31240) and No Game, No Life (19815) with 52.987% confidence. You are also 107.475% more likely to watch this/these anime(s).\n",
      "Because you have seen Your Lie in April (23273), we think you would like Noragami:Stray God (20507) and My Hero Academia (31964) with 49.271% confidence. You are also 107.391% more likely to watch this/these anime(s).\n",
      "Because you have seen Your Lie in April (23273), we think you would like Your Name. (32281) and One Punch Man (30276) with 58.339% confidence. You are also 106.594% more likely to watch this/these anime(s).\n",
      "Because you have seen Your Lie in April (23273), we think you would like Noragami Aragoto (30503) with 50.551% confidence. You are also 106.318% more likely to watch this/these anime(s).\n",
      "Because you have seen Your Lie in April (23273), we think you would like Re:ZERO -Starting Life in Another World- (31240) and Sword Art Online (11757) with 52.827% confidence. You are also 106.103% more likely to watch this/these anime(s).\n",
      "Because you have seen Your Lie in April (23273), we think you would like Food Wars! Shokugeki no Soma (28171) with 55.708% confidence. You are also 105.992% more likely to watch this/these anime(s).\n",
      "Because you have seen Your Lie in April (23273), we think you would like One Punch Man (30276) and Sword Art Online (11757) and No Game, No Life (19815) with 49.716% confidence. You are also 105.827% more likely to watch this/these anime(s).\n",
      "Because you have seen Your Lie in April (23273), we think you would like Sword Art Online II (21881) and No Game, No Life (19815) with 49.129% confidence. You are also 105.664% more likely to watch this/these anime(s).\n",
      "Because you have seen Your Lie in April (23273), we think you would like Attack on Titan (16498) and Noragami:Stray God (20507) and Tokyo Ghoul (22319) with 49.324% confidence. You are also 105.594% more likely to watch this/these anime(s).\n",
      "Because you have seen Your Lie in April (23273), we think you would like A Silent Voice (28851) with 63.353% confidence. You are also 105.533% more likely to watch this/these anime(s).\n",
      "Because you have seen Your Lie in April (23273), we think you would like Angel Beats! (6547) and One Punch Man (30276) with 54.765% confidence. You are also 105.353% more likely to watch this/these anime(s).\n",
      "Because you have seen Your Lie in April (23273), we think you would like Re:ZERO -Starting Life in Another World- (31240) and My Hero Academia (31964) with 50.658% confidence. You are also 105.297% more likely to watch this/these anime(s).\n",
      "Because you have seen Your Lie in April (23273), we think you would like Noragami:Stray God (20507) and No Game, No Life (19815) with 53.005% confidence. You are also 105.145% more likely to watch this/these anime(s).\n",
      "Because you have seen Your Lie in April (23273), we think you would like Attack on Titan (16498) and Noragami:Stray God (20507) and Sword Art Online (11757) with 49.360% confidence. You are also 105.139% more likely to watch this/these anime(s).\n",
      "Because you have seen Your Lie in April (23273), we think you would like Re:ZERO -Starting Life in Another World- (31240) and Death Note (1535) with 50.000% confidence. You are also 104.658% more likely to watch this/these anime(s).\n",
      "Because you have seen Your Lie in April (23273), we think you would like Angel Beats! (6547) and Tokyo Ghoul (22319) with 51.867% confidence. You are also 104.656% more likely to watch this/these anime(s).\n",
      "Because you have seen Your Lie in April (23273), we think you would like Your Name. (32281) and Attack on Titan (16498) with 62.233% confidence. You are also 104.567% more likely to watch this/these anime(s).\n",
      "Because you have seen Your Lie in April (23273), we think you would like Steins;Gate (9253) and No Game, No Life (19815) with 52.134% confidence. You are also 104.525% more likely to watch this/these anime(s).\n",
      "Because you have seen Your Lie in April (23273), we think you would like Re:ZERO -Starting Life in Another World- (31240) and Attack on Titan (16498) with 56.117% confidence. You are also 103.780% more likely to watch this/these anime(s).\n",
      "Because you have seen Your Lie in April (23273), we think you would like Attack on Titan (16498) and No Game, No Life (19815) and Tokyo Ghoul (22319) with 51.298% confidence. You are also 103.501% more likely to watch this/these anime(s).\n",
      "Because you have seen Your Lie in April (23273), we think you would like KonoSuba:God's Blessing on This Wonderful World! (30831) and No Game, No Life (19815) with 49.307% confidence. You are also 103.448% more likely to watch this/these anime(s).\n",
      "Because you have seen Your Lie in April (23273), we think you would like My Hero Academia (31964) and No Game, No Life (19815) with 53.201% confidence. You are also 103.295% more likely to watch this/these anime(s).\n",
      "Because you have seen Your Lie in April (23273), we think you would like Your Name. (32281) and Death Note (1535) with 56.632% confidence. You are also 103.207% more likely to watch this/these anime(s).\n",
      "Because you have seen Your Lie in April (23273), we think you would like Re:ZERO -Starting Life in Another World- (31240) and One Punch Man (30276) with 53.663% confidence. You are also 103.206% more likely to watch this/these anime(s).\n",
      "Because you have seen Your Lie in April (23273), we think you would like Attack on Titan (16498) and Death Parade (28223) with 49.538% confidence. You are also 103.081% more likely to watch this/these anime(s).\n",
      "Because you have seen Your Lie in April (23273), we think you would like Attack on Titan (16498) and My Hero Academia (31964) and Sword Art Online (11757) with 49.502% confidence. You are also 102.981% more likely to watch this/these anime(s).\n",
      "Because you have seen Your Lie in April (23273), we think you would like Angel Beats! (6547) and No Game, No Life (19815) with 56.437% confidence. You are also 102.941% more likely to watch this/these anime(s).\n",
      "Because you have seen Your Lie in April (23273), we think you would like Noragami:Stray God (20507) and One Punch Man (30276) with 53.307% confidence. You are also 102.609% more likely to watch this/these anime(s).\n",
      "Because you have seen Your Lie in April (23273), we think you would like anohana:The Flower We Saw That Day (9989) and Death Note (1535) with 49.964% confidence. You are also 102.175% more likely to watch this/these anime(s).\n",
      "Because you have seen Your Lie in April (23273), we think you would like Attack on Titan (16498) and One Punch Man (30276) and No Game, No Life (19815) with 52.454% confidence. You are also 101.993% more likely to watch this/these anime(s).\n",
      "Because you have seen Your Lie in April (23273), we think you would like The Pet Girl of Sakurasou (13759) with 50.409% confidence. You are also 101.932% more likely to watch this/these anime(s).\n",
      "Because you have seen Your Lie in April (23273), we think you would like Noragami:Stray God (20507) and Tokyo Ghoul (22319) with 53.005% confidence. You are also 101.377% more likely to watch this/these anime(s).\n",
      "Because you have seen Your Lie in April (23273), we think you would like ERASED (31043) with 66.501% confidence. You are also 101.207% more likely to watch this/these anime(s).\n",
      "Because you have seen Your Lie in April (23273), we think you would like Attack on Titan (16498) and KonoSuba:God's Blessing on This Wonderful World! (30831) with 50.213% confidence. You are also 100.799% more likely to watch this/these anime(s).\n",
      "Because you have seen Your Lie in April (23273), we think you would like Noragami:Stray God (20507) and Sword Art Online (11757) with 54.090% confidence. You are also 100.009% more likely to watch this/these anime(s).\n",
      "Because you have seen Your Lie in April (23273), we think you would like One Punch Man (30276) and Steins;Gate (9253) with 52.560% confidence. You are also 99.606% more likely to watch this/these anime(s).\n",
      "Because you have seen Your Lie in April (23273), we think you would like Toradora! (4224) and Steins;Gate (9253) with 49.342% confidence. You are also 99.350% more likely to watch this/these anime(s).\n",
      "Because you have seen Your Lie in April (23273), we think you would like My Teen Romantic Comedy SNAFU (14813) with 56.241% confidence. You are also 99.049% more likely to watch this/these anime(s).\n",
      "Because you have seen Your Lie in April (23273), we think you would like Attack on Titan (16498) and Sword Art Online (11757) and No Game, No Life (19815) with 54.303% confidence. You are also 98.999% more likely to watch this/these anime(s).\n",
      "Because you have seen Your Lie in April (23273), we think you would like Sword Art Online II (21881) and Attack on Titan (16498) and Sword Art Online (11757) with 50.551% confidence. You are also 98.782% more likely to watch this/these anime(s).\n",
      "Because you have seen Your Lie in April (23273), we think you would like No Game, No Life (19815) and Tokyo Ghoul (22319) with 55.512% confidence. You are also 98.607% more likely to watch this/these anime(s).\n",
      "Because you have seen Your Lie in April (23273), we think you would like Sword Art Online II (21881) and Attack on Titan (16498) with 51.565% confidence. You are also 98.486% more likely to watch this/these anime(s).\n",
      "Because you have seen Your Lie in April (23273), we think you would like Fullmetal Alchemist:Brotherhood (5114) and No Game, No Life (19815) with 49.573% confidence. You are also 98.196% more likely to watch this/these anime(s).\n",
      "Because you have seen Your Lie in April (23273), we think you would like Attack on Titan (16498) and Death Note (1535) and No Game, No Life (19815) with 51.671% confidence. You are also 97.698% more likely to watch this/these anime(s).\n",
      "Because you have seen Your Lie in April (23273), we think you would like My Hero Academia (31964) and Sword Art Online (11757) with 53.734% confidence. You are also 97.583% more likely to watch this/these anime(s).\n",
      "Because you have seen Your Lie in April (23273), we think you would like One Punch Man (30276) and KonoSuba:God's Blessing on This Wonderful World! (30831) with 49.147% confidence. You are also 97.476% more likely to watch this/these anime(s).\n",
      "Because you have seen Your Lie in April (23273), we think you would like Attack on Titan (16498) and Parasyte -the maxim- (22535) with 50.765% confidence. You are also 96.971% more likely to watch this/these anime(s).\n",
      "Because you have seen Your Lie in April (23273), we think you would like My Hero Academia (31964) and Tokyo Ghoul (22319) with 52.134% confidence. You are also 96.849% more likely to watch this/these anime(s).\n",
      "Because you have seen Your Lie in April (23273), we think you would like Attack on Titan (16498) and One Punch Man (30276) and Sword Art Online (11757) with 53.627% confidence. You are also 96.758% more likely to watch this/these anime(s).\n",
      "Because you have seen Your Lie in April (23273), we think you would like The Future Diary (10620) and No Game, No Life (19815) with 49.111% confidence. You are also 96.519% more likely to watch this/these anime(s).\n",
      "Because you have seen Your Lie in April (23273), we think you would like Attack on Titan (16498) and My Hero Academia (31964) and Death Note (1535) with 49.787% confidence. You are also 96.321% more likely to watch this/these anime(s).\n",
      "Because you have seen Your Lie in April (23273), we think you would like Noragami:Stray God (20507) and Death Note (1535) with 52.098% confidence. You are also 96.031% more likely to watch this/these anime(s).\n",
      "Because you have seen Your Lie in April (23273), we think you would like Attack on Titan (16498) and One Punch Man (30276) and Tokyo Ghoul (22319) with 52.756% confidence. You are also 95.983% more likely to watch this/these anime(s).\n",
      "Because you have seen Your Lie in April (23273), we think you would like Attack on Titan (16498) and Angel Beats! (6547) and Sword Art Online (11757) with 51.334% confidence. You are also 95.795% more likely to watch this/these anime(s).\n",
      "Because you have seen Your Lie in April (23273), we think you would like Assassination Classroom (24833) with 49.253% confidence. You are also 95.726% more likely to watch this/these anime(s).\n",
      "Because you have seen Your Lie in April (23273), we think you would like Toradora! (4224) and Attack on Titan (16498) with 59.317% confidence. You are also 95.715% more likely to watch this/these anime(s).\n",
      "Because you have seen Your Lie in April (23273), we think you would like One Punch Man (30276) and No Game, No Life (19815) with 58.037% confidence. You are also 95.092% more likely to watch this/these anime(s).\n",
      "Because you have seen Your Lie in April (23273), we think you would like Is It Wrong to Try to Pick Up Girls in a Dungeon? (28121) with 51.262% confidence. You are also 94.637% more likely to watch this/these anime(s).\n",
      "Because you have seen Your Lie in April (23273), we think you would like Attack on Titan (16498) and Akame ga Kill! (22199) with 49.520% confidence. You are also 94.270% more likely to watch this/these anime(s).\n",
      "Because you have seen Your Lie in April (23273), we think you would like Attack on Titan (16498) and My Hero Academia (31964) and My Hero Academia 2 (33486) with 51.174% confidence. You are also 94.179% more likely to watch this/these anime(s).\n",
      "Because you have seen Your Lie in April (23273), we think you would like Attack on Titan (16498) and Noragami:Stray God (20507) with 58.428% confidence. You are also 94.138% more likely to watch this/these anime(s).\n",
      "Because you have seen Your Lie in April (23273), we think you would like Attack on Titan (16498) and My Hero Academia (31964) and One Punch Man (30276) with 53.272% confidence. You are also 93.487% more likely to watch this/these anime(s).\n",
      "Because you have seen Your Lie in April (23273), we think you would like Attack on Titan (16498) and Sword Art Online (11757) and Tokyo Ghoul (22319) with 52.881% confidence. You are also 93.478% more likely to watch this/these anime(s).\n",
      "Because you have seen Your Lie in April (23273), we think you would like Toradora! (4224) and Sword Art Online (11757) with 56.046% confidence. You are also 93.267% more likely to watch this/these anime(s).\n",
      "Because you have seen Your Lie in April (23273), we think you would like Attack on Titan (16498) and Angel Beats! (6547) and Death Note (1535) with 50.089% confidence. You are also 93.209% more likely to watch this/these anime(s).\n",
      "Because you have seen Your Lie in April (23273), we think you would like Death Parade (28223) with 54.979% confidence. You are also 93.060% more likely to watch this/these anime(s).\n",
      "Because you have seen Your Lie in April (23273), we think you would like Attack on Titan (16498) and My Hero Academia 2 (33486) with 52.240% confidence. You are also 92.745% more likely to watch this/these anime(s).\n",
      "Because you have seen Your Lie in April (23273), we think you would like Re:ZERO -Starting Life in Another World- (31240) with 63.549% confidence. You are also 92.530% more likely to watch this/these anime(s).\n",
      "Because you have seen Your Lie in April (23273), we think you would like Attack on Titan Season 2 (25777) and One Punch Man (30276) with 49.324% confidence. You are also 92.355% more likely to watch this/these anime(s).\n",
      "Because you have seen Your Lie in April (23273), we think you would like anohana:The Flower We Saw That Day (9989) with 63.834% confidence. You are also 91.970% more likely to watch this/these anime(s).\n",
      "Because you have seen Your Lie in April (23273), we think you would like My Hero Academia (31964) and My Hero Academia 2 (33486) and One Punch Man (30276) with 49.538% confidence. You are also 91.847% more likely to watch this/these anime(s).\n",
      "Because you have seen Your Lie in April (23273), we think you would like Death Note (1535) and No Game, No Life (19815) with 56.775% confidence. You are also 91.442% more likely to watch this/these anime(s).\n",
      "Because you have seen Your Lie in April (23273), we think you would like One Punch Man (30276) and Tokyo Ghoul (22319) with 56.952% confidence. You are also 91.411% more likely to watch this/these anime(s).\n",
      "Because you have seen Your Lie in April (23273), we think you would like Your Name. (32281) with 72.902% confidence. You are also 91.278% more likely to watch this/these anime(s).\n",
      "Because you have seen Your Lie in April (23273), we think you would like Angel Beats! (6547) and Steins;Gate (9253) with 51.547% confidence. You are also 90.645% more likely to watch this/these anime(s).\n",
      "Because you have seen Your Lie in April (23273), we think you would like Sword Art Online (11757) and No Game, No Life (19815) with 60.562% confidence. You are also 90.632% more likely to watch this/these anime(s).\n",
      "Because you have seen Your Lie in April (23273), we think you would like One Punch Man (30276) and My Hero Academia 2 (33486) with 50.622% confidence. You are also 90.595% more likely to watch this/these anime(s).\n",
      "Because you have seen Your Lie in April (23273), we think you would like Attack on Titan (16498) and No Game, No Life (19815) with 62.767% confidence. You are also 90.410% more likely to watch this/these anime(s).\n",
      "Because you have seen Your Lie in April (23273), we think you would like One Punch Man (30276) and Sword Art Online (11757) with 58.908% confidence. You are also 90.207% more likely to watch this/these anime(s).\n",
      "Because you have seen Your Lie in April (23273), we think you would like My Hero Academia (31964) and Death Note (1535) with 53.663% confidence. You are also 90.180% more likely to watch this/these anime(s).\n",
      "Because you have seen Your Lie in April (23273), we think you would like Sword Art Online (11757) and Steins;Gate (9253) with 52.347% confidence. You are also 89.866% more likely to watch this/these anime(s).\n",
      "Because you have seen Your Lie in April (23273), we think you would like Sword Art Online II (21881) and Sword Art Online (11757) with 56.846% confidence. You are also 89.840% more likely to watch this/these anime(s).\n",
      "Because you have seen Your Lie in April (23273), we think you would like Sword Art Online (11757) and Tokyo Ghoul (22319) with 57.432% confidence. You are also 89.530% more likely to watch this/these anime(s).\n",
      "Because you have seen Your Lie in April (23273), we think you would like Parasyte -the maxim- (22535) with 55.477% confidence. You are also 89.319% more likely to watch this/these anime(s).\n",
      "Because you have seen Your Lie in April (23273), we think you would like Sword Art Online II (21881) with 58.197% confidence. You are also 89.238% more likely to watch this/these anime(s).\n",
      "Because you have seen Your Lie in April (23273), we think you would like The Seven Deadly Sins (23755) with 53.361% confidence. You are also 88.964% more likely to watch this/these anime(s).\n",
      "Because you have seen Your Lie in April (23273), we think you would like Attack on Titan (16498) and My Hero Academia (31964) with 60.117% confidence. You are also 88.523% more likely to watch this/these anime(s).\n",
      "Because you have seen Your Lie in April (23273), we think you would like Attack on Titan (16498) and Death Note (1535) and Tokyo Ghoul (22319) with 52.952% confidence. You are also 87.732% more likely to watch this/these anime(s).\n",
      "Because you have seen Your Lie in April (23273), we think you would like Attack on Titan (16498) and One Punch Man (30276) and Death Note (1535) with 54.232% confidence. You are also 87.540% more likely to watch this/these anime(s).\n",
      "Because you have seen Your Lie in April (23273), we think you would like Toradora! (4224) and Angel Beats! (6547) with 54.232% confidence. You are also 87.294% more likely to watch this/these anime(s).\n",
      "Because you have seen Your Lie in April (23273), we think you would like Attack on Titan (16498) and Angel Beats! (6547) with 60.669% confidence. You are also 86.784% more likely to watch this/these anime(s).\n",
      "Because you have seen Your Lie in April (23273), we think you would like My Hero Academia (31964) and One Punch Man (30276) with 58.233% confidence. You are also 86.391% more likely to watch this/these anime(s).\n",
      "Because you have seen Your Lie in April (23273), we think you would like KonoSuba:God's Blessing on This Wonderful World! (30831) with 57.592% confidence. You are also 86.383% more likely to watch this/these anime(s).\n",
      "Because you have seen Your Lie in April (23273), we think you would like Fullmetal Alchemist:Brotherhood (5114) and One Punch Man (30276) with 52.827% confidence. You are also 85.469% more likely to watch this/these anime(s).\n",
      "Because you have seen Your Lie in April (23273), we think you would like Akame ga Kill! (22199) with 54.925% confidence. You are also 85.241% more likely to watch this/these anime(s).\n",
      "Because you have seen Your Lie in April (23273), we think you would like Noragami:Stray God (20507) with 65.416% confidence. You are also 85.089% more likely to watch this/these anime(s).\n",
      "Because you have seen Your Lie in April (23273), we think you would like Attack on Titan Season 2 (25777) and Attack on Titan (16498) with 57.077% confidence. You are also 84.845% more likely to watch this/these anime(s).\n",
      "Because you have seen Your Lie in April (23273), we think you would like Attack on Titan (16498) and Steins;Gate (9253) with 57.450% confidence. You are also 84.754% more likely to watch this/these anime(s).\n",
      "Because you have seen Your Lie in April (23273), we think you would like My Hero Academia (31964) and My Hero Academia 2 (33486) with 56.028% confidence. You are also 84.564% more likely to watch this/these anime(s).\n",
      "Because you have seen Your Lie in April (23273), we think you would like Tokyo Ghoul √A (27899) and Tokyo Ghoul (22319) with 50.267% confidence. You are also 83.988% more likely to watch this/these anime(s).\n",
      "Because you have seen Your Lie in April (23273), we think you would like Attack on Titan Season 2 (25777) with 58.001% confidence. You are also 83.924% more likely to watch this/these anime(s).\n",
      "Because you have seen Your Lie in April (23273), we think you would like Tokyo Ghoul √A (27899) with 50.800% confidence. You are also 83.353% more likely to watch this/these anime(s).\n",
      "Because you have seen Your Lie in April (23273), we think you would like Angel Beats! (6547) and Sword Art Online (11757) with 57.521% confidence. You are also 83.222% more likely to watch this/these anime(s).\n",
      "Because you have seen Your Lie in April (23273), we think you would like Death Note (1535) and Tokyo Ghoul (22319) with 57.166% confidence. You are also 82.754% more likely to watch this/these anime(s).\n",
      "Because you have seen Your Lie in April (23273), we think you would like My Hero Academia 2 (33486) with 57.504% confidence. You are also 82.597% more likely to watch this/these anime(s).\n",
      "Because you have seen Your Lie in April (23273), we think you would like Attack on Titan (16498) and Tokyo Ghoul (22319) with 63.353% confidence. You are also 81.626% more likely to watch this/these anime(s).\n",
      "Because you have seen Your Lie in April (23273), we think you would like Attack on Titan (16498) and One Punch Man (30276) with 65.505% confidence. You are also 80.974% more likely to watch this/these anime(s).\n",
      "Because you have seen Your Lie in April (23273), we think you would like One Punch Man (30276) and Death Note (1535) with 59.459% confidence. You are also 80.407% more likely to watch this/these anime(s).\n",
      "Because you have seen Your Lie in April (23273), we think you would like The Future Diary (10620) and Sword Art Online (11757) with 50.925% confidence. You are also 80.337% more likely to watch this/these anime(s).\n",
      "Because you have seen Your Lie in April (23273), we think you would like Love, Chunibyo & Other Delusions! (14741) with 50.302% confidence. You are also 79.341% more likely to watch this/these anime(s).\n",
      "Because you have seen Your Lie in April (23273), we think you would like Attack on Titan (16498) and Sword Art Online (11757) and Death Note (1535) with 53.307% confidence. You are also 79.258% more likely to watch this/these anime(s).\n",
      "Because you have seen Your Lie in April (23273), we think you would like Attack on Titan (16498) and The Future Diary (10620) with 53.574% confidence. You are also 79.174% more likely to watch this/these anime(s).\n",
      "Because you have seen Your Lie in April (23273), we think you would like The Devil is a Part-Timer! (15809) with 55.672% confidence. You are also 78.661% more likely to watch this/these anime(s).\n",
      "Because you have seen Your Lie in April (23273), we think you would like No Game, No Life (19815) with 71.924% confidence. You are also 78.414% more likely to watch this/these anime(s).\n",
      "Because you have seen Your Lie in April (23273), we think you would like Code Geass:Lelouch of the Rebellion R2 (2904) and Attack on Titan (16498) with 49.502% confidence. You are also 78.248% more likely to watch this/these anime(s).\n",
      "Because you have seen Your Lie in April (23273), we think you would like My Hero Academia (31964) with 66.874% confidence. You are also 77.563% more likely to watch this/these anime(s).\n",
      "Because you have seen Your Lie in April (23273), we think you would like Fullmetal Alchemist:Brotherhood (5114) and Attack on Titan (16498) and Death Note (1535) with 49.538% confidence. You are also 76.649% more likely to watch this/these anime(s).\n",
      "Because you have seen Your Lie in April (23273), we think you would like Sword Art Online (11757) and Code Geass:Lelouch of the Rebellion (1575) with 49.555% confidence. You are also 76.303% more likely to watch this/these anime(s).\n",
      "Because you have seen Your Lie in April (23273), we think you would like Fullmetal Alchemist:Brotherhood (5114) and Sword Art Online (11757) with 51.262% confidence. You are also 76.278% more likely to watch this/these anime(s).\n",
      "Because you have seen Your Lie in April (23273), we think you would like Steins;Gate (9253) and Death Note (1535) with 53.716% confidence. You are also 74.791% more likely to watch this/these anime(s).\n",
      "Because you have seen Your Lie in April (23273), we think you would like Attack on Titan (16498) and Code Geass:Lelouch of the Rebellion (1575) with 54.161% confidence. You are also 74.297% more likely to watch this/these anime(s).\n",
      "Because you have seen Your Lie in April (23273), we think you would like The Future Diary (10620) and Death Note (1535) with 49.538% confidence. You are also 73.424% more likely to watch this/these anime(s).\n",
      "Because you have seen Your Lie in April (23273), we think you would like Tokyo Ghoul (22319) with 69.844% confidence. You are also 73.090% more likely to watch this/these anime(s).\n",
      "Because you have seen Your Lie in April (23273), we think you would like Attack on Titan (16498) and Sword Art Online (11757) with 66.198% confidence. You are also 72.558% more likely to watch this/these anime(s).\n",
      "Because you have seen Your Lie in April (23273), we think you would like Toradora! (4224) and Death Note (1535) with 53.129% confidence. You are also 72.516% more likely to watch this/these anime(s).\n",
      "Because you have seen Your Lie in April (23273), we think you would like Angel Beats! (6547) and Death Note (1535) with 55.370% confidence. You are also 71.792% more likely to watch this/these anime(s).\n",
      "Because you have seen Your Lie in April (23273), we think you would like Attack on Titan (16498) and Fullmetal Alchemist:Brotherhood (5114) with 57.344% confidence. You are also 70.944% more likely to watch this/these anime(s).\n",
      "Because you have seen Your Lie in April (23273), we think you would like One Punch Man (30276) with 74.431% confidence. You are also 69.095% more likely to watch this/these anime(s).\n",
      "Because you have seen Your Lie in April (23273), we think you would like Sword Art Online (11757) and Death Note (1535) with 58.624% confidence. You are also 68.302% more likely to watch this/these anime(s).\n",
      "Because you have seen Your Lie in April (23273), we think you would like Steins;Gate (9253) with 65.327% confidence. You are also 66.193% more likely to watch this/these anime(s).\n",
      "Because you have seen Your Lie in April (23273), we think you would like The Future Diary (10620) with 59.993% confidence. You are also 63.102% more likely to watch this/these anime(s).\n",
      "Because you have seen Your Lie in April (23273), we think you would like Attack on Titan (16498) and Death Note (1535) with 65.985% confidence. You are also 62.587% more likely to watch this/these anime(s).\n",
      "Because you have seen Your Lie in April (23273), we think you would like Toradora! (4224) with 69.310% confidence. You are also 60.371% more likely to watch this/these anime(s).\n",
      "Because you have seen Your Lie in April (23273), we think you would like Angel Beats! (6547) with 70.288% confidence. You are also 60.078% more likely to watch this/these anime(s).\n",
      "Because you have seen Your Lie in April (23273), we think you would like Another (11111) with 52.632% confidence. You are also 59.166% more likely to watch this/these anime(s).\n",
      "Because you have seen Your Lie in April (23273), we think you would like Blue Exorcist (9919) with 53.538% confidence. You are also 58.497% more likely to watch this/these anime(s).\n",
      "Because you have seen Your Lie in April (23273), we think you would like Bakemonogatari (5081) with 49.182% confidence. You are also 56.904% more likely to watch this/these anime(s).\n",
      "Because you have seen Your Lie in April (23273), we think you would like Sword Art Online (11757) with 75.818% confidence. You are also 56.806% more likely to watch this/these anime(s).\n",
      "Because you have seen Your Lie in April (23273), we think you would like Clannad (2167) with 51.494% confidence. You are also 54.935% more likely to watch this/these anime(s).\n",
      "Because you have seen Your Lie in April (23273), we think you would like Fullmetal Alchemist:Brotherhood (5114) and Death Note (1535) with 53.930% confidence. You are also 54.826% more likely to watch this/these anime(s).\n",
      "Because you have seen Your Lie in April (23273), we think you would like Attack on Titan (16498) with 82.521% confidence. You are also 52.510% more likely to watch this/these anime(s).\n",
      "Because you have seen Your Lie in April (23273), we think you would like Death Note (1535) and Code Geass:Lelouch of the Rebellion (1575) with 51.814% confidence. You are also 46.873% more likely to watch this/these anime(s).\n",
      "Because you have seen Your Lie in April (23273), we think you would like Code Geass:Lelouch of the Rebellion R2 (2904) and Code Geass:Lelouch of the Rebellion (1575) with 54.445% confidence. You are also 44.812% more likely to watch this/these anime(s).\n",
      "Because you have seen Your Lie in April (23273), we think you would like Fullmetal Alchemist:Brotherhood (5114) with 64.420% confidence. You are also 44.604% more likely to watch this/these anime(s).\n",
      "Because you have seen Your Lie in April (23273), we think you would like Code Geass:Lelouch of the Rebellion R2 (2904) with 55.103% confidence. You are also 43.881% more likely to watch this/these anime(s).\n",
      "Because you have seen Your Lie in April (23273), we think you would like Code Geass:Lelouch of the Rebellion (1575) with 60.562% confidence. You are also 38.648% more likely to watch this/these anime(s).\n",
      "Because you have seen Your Lie in April (23273), we think you would like Spirited Away (199) with 52.969% confidence. You are also 35.353% more likely to watch this/these anime(s).\n",
      "Because you have seen Your Lie in April (23273), we think you would like Naruto (20) with 52.098% confidence. You are also 28.714% more likely to watch this/these anime(s).\n",
      "Because you have seen Your Lie in April (23273), we think you would like Death Note (1535) with 74.929% confidence. You are also 28.124% more likely to watch this/these anime(s).\n"
     ]
    }
   ],
   "source": [
    "for recommendations in find_recommendations_precise(seen_animes):\n",
    "\tfor i in range(len(recommendations[1])):\n",
    "\t\trecommendation = (recommendations[0], recommendations[1][i], recommendations[2][i], recommendations[3][i])\n",
    "\t\tprint(\"Because you have seen %s, we think you would like %s with %.3f%% confidence. You are also %.3f%% more likely to watch this/these anime(s).\" % (\n",
    "\t\t\t\" and \".join([animes_df[animes_df[\"MAL_ID\"] == x][\"English name\"].values[0] + f\" ({str(x)})\" for x in recommendation[0]]), \n",
    "\t\t\t\" and \".join([animes_df[animes_df[\"MAL_ID\"] == x][\"English name\"].values[0] + f\" ({str(x)})\" for x in recommendation[1]]), \n",
    "\t\t\trecommendation[2] * 100,\n",
    "\t\t\trecommendation[3] * 100 - 100)\n",
    "\t\t)"
   ]
  },
  {
   "cell_type": "code",
   "execution_count": 22,
   "metadata": {},
   "outputs": [
    {
     "data": {
      "text/html": [
       "<div>\n",
       "<style scoped>\n",
       "    .dataframe tbody tr th:only-of-type {\n",
       "        vertical-align: middle;\n",
       "    }\n",
       "\n",
       "    .dataframe tbody tr th {\n",
       "        vertical-align: top;\n",
       "    }\n",
       "\n",
       "    .dataframe thead th {\n",
       "        text-align: right;\n",
       "    }\n",
       "</style>\n",
       "<table border=\"1\" class=\"dataframe\">\n",
       "  <thead>\n",
       "    <tr style=\"text-align: right;\">\n",
       "      <th></th>\n",
       "      <th>source</th>\n",
       "      <th>recommended_id</th>\n",
       "      <th>average weight</th>\n",
       "    </tr>\n",
       "  </thead>\n",
       "  <tbody>\n",
       "    <tr>\n",
       "      <th>2</th>\n",
       "      <td>Your Lie in April</td>\n",
       "      <td>My Hero Academia 2</td>\n",
       "      <td>1.501425</td>\n",
       "    </tr>\n",
       "    <tr>\n",
       "      <th>0</th>\n",
       "      <td>Your Lie in April</td>\n",
       "      <td>Noragami Aragoto</td>\n",
       "      <td>1.476001</td>\n",
       "    </tr>\n",
       "    <tr>\n",
       "      <th>6</th>\n",
       "      <td>Your Lie in April</td>\n",
       "      <td>A Silent Voice</td>\n",
       "      <td>1.449700</td>\n",
       "    </tr>\n",
       "    <tr>\n",
       "      <th>7</th>\n",
       "      <td>Your Lie in April</td>\n",
       "      <td>Your Name.</td>\n",
       "      <td>1.430774</td>\n",
       "    </tr>\n",
       "    <tr>\n",
       "      <th>3</th>\n",
       "      <td>Your Lie in April</td>\n",
       "      <td>My Hero Academia</td>\n",
       "      <td>1.408307</td>\n",
       "    </tr>\n",
       "  </tbody>\n",
       "</table>\n",
       "</div>"
      ],
      "text/plain": [
       "              source      recommended_id  average weight\n",
       "2  Your Lie in April  My Hero Academia 2        1.501425\n",
       "0  Your Lie in April    Noragami Aragoto        1.476001\n",
       "6  Your Lie in April      A Silent Voice        1.449700\n",
       "7  Your Lie in April          Your Name.        1.430774\n",
       "3  Your Lie in April    My Hero Academia        1.408307"
      ]
     },
     "metadata": {},
     "output_type": "display_data"
    }
   ],
   "source": [
    "for index, recommendation_df in find_recommendations_free(seen_animes):\n",
    "\tdisplay(recommendation_df.head(5))"
   ]
  },
  {
   "cell_type": "markdown",
   "metadata": {},
   "source": [
    "### Results for real users"
   ]
  },
  {
   "cell_type": "code",
   "execution_count": 23,
   "metadata": {},
   "outputs": [],
   "source": [
    "# This is a list of what Antonin's little sister, aka Clotilde, watched. \n",
    "# We used it to see if we got some recommendations of animes she wanted to watch. \n",
    "# Turns out we did, meaning that the recommendation system is working.\n",
    "\n",
    "last_seen_clo = [\n",
    "\t6702,\n",
    "\t16498,\n",
    "\t33255,\n",
    "\t20,\n",
    "\t28755,\n",
    "\t24833,\n",
    "\t30911,\n",
    "\t136,\n",
    "\t34176,\n",
    "\t28999,\n",
    "\t38000,\n",
    "\t9919,\n",
    "\t36039,\n",
    "\t31043,\n",
    "\t23755,\n",
    "\t35500,\n",
    "\t22319,\n",
    "\t38777,\n",
    "\t38793,\n",
    "\t4898,\n",
    "\t269,\n",
    "\t14227,\n",
    "\t28171,\n",
    "\t31741,\n",
    "\t32282,\n",
    "\t164,\n",
    "\t199,\n",
    "\t431,\n",
    "\t32281,\n",
    "\t513,\n",
    "\t2890,\n",
    "\t512,\n",
    "\t21557,\n",
    "\t39235,\n",
    "\t16662,\n",
    "\t572,\n",
    "\t36098,\n",
    "\t10029,\n",
    "\t34541,\n",
    "\t35098,\n",
    "\t578,\n",
    "\t12355,\n",
    "\t33352,\n",
    "\t11757,\n",
    "\t28851,\n",
    "\t39533,\n",
    "\t35222,\n",
    "\t11771,\n",
    "\t35507,\n",
    "\t34572,\n",
    "\t46352,\n",
    "\t21995,\n",
    "\t37208,\n",
    "\t26243,\n",
    "\t37396,\n",
    "\t39535,\n",
    "\t42249,\n",
    "\t41094,\n",
    "\t46569,\n",
    "\t31964,\n",
    "\t23273,\n",
    "\t523,\n",
    "\t20583,\n",
    "\t42897,\n",
    "\t31478,\n",
    "]"
   ]
  },
  {
   "cell_type": "markdown",
   "metadata": {},
   "source": [
    "```recommend_user``` is a new function that uses a full list of watch animes and applies a modified version of the algorithms ```find_recommendation_precise``` and ```find_recommendations_free```.\n",
    "\n",
    "The main difference is that instead of computing every possible combination of the watched animes (because it would take years), it computes the permutation of the last 6 seen, and returns every rule where the consequents columns does not contain any already seen anime, sorted by descending lift values.\n",
    "\n",
    "In another cell, we retrieve all the names of the recommended animes, and chose to keep the first 10.\n",
    "\n",
    "When giving the recommendations made by this system to my little sister, she said that some of the animes were actually in her watchlist."
   ]
  },
  {
   "cell_type": "code",
   "execution_count": 26,
   "metadata": {},
   "outputs": [],
   "source": [
    "def recommend_user(anime_ids): # We only keep the last 5 watched animes, but we use the full list to make sure we don't recommend some animes that they have already seen.\n",
    "\trecommendations = []\n",
    "\tlinked_ids = get_linked_ids(anime_ids) # This allows us to get the ids of linked animes. For example, if anime id=1 has the name \"Naruto\", it will add to the list every anime whose name contains Naruto\n",
    "\t# This is useful here, because when Clotilde gave us the anime list, she didn't detailed every possible Naruto name of this anime series that she watched, although she did watch all the spin-offs.\n",
    "\t# So in order to come up faster with a more precise list, we made this function.\n",
    "\t\n",
    "\tfor combination in tqdm(generate_combinations(anime_ids[-5:]), desc=\"Trying every possible combination...\"):\n",
    "\t\tfilter_df = rules[\"antecedents\"].apply(lambda x: x == combination) & rules[\"consequents\"].apply(lambda x: np.all([id not in x for id in linked_ids]))\n",
    "\t\tif filter_df.apply(lambda x: x != False).sum() < 1:\n",
    "\t\t\tcontinue\n",
    "\t\tfor i in range(len(rules[filter_df][\"consequents\"].values)):\n",
    "\t\t\trecommendation = (\n",
    "\t\t\t\t\" & \".join([animes_df[animes_df[\"MAL_ID\"] == x][\"English name\"].values[0] for x in combination]), # Converting the ids of a rule to a string enumeration\n",
    "\t\t\t\t[animes_df[animes_df[\"MAL_ID\"] == x][\"English name\"].values[0] for x in rules[filter_df][\"consequents\"].values[i]], # The list of the recommended animes\n",
    "\t\t\t\trules[filter_df][\"confidence\"].values[i], # Confidence\n",
    "\t\t\t\trules[filter_df][\"lift\"].values[i] # Lift\n",
    "\t\t\t)\n",
    "\t\t\trecommendations.append(recommendation)\n",
    "\n",
    "\tdf_recommendations = pd.DataFrame(recommendations, columns=['combination', 'consequents', 'confidence', 'lift']).sort_values(\"lift\", ascending=False) # We sort with lift descending\n",
    "\treturn df_recommendations"
   ]
  },
  {
   "cell_type": "code",
   "execution_count": 27,
   "metadata": {},
   "outputs": [
    {
     "name": "stdout",
     "output_type": "stream",
     "text": [
      "Found 325 possible combinations.\n"
     ]
    },
    {
     "data": {
      "application/vnd.jupyter.widget-view+json": {
       "model_id": "08cfd1bf3bc444dab2480663e97286e3",
       "version_major": 2,
       "version_minor": 0
      },
      "text/plain": [
       "Trying every possible combination...:   0%|          | 0/325 [00:00<?, ?it/s]"
      ]
     },
     "metadata": {},
     "output_type": "display_data"
    },
    {
     "data": {
      "text/html": [
       "<div>\n",
       "<style scoped>\n",
       "    .dataframe tbody tr th:only-of-type {\n",
       "        vertical-align: middle;\n",
       "    }\n",
       "\n",
       "    .dataframe tbody tr th {\n",
       "        vertical-align: top;\n",
       "    }\n",
       "\n",
       "    .dataframe thead th {\n",
       "        text-align: right;\n",
       "    }\n",
       "</style>\n",
       "<table border=\"1\" class=\"dataframe\">\n",
       "  <thead>\n",
       "    <tr style=\"text-align: right;\">\n",
       "      <th></th>\n",
       "      <th>combination</th>\n",
       "      <th>consequents</th>\n",
       "      <th>confidence</th>\n",
       "      <th>lift</th>\n",
       "    </tr>\n",
       "  </thead>\n",
       "  <tbody>\n",
       "    <tr>\n",
       "      <th>0</th>\n",
       "      <td>Your Lie in April</td>\n",
       "      <td>[One Punch Man, anohana:The Flower We Saw That...</td>\n",
       "      <td>0.496444</td>\n",
       "      <td>2.333425</td>\n",
       "    </tr>\n",
       "    <tr>\n",
       "      <th>1</th>\n",
       "      <td>Your Lie in April</td>\n",
       "      <td>[anohana:The Flower We Saw That Day, No Game, ...</td>\n",
       "      <td>0.492532</td>\n",
       "      <td>2.324534</td>\n",
       "    </tr>\n",
       "    <tr>\n",
       "      <th>2</th>\n",
       "      <td>Your Lie in April</td>\n",
       "      <td>[Re:ZERO -Starting Life in Another World-, Ang...</td>\n",
       "      <td>0.492888</td>\n",
       "      <td>2.218717</td>\n",
       "    </tr>\n",
       "    <tr>\n",
       "      <th>3</th>\n",
       "      <td>Your Lie in April</td>\n",
       "      <td>[Toradora!, Noragami:Stray God]</td>\n",
       "      <td>0.491643</td>\n",
       "      <td>2.173784</td>\n",
       "    </tr>\n",
       "    <tr>\n",
       "      <th>4</th>\n",
       "      <td>Your Lie in April</td>\n",
       "      <td>[Noragami:Stray God, Angel Beats!]</td>\n",
       "      <td>0.504445</td>\n",
       "      <td>2.120882</td>\n",
       "    </tr>\n",
       "    <tr>\n",
       "      <th>5</th>\n",
       "      <td>Your Lie in April</td>\n",
       "      <td>[Toradora!, One Punch Man]</td>\n",
       "      <td>0.538229</td>\n",
       "      <td>2.116475</td>\n",
       "    </tr>\n",
       "    <tr>\n",
       "      <th>6</th>\n",
       "      <td>Your Lie in April</td>\n",
       "      <td>[Toradora!, No Game, No Life]</td>\n",
       "      <td>0.541607</td>\n",
       "      <td>2.109931</td>\n",
       "    </tr>\n",
       "    <tr>\n",
       "      <th>7</th>\n",
       "      <td>Your Lie in April</td>\n",
       "      <td>[Toradora!, anohana:The Flower We Saw That Day]</td>\n",
       "      <td>0.495733</td>\n",
       "      <td>2.092853</td>\n",
       "    </tr>\n",
       "    <tr>\n",
       "      <th>8</th>\n",
       "      <td>Your Lie in April</td>\n",
       "      <td>[Angel Beats!, anohana:The Flower We Saw That ...</td>\n",
       "      <td>0.513869</td>\n",
       "      <td>2.079764</td>\n",
       "    </tr>\n",
       "    <tr>\n",
       "      <th>9</th>\n",
       "      <td>Your Lie in April</td>\n",
       "      <td>[Noragami:Stray God, Noragami Aragoto]</td>\n",
       "      <td>0.496799</td>\n",
       "      <td>2.075465</td>\n",
       "    </tr>\n",
       "  </tbody>\n",
       "</table>\n",
       "</div>"
      ],
      "text/plain": [
       "         combination                                        consequents  \\\n",
       "0  Your Lie in April  [One Punch Man, anohana:The Flower We Saw That...   \n",
       "1  Your Lie in April  [anohana:The Flower We Saw That Day, No Game, ...   \n",
       "2  Your Lie in April  [Re:ZERO -Starting Life in Another World-, Ang...   \n",
       "3  Your Lie in April                    [Toradora!, Noragami:Stray God]   \n",
       "4  Your Lie in April                 [Noragami:Stray God, Angel Beats!]   \n",
       "5  Your Lie in April                         [Toradora!, One Punch Man]   \n",
       "6  Your Lie in April                      [Toradora!, No Game, No Life]   \n",
       "7  Your Lie in April    [Toradora!, anohana:The Flower We Saw That Day]   \n",
       "8  Your Lie in April  [Angel Beats!, anohana:The Flower We Saw That ...   \n",
       "9  Your Lie in April             [Noragami:Stray God, Noragami Aragoto]   \n",
       "\n",
       "   confidence      lift  \n",
       "0    0.496444  2.333425  \n",
       "1    0.492532  2.324534  \n",
       "2    0.492888  2.218717  \n",
       "3    0.491643  2.173784  \n",
       "4    0.504445  2.120882  \n",
       "5    0.538229  2.116475  \n",
       "6    0.541607  2.109931  \n",
       "7    0.495733  2.092853  \n",
       "8    0.513869  2.079764  \n",
       "9    0.496799  2.075465  "
      ]
     },
     "metadata": {},
     "output_type": "display_data"
    }
   ],
   "source": [
    "recommendations_df = recommend_user(last_seen_clo)\n",
    "display(recommendations_df.head(10))"
   ]
  },
  {
   "cell_type": "code",
   "execution_count": 28,
   "metadata": {},
   "outputs": [
    {
     "name": "stdout",
     "output_type": "stream",
     "text": [
      "['One Punch Man', 'anohana:The Flower We Saw That Day', 'No Game, No Life', 'Re:ZERO -Starting Life in Another World-', 'Angel Beats!', 'Toradora!', 'Noragami:Stray God', 'Noragami Aragoto', 'Death Note', 'Steins;Gate']\n"
     ]
    }
   ],
   "source": [
    "recommended_animes = []\n",
    "for consequents in recommendations_df[\"consequents\"]:\n",
    "    for consequent in consequents:\n",
    "        if not consequent in recommended_animes:\n",
    "            recommended_animes.append(consequent)\n",
    "\n",
    "print(recommended_animes[:10])"
   ]
  },
  {
   "cell_type": "markdown",
   "metadata": {},
   "source": [
    "In this last cell, we print the 5 most relevant recommendation for a combination input to get more insights on the data obtained."
   ]
  },
  {
   "cell_type": "code",
   "execution_count": 29,
   "metadata": {},
   "outputs": [
    {
     "data": {
      "text/html": [
       "<div>\n",
       "<style scoped>\n",
       "    .dataframe tbody tr th:only-of-type {\n",
       "        vertical-align: middle;\n",
       "    }\n",
       "\n",
       "    .dataframe tbody tr th {\n",
       "        vertical-align: top;\n",
       "    }\n",
       "\n",
       "    .dataframe thead th {\n",
       "        text-align: right;\n",
       "    }\n",
       "</style>\n",
       "<table border=\"1\" class=\"dataframe\">\n",
       "  <thead>\n",
       "    <tr style=\"text-align: right;\">\n",
       "      <th></th>\n",
       "      <th>combination</th>\n",
       "      <th>consequents</th>\n",
       "      <th>confidence</th>\n",
       "      <th>lift</th>\n",
       "    </tr>\n",
       "  </thead>\n",
       "  <tbody>\n",
       "    <tr>\n",
       "      <th>66</th>\n",
       "      <td>Haikyu!!</td>\n",
       "      <td>[Noragami:Stray God]</td>\n",
       "      <td>0.692204</td>\n",
       "      <td>1.958533</td>\n",
       "    </tr>\n",
       "    <tr>\n",
       "      <th>67</th>\n",
       "      <td>Haikyu!!</td>\n",
       "      <td>[One Punch Man, Death Note]</td>\n",
       "      <td>0.639561</td>\n",
       "      <td>1.940500</td>\n",
       "    </tr>\n",
       "    <tr>\n",
       "      <th>68</th>\n",
       "      <td>Haikyu!!</td>\n",
       "      <td>[One Punch Man]</td>\n",
       "      <td>0.782034</td>\n",
       "      <td>1.776657</td>\n",
       "    </tr>\n",
       "    <tr>\n",
       "      <th>69</th>\n",
       "      <td>Haikyu!!</td>\n",
       "      <td>[No Game, No Life]</td>\n",
       "      <td>0.692652</td>\n",
       "      <td>1.718192</td>\n",
       "    </tr>\n",
       "    <tr>\n",
       "      <th>70</th>\n",
       "      <td>Haikyu!!</td>\n",
       "      <td>[Fullmetal Alchemist:Brotherhood]</td>\n",
       "      <td>0.678539</td>\n",
       "      <td>1.523115</td>\n",
       "    </tr>\n",
       "  </tbody>\n",
       "</table>\n",
       "</div>"
      ],
      "text/plain": [
       "   combination                        consequents  confidence      lift\n",
       "66    Haikyu!!               [Noragami:Stray God]    0.692204  1.958533\n",
       "67    Haikyu!!        [One Punch Man, Death Note]    0.639561  1.940500\n",
       "68    Haikyu!!                    [One Punch Man]    0.782034  1.776657\n",
       "69    Haikyu!!                 [No Game, No Life]    0.692652  1.718192\n",
       "70    Haikyu!!  [Fullmetal Alchemist:Brotherhood]    0.678539  1.523115"
      ]
     },
     "metadata": {},
     "output_type": "display_data"
    },
    {
     "data": {
      "text/html": [
       "<div>\n",
       "<style scoped>\n",
       "    .dataframe tbody tr th:only-of-type {\n",
       "        vertical-align: middle;\n",
       "    }\n",
       "\n",
       "    .dataframe tbody tr th {\n",
       "        vertical-align: top;\n",
       "    }\n",
       "\n",
       "    .dataframe thead th {\n",
       "        text-align: right;\n",
       "    }\n",
       "</style>\n",
       "<table border=\"1\" class=\"dataframe\">\n",
       "  <thead>\n",
       "    <tr style=\"text-align: right;\">\n",
       "      <th></th>\n",
       "      <th>combination</th>\n",
       "      <th>consequents</th>\n",
       "      <th>confidence</th>\n",
       "      <th>lift</th>\n",
       "    </tr>\n",
       "  </thead>\n",
       "  <tbody>\n",
       "    <tr>\n",
       "      <th>65</th>\n",
       "      <td>My Neighbor Totoro</td>\n",
       "      <td>[Death Note]</td>\n",
       "      <td>0.756698</td>\n",
       "      <td>1.293914</td>\n",
       "    </tr>\n",
       "  </tbody>\n",
       "</table>\n",
       "</div>"
      ],
      "text/plain": [
       "           combination   consequents  confidence      lift\n",
       "65  My Neighbor Totoro  [Death Note]    0.756698  1.293914"
      ]
     },
     "metadata": {},
     "output_type": "display_data"
    },
    {
     "data": {
      "text/html": [
       "<div>\n",
       "<style scoped>\n",
       "    .dataframe tbody tr th:only-of-type {\n",
       "        vertical-align: middle;\n",
       "    }\n",
       "\n",
       "    .dataframe tbody tr th {\n",
       "        vertical-align: top;\n",
       "    }\n",
       "\n",
       "    .dataframe thead th {\n",
       "        text-align: right;\n",
       "    }\n",
       "</style>\n",
       "<table border=\"1\" class=\"dataframe\">\n",
       "  <thead>\n",
       "    <tr style=\"text-align: right;\">\n",
       "      <th></th>\n",
       "      <th>combination</th>\n",
       "      <th>consequents</th>\n",
       "      <th>confidence</th>\n",
       "      <th>lift</th>\n",
       "    </tr>\n",
       "  </thead>\n",
       "  <tbody>\n",
       "    <tr>\n",
       "      <th>0</th>\n",
       "      <td>Your Lie in April</td>\n",
       "      <td>[One Punch Man, anohana:The Flower We Saw That...</td>\n",
       "      <td>0.496444</td>\n",
       "      <td>2.333425</td>\n",
       "    </tr>\n",
       "    <tr>\n",
       "      <th>1</th>\n",
       "      <td>Your Lie in April</td>\n",
       "      <td>[anohana:The Flower We Saw That Day, No Game, ...</td>\n",
       "      <td>0.492532</td>\n",
       "      <td>2.324534</td>\n",
       "    </tr>\n",
       "    <tr>\n",
       "      <th>2</th>\n",
       "      <td>Your Lie in April</td>\n",
       "      <td>[Re:ZERO -Starting Life in Another World-, Ang...</td>\n",
       "      <td>0.492888</td>\n",
       "      <td>2.218717</td>\n",
       "    </tr>\n",
       "    <tr>\n",
       "      <th>3</th>\n",
       "      <td>Your Lie in April</td>\n",
       "      <td>[Toradora!, Noragami:Stray God]</td>\n",
       "      <td>0.491643</td>\n",
       "      <td>2.173784</td>\n",
       "    </tr>\n",
       "    <tr>\n",
       "      <th>4</th>\n",
       "      <td>Your Lie in April</td>\n",
       "      <td>[Noragami:Stray God, Angel Beats!]</td>\n",
       "      <td>0.504445</td>\n",
       "      <td>2.120882</td>\n",
       "    </tr>\n",
       "  </tbody>\n",
       "</table>\n",
       "</div>"
      ],
      "text/plain": [
       "         combination                                        consequents  \\\n",
       "0  Your Lie in April  [One Punch Man, anohana:The Flower We Saw That...   \n",
       "1  Your Lie in April  [anohana:The Flower We Saw That Day, No Game, ...   \n",
       "2  Your Lie in April  [Re:ZERO -Starting Life in Another World-, Ang...   \n",
       "3  Your Lie in April                    [Toradora!, Noragami:Stray God]   \n",
       "4  Your Lie in April                 [Noragami:Stray God, Angel Beats!]   \n",
       "\n",
       "   confidence      lift  \n",
       "0    0.496444  2.333425  \n",
       "1    0.492532  2.324534  \n",
       "2    0.492888  2.218717  \n",
       "3    0.491643  2.173784  \n",
       "4    0.504445  2.120882  "
      ]
     },
     "metadata": {},
     "output_type": "display_data"
    }
   ],
   "source": [
    "for _, recommendation_df in recommendations_df.groupby(\"combination\"):\n",
    "\tdisplay(recommendation_df.head(5))"
   ]
  },
  {
   "cell_type": "markdown",
   "metadata": {},
   "source": [
    "### Conclusion\n",
    "\n",
    "It was really interesting to use a huge anime dataset to create a recommender system that could be used in real case scenarios. We tried to keep a critical oversight of our throughout the whole process of writing this program, in order to understand its limits but also its strengths.\n",
    "\n",
    "Using graphs to explore our data was a very efficient way for us to understand the global structure of this dataset, and to visualize it. \n",
    "\n",
    "We understood how to use association rules for a case that is more relatable than just doing groceries, on a large dataset. We discovered that a lot of small things had to be taken into account to make the generated rules really relevant, but we think we did a good job in the end. Of course, this doesn't mean there are no improvements to be made.\n",
    "\n",
    "#### Possible improvements\n",
    "\n",
    "1. Instead of using the animes in a user watchlist to train the system, we could try to use it to evaluate how good our system is. The global idea would be : __Are most of the recommended animes in the user watchlist ?__\n",
    "\n",
    "2. With more computing power, we could also compute more rules to find less common patterns that apply only to niche anime fans."
   ]
  }
 ],
 "metadata": {
  "kernelspec": {
   "display_name": "Python 3",
   "language": "python",
   "name": "python3"
  },
  "language_info": {
   "codemirror_mode": {
    "name": "ipython",
    "version": 3
   },
   "file_extension": ".py",
   "mimetype": "text/x-python",
   "name": "python",
   "nbconvert_exporter": "python",
   "pygments_lexer": "ipython3",
   "version": "3.11.9"
  }
 },
 "nbformat": 4,
 "nbformat_minor": 2
}
