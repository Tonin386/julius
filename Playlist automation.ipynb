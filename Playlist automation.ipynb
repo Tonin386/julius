{
 "cells": [
  {
   "cell_type": "markdown",
   "metadata": {},
   "source": [
    "# BHT Data Applications project\n",
    "# Automatic Anime recommendation Algorithm\n",
    "### This project aims to create an algorithm that can determine what anime to recommend to a user.\n",
    "##### Authors: Rashmi Di Michino and Antonin Mathubert"
   ]
  },
  {
   "cell_type": "markdown",
   "metadata": {},
   "source": [
    "The 320000 users and 16000 animes dataset was taken from https://www.kaggle.com/datasets/hernan4444/anime-recommendation-database-2020 <br>\n",
    "We are going to use this dataset to build a model that can recommend an anime based on the animes that the user is watching, has dropped, has kept on hold or put on their watching list."
   ]
  },
  {
   "cell_type": "markdown",
   "metadata": {},
   "source": [
    "### 1. Importing and parsing the data\n",
    "First, we want to import all of our available data in a suitable manner so it is treatable for the next steps of the project.<br><br>\n",
    "In order to load the data, we are going to do it by chunking the csv file so it's more efficient. Then we're changing the default type of the columns to be more convenient memory wise."
   ]
  },
  {
   "cell_type": "code",
   "execution_count": 2,
   "metadata": {},
   "outputs": [],
   "source": [
    "from mlxtend.frequent_patterns import apriori, association_rules\n",
    "from tqdm.notebook import tqdm\n",
    "import pandas as pd\n",
    "import numpy as np\n",
    "#import cupy as cp\n",
    "import random\n",
    "import time\n",
    "import os\n",
    "import re"
   ]
  },
  {
   "cell_type": "code",
   "execution_count": null,
   "metadata": {},
   "outputs": [],
   "source": [
    "dataset_chunks = pd.read_csv(\"dataset/anime/animelist.csv\", chunksize=10000)\n",
    "chunks = []\n",
    "for chunk in dataset_chunks:\n",
    "    chunks.append(chunk)\n",
    "    \n",
    "dataset = pd.concat(chunks, ignore_index=True)\n",
    "dataset = dataset.astype({'user_id': \"int32\", 'anime_id': 'int32', \"watching_status\": \"int16\"})\n",
    "\n",
    "dataset_chunks = None\n",
    "chunks = None"
   ]
  },
  {
   "cell_type": "code",
   "execution_count": 3,
   "metadata": {},
   "outputs": [],
   "source": [
    "dataset_chunks = pd.read_csv(\"C:/Users/rashm/OneDrive/Desktop/data_applications_project/julius/anime_dataset/animelist.csv\", chunksize=10000)\n",
    "\n",
    "chunks = []\n",
    "for chunk in dataset_chunks:\n",
    "    chunks.append(chunk)\n",
    "    \n",
    "dataset = pd.concat(chunks, ignore_index=True)\n",
    "dataset = dataset.astype({'user_id': \"int32\", 'anime_id': 'int32', \"watching_status\": \"int16\"})\n",
    "\n",
    "dataset_chunks = None\n",
    "chunks = None"
   ]
  },
  {
   "cell_type": "markdown",
   "metadata": {},
   "source": [
    "### 2. Recommendation system based on the watched animes\n",
    "In this first version we're going to implement a recommendation system based on which animes the users have seen, for example if someone has watched cowboy bepop, they're going to be recommended to see death note\n",
    "#### Reducing the dataset\n",
    "As the dataset we're working with is too large, we're going to reduce it"
   ]
  },
  {
   "cell_type": "code",
   "execution_count": 4,
   "metadata": {},
   "outputs": [],
   "source": [
    "dataset.drop(['rating', 'watched_episodes'], axis=1, inplace=True)\n",
    "dataset = dataset[(dataset['anime_id'] < 10000) & (dataset['user_id'] < 20000)]\n",
    "dataset = dataset[(dataset['user_id'] != 61960) & (dataset['watching_status'] != 4)]\n",
    "dataset = dataset.drop(\"watching_status\", axis=1)"
   ]
  },
  {
   "cell_type": "markdown",
   "metadata": {},
   "source": [
    "Here we can see a sample of how the dataset is structured"
   ]
  },
  {
   "cell_type": "code",
   "execution_count": 5,
   "metadata": {},
   "outputs": [
    {
     "data": {
      "text/html": [
       "<div>\n",
       "<style scoped>\n",
       "    .dataframe tbody tr th:only-of-type {\n",
       "        vertical-align: middle;\n",
       "    }\n",
       "\n",
       "    .dataframe tbody tr th {\n",
       "        vertical-align: top;\n",
       "    }\n",
       "\n",
       "    .dataframe thead th {\n",
       "        text-align: right;\n",
       "    }\n",
       "</style>\n",
       "<table border=\"1\" class=\"dataframe\">\n",
       "  <thead>\n",
       "    <tr style=\"text-align: right;\">\n",
       "      <th></th>\n",
       "      <th>user_id</th>\n",
       "      <th>anime_id</th>\n",
       "    </tr>\n",
       "  </thead>\n",
       "  <tbody>\n",
       "    <tr>\n",
       "      <th>0</th>\n",
       "      <td>0</td>\n",
       "      <td>67</td>\n",
       "    </tr>\n",
       "    <tr>\n",
       "      <th>1</th>\n",
       "      <td>0</td>\n",
       "      <td>6702</td>\n",
       "    </tr>\n",
       "    <tr>\n",
       "      <th>2</th>\n",
       "      <td>0</td>\n",
       "      <td>242</td>\n",
       "    </tr>\n",
       "    <tr>\n",
       "      <th>3</th>\n",
       "      <td>0</td>\n",
       "      <td>4898</td>\n",
       "    </tr>\n",
       "    <tr>\n",
       "      <th>4</th>\n",
       "      <td>0</td>\n",
       "      <td>21</td>\n",
       "    </tr>\n",
       "    <tr>\n",
       "      <th>...</th>\n",
       "      <td>...</td>\n",
       "      <td>...</td>\n",
       "    </tr>\n",
       "    <tr>\n",
       "      <th>176</th>\n",
       "      <td>1</td>\n",
       "      <td>9253</td>\n",
       "    </tr>\n",
       "    <tr>\n",
       "      <th>183</th>\n",
       "      <td>1</td>\n",
       "      <td>22</td>\n",
       "    </tr>\n",
       "    <tr>\n",
       "      <th>184</th>\n",
       "      <td>1</td>\n",
       "      <td>995</td>\n",
       "    </tr>\n",
       "    <tr>\n",
       "      <th>185</th>\n",
       "      <td>1</td>\n",
       "      <td>4053</td>\n",
       "    </tr>\n",
       "    <tr>\n",
       "      <th>186</th>\n",
       "      <td>1</td>\n",
       "      <td>2752</td>\n",
       "    </tr>\n",
       "  </tbody>\n",
       "</table>\n",
       "<p>100 rows × 2 columns</p>\n",
       "</div>"
      ],
      "text/plain": [
       "     user_id  anime_id\n",
       "0          0        67\n",
       "1          0      6702\n",
       "2          0       242\n",
       "3          0      4898\n",
       "4          0        21\n",
       "..       ...       ...\n",
       "176        1      9253\n",
       "183        1        22\n",
       "184        1       995\n",
       "185        1      4053\n",
       "186        1      2752\n",
       "\n",
       "[100 rows x 2 columns]"
      ]
     },
     "metadata": {},
     "output_type": "display_data"
    },
    {
     "data": {
      "text/plain": [
       "2509211"
      ]
     },
     "execution_count": 5,
     "metadata": {},
     "output_type": "execute_result"
    }
   ],
   "source": [
    "display(dataset.head(100))\n",
    "len(dataset)"
   ]
  },
  {
   "cell_type": "markdown",
   "metadata": {},
   "source": [
    "The next step is pivoting the dataset: we're constructing a matrix that will be used to build the recommendation system, where the rows are the users' ids and the columns are the animes' ids."
   ]
  },
  {
   "cell_type": "code",
   "execution_count": 6,
   "metadata": {},
   "outputs": [],
   "source": [
    "dataset = dataset.pivot(index='user_id', columns='anime_id', values='anime_id')"
   ]
  },
  {
   "cell_type": "markdown",
   "metadata": {},
   "source": [
    "We are now converting our matrix into a binary matrix in order to be able to retrieve the association rules"
   ]
  },
  {
   "cell_type": "code",
   "execution_count": 7,
   "metadata": {},
   "outputs": [],
   "source": [
    "dataset[dataset.notnull()] = True\n",
    "dataset = dataset.fillna(False)"
   ]
  },
  {
   "cell_type": "markdown",
   "metadata": {},
   "source": [
    "Finally, we are exploiting the mlxtend library to build the recommendation system and we're retrieving the association rules"
   ]
  },
  {
   "cell_type": "code",
   "execution_count": 8,
   "metadata": {},
   "outputs": [
    {
     "data": {
      "text/html": [
       "<div>\n",
       "<style scoped>\n",
       "    .dataframe tbody tr th:only-of-type {\n",
       "        vertical-align: middle;\n",
       "    }\n",
       "\n",
       "    .dataframe tbody tr th {\n",
       "        vertical-align: top;\n",
       "    }\n",
       "\n",
       "    .dataframe thead th {\n",
       "        text-align: right;\n",
       "    }\n",
       "</style>\n",
       "<table border=\"1\" class=\"dataframe\">\n",
       "  <thead>\n",
       "    <tr style=\"text-align: right;\">\n",
       "      <th></th>\n",
       "      <th>antecedents</th>\n",
       "      <th>consequents</th>\n",
       "      <th>antecedent support</th>\n",
       "      <th>consequent support</th>\n",
       "      <th>support</th>\n",
       "      <th>confidence</th>\n",
       "      <th>lift</th>\n",
       "      <th>leverage</th>\n",
       "      <th>conviction</th>\n",
       "      <th>zhangs_metric</th>\n",
       "    </tr>\n",
       "  </thead>\n",
       "  <tbody>\n",
       "    <tr>\n",
       "      <th>0</th>\n",
       "      <td>(6)</td>\n",
       "      <td>(1)</td>\n",
       "      <td>0.266044</td>\n",
       "      <td>0.441340</td>\n",
       "      <td>0.216195</td>\n",
       "      <td>0.812629</td>\n",
       "      <td>1.841278</td>\n",
       "      <td>0.098779</td>\n",
       "      <td>2.981573</td>\n",
       "      <td>0.622516</td>\n",
       "    </tr>\n",
       "    <tr>\n",
       "      <th>1</th>\n",
       "      <td>(47)</td>\n",
       "      <td>(1)</td>\n",
       "      <td>0.253692</td>\n",
       "      <td>0.441340</td>\n",
       "      <td>0.205051</td>\n",
       "      <td>0.808267</td>\n",
       "      <td>1.831394</td>\n",
       "      <td>0.093086</td>\n",
       "      <td>2.913736</td>\n",
       "      <td>0.608285</td>\n",
       "    </tr>\n",
       "    <tr>\n",
       "      <th>2</th>\n",
       "      <td>(1)</td>\n",
       "      <td>(1535)</td>\n",
       "      <td>0.441340</td>\n",
       "      <td>0.715784</td>\n",
       "      <td>0.372989</td>\n",
       "      <td>0.845130</td>\n",
       "      <td>1.180706</td>\n",
       "      <td>0.057086</td>\n",
       "      <td>1.835193</td>\n",
       "      <td>0.273957</td>\n",
       "    </tr>\n",
       "    <tr>\n",
       "      <th>3</th>\n",
       "      <td>(6)</td>\n",
       "      <td>(1535)</td>\n",
       "      <td>0.266044</td>\n",
       "      <td>0.715784</td>\n",
       "      <td>0.228109</td>\n",
       "      <td>0.857408</td>\n",
       "      <td>1.197859</td>\n",
       "      <td>0.037678</td>\n",
       "      <td>1.993216</td>\n",
       "      <td>0.225051</td>\n",
       "    </tr>\n",
       "    <tr>\n",
       "      <th>4</th>\n",
       "      <td>(6)</td>\n",
       "      <td>(1575)</td>\n",
       "      <td>0.266044</td>\n",
       "      <td>0.588800</td>\n",
       "      <td>0.214494</td>\n",
       "      <td>0.806232</td>\n",
       "      <td>1.369279</td>\n",
       "      <td>0.057846</td>\n",
       "      <td>2.122123</td>\n",
       "      <td>0.367445</td>\n",
       "    </tr>\n",
       "    <tr>\n",
       "      <th>...</th>\n",
       "      <td>...</td>\n",
       "      <td>...</td>\n",
       "      <td>...</td>\n",
       "      <td>...</td>\n",
       "      <td>...</td>\n",
       "      <td>...</td>\n",
       "      <td>...</td>\n",
       "      <td>...</td>\n",
       "      <td>...</td>\n",
       "      <td>...</td>\n",
       "    </tr>\n",
       "    <tr>\n",
       "      <th>13622</th>\n",
       "      <td>(4224, 6547, 2904, 5114, 1535)</td>\n",
       "      <td>(9253, 1575)</td>\n",
       "      <td>0.223772</td>\n",
       "      <td>0.432720</td>\n",
       "      <td>0.201921</td>\n",
       "      <td>0.902355</td>\n",
       "      <td>2.085308</td>\n",
       "      <td>0.105091</td>\n",
       "      <td>5.809628</td>\n",
       "      <td>0.670492</td>\n",
       "    </tr>\n",
       "    <tr>\n",
       "      <th>13623</th>\n",
       "      <td>(9253, 6547, 2904, 5114, 1535)</td>\n",
       "      <td>(4224, 1575)</td>\n",
       "      <td>0.241779</td>\n",
       "      <td>0.414329</td>\n",
       "      <td>0.201921</td>\n",
       "      <td>0.835150</td>\n",
       "      <td>2.015669</td>\n",
       "      <td>0.101746</td>\n",
       "      <td>3.552749</td>\n",
       "      <td>0.664564</td>\n",
       "    </tr>\n",
       "    <tr>\n",
       "      <th>13624</th>\n",
       "      <td>(4224, 2904, 6547, 9253)</td>\n",
       "      <td>(5114, 1535, 1575)</td>\n",
       "      <td>0.249849</td>\n",
       "      <td>0.407521</td>\n",
       "      <td>0.201921</td>\n",
       "      <td>0.808174</td>\n",
       "      <td>1.983146</td>\n",
       "      <td>0.100103</td>\n",
       "      <td>3.088626</td>\n",
       "      <td>0.660868</td>\n",
       "    </tr>\n",
       "    <tr>\n",
       "      <th>13625</th>\n",
       "      <td>(4224, 5114, 2904, 9253)</td>\n",
       "      <td>(1535, 6547, 1575)</td>\n",
       "      <td>0.248531</td>\n",
       "      <td>0.368158</td>\n",
       "      <td>0.201921</td>\n",
       "      <td>0.812459</td>\n",
       "      <td>2.206820</td>\n",
       "      <td>0.110423</td>\n",
       "      <td>3.369079</td>\n",
       "      <td>0.727721</td>\n",
       "    </tr>\n",
       "    <tr>\n",
       "      <th>13626</th>\n",
       "      <td>(4224, 2904, 6547, 5114)</td>\n",
       "      <td>(1535, 9253, 1575)</td>\n",
       "      <td>0.244139</td>\n",
       "      <td>0.384244</td>\n",
       "      <td>0.201921</td>\n",
       "      <td>0.827074</td>\n",
       "      <td>2.152473</td>\n",
       "      <td>0.108112</td>\n",
       "      <td>3.560817</td>\n",
       "      <td>0.708356</td>\n",
       "    </tr>\n",
       "  </tbody>\n",
       "</table>\n",
       "<p>13627 rows × 10 columns</p>\n",
       "</div>"
      ],
      "text/plain": [
       "                          antecedents         consequents  antecedent support  \\\n",
       "0                                 (6)                 (1)            0.266044   \n",
       "1                                (47)                 (1)            0.253692   \n",
       "2                                 (1)              (1535)            0.441340   \n",
       "3                                 (6)              (1535)            0.266044   \n",
       "4                                 (6)              (1575)            0.266044   \n",
       "...                               ...                 ...                 ...   \n",
       "13622  (4224, 6547, 2904, 5114, 1535)        (9253, 1575)            0.223772   \n",
       "13623  (9253, 6547, 2904, 5114, 1535)        (4224, 1575)            0.241779   \n",
       "13624        (4224, 2904, 6547, 9253)  (5114, 1535, 1575)            0.249849   \n",
       "13625        (4224, 5114, 2904, 9253)  (1535, 6547, 1575)            0.248531   \n",
       "13626        (4224, 2904, 6547, 5114)  (1535, 9253, 1575)            0.244139   \n",
       "\n",
       "       consequent support   support  confidence      lift  leverage  \\\n",
       "0                0.441340  0.216195    0.812629  1.841278  0.098779   \n",
       "1                0.441340  0.205051    0.808267  1.831394  0.093086   \n",
       "2                0.715784  0.372989    0.845130  1.180706  0.057086   \n",
       "3                0.715784  0.228109    0.857408  1.197859  0.037678   \n",
       "4                0.588800  0.214494    0.806232  1.369279  0.057846   \n",
       "...                   ...       ...         ...       ...       ...   \n",
       "13622            0.432720  0.201921    0.902355  2.085308  0.105091   \n",
       "13623            0.414329  0.201921    0.835150  2.015669  0.101746   \n",
       "13624            0.407521  0.201921    0.808174  1.983146  0.100103   \n",
       "13625            0.368158  0.201921    0.812459  2.206820  0.110423   \n",
       "13626            0.384244  0.201921    0.827074  2.152473  0.108112   \n",
       "\n",
       "       conviction  zhangs_metric  \n",
       "0        2.981573       0.622516  \n",
       "1        2.913736       0.608285  \n",
       "2        1.835193       0.273957  \n",
       "3        1.993216       0.225051  \n",
       "4        2.122123       0.367445  \n",
       "...           ...            ...  \n",
       "13622    5.809628       0.670492  \n",
       "13623    3.552749       0.664564  \n",
       "13624    3.088626       0.660868  \n",
       "13625    3.369079       0.727721  \n",
       "13626    3.560817       0.708356  \n",
       "\n",
       "[13627 rows x 10 columns]"
      ]
     },
     "execution_count": 8,
     "metadata": {},
     "output_type": "execute_result"
    }
   ],
   "source": [
    "frequent_itemsets  = apriori(dataset, use_colnames=True, min_support=0.2)\n",
    "\n",
    "frequent_itemsets\n",
    "\n",
    "rules = association_rules(frequent_itemsets)\n",
    "\n",
    "rules"
   ]
  },
  {
   "cell_type": "markdown",
   "metadata": {},
   "source": [
    "By running this next cell we can see that for the users that have seen Cowboy Bepop it's recommended to see Death Note"
   ]
  },
  {
   "cell_type": "code",
   "execution_count": 10,
   "metadata": {},
   "outputs": [
    {
     "data": {
      "text/html": [
       "<div>\n",
       "<style scoped>\n",
       "    .dataframe tbody tr th:only-of-type {\n",
       "        vertical-align: middle;\n",
       "    }\n",
       "\n",
       "    .dataframe tbody tr th {\n",
       "        vertical-align: top;\n",
       "    }\n",
       "\n",
       "    .dataframe thead th {\n",
       "        text-align: right;\n",
       "    }\n",
       "</style>\n",
       "<table border=\"1\" class=\"dataframe\">\n",
       "  <thead>\n",
       "    <tr style=\"text-align: right;\">\n",
       "      <th></th>\n",
       "      <th>antecedents</th>\n",
       "      <th>consequents</th>\n",
       "      <th>antecedent support</th>\n",
       "      <th>consequent support</th>\n",
       "      <th>support</th>\n",
       "      <th>confidence</th>\n",
       "      <th>lift</th>\n",
       "      <th>leverage</th>\n",
       "      <th>conviction</th>\n",
       "      <th>zhangs_metric</th>\n",
       "    </tr>\n",
       "  </thead>\n",
       "  <tbody>\n",
       "    <tr>\n",
       "      <th>2</th>\n",
       "      <td>(1)</td>\n",
       "      <td>(1535)</td>\n",
       "      <td>0.44134</td>\n",
       "      <td>0.715784</td>\n",
       "      <td>0.372989</td>\n",
       "      <td>0.84513</td>\n",
       "      <td>1.180706</td>\n",
       "      <td>0.057086</td>\n",
       "      <td>1.835193</td>\n",
       "      <td>0.273957</td>\n",
       "    </tr>\n",
       "  </tbody>\n",
       "</table>\n",
       "</div>"
      ],
      "text/plain": [
       "  antecedents consequents  antecedent support  consequent support   support  \\\n",
       "2         (1)      (1535)             0.44134            0.715784  0.372989   \n",
       "\n",
       "   confidence      lift  leverage  conviction  zhangs_metric  \n",
       "2     0.84513  1.180706  0.057086    1.835193       0.273957  "
      ]
     },
     "execution_count": 10,
     "metadata": {},
     "output_type": "execute_result"
    }
   ],
   "source": [
    "rules[rules[\"antecedents\"]==frozenset({1})]"
   ]
  },
  {
   "cell_type": "code",
   "execution_count": null,
   "metadata": {},
   "outputs": [],
   "source": [
    "dataset = np.array(dataset.values)"
   ]
  },
  {
   "cell_type": "code",
   "execution_count": null,
   "metadata": {},
   "outputs": [],
   "source": [
    "dataset = np.nan_to_num(dataset, nan=0)"
   ]
  },
  {
   "cell_type": "code",
   "execution_count": null,
   "metadata": {},
   "outputs": [],
   "source": [
    "dataset = np.where(dataset != 0, 1, dataset)"
   ]
  }
 ],
 "metadata": {
  "kernelspec": {
   "display_name": "Python 3",
   "language": "python",
   "name": "python3"
  },
  "language_info": {
   "codemirror_mode": {
    "name": "ipython",
    "version": 3
   },
   "file_extension": ".py",
   "mimetype": "text/x-python",
   "name": "python",
   "nbconvert_exporter": "python",
   "pygments_lexer": "ipython3",
   "version": "3.9.13"
  }
 },
 "nbformat": 4,
 "nbformat_minor": 2
}
